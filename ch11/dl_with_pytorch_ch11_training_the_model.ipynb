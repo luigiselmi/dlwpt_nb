{
  "nbformat": 4,
  "nbformat_minor": 0,
  "metadata": {
    "colab": {
      "provenance": []
    },
    "kernelspec": {
      "name": "python3",
      "display_name": "Python 3"
    },
    "language_info": {
      "name": "python"
    },
    "gpuClass": "standard"
  },
  "cells": [
    {
      "cell_type": "markdown",
      "source": [
        "# Training the model\n",
        "After we have set up the dataset for the CT scans to use as input of a model, we have to build the model and define the training loop. We will use the Python script to build our **LunaDataset**, a subclass of the PyTorch Dataset that creates the tensor to be used as input to our model from the CT scans data. Our goal is twofold. First we want to find out which of the candidates is a nodule and wich is not, then we want to classify a nodule according to its nature: benign or malignant. We will need two different models, one for each task. Use the GPU runtime.  "
      ],
      "metadata": {
        "id": "apxXN45trJjX"
      }
    },
    {
      "cell_type": "code",
      "execution_count": null,
      "metadata": {
        "colab": {
          "base_uri": "https://localhost:8080/"
        },
        "id": "Iro-nfCTnFty",
        "outputId": "7684f616-a14d-4439-d7c2-dd36e4dd3221"
      },
      "outputs": [
        {
          "output_type": "stream",
          "name": "stdout",
          "text": [
            "Cloning into 'dlwpt-code'...\n",
            "remote: Enumerating objects: 703, done.\u001b[K\n",
            "remote: Total 703 (delta 0), reused 0 (delta 0), pack-reused 703\u001b[K\n",
            "Receiving objects: 100% (703/703), 176.00 MiB | 21.71 MiB/s, done.\n",
            "Resolving deltas: 100% (309/309), done.\n",
            "Checking out files: 100% (228/228), done.\n"
          ]
        }
      ],
      "source": [
        "!git clone https://github.com/deep-learning-with-pytorch/dlwpt-code.git"
      ]
    },
    {
      "cell_type": "markdown",
      "source": [
        "The training loop for the project is more complex than what we have before and it is defined in a Python script. Training and validation are defined in the **LunaTrainingApp** Python class implemented in the dlwpt-code/p2ch11/training.py script "
      ],
      "metadata": {
        "id": "j_0GCNgz3SES"
      }
    },
    {
      "cell_type": "markdown",
      "source": [
        "## LunaModel\n",
        "The model that we will use is also complex enough to be defined in a separate PyThon script dlwpt-code/p2ch11/model.py. It consists of an input layer and a Batch Normalization layer, a backbone of four blocks (LunaBlock) and a final fully connected layer and softmax to return the probabilities for the input to be a nodule or not. A LunaBlock contains two 3D convolutional layers with a ReLU activation function, and a max pooling layer. The 3D convolutions have a 3x3x3 kernel. A 3D convolution is not different from a 2D one, the difference being that there are more neighboring units to be taken into account to compute a mean or a maximum, and that the kernel is shifted along three directions instead of two. A 3x3x3 kernel applied to a 3x3x3 volume outputs one voxel. If padding is used, then the size of the output of a 3D convolution is the same as the size of the input. The max pooling layers within each LunaBlock reduce an input voxel from 32x48x48 (1 channel) to an output of size 2x3x3 (64 channels) at the end of the backbone. The output of the backbone is flattened to a 1 dimensional vector in order to be used as input to the following fuly connected layer. "
      ],
      "metadata": {
        "id": "Im4dJpq4G-PS"
      }
    },
    {
      "cell_type": "markdown",
      "source": [
        "## Downloading the data"
      ],
      "metadata": {
        "id": "3VLuDN3d0chq"
      }
    },
    {
      "cell_type": "code",
      "source": [
        "cd dlwpt-code/"
      ],
      "metadata": {
        "colab": {
          "base_uri": "https://localhost:8080/"
        },
        "id": "EVOCzEH6ySVU",
        "outputId": "b7ace380-d5d2-46e1-a28b-7f1afa179ce6"
      },
      "execution_count": null,
      "outputs": [
        {
          "output_type": "stream",
          "name": "stdout",
          "text": [
            "/content/dlwpt-code\n"
          ]
        }
      ]
    },
    {
      "cell_type": "code",
      "source": [
        "mkdir data-unversioned"
      ],
      "metadata": {
        "id": "qbSAmmEKUNPk"
      },
      "execution_count": null,
      "outputs": []
    },
    {
      "cell_type": "code",
      "source": [
        "cd data-unversioned"
      ],
      "metadata": {
        "colab": {
          "base_uri": "https://localhost:8080/"
        },
        "id": "1ELcqd0E0MTd",
        "outputId": "6d834b0a-c40a-42f1-97dc-cce7ba490899"
      },
      "execution_count": null,
      "outputs": [
        {
          "output_type": "stream",
          "name": "stdout",
          "text": [
            "/content/dlwpt-code/data-unversioned\n"
          ]
        }
      ]
    },
    {
      "cell_type": "code",
      "source": [
        "mkdir part2"
      ],
      "metadata": {
        "id": "5hcyy3_S0Zks"
      },
      "execution_count": null,
      "outputs": []
    },
    {
      "cell_type": "code",
      "source": [
        "cd part2"
      ],
      "metadata": {
        "colab": {
          "base_uri": "https://localhost:8080/"
        },
        "id": "dDt9J6Jb0iB1",
        "outputId": "76947356-8aa3-4d10-e703-308435b8ce97"
      },
      "execution_count": null,
      "outputs": [
        {
          "output_type": "stream",
          "name": "stdout",
          "text": [
            "/content/dlwpt-code/data-unversioned/part2\n"
          ]
        }
      ]
    },
    {
      "cell_type": "code",
      "source": [
        "mkdir luna"
      ],
      "metadata": {
        "id": "G1XVoL8N0l3r"
      },
      "execution_count": null,
      "outputs": []
    },
    {
      "cell_type": "code",
      "source": [
        "cd luna"
      ],
      "metadata": {
        "colab": {
          "base_uri": "https://localhost:8080/"
        },
        "id": "njSETNfV0s-b",
        "outputId": "97f21e00-449f-4c49-f951-a39e31101e99"
      },
      "execution_count": null,
      "outputs": [
        {
          "output_type": "stream",
          "name": "stdout",
          "text": [
            "/content/dlwpt-code/data-unversioned/part2/luna\n"
          ]
        }
      ]
    },
    {
      "cell_type": "code",
      "source": [
        "!wget https://zenodo.org/record/3723295/files/subset0.zip"
      ],
      "metadata": {
        "colab": {
          "base_uri": "https://localhost:8080/"
        },
        "id": "dHIEfAvY00wG",
        "outputId": "7e1e72eb-9b0f-4b03-c8ff-2d64b64a630f"
      },
      "execution_count": null,
      "outputs": [
        {
          "output_type": "stream",
          "name": "stdout",
          "text": [
            "--2022-11-27 14:15:24--  https://zenodo.org/record/3723295/files/subset0.zip\n",
            "Resolving zenodo.org (zenodo.org)... 188.185.124.72\n",
            "Connecting to zenodo.org (zenodo.org)|188.185.124.72|:443... connected.\n",
            "HTTP request sent, awaiting response... 200 OK\n",
            "Length: 6811924508 (6.3G) [application/octet-stream]\n",
            "Saving to: ‘subset0.zip’\n",
            "\n",
            "subset0.zip         100%[===================>]   6.34G  28.5MB/s    in 4m 12s  \n",
            "\n",
            "2022-11-27 14:19:38 (25.8 MB/s) - ‘subset0.zip’ saved [6811924508/6811924508]\n",
            "\n"
          ]
        }
      ]
    },
    {
      "cell_type": "code",
      "source": [
        "!7z x subset0.zip"
      ],
      "metadata": {
        "colab": {
          "base_uri": "https://localhost:8080/"
        },
        "id": "9MgCDhDp2kxb",
        "outputId": "fa677675-1032-4845-fd85-3fda7d5618a8"
      },
      "execution_count": null,
      "outputs": [
        {
          "output_type": "stream",
          "name": "stdout",
          "text": [
            "\n",
            "7-Zip [64] 16.02 : Copyright (c) 1999-2016 Igor Pavlov : 2016-05-21\n",
            "p7zip Version 16.02 (locale=en_US.UTF-8,Utf16=on,HugeFiles=on,64 bits,2 CPUs Intel(R) Xeon(R) CPU @ 2.20GHz (406F0),ASM,AES-NI)\n",
            "\n",
            "Scanning the drive for archives:\n",
            "  0M Scan\b\b\b\b\b\b\b\b\b         \b\b\b\b\b\b\b\b\b1 file, 6811924508 bytes (6497 MiB)\n",
            "\n",
            "Extracting archive: subset0.zip\n",
            "\n",
            "ERRORS:\n",
            "Headers Error\n",
            "\n",
            "--\n",
            "Path = subset0.zip\n",
            "Type = zip\n",
            "ERRORS:\n",
            "Headers Error\n",
            "Physical Size = 6811924508\n",
            "64-bit = +\n",
            "\n",
            "  0%\b\b\b\b    \b\b\b\b  0% 1 - subset0/1.3.6.1.4.1.14519.5.2.1.6 . 105756658031515062000744821260.raw\b\b\b\b\b\b\b\b\b\b\b\b\b\b\b\b\b\b\b\b\b\b\b\b\b\b\b\b\b\b\b\b\b\b\b\b\b\b\b\b\b\b\b\b\b\b\b\b\b\b\b\b\b\b\b\b\b\b\b\b\b\b\b\b\b\b\b\b\b\b\b\b\b\b\b\b\b\b\b                                                                               \b\b\b\b\b\b\b\b\b\b\b\b\b\b\b\b\b\b\b\b\b\b\b\b\b\b\b\b\b\b\b\b\b\b\b\b\b\b\b\b\b\b\b\b\b\b\b\b\b\b\b\b\b\b\b\b\b\b\b\b\b\b\b\b\b\b\b\b\b\b\b\b\b\b\b\b\b\b\b  0% 2\b\b\b\b\b\b      \b\b\b\b\b\b  0% 3 - subset0/1.3.6.1.4.1.14519.5.2.1.6 . 108197895896446896160048741492.raw\b\b\b\b\b\b\b\b\b\b\b\b\b\b\b\b\b\b\b\b\b\b\b\b\b\b\b\b\b\b\b\b\b\b\b\b\b\b\b\b\b\b\b\b\b\b\b\b\b\b\b\b\b\b\b\b\b\b\b\b\b\b\b\b\b\b\b\b\b\b\b\b\b\b\b\b\b\b\b                                                                               \b\b\b\b\b\b\b\b\b\b\b\b\b\b\b\b\b\b\b\b\b\b\b\b\b\b\b\b\b\b\b\b\b\b\b\b\b\b\b\b\b\b\b\b\b\b\b\b\b\b\b\b\b\b\b\b\b\b\b\b\b\b\b\b\b\b\b\b\b\b\b\b\b\b\b\b\b\b\b  1% 3 - subset0/1.3.6.1.4.1.14519.5.2.1.6 . 108197895896446896160048741492.raw\b\b\b\b\b\b\b\b\b\b\b\b\b\b\b\b\b\b\b\b\b\b\b\b\b\b\b\b\b\b\b\b\b\b\b\b\b\b\b\b\b\b\b\b\b\b\b\b\b\b\b\b\b\b\b\b\b\b\b\b\b\b\b\b\b\b\b\b\b\b\b\b\b\b\b\b\b\b\b                                                                               \b\b\b\b\b\b\b\b\b\b\b\b\b\b\b\b\b\b\b\b\b\b\b\b\b\b\b\b\b\b\b\b\b\b\b\b\b\b\b\b\b\b\b\b\b\b\b\b\b\b\b\b\b\b\b\b\b\b\b\b\b\b\b\b\b\b\b\b\b\b\b\b\b\b\b\b\b\b\b  1% 5 - subset0/1.3.6.1.4.1.14519.5.2.1.6 . 109002525524522225658609808059.raw\b\b\b\b\b\b\b\b\b\b\b\b\b\b\b\b\b\b\b\b\b\b\b\b\b\b\b\b\b\b\b\b\b\b\b\b\b\b\b\b\b\b\b\b\b\b\b\b\b\b\b\b\b\b\b\b\b\b\b\b\b\b\b\b\b\b\b\b\b\b\b\b\b\b\b\b\b\b\b                                                                               \b\b\b\b\b\b\b\b\b\b\b\b\b\b\b\b\b\b\b\b\b\b\b\b\b\b\b\b\b\b\b\b\b\b\b\b\b\b\b\b\b\b\b\b\b\b\b\b\b\b\b\b\b\b\b\b\b\b\b\b\b\b\b\b\b\b\b\b\b\b\b\b\b\b\b\b\b\b\b  1% 6\b\b\b\b\b\b      \b\b\b\b\b\b  1% 7 - subset0/1.3.6.1.4.1.14519.5.2.1.6 . 111172165674661221381920536987.raw\b\b\b\b\b\b\b\b\b\b\b\b\b\b\b\b\b\b\b\b\b\b\b\b\b\b\b\b\b\b\b\b\b\b\b\b\b\b\b\b\b\b\b\b\b\b\b\b\b\b\b\b\b\b\b\b\b\b\b\b\b\b\b\b\b\b\b\b\b\b\b\b\b\b\b\b\b\b\b                                                                               \b\b\b\b\b\b\b\b\b\b\b\b\b\b\b\b\b\b\b\b\b\b\b\b\b\b\b\b\b\b\b\b\b\b\b\b\b\b\b\b\b\b\b\b\b\b\b\b\b\b\b\b\b\b\b\b\b\b\b\b\b\b\b\b\b\b\b\b\b\b\b\b\b\b\b\b\b\b\b  2% 7 - subset0/1.3.6.1.4.1.14519.5.2.1.6 . 111172165674661221381920536987.raw\b\b\b\b\b\b\b\b\b\b\b\b\b\b\b\b\b\b\b\b\b\b\b\b\b\b\b\b\b\b\b\b\b\b\b\b\b\b\b\b\b\b\b\b\b\b\b\b\b\b\b\b\b\b\b\b\b\b\b\b\b\b\b\b\b\b\b\b\b\b\b\b\b\b\b\b\b\b\b                                                                               \b\b\b\b\b\b\b\b\b\b\b\b\b\b\b\b\b\b\b\b\b\b\b\b\b\b\b\b\b\b\b\b\b\b\b\b\b\b\b\b\b\b\b\b\b\b\b\b\b\b\b\b\b\b\b\b\b\b\b\b\b\b\b\b\b\b\b\b\b\b\b\b\b\b\b\b\b\b\b  3% 7 - subset0/1.3.6.1.4.1.14519.5.2.1.6 . 111172165674661221381920536987.raw\b\b\b\b\b\b\b\b\b\b\b\b\b\b\b\b\b\b\b\b\b\b\b\b\b\b\b\b\b\b\b\b\b\b\b\b\b\b\b\b\b\b\b\b\b\b\b\b\b\b\b\b\b\b\b\b\b\b\b\b\b\b\b\b\b\b\b\b\b\b\b\b\b\b\b\b\b\b\b                                                                               \b\b\b\b\b\b\b\b\b\b\b\b\b\b\b\b\b\b\b\b\b\b\b\b\b\b\b\b\b\b\b\b\b\b\b\b\b\b\b\b\b\b\b\b\b\b\b\b\b\b\b\b\b\b\b\b\b\b\b\b\b\b\b\b\b\b\b\b\b\b\b\b\b\b\b\b\b\b\b  4% 7 - subset0/1.3.6.1.4.1.14519.5.2.1.6 . 111172165674661221381920536987.raw\b\b\b\b\b\b\b\b\b\b\b\b\b\b\b\b\b\b\b\b\b\b\b\b\b\b\b\b\b\b\b\b\b\b\b\b\b\b\b\b\b\b\b\b\b\b\b\b\b\b\b\b\b\b\b\b\b\b\b\b\b\b\b\b\b\b\b\b\b\b\b\b\b\b\b\b\b\b\b                                                                               \b\b\b\b\b\b\b\b\b\b\b\b\b\b\b\b\b\b\b\b\b\b\b\b\b\b\b\b\b\b\b\b\b\b\b\b\b\b\b\b\b\b\b\b\b\b\b\b\b\b\b\b\b\b\b\b\b\b\b\b\b\b\b\b\b\b\b\b\b\b\b\b\b\b\b\b\b\b\b  4% 9 - subset0/1.3.6.1.4.1.14519.5.2.1.6 . 122763913896761494371822656720.raw\b\b\b\b\b\b\b\b\b\b\b\b\b\b\b\b\b\b\b\b\b\b\b\b\b\b\b\b\b\b\b\b\b\b\b\b\b\b\b\b\b\b\b\b\b\b\b\b\b\b\b\b\b\b\b\b\b\b\b\b\b\b\b\b\b\b\b\b\b\b\b\b\b\b\b\b\b\b\b                                                                               \b\b\b\b\b\b\b\b\b\b\b\b\b\b\b\b\b\b\b\b\b\b\b\b\b\b\b\b\b\b\b\b\b\b\b\b\b\b\b\b\b\b\b\b\b\b\b\b\b\b\b\b\b\b\b\b\b\b\b\b\b\b\b\b\b\b\b\b\b\b\b\b\b\b\b\b\b\b\b  4% 10\b\b\b\b\b\b\b       \b\b\b\b\b\b\b  4% 11 - subset0/1.3.6.1.4.1.14519.5.2 . 54461048929153767743874565.raw\b\b\b\b\b\b\b\b\b\b\b\b\b\b\b\b\b\b\b\b\b\b\b\b\b\b\b\b\b\b\b\b\b\b\b\b\b\b\b\b\b\b\b\b\b\b\b\b\b\b\b\b\b\b\b\b\b\b\b\b\b\b\b\b\b\b\b\b\b\b\b\b                                                                        \b\b\b\b\b\b\b\b\b\b\b\b\b\b\b\b\b\b\b\b\b\b\b\b\b\b\b\b\b\b\b\b\b\b\b\b\b\b\b\b\b\b\b\b\b\b\b\b\b\b\b\b\b\b\b\b\b\b\b\b\b\b\b\b\b\b\b\b\b\b\b\b  5% 11 - subset0/1.3.6.1.4.1.14519.5.2 . 54461048929153767743874565.raw\b\b\b\b\b\b\b\b\b\b\b\b\b\b\b\b\b\b\b\b\b\b\b\b\b\b\b\b\b\b\b\b\b\b\b\b\b\b\b\b\b\b\b\b\b\b\b\b\b\b\b\b\b\b\b\b\b\b\b\b\b\b\b\b\b\b\b\b\b\b\b\b                                                                        \b\b\b\b\b\b\b\b\b\b\b\b\b\b\b\b\b\b\b\b\b\b\b\b\b\b\b\b\b\b\b\b\b\b\b\b\b\b\b\b\b\b\b\b\b\b\b\b\b\b\b\b\b\b\b\b\b\b\b\b\b\b\b\b\b\b\b\b\b\b\b\b  5% 12\b\b\b\b\b\b\b       \b\b\b\b\b\b\b  5% 13 - subset0/1.3.6.1.4.1.14519.5.2 . 21460017257137098781143514.raw\b\b\b\b\b\b\b\b\b\b\b\b\b\b\b\b\b\b\b\b\b\b\b\b\b\b\b\b\b\b\b\b\b\b\b\b\b\b\b\b\b\b\b\b\b\b\b\b\b\b\b\b\b\b\b\b\b\b\b\b\b\b\b\b\b\b\b\b\b\b\b\b                                                                        \b\b\b\b\b\b\b\b\b\b\b\b\b\b\b\b\b\b\b\b\b\b\b\b\b\b\b\b\b\b\b\b\b\b\b\b\b\b\b\b\b\b\b\b\b\b\b\b\b\b\b\b\b\b\b\b\b\b\b\b\b\b\b\b\b\b\b\b\b\b\b\b  6% 13 - subset0/1.3.6.1.4.1.14519.5.2 . 21460017257137098781143514.raw\b\b\b\b\b\b\b\b\b\b\b\b\b\b\b\b\b\b\b\b\b\b\b\b\b\b\b\b\b\b\b\b\b\b\b\b\b\b\b\b\b\b\b\b\b\b\b\b\b\b\b\b\b\b\b\b\b\b\b\b\b\b\b\b\b\b\b\b\b\b\b\b                                                                        \b\b\b\b\b\b\b\b\b\b\b\b\b\b\b\b\b\b\b\b\b\b\b\b\b\b\b\b\b\b\b\b\b\b\b\b\b\b\b\b\b\b\b\b\b\b\b\b\b\b\b\b\b\b\b\b\b\b\b\b\b\b\b\b\b\b\b\b\b\b\b\b  6% 15 - subset0/1.3.6.1.4.1.14519.5.2 . 64578931778258890371755354.raw\b\b\b\b\b\b\b\b\b\b\b\b\b\b\b\b\b\b\b\b\b\b\b\b\b\b\b\b\b\b\b\b\b\b\b\b\b\b\b\b\b\b\b\b\b\b\b\b\b\b\b\b\b\b\b\b\b\b\b\b\b\b\b\b\b\b\b\b\b\b\b\b                                                                        \b\b\b\b\b\b\b\b\b\b\b\b\b\b\b\b\b\b\b\b\b\b\b\b\b\b\b\b\b\b\b\b\b\b\b\b\b\b\b\b\b\b\b\b\b\b\b\b\b\b\b\b\b\b\b\b\b\b\b\b\b\b\b\b\b\b\b\b\b\b\b\b  7% 15 - subset0/1.3.6.1.4.1.14519.5.2 . 64578931778258890371755354.raw\b\b\b\b\b\b\b\b\b\b\b\b\b\b\b\b\b\b\b\b\b\b\b\b\b\b\b\b\b\b\b\b\b\b\b\b\b\b\b\b\b\b\b\b\b\b\b\b\b\b\b\b\b\b\b\b\b\b\b\b\b\b\b\b\b\b\b\b\b\b\b\b                                                                        \b\b\b\b\b\b\b\b\b\b\b\b\b\b\b\b\b\b\b\b\b\b\b\b\b\b\b\b\b\b\b\b\b\b\b\b\b\b\b\b\b\b\b\b\b\b\b\b\b\b\b\b\b\b\b\b\b\b\b\b\b\b\b\b\b\b\b\b\b\b\b\b  8% 15 - subset0/1.3.6.1.4.1.14519.5.2 . 64578931778258890371755354.raw\b\b\b\b\b\b\b\b\b\b\b\b\b\b\b\b\b\b\b\b\b\b\b\b\b\b\b\b\b\b\b\b\b\b\b\b\b\b\b\b\b\b\b\b\b\b\b\b\b\b\b\b\b\b\b\b\b\b\b\b\b\b\b\b\b\b\b\b\b\b\b\b                                                                        \b\b\b\b\b\b\b\b\b\b\b\b\b\b\b\b\b\b\b\b\b\b\b\b\b\b\b\b\b\b\b\b\b\b\b\b\b\b\b\b\b\b\b\b\b\b\b\b\b\b\b\b\b\b\b\b\b\b\b\b\b\b\b\b\b\b\b\b\b\b\b\b  9% 15 - subset0/1.3.6.1.4.1.14519.5.2 . 64578931778258890371755354.raw\b\b\b\b\b\b\b\b\b\b\b\b\b\b\b\b\b\b\b\b\b\b\b\b\b\b\b\b\b\b\b\b\b\b\b\b\b\b\b\b\b\b\b\b\b\b\b\b\b\b\b\b\b\b\b\b\b\b\b\b\b\b\b\b\b\b\b\b\b\b\b\b                                                                        \b\b\b\b\b\b\b\b\b\b\b\b\b\b\b\b\b\b\b\b\b\b\b\b\b\b\b\b\b\b\b\b\b\b\b\b\b\b\b\b\b\b\b\b\b\b\b\b\b\b\b\b\b\b\b\b\b\b\b\b\b\b\b\b\b\b\b\b\b\b\b\b  9% 17 - subset0/1.3.6.1.4.1.14519.5.2 . 23902651233986592378348912.raw\b\b\b\b\b\b\b\b\b\b\b\b\b\b\b\b\b\b\b\b\b\b\b\b\b\b\b\b\b\b\b\b\b\b\b\b\b\b\b\b\b\b\b\b\b\b\b\b\b\b\b\b\b\b\b\b\b\b\b\b\b\b\b\b\b\b\b\b\b\b\b\b                                                                        \b\b\b\b\b\b\b\b\b\b\b\b\b\b\b\b\b\b\b\b\b\b\b\b\b\b\b\b\b\b\b\b\b\b\b\b\b\b\b\b\b\b\b\b\b\b\b\b\b\b\b\b\b\b\b\b\b\b\b\b\b\b\b\b\b\b\b\b\b\b\b\b  9% 18\b\b\b\b\b\b\b       \b\b\b\b\b\b\b  9% 19 - subset0/1.3.6.1.4.1.14519.5.2 . 55977637338639741695800950.raw\b\b\b\b\b\b\b\b\b\b\b\b\b\b\b\b\b\b\b\b\b\b\b\b\b\b\b\b\b\b\b\b\b\b\b\b\b\b\b\b\b\b\b\b\b\b\b\b\b\b\b\b\b\b\b\b\b\b\b\b\b\b\b\b\b\b\b\b\b\b\b\b                                                                        \b\b\b\b\b\b\b\b\b\b\b\b\b\b\b\b\b\b\b\b\b\b\b\b\b\b\b\b\b\b\b\b\b\b\b\b\b\b\b\b\b\b\b\b\b\b\b\b\b\b\b\b\b\b\b\b\b\b\b\b\b\b\b\b\b\b\b\b\b\b\b\b 10% 19 - subset0/1.3.6.1.4.1.14519.5.2 . 55977637338639741695800950.raw\b\b\b\b\b\b\b\b\b\b\b\b\b\b\b\b\b\b\b\b\b\b\b\b\b\b\b\b\b\b\b\b\b\b\b\b\b\b\b\b\b\b\b\b\b\b\b\b\b\b\b\b\b\b\b\b\b\b\b\b\b\b\b\b\b\b\b\b\b\b\b\b                                                                        \b\b\b\b\b\b\b\b\b\b\b\b\b\b\b\b\b\b\b\b\b\b\b\b\b\b\b\b\b\b\b\b\b\b\b\b\b\b\b\b\b\b\b\b\b\b\b\b\b\b\b\b\b\b\b\b\b\b\b\b\b\b\b\b\b\b\b\b\b\b\b\b 11% 19 - subset0/1.3.6.1.4.1.14519.5.2 . 55977637338639741695800950.raw\b\b\b\b\b\b\b\b\b\b\b\b\b\b\b\b\b\b\b\b\b\b\b\b\b\b\b\b\b\b\b\b\b\b\b\b\b\b\b\b\b\b\b\b\b\b\b\b\b\b\b\b\b\b\b\b\b\b\b\b\b\b\b\b\b\b\b\b\b\b\b\b                                                                        \b\b\b\b\b\b\b\b\b\b\b\b\b\b\b\b\b\b\b\b\b\b\b\b\b\b\b\b\b\b\b\b\b\b\b\b\b\b\b\b\b\b\b\b\b\b\b\b\b\b\b\b\b\b\b\b\b\b\b\b\b\b\b\b\b\b\b\b\b\b\b\b 11% 20\b\b\b\b\b\b\b       \b\b\b\b\b\b\b 11% 21 - subset0/1.3.6.1.4.1.14519.5.2 . 38550890816550994739120843.raw\b\b\b\b\b\b\b\b\b\b\b\b\b\b\b\b\b\b\b\b\b\b\b\b\b\b\b\b\b\b\b\b\b\b\b\b\b\b\b\b\b\b\b\b\b\b\b\b\b\b\b\b\b\b\b\b\b\b\b\b\b\b\b\b\b\b\b\b\b\b\b\b                                                                        \b\b\b\b\b\b\b\b\b\b\b\b\b\b\b\b\b\b\b\b\b\b\b\b\b\b\b\b\b\b\b\b\b\b\b\b\b\b\b\b\b\b\b\b\b\b\b\b\b\b\b\b\b\b\b\b\b\b\b\b\b\b\b\b\b\b\b\b\b\b\b\b 12% 21 - subset0/1.3.6.1.4.1.14519.5.2 . 38550890816550994739120843.raw\b\b\b\b\b\b\b\b\b\b\b\b\b\b\b\b\b\b\b\b\b\b\b\b\b\b\b\b\b\b\b\b\b\b\b\b\b\b\b\b\b\b\b\b\b\b\b\b\b\b\b\b\b\b\b\b\b\b\b\b\b\b\b\b\b\b\b\b\b\b\b\b                                                                        \b\b\b\b\b\b\b\b\b\b\b\b\b\b\b\b\b\b\b\b\b\b\b\b\b\b\b\b\b\b\b\b\b\b\b\b\b\b\b\b\b\b\b\b\b\b\b\b\b\b\b\b\b\b\b\b\b\b\b\b\b\b\b\b\b\b\b\b\b\b\b\b 12% 22\b\b\b\b\b\b\b       \b\b\b\b\b\b\b 13% 23 - subset0/1.3.6.1.4.1.14519.5.2 . 96872583497382954024478441.raw\b\b\b\b\b\b\b\b\b\b\b\b\b\b\b\b\b\b\b\b\b\b\b\b\b\b\b\b\b\b\b\b\b\b\b\b\b\b\b\b\b\b\b\b\b\b\b\b\b\b\b\b\b\b\b\b\b\b\b\b\b\b\b\b\b\b\b\b\b\b\b\b                                                                        \b\b\b\b\b\b\b\b\b\b\b\b\b\b\b\b\b\b\b\b\b\b\b\b\b\b\b\b\b\b\b\b\b\b\b\b\b\b\b\b\b\b\b\b\b\b\b\b\b\b\b\b\b\b\b\b\b\b\b\b\b\b\b\b\b\b\b\b\b\b\b\b 13% 24\b\b\b\b\b\b\b       \b\b\b\b\b\b\b 13% 25 - subset0/1.3.6.1.4.1.14519.5.2 . 63212752154081977261297097.raw\b\b\b\b\b\b\b\b\b\b\b\b\b\b\b\b\b\b\b\b\b\b\b\b\b\b\b\b\b\b\b\b\b\b\b\b\b\b\b\b\b\b\b\b\b\b\b\b\b\b\b\b\b\b\b\b\b\b\b\b\b\b\b\b\b\b\b\b\b\b\b\b                                                                        \b\b\b\b\b\b\b\b\b\b\b\b\b\b\b\b\b\b\b\b\b\b\b\b\b\b\b\b\b\b\b\b\b\b\b\b\b\b\b\b\b\b\b\b\b\b\b\b\b\b\b\b\b\b\b\b\b\b\b\b\b\b\b\b\b\b\b\b\b\b\b\b 14% 25 - subset0/1.3.6.1.4.1.14519.5.2 . 63212752154081977261297097.raw\b\b\b\b\b\b\b\b\b\b\b\b\b\b\b\b\b\b\b\b\b\b\b\b\b\b\b\b\b\b\b\b\b\b\b\b\b\b\b\b\b\b\b\b\b\b\b\b\b\b\b\b\b\b\b\b\b\b\b\b\b\b\b\b\b\b\b\b\b\b\b\b                                                                        \b\b\b\b\b\b\b\b\b\b\b\b\b\b\b\b\b\b\b\b\b\b\b\b\b\b\b\b\b\b\b\b\b\b\b\b\b\b\b\b\b\b\b\b\b\b\b\b\b\b\b\b\b\b\b\b\b\b\b\b\b\b\b\b\b\b\b\b\b\b\b\b 14% 26\b\b\b\b\b\b\b       \b\b\b\b\b\b\b 14% 27 - subset0/1.3.6.1.4.1.14519.5.2 . 80888843357047811238713686.raw\b\b\b\b\b\b\b\b\b\b\b\b\b\b\b\b\b\b\b\b\b\b\b\b\b\b\b\b\b\b\b\b\b\b\b\b\b\b\b\b\b\b\b\b\b\b\b\b\b\b\b\b\b\b\b\b\b\b\b\b\b\b\b\b\b\b\b\b\b\b\b\b                                                                        \b\b\b\b\b\b\b\b\b\b\b\b\b\b\b\b\b\b\b\b\b\b\b\b\b\b\b\b\b\b\b\b\b\b\b\b\b\b\b\b\b\b\b\b\b\b\b\b\b\b\b\b\b\b\b\b\b\b\b\b\b\b\b\b\b\b\b\b\b\b\b\b 15% 27 - subset0/1.3.6.1.4.1.14519.5.2 . 80888843357047811238713686.raw\b\b\b\b\b\b\b\b\b\b\b\b\b\b\b\b\b\b\b\b\b\b\b\b\b\b\b\b\b\b\b\b\b\b\b\b\b\b\b\b\b\b\b\b\b\b\b\b\b\b\b\b\b\b\b\b\b\b\b\b\b\b\b\b\b\b\b\b\b\b\b\b                                                                        \b\b\b\b\b\b\b\b\b\b\b\b\b\b\b\b\b\b\b\b\b\b\b\b\b\b\b\b\b\b\b\b\b\b\b\b\b\b\b\b\b\b\b\b\b\b\b\b\b\b\b\b\b\b\b\b\b\b\b\b\b\b\b\b\b\b\b\b\b\b\b\b 16% 27 - subset0/1.3.6.1.4.1.14519.5.2 . 80888843357047811238713686.raw\b\b\b\b\b\b\b\b\b\b\b\b\b\b\b\b\b\b\b\b\b\b\b\b\b\b\b\b\b\b\b\b\b\b\b\b\b\b\b\b\b\b\b\b\b\b\b\b\b\b\b\b\b\b\b\b\b\b\b\b\b\b\b\b\b\b\b\b\b\b\b\b                                                                        \b\b\b\b\b\b\b\b\b\b\b\b\b\b\b\b\b\b\b\b\b\b\b\b\b\b\b\b\b\b\b\b\b\b\b\b\b\b\b\b\b\b\b\b\b\b\b\b\b\b\b\b\b\b\b\b\b\b\b\b\b\b\b\b\b\b\b\b\b\b\b\b 16% 29 - subset0/1.3.6.1.4.1.14519.5.2 . 58777898746693365877042411.raw\b\b\b\b\b\b\b\b\b\b\b\b\b\b\b\b\b\b\b\b\b\b\b\b\b\b\b\b\b\b\b\b\b\b\b\b\b\b\b\b\b\b\b\b\b\b\b\b\b\b\b\b\b\b\b\b\b\b\b\b\b\b\b\b\b\b\b\b\b\b\b\b                                                                        \b\b\b\b\b\b\b\b\b\b\b\b\b\b\b\b\b\b\b\b\b\b\b\b\b\b\b\b\b\b\b\b\b\b\b\b\b\b\b\b\b\b\b\b\b\b\b\b\b\b\b\b\b\b\b\b\b\b\b\b\b\b\b\b\b\b\b\b\b\b\b\b 17% 29 - subset0/1.3.6.1.4.1.14519.5.2 . 58777898746693365877042411.raw\b\b\b\b\b\b\b\b\b\b\b\b\b\b\b\b\b\b\b\b\b\b\b\b\b\b\b\b\b\b\b\b\b\b\b\b\b\b\b\b\b\b\b\b\b\b\b\b\b\b\b\b\b\b\b\b\b\b\b\b\b\b\b\b\b\b\b\b\b\b\b\b                                                                        \b\b\b\b\b\b\b\b\b\b\b\b\b\b\b\b\b\b\b\b\b\b\b\b\b\b\b\b\b\b\b\b\b\b\b\b\b\b\b\b\b\b\b\b\b\b\b\b\b\b\b\b\b\b\b\b\b\b\b\b\b\b\b\b\b\b\b\b\b\b\b\b 18% 29 - subset0/1.3.6.1.4.1.14519.5.2 . 58777898746693365877042411.raw\b\b\b\b\b\b\b\b\b\b\b\b\b\b\b\b\b\b\b\b\b\b\b\b\b\b\b\b\b\b\b\b\b\b\b\b\b\b\b\b\b\b\b\b\b\b\b\b\b\b\b\b\b\b\b\b\b\b\b\b\b\b\b\b\b\b\b\b\b\b\b\b                                                                        \b\b\b\b\b\b\b\b\b\b\b\b\b\b\b\b\b\b\b\b\b\b\b\b\b\b\b\b\b\b\b\b\b\b\b\b\b\b\b\b\b\b\b\b\b\b\b\b\b\b\b\b\b\b\b\b\b\b\b\b\b\b\b\b\b\b\b\b\b\b\b\b 18% 30\b\b\b\b\b\b\b       \b\b\b\b\b\b\b 18% 31 - subset0/1.3.6.1.4.1.14519.5.2 . 13436241461669335487719526.raw\b\b\b\b\b\b\b\b\b\b\b\b\b\b\b\b\b\b\b\b\b\b\b\b\b\b\b\b\b\b\b\b\b\b\b\b\b\b\b\b\b\b\b\b\b\b\b\b\b\b\b\b\b\b\b\b\b\b\b\b\b\b\b\b\b\b\b\b\b\b\b\b                                                                        \b\b\b\b\b\b\b\b\b\b\b\b\b\b\b\b\b\b\b\b\b\b\b\b\b\b\b\b\b\b\b\b\b\b\b\b\b\b\b\b\b\b\b\b\b\b\b\b\b\b\b\b\b\b\b\b\b\b\b\b\b\b\b\b\b\b\b\b\b\b\b\b 19% 31 - subset0/1.3.6.1.4.1.14519.5.2 . 13436241461669335487719526.raw\b\b\b\b\b\b\b\b\b\b\b\b\b\b\b\b\b\b\b\b\b\b\b\b\b\b\b\b\b\b\b\b\b\b\b\b\b\b\b\b\b\b\b\b\b\b\b\b\b\b\b\b\b\b\b\b\b\b\b\b\b\b\b\b\b\b\b\b\b\b\b\b                                                                        \b\b\b\b\b\b\b\b\b\b\b\b\b\b\b\b\b\b\b\b\b\b\b\b\b\b\b\b\b\b\b\b\b\b\b\b\b\b\b\b\b\b\b\b\b\b\b\b\b\b\b\b\b\b\b\b\b\b\b\b\b\b\b\b\b\b\b\b\b\b\b\b 19% 32\b\b\b\b\b\b\b       \b\b\b\b\b\b\b 19% 33 - subset0/1.3.6.1.4.1.14519.5.2 . 69661700670042960678408762.raw\b\b\b\b\b\b\b\b\b\b\b\b\b\b\b\b\b\b\b\b\b\b\b\b\b\b\b\b\b\b\b\b\b\b\b\b\b\b\b\b\b\b\b\b\b\b\b\b\b\b\b\b\b\b\b\b\b\b\b\b\b\b\b\b\b\b\b\b\b\b\b\b                                                                        \b\b\b\b\b\b\b\b\b\b\b\b\b\b\b\b\b\b\b\b\b\b\b\b\b\b\b\b\b\b\b\b\b\b\b\b\b\b\b\b\b\b\b\b\b\b\b\b\b\b\b\b\b\b\b\b\b\b\b\b\b\b\b\b\b\b\b\b\b\b\b\b 20% 33 - subset0/1.3.6.1.4.1.14519.5.2 . 69661700670042960678408762.raw\b\b\b\b\b\b\b\b\b\b\b\b\b\b\b\b\b\b\b\b\b\b\b\b\b\b\b\b\b\b\b\b\b\b\b\b\b\b\b\b\b\b\b\b\b\b\b\b\b\b\b\b\b\b\b\b\b\b\b\b\b\b\b\b\b\b\b\b\b\b\b\b                                                                        \b\b\b\b\b\b\b\b\b\b\b\b\b\b\b\b\b\b\b\b\b\b\b\b\b\b\b\b\b\b\b\b\b\b\b\b\b\b\b\b\b\b\b\b\b\b\b\b\b\b\b\b\b\b\b\b\b\b\b\b\b\b\b\b\b\b\b\b\b\b\b\b 20% 34\b\b\b\b\b\b\b       \b\b\b\b\b\b\b 20% 35 - subset0/1.3.6.1.4.1.14519.5.2 . 38612068946916340281098509.raw\b\b\b\b\b\b\b\b\b\b\b\b\b\b\b\b\b\b\b\b\b\b\b\b\b\b\b\b\b\b\b\b\b\b\b\b\b\b\b\b\b\b\b\b\b\b\b\b\b\b\b\b\b\b\b\b\b\b\b\b\b\b\b\b\b\b\b\b\b\b\b\b                                                                        \b\b\b\b\b\b\b\b\b\b\b\b\b\b\b\b\b\b\b\b\b\b\b\b\b\b\b\b\b\b\b\b\b\b\b\b\b\b\b\b\b\b\b\b\b\b\b\b\b\b\b\b\b\b\b\b\b\b\b\b\b\b\b\b\b\b\b\b\b\b\b\b 21% 35 - subset0/1.3.6.1.4.1.14519.5.2 . 38612068946916340281098509.raw\b\b\b\b\b\b\b\b\b\b\b\b\b\b\b\b\b\b\b\b\b\b\b\b\b\b\b\b\b\b\b\b\b\b\b\b\b\b\b\b\b\b\b\b\b\b\b\b\b\b\b\b\b\b\b\b\b\b\b\b\b\b\b\b\b\b\b\b\b\b\b\b                                                                        \b\b\b\b\b\b\b\b\b\b\b\b\b\b\b\b\b\b\b\b\b\b\b\b\b\b\b\b\b\b\b\b\b\b\b\b\b\b\b\b\b\b\b\b\b\b\b\b\b\b\b\b\b\b\b\b\b\b\b\b\b\b\b\b\b\b\b\b\b\b\b\b 21% 36\b\b\b\b\b\b\b       \b\b\b\b\b\b\b 21% 37 - subset0/1.3.6.1.4.1.14519.5.2 . 29221666426688999739595820.raw\b\b\b\b\b\b\b\b\b\b\b\b\b\b\b\b\b\b\b\b\b\b\b\b\b\b\b\b\b\b\b\b\b\b\b\b\b\b\b\b\b\b\b\b\b\b\b\b\b\b\b\b\b\b\b\b\b\b\b\b\b\b\b\b\b\b\b\b\b\b\b\b                                                                        \b\b\b\b\b\b\b\b\b\b\b\b\b\b\b\b\b\b\b\b\b\b\b\b\b\b\b\b\b\b\b\b\b\b\b\b\b\b\b\b\b\b\b\b\b\b\b\b\b\b\b\b\b\b\b\b\b\b\b\b\b\b\b\b\b\b\b\b\b\b\b\b 22% 37 - subset0/1.3.6.1.4.1.14519.5.2 . 29221666426688999739595820.raw\b\b\b\b\b\b\b\b\b\b\b\b\b\b\b\b\b\b\b\b\b\b\b\b\b\b\b\b\b\b\b\b\b\b\b\b\b\b\b\b\b\b\b\b\b\b\b\b\b\b\b\b\b\b\b\b\b\b\b\b\b\b\b\b\b\b\b\b\b\b\b\b                                                                        \b\b\b\b\b\b\b\b\b\b\b\b\b\b\b\b\b\b\b\b\b\b\b\b\b\b\b\b\b\b\b\b\b\b\b\b\b\b\b\b\b\b\b\b\b\b\b\b\b\b\b\b\b\b\b\b\b\b\b\b\b\b\b\b\b\b\b\b\b\b\b\b 23% 37 - subset0/1.3.6.1.4.1.14519.5.2 . 29221666426688999739595820.raw\b\b\b\b\b\b\b\b\b\b\b\b\b\b\b\b\b\b\b\b\b\b\b\b\b\b\b\b\b\b\b\b\b\b\b\b\b\b\b\b\b\b\b\b\b\b\b\b\b\b\b\b\b\b\b\b\b\b\b\b\b\b\b\b\b\b\b\b\b\b\b\b                                                                        \b\b\b\b\b\b\b\b\b\b\b\b\b\b\b\b\b\b\b\b\b\b\b\b\b\b\b\b\b\b\b\b\b\b\b\b\b\b\b\b\b\b\b\b\b\b\b\b\b\b\b\b\b\b\b\b\b\b\b\b\b\b\b\b\b\b\b\b\b\b\b\b 24% 37 - subset0/1.3.6.1.4.1.14519.5.2 . 29221666426688999739595820.raw\b\b\b\b\b\b\b\b\b\b\b\b\b\b\b\b\b\b\b\b\b\b\b\b\b\b\b\b\b\b\b\b\b\b\b\b\b\b\b\b\b\b\b\b\b\b\b\b\b\b\b\b\b\b\b\b\b\b\b\b\b\b\b\b\b\b\b\b\b\b\b\b                                                                        \b\b\b\b\b\b\b\b\b\b\b\b\b\b\b\b\b\b\b\b\b\b\b\b\b\b\b\b\b\b\b\b\b\b\b\b\b\b\b\b\b\b\b\b\b\b\b\b\b\b\b\b\b\b\b\b\b\b\b\b\b\b\b\b\b\b\b\b\b\b\b\b 24% 38\b\b\b\b\b\b\b       \b\b\b\b\b\b\b 24% 39 - subset0/1.3.6.1.4.1.14519.5.2 . 77396354641150280013275227.raw\b\b\b\b\b\b\b\b\b\b\b\b\b\b\b\b\b\b\b\b\b\b\b\b\b\b\b\b\b\b\b\b\b\b\b\b\b\b\b\b\b\b\b\b\b\b\b\b\b\b\b\b\b\b\b\b\b\b\b\b\b\b\b\b\b\b\b\b\b\b\b\b                                                                        \b\b\b\b\b\b\b\b\b\b\b\b\b\b\b\b\b\b\b\b\b\b\b\b\b\b\b\b\b\b\b\b\b\b\b\b\b\b\b\b\b\b\b\b\b\b\b\b\b\b\b\b\b\b\b\b\b\b\b\b\b\b\b\b\b\b\b\b\b\b\b\b 25% 39 - subset0/1.3.6.1.4.1.14519.5.2 . 77396354641150280013275227.raw\b\b\b\b\b\b\b\b\b\b\b\b\b\b\b\b\b\b\b\b\b\b\b\b\b\b\b\b\b\b\b\b\b\b\b\b\b\b\b\b\b\b\b\b\b\b\b\b\b\b\b\b\b\b\b\b\b\b\b\b\b\b\b\b\b\b\b\b\b\b\b\b                                                                        \b\b\b\b\b\b\b\b\b\b\b\b\b\b\b\b\b\b\b\b\b\b\b\b\b\b\b\b\b\b\b\b\b\b\b\b\b\b\b\b\b\b\b\b\b\b\b\b\b\b\b\b\b\b\b\b\b\b\b\b\b\b\b\b\b\b\b\b\b\b\b\b 25% 40\b\b\b\b\b\b\b       \b\b\b\b\b\b\b 25% 41 - subset0/1.3.6.1.4.1.14519.5.2 . 51715205085403623595258748.raw\b\b\b\b\b\b\b\b\b\b\b\b\b\b\b\b\b\b\b\b\b\b\b\b\b\b\b\b\b\b\b\b\b\b\b\b\b\b\b\b\b\b\b\b\b\b\b\b\b\b\b\b\b\b\b\b\b\b\b\b\b\b\b\b\b\b\b\b\b\b\b\b                                                                        \b\b\b\b\b\b\b\b\b\b\b\b\b\b\b\b\b\b\b\b\b\b\b\b\b\b\b\b\b\b\b\b\b\b\b\b\b\b\b\b\b\b\b\b\b\b\b\b\b\b\b\b\b\b\b\b\b\b\b\b\b\b\b\b\b\b\b\b\b\b\b\b 26% 41 - subset0/1.3.6.1.4.1.14519.5.2 . 51715205085403623595258748.raw\b\b\b\b\b\b\b\b\b\b\b\b\b\b\b\b\b\b\b\b\b\b\b\b\b\b\b\b\b\b\b\b\b\b\b\b\b\b\b\b\b\b\b\b\b\b\b\b\b\b\b\b\b\b\b\b\b\b\b\b\b\b\b\b\b\b\b\b\b\b\b\b                                                                        \b\b\b\b\b\b\b\b\b\b\b\b\b\b\b\b\b\b\b\b\b\b\b\b\b\b\b\b\b\b\b\b\b\b\b\b\b\b\b\b\b\b\b\b\b\b\b\b\b\b\b\b\b\b\b\b\b\b\b\b\b\b\b\b\b\b\b\b\b\b\b\b 26% 42\b\b\b\b\b\b\b       \b\b\b\b\b\b\b 26% 43 - subset0/1.3.6.1.4.1.14519.5.2 . 09889686363159853715266493.raw\b\b\b\b\b\b\b\b\b\b\b\b\b\b\b\b\b\b\b\b\b\b\b\b\b\b\b\b\b\b\b\b\b\b\b\b\b\b\b\b\b\b\b\b\b\b\b\b\b\b\b\b\b\b\b\b\b\b\b\b\b\b\b\b\b\b\b\b\b\b\b\b                                                                        \b\b\b\b\b\b\b\b\b\b\b\b\b\b\b\b\b\b\b\b\b\b\b\b\b\b\b\b\b\b\b\b\b\b\b\b\b\b\b\b\b\b\b\b\b\b\b\b\b\b\b\b\b\b\b\b\b\b\b\b\b\b\b\b\b\b\b\b\b\b\b\b 26% 44\b\b\b\b\b\b\b       \b\b\b\b\b\b\b 26% 45 - subset0/1.3.6.1.4.1.14519.5.2 . 76349804761988217597754952.raw\b\b\b\b\b\b\b\b\b\b\b\b\b\b\b\b\b\b\b\b\b\b\b\b\b\b\b\b\b\b\b\b\b\b\b\b\b\b\b\b\b\b\b\b\b\b\b\b\b\b\b\b\b\b\b\b\b\b\b\b\b\b\b\b\b\b\b\b\b\b\b\b                                                                        \b\b\b\b\b\b\b\b\b\b\b\b\b\b\b\b\b\b\b\b\b\b\b\b\b\b\b\b\b\b\b\b\b\b\b\b\b\b\b\b\b\b\b\b\b\b\b\b\b\b\b\b\b\b\b\b\b\b\b\b\b\b\b\b\b\b\b\b\b\b\b\b 27% 45 - subset0/1.3.6.1.4.1.14519.5.2 . 76349804761988217597754952.raw\b\b\b\b\b\b\b\b\b\b\b\b\b\b\b\b\b\b\b\b\b\b\b\b\b\b\b\b\b\b\b\b\b\b\b\b\b\b\b\b\b\b\b\b\b\b\b\b\b\b\b\b\b\b\b\b\b\b\b\b\b\b\b\b\b\b\b\b\b\b\b\b                                                                        \b\b\b\b\b\b\b\b\b\b\b\b\b\b\b\b\b\b\b\b\b\b\b\b\b\b\b\b\b\b\b\b\b\b\b\b\b\b\b\b\b\b\b\b\b\b\b\b\b\b\b\b\b\b\b\b\b\b\b\b\b\b\b\b\b\b\b\b\b\b\b\b 27% 46\b\b\b\b\b\b\b       \b\b\b\b\b\b\b 28% 47 - subset0/1.3.6.1.4.1.14519.5.2 . 40094986948071643661798326.raw\b\b\b\b\b\b\b\b\b\b\b\b\b\b\b\b\b\b\b\b\b\b\b\b\b\b\b\b\b\b\b\b\b\b\b\b\b\b\b\b\b\b\b\b\b\b\b\b\b\b\b\b\b\b\b\b\b\b\b\b\b\b\b\b\b\b\b\b\b\b\b\b                                                                        \b\b\b\b\b\b\b\b\b\b\b\b\b\b\b\b\b\b\b\b\b\b\b\b\b\b\b\b\b\b\b\b\b\b\b\b\b\b\b\b\b\b\b\b\b\b\b\b\b\b\b\b\b\b\b\b\b\b\b\b\b\b\b\b\b\b\b\b\b\b\b\b 28% 48\b\b\b\b\b\b\b       \b\b\b\b\b\b\b 28% 49 - subset0/1.3.6.1.4.1.14519.5.2 . 65340552956447447896167830.raw\b\b\b\b\b\b\b\b\b\b\b\b\b\b\b\b\b\b\b\b\b\b\b\b\b\b\b\b\b\b\b\b\b\b\b\b\b\b\b\b\b\b\b\b\b\b\b\b\b\b\b\b\b\b\b\b\b\b\b\b\b\b\b\b\b\b\b\b\b\b\b\b                                                                        \b\b\b\b\b\b\b\b\b\b\b\b\b\b\b\b\b\b\b\b\b\b\b\b\b\b\b\b\b\b\b\b\b\b\b\b\b\b\b\b\b\b\b\b\b\b\b\b\b\b\b\b\b\b\b\b\b\b\b\b\b\b\b\b\b\b\b\b\b\b\b\b 29% 49 - subset0/1.3.6.1.4.1.14519.5.2 . 65340552956447447896167830.raw\b\b\b\b\b\b\b\b\b\b\b\b\b\b\b\b\b\b\b\b\b\b\b\b\b\b\b\b\b\b\b\b\b\b\b\b\b\b\b\b\b\b\b\b\b\b\b\b\b\b\b\b\b\b\b\b\b\b\b\b\b\b\b\b\b\b\b\b\b\b\b\b                                                                        \b\b\b\b\b\b\b\b\b\b\b\b\b\b\b\b\b\b\b\b\b\b\b\b\b\b\b\b\b\b\b\b\b\b\b\b\b\b\b\b\b\b\b\b\b\b\b\b\b\b\b\b\b\b\b\b\b\b\b\b\b\b\b\b\b\b\b\b\b\b\b\b 29% 50\b\b\b\b\b\b\b       \b\b\b\b\b\b\b 29% 51 - subset0/1.3.6.1.4.1.14519.5.2 . 11684116768680758082619196.raw\b\b\b\b\b\b\b\b\b\b\b\b\b\b\b\b\b\b\b\b\b\b\b\b\b\b\b\b\b\b\b\b\b\b\b\b\b\b\b\b\b\b\b\b\b\b\b\b\b\b\b\b\b\b\b\b\b\b\b\b\b\b\b\b\b\b\b\b\b\b\b\b                                                                        \b\b\b\b\b\b\b\b\b\b\b\b\b\b\b\b\b\b\b\b\b\b\b\b\b\b\b\b\b\b\b\b\b\b\b\b\b\b\b\b\b\b\b\b\b\b\b\b\b\b\b\b\b\b\b\b\b\b\b\b\b\b\b\b\b\b\b\b\b\b\b\b 29% 52\b\b\b\b\b\b\b       \b\b\b\b\b\b\b 30% 53 - subset0/1.3.6.1.4.1.14519.5.2 . 37812047373739447725050963.raw\b\b\b\b\b\b\b\b\b\b\b\b\b\b\b\b\b\b\b\b\b\b\b\b\b\b\b\b\b\b\b\b\b\b\b\b\b\b\b\b\b\b\b\b\b\b\b\b\b\b\b\b\b\b\b\b\b\b\b\b\b\b\b\b\b\b\b\b\b\b\b\b                                                                        \b\b\b\b\b\b\b\b\b\b\b\b\b\b\b\b\b\b\b\b\b\b\b\b\b\b\b\b\b\b\b\b\b\b\b\b\b\b\b\b\b\b\b\b\b\b\b\b\b\b\b\b\b\b\b\b\b\b\b\b\b\b\b\b\b\b\b\b\b\b\b\b 30% 54\b\b\b\b\b\b\b       \b\b\b\b\b\b\b 30% 55 - subset0/1.3.6.1.4.1.14519.5.2 . 40617640021803112060161074.raw\b\b\b\b\b\b\b\b\b\b\b\b\b\b\b\b\b\b\b\b\b\b\b\b\b\b\b\b\b\b\b\b\b\b\b\b\b\b\b\b\b\b\b\b\b\b\b\b\b\b\b\b\b\b\b\b\b\b\b\b\b\b\b\b\b\b\b\b\b\b\b\b                                                                        \b\b\b\b\b\b\b\b\b\b\b\b\b\b\b\b\b\b\b\b\b\b\b\b\b\b\b\b\b\b\b\b\b\b\b\b\b\b\b\b\b\b\b\b\b\b\b\b\b\b\b\b\b\b\b\b\b\b\b\b\b\b\b\b\b\b\b\b\b\b\b\b 31% 55 - subset0/1.3.6.1.4.1.14519.5.2 . 40617640021803112060161074.raw\b\b\b\b\b\b\b\b\b\b\b\b\b\b\b\b\b\b\b\b\b\b\b\b\b\b\b\b\b\b\b\b\b\b\b\b\b\b\b\b\b\b\b\b\b\b\b\b\b\b\b\b\b\b\b\b\b\b\b\b\b\b\b\b\b\b\b\b\b\b\b\b                                                                        \b\b\b\b\b\b\b\b\b\b\b\b\b\b\b\b\b\b\b\b\b\b\b\b\b\b\b\b\b\b\b\b\b\b\b\b\b\b\b\b\b\b\b\b\b\b\b\b\b\b\b\b\b\b\b\b\b\b\b\b\b\b\b\b\b\b\b\b\b\b\b\b 31% 56\b\b\b\b\b\b\b       \b\b\b\b\b\b\b 32% 57 - subset0/1.3.6.1.4.1.14519.5.2 . 82370221919561230873289517.raw\b\b\b\b\b\b\b\b\b\b\b\b\b\b\b\b\b\b\b\b\b\b\b\b\b\b\b\b\b\b\b\b\b\b\b\b\b\b\b\b\b\b\b\b\b\b\b\b\b\b\b\b\b\b\b\b\b\b\b\b\b\b\b\b\b\b\b\b\b\b\b\b                                                                        \b\b\b\b\b\b\b\b\b\b\b\b\b\b\b\b\b\b\b\b\b\b\b\b\b\b\b\b\b\b\b\b\b\b\b\b\b\b\b\b\b\b\b\b\b\b\b\b\b\b\b\b\b\b\b\b\b\b\b\b\b\b\b\b\b\b\b\b\b\b\b\b 33% 57 - subset0/1.3.6.1.4.1.14519.5.2 . 82370221919561230873289517.raw\b\b\b\b\b\b\b\b\b\b\b\b\b\b\b\b\b\b\b\b\b\b\b\b\b\b\b\b\b\b\b\b\b\b\b\b\b\b\b\b\b\b\b\b\b\b\b\b\b\b\b\b\b\b\b\b\b\b\b\b\b\b\b\b\b\b\b\b\b\b\b\b                                                                        \b\b\b\b\b\b\b\b\b\b\b\b\b\b\b\b\b\b\b\b\b\b\b\b\b\b\b\b\b\b\b\b\b\b\b\b\b\b\b\b\b\b\b\b\b\b\b\b\b\b\b\b\b\b\b\b\b\b\b\b\b\b\b\b\b\b\b\b\b\b\b\b 33% 59 - subset0/1.3.6.1.4.1.14519.5.2 . 87313261026510628926082729.raw\b\b\b\b\b\b\b\b\b\b\b\b\b\b\b\b\b\b\b\b\b\b\b\b\b\b\b\b\b\b\b\b\b\b\b\b\b\b\b\b\b\b\b\b\b\b\b\b\b\b\b\b\b\b\b\b\b\b\b\b\b\b\b\b\b\b\b\b\b\b\b\b                                                                        \b\b\b\b\b\b\b\b\b\b\b\b\b\b\b\b\b\b\b\b\b\b\b\b\b\b\b\b\b\b\b\b\b\b\b\b\b\b\b\b\b\b\b\b\b\b\b\b\b\b\b\b\b\b\b\b\b\b\b\b\b\b\b\b\b\b\b\b\b\b\b\b 34% 59 - subset0/1.3.6.1.4.1.14519.5.2 . 87313261026510628926082729.raw\b\b\b\b\b\b\b\b\b\b\b\b\b\b\b\b\b\b\b\b\b\b\b\b\b\b\b\b\b\b\b\b\b\b\b\b\b\b\b\b\b\b\b\b\b\b\b\b\b\b\b\b\b\b\b\b\b\b\b\b\b\b\b\b\b\b\b\b\b\b\b\b                                                                        \b\b\b\b\b\b\b\b\b\b\b\b\b\b\b\b\b\b\b\b\b\b\b\b\b\b\b\b\b\b\b\b\b\b\b\b\b\b\b\b\b\b\b\b\b\b\b\b\b\b\b\b\b\b\b\b\b\b\b\b\b\b\b\b\b\b\b\b\b\b\b\b 34% 60\b\b\b\b\b\b\b       \b\b\b\b\b\b\b 34% 61 - subset0/1.3.6.1.4.1.14519.5.2 . 09753224298157409438012179.raw\b\b\b\b\b\b\b\b\b\b\b\b\b\b\b\b\b\b\b\b\b\b\b\b\b\b\b\b\b\b\b\b\b\b\b\b\b\b\b\b\b\b\b\b\b\b\b\b\b\b\b\b\b\b\b\b\b\b\b\b\b\b\b\b\b\b\b\b\b\b\b\b                                                                        \b\b\b\b\b\b\b\b\b\b\b\b\b\b\b\b\b\b\b\b\b\b\b\b\b\b\b\b\b\b\b\b\b\b\b\b\b\b\b\b\b\b\b\b\b\b\b\b\b\b\b\b\b\b\b\b\b\b\b\b\b\b\b\b\b\b\b\b\b\b\b\b 34% 62\b\b\b\b\b\b\b       \b\b\b\b\b\b\b 35% 63 - subset0/1.3.6.1.4.1.14519.5.2 . 62600322799211676960828223.raw\b\b\b\b\b\b\b\b\b\b\b\b\b\b\b\b\b\b\b\b\b\b\b\b\b\b\b\b\b\b\b\b\b\b\b\b\b\b\b\b\b\b\b\b\b\b\b\b\b\b\b\b\b\b\b\b\b\b\b\b\b\b\b\b\b\b\b\b\b\b\b\b                                                                        \b\b\b\b\b\b\b\b\b\b\b\b\b\b\b\b\b\b\b\b\b\b\b\b\b\b\b\b\b\b\b\b\b\b\b\b\b\b\b\b\b\b\b\b\b\b\b\b\b\b\b\b\b\b\b\b\b\b\b\b\b\b\b\b\b\b\b\b\b\b\b\b 35% 64\b\b\b\b\b\b\b       \b\b\b\b\b\b\b 35% 65 - subset0/1.3.6.1.4.1.14519.5.2 . 45134739451754302647733304.raw\b\b\b\b\b\b\b\b\b\b\b\b\b\b\b\b\b\b\b\b\b\b\b\b\b\b\b\b\b\b\b\b\b\b\b\b\b\b\b\b\b\b\b\b\b\b\b\b\b\b\b\b\b\b\b\b\b\b\b\b\b\b\b\b\b\b\b\b\b\b\b\b                                                                        \b\b\b\b\b\b\b\b\b\b\b\b\b\b\b\b\b\b\b\b\b\b\b\b\b\b\b\b\b\b\b\b\b\b\b\b\b\b\b\b\b\b\b\b\b\b\b\b\b\b\b\b\b\b\b\b\b\b\b\b\b\b\b\b\b\b\b\b\b\b\b\b 36% 65 - subset0/1.3.6.1.4.1.14519.5.2 . 45134739451754302647733304.raw\b\b\b\b\b\b\b\b\b\b\b\b\b\b\b\b\b\b\b\b\b\b\b\b\b\b\b\b\b\b\b\b\b\b\b\b\b\b\b\b\b\b\b\b\b\b\b\b\b\b\b\b\b\b\b\b\b\b\b\b\b\b\b\b\b\b\b\b\b\b\b\b                                                                        \b\b\b\b\b\b\b\b\b\b\b\b\b\b\b\b\b\b\b\b\b\b\b\b\b\b\b\b\b\b\b\b\b\b\b\b\b\b\b\b\b\b\b\b\b\b\b\b\b\b\b\b\b\b\b\b\b\b\b\b\b\b\b\b\b\b\b\b\b\b\b\b 36% 66\b\b\b\b\b\b\b       \b\b\b\b\b\b\b 37% 67 - subset0/1.3.6.1.4.1.14519.5.2 . 22526736091851696274044574.raw\b\b\b\b\b\b\b\b\b\b\b\b\b\b\b\b\b\b\b\b\b\b\b\b\b\b\b\b\b\b\b\b\b\b\b\b\b\b\b\b\b\b\b\b\b\b\b\b\b\b\b\b\b\b\b\b\b\b\b\b\b\b\b\b\b\b\b\b\b\b\b\b                                                                        \b\b\b\b\b\b\b\b\b\b\b\b\b\b\b\b\b\b\b\b\b\b\b\b\b\b\b\b\b\b\b\b\b\b\b\b\b\b\b\b\b\b\b\b\b\b\b\b\b\b\b\b\b\b\b\b\b\b\b\b\b\b\b\b\b\b\b\b\b\b\b\b 37% 68\b\b\b\b\b\b\b       \b\b\b\b\b\b\b 37% 69 - subset0/1.3.6.1.4.1.14519.5.2 . 70579760883349458693655367.raw\b\b\b\b\b\b\b\b\b\b\b\b\b\b\b\b\b\b\b\b\b\b\b\b\b\b\b\b\b\b\b\b\b\b\b\b\b\b\b\b\b\b\b\b\b\b\b\b\b\b\b\b\b\b\b\b\b\b\b\b\b\b\b\b\b\b\b\b\b\b\b\b                                                                        \b\b\b\b\b\b\b\b\b\b\b\b\b\b\b\b\b\b\b\b\b\b\b\b\b\b\b\b\b\b\b\b\b\b\b\b\b\b\b\b\b\b\b\b\b\b\b\b\b\b\b\b\b\b\b\b\b\b\b\b\b\b\b\b\b\b\b\b\b\b\b\b 38% 69 - subset0/1.3.6.1.4.1.14519.5.2 . 70579760883349458693655367.raw\b\b\b\b\b\b\b\b\b\b\b\b\b\b\b\b\b\b\b\b\b\b\b\b\b\b\b\b\b\b\b\b\b\b\b\b\b\b\b\b\b\b\b\b\b\b\b\b\b\b\b\b\b\b\b\b\b\b\b\b\b\b\b\b\b\b\b\b\b\b\b\b                                                                        \b\b\b\b\b\b\b\b\b\b\b\b\b\b\b\b\b\b\b\b\b\b\b\b\b\b\b\b\b\b\b\b\b\b\b\b\b\b\b\b\b\b\b\b\b\b\b\b\b\b\b\b\b\b\b\b\b\b\b\b\b\b\b\b\b\b\b\b\b\b\b\b 39% 69 - subset0/1.3.6.1.4.1.14519.5.2 . 70579760883349458693655367.raw\b\b\b\b\b\b\b\b\b\b\b\b\b\b\b\b\b\b\b\b\b\b\b\b\b\b\b\b\b\b\b\b\b\b\b\b\b\b\b\b\b\b\b\b\b\b\b\b\b\b\b\b\b\b\b\b\b\b\b\b\b\b\b\b\b\b\b\b\b\b\b\b                                                                        \b\b\b\b\b\b\b\b\b\b\b\b\b\b\b\b\b\b\b\b\b\b\b\b\b\b\b\b\b\b\b\b\b\b\b\b\b\b\b\b\b\b\b\b\b\b\b\b\b\b\b\b\b\b\b\b\b\b\b\b\b\b\b\b\b\b\b\b\b\b\b\b 39% 71 - subset0/1.3.6.1.4.1.14519.5.2 . 30219848512542668813996730.raw\b\b\b\b\b\b\b\b\b\b\b\b\b\b\b\b\b\b\b\b\b\b\b\b\b\b\b\b\b\b\b\b\b\b\b\b\b\b\b\b\b\b\b\b\b\b\b\b\b\b\b\b\b\b\b\b\b\b\b\b\b\b\b\b\b\b\b\b\b\b\b\b                                                                        \b\b\b\b\b\b\b\b\b\b\b\b\b\b\b\b\b\b\b\b\b\b\b\b\b\b\b\b\b\b\b\b\b\b\b\b\b\b\b\b\b\b\b\b\b\b\b\b\b\b\b\b\b\b\b\b\b\b\b\b\b\b\b\b\b\b\b\b\b\b\b\b 40% 71 - subset0/1.3.6.1.4.1.14519.5.2 . 30219848512542668813996730.raw\b\b\b\b\b\b\b\b\b\b\b\b\b\b\b\b\b\b\b\b\b\b\b\b\b\b\b\b\b\b\b\b\b\b\b\b\b\b\b\b\b\b\b\b\b\b\b\b\b\b\b\b\b\b\b\b\b\b\b\b\b\b\b\b\b\b\b\b\b\b\b\b                                                                        \b\b\b\b\b\b\b\b\b\b\b\b\b\b\b\b\b\b\b\b\b\b\b\b\b\b\b\b\b\b\b\b\b\b\b\b\b\b\b\b\b\b\b\b\b\b\b\b\b\b\b\b\b\b\b\b\b\b\b\b\b\b\b\b\b\b\b\b\b\b\b\b 41% 71 - subset0/1.3.6.1.4.1.14519.5.2 . 30219848512542668813996730.raw\b\b\b\b\b\b\b\b\b\b\b\b\b\b\b\b\b\b\b\b\b\b\b\b\b\b\b\b\b\b\b\b\b\b\b\b\b\b\b\b\b\b\b\b\b\b\b\b\b\b\b\b\b\b\b\b\b\b\b\b\b\b\b\b\b\b\b\b\b\b\b\b                                                                        \b\b\b\b\b\b\b\b\b\b\b\b\b\b\b\b\b\b\b\b\b\b\b\b\b\b\b\b\b\b\b\b\b\b\b\b\b\b\b\b\b\b\b\b\b\b\b\b\b\b\b\b\b\b\b\b\b\b\b\b\b\b\b\b\b\b\b\b\b\b\b\b 41% 72\b\b\b\b\b\b\b       \b\b\b\b\b\b\b 41% 73 - subset0/1.3.6.1.4.1.14519.5.2 . 38451287314206124484591986.raw\b\b\b\b\b\b\b\b\b\b\b\b\b\b\b\b\b\b\b\b\b\b\b\b\b\b\b\b\b\b\b\b\b\b\b\b\b\b\b\b\b\b\b\b\b\b\b\b\b\b\b\b\b\b\b\b\b\b\b\b\b\b\b\b\b\b\b\b\b\b\b\b                                                                        \b\b\b\b\b\b\b\b\b\b\b\b\b\b\b\b\b\b\b\b\b\b\b\b\b\b\b\b\b\b\b\b\b\b\b\b\b\b\b\b\b\b\b\b\b\b\b\b\b\b\b\b\b\b\b\b\b\b\b\b\b\b\b\b\b\b\b\b\b\b\b\b 42% 73 - subset0/1.3.6.1.4.1.14519.5.2 . 38451287314206124484591986.raw\b\b\b\b\b\b\b\b\b\b\b\b\b\b\b\b\b\b\b\b\b\b\b\b\b\b\b\b\b\b\b\b\b\b\b\b\b\b\b\b\b\b\b\b\b\b\b\b\b\b\b\b\b\b\b\b\b\b\b\b\b\b\b\b\b\b\b\b\b\b\b\b                                                                        \b\b\b\b\b\b\b\b\b\b\b\b\b\b\b\b\b\b\b\b\b\b\b\b\b\b\b\b\b\b\b\b\b\b\b\b\b\b\b\b\b\b\b\b\b\b\b\b\b\b\b\b\b\b\b\b\b\b\b\b\b\b\b\b\b\b\b\b\b\b\b\b 42% 74\b\b\b\b\b\b\b       \b\b\b\b\b\b\b 42% 75 - subset0/1.3.6.1.4.1.14519.5.2 . 63365157630276148828903732.raw\b\b\b\b\b\b\b\b\b\b\b\b\b\b\b\b\b\b\b\b\b\b\b\b\b\b\b\b\b\b\b\b\b\b\b\b\b\b\b\b\b\b\b\b\b\b\b\b\b\b\b\b\b\b\b\b\b\b\b\b\b\b\b\b\b\b\b\b\b\b\b\b                                                                        \b\b\b\b\b\b\b\b\b\b\b\b\b\b\b\b\b\b\b\b\b\b\b\b\b\b\b\b\b\b\b\b\b\b\b\b\b\b\b\b\b\b\b\b\b\b\b\b\b\b\b\b\b\b\b\b\b\b\b\b\b\b\b\b\b\b\b\b\b\b\b\b 43% 75 - subset0/1.3.6.1.4.1.14519.5.2 . 63365157630276148828903732.raw\b\b\b\b\b\b\b\b\b\b\b\b\b\b\b\b\b\b\b\b\b\b\b\b\b\b\b\b\b\b\b\b\b\b\b\b\b\b\b\b\b\b\b\b\b\b\b\b\b\b\b\b\b\b\b\b\b\b\b\b\b\b\b\b\b\b\b\b\b\b\b\b                                                                        \b\b\b\b\b\b\b\b\b\b\b\b\b\b\b\b\b\b\b\b\b\b\b\b\b\b\b\b\b\b\b\b\b\b\b\b\b\b\b\b\b\b\b\b\b\b\b\b\b\b\b\b\b\b\b\b\b\b\b\b\b\b\b\b\b\b\b\b\b\b\b\b 43% 76\b\b\b\b\b\b\b       \b\b\b\b\b\b\b 43% 77 - subset0/1.3.6.1.4.1.14519.5.2 . 89294231892620436462818860.raw\b\b\b\b\b\b\b\b\b\b\b\b\b\b\b\b\b\b\b\b\b\b\b\b\b\b\b\b\b\b\b\b\b\b\b\b\b\b\b\b\b\b\b\b\b\b\b\b\b\b\b\b\b\b\b\b\b\b\b\b\b\b\b\b\b\b\b\b\b\b\b\b                                                                        \b\b\b\b\b\b\b\b\b\b\b\b\b\b\b\b\b\b\b\b\b\b\b\b\b\b\b\b\b\b\b\b\b\b\b\b\b\b\b\b\b\b\b\b\b\b\b\b\b\b\b\b\b\b\b\b\b\b\b\b\b\b\b\b\b\b\b\b\b\b\b\b 44% 77 - subset0/1.3.6.1.4.1.14519.5.2 . 89294231892620436462818860.raw\b\b\b\b\b\b\b\b\b\b\b\b\b\b\b\b\b\b\b\b\b\b\b\b\b\b\b\b\b\b\b\b\b\b\b\b\b\b\b\b\b\b\b\b\b\b\b\b\b\b\b\b\b\b\b\b\b\b\b\b\b\b\b\b\b\b\b\b\b\b\b\b                                                                        \b\b\b\b\b\b\b\b\b\b\b\b\b\b\b\b\b\b\b\b\b\b\b\b\b\b\b\b\b\b\b\b\b\b\b\b\b\b\b\b\b\b\b\b\b\b\b\b\b\b\b\b\b\b\b\b\b\b\b\b\b\b\b\b\b\b\b\b\b\b\b\b 44% 79 - subset0/1.3.6.1.4.1.14519.5.2 . 42302501586336192628818865.raw\b\b\b\b\b\b\b\b\b\b\b\b\b\b\b\b\b\b\b\b\b\b\b\b\b\b\b\b\b\b\b\b\b\b\b\b\b\b\b\b\b\b\b\b\b\b\b\b\b\b\b\b\b\b\b\b\b\b\b\b\b\b\b\b\b\b\b\b\b\b\b\b                                                                        \b\b\b\b\b\b\b\b\b\b\b\b\b\b\b\b\b\b\b\b\b\b\b\b\b\b\b\b\b\b\b\b\b\b\b\b\b\b\b\b\b\b\b\b\b\b\b\b\b\b\b\b\b\b\b\b\b\b\b\b\b\b\b\b\b\b\b\b\b\b\b\b 45% 79 - subset0/1.3.6.1.4.1.14519.5.2 . 42302501586336192628818865.raw\b\b\b\b\b\b\b\b\b\b\b\b\b\b\b\b\b\b\b\b\b\b\b\b\b\b\b\b\b\b\b\b\b\b\b\b\b\b\b\b\b\b\b\b\b\b\b\b\b\b\b\b\b\b\b\b\b\b\b\b\b\b\b\b\b\b\b\b\b\b\b\b                                                                        \b\b\b\b\b\b\b\b\b\b\b\b\b\b\b\b\b\b\b\b\b\b\b\b\b\b\b\b\b\b\b\b\b\b\b\b\b\b\b\b\b\b\b\b\b\b\b\b\b\b\b\b\b\b\b\b\b\b\b\b\b\b\b\b\b\b\b\b\b\b\b\b 45% 80\b\b\b\b\b\b\b       \b\b\b\b\b\b\b 45% 81 - subset0/1.3.6.1.4.1.14519.5.2 . 45975068759205899107114231.raw\b\b\b\b\b\b\b\b\b\b\b\b\b\b\b\b\b\b\b\b\b\b\b\b\b\b\b\b\b\b\b\b\b\b\b\b\b\b\b\b\b\b\b\b\b\b\b\b\b\b\b\b\b\b\b\b\b\b\b\b\b\b\b\b\b\b\b\b\b\b\b\b                                                                        \b\b\b\b\b\b\b\b\b\b\b\b\b\b\b\b\b\b\b\b\b\b\b\b\b\b\b\b\b\b\b\b\b\b\b\b\b\b\b\b\b\b\b\b\b\b\b\b\b\b\b\b\b\b\b\b\b\b\b\b\b\b\b\b\b\b\b\b\b\b\b\b 46% 81 - subset0/1.3.6.1.4.1.14519.5.2 . 45975068759205899107114231.raw\b\b\b\b\b\b\b\b\b\b\b\b\b\b\b\b\b\b\b\b\b\b\b\b\b\b\b\b\b\b\b\b\b\b\b\b\b\b\b\b\b\b\b\b\b\b\b\b\b\b\b\b\b\b\b\b\b\b\b\b\b\b\b\b\b\b\b\b\b\b\b\b                                                                        \b\b\b\b\b\b\b\b\b\b\b\b\b\b\b\b\b\b\b\b\b\b\b\b\b\b\b\b\b\b\b\b\b\b\b\b\b\b\b\b\b\b\b\b\b\b\b\b\b\b\b\b\b\b\b\b\b\b\b\b\b\b\b\b\b\b\b\b\b\b\b\b 46% 83 - subset0/1.3.6.1.4.1.14519.5.2 . 60284797073139172446973682.raw\b\b\b\b\b\b\b\b\b\b\b\b\b\b\b\b\b\b\b\b\b\b\b\b\b\b\b\b\b\b\b\b\b\b\b\b\b\b\b\b\b\b\b\b\b\b\b\b\b\b\b\b\b\b\b\b\b\b\b\b\b\b\b\b\b\b\b\b\b\b\b\b                                                                        \b\b\b\b\b\b\b\b\b\b\b\b\b\b\b\b\b\b\b\b\b\b\b\b\b\b\b\b\b\b\b\b\b\b\b\b\b\b\b\b\b\b\b\b\b\b\b\b\b\b\b\b\b\b\b\b\b\b\b\b\b\b\b\b\b\b\b\b\b\b\b\b 46% 84\b\b\b\b\b\b\b       \b\b\b\b\b\b\b 46% 85 - subset0/1.3.6.1.4.1.14519.5.2 . 72147860943609388015648430.raw\b\b\b\b\b\b\b\b\b\b\b\b\b\b\b\b\b\b\b\b\b\b\b\b\b\b\b\b\b\b\b\b\b\b\b\b\b\b\b\b\b\b\b\b\b\b\b\b\b\b\b\b\b\b\b\b\b\b\b\b\b\b\b\b\b\b\b\b\b\b\b\b                                                                        \b\b\b\b\b\b\b\b\b\b\b\b\b\b\b\b\b\b\b\b\b\b\b\b\b\b\b\b\b\b\b\b\b\b\b\b\b\b\b\b\b\b\b\b\b\b\b\b\b\b\b\b\b\b\b\b\b\b\b\b\b\b\b\b\b\b\b\b\b\b\b\b 47% 85 - subset0/1.3.6.1.4.1.14519.5.2 . 72147860943609388015648430.raw\b\b\b\b\b\b\b\b\b\b\b\b\b\b\b\b\b\b\b\b\b\b\b\b\b\b\b\b\b\b\b\b\b\b\b\b\b\b\b\b\b\b\b\b\b\b\b\b\b\b\b\b\b\b\b\b\b\b\b\b\b\b\b\b\b\b\b\b\b\b\b\b                                                                        \b\b\b\b\b\b\b\b\b\b\b\b\b\b\b\b\b\b\b\b\b\b\b\b\b\b\b\b\b\b\b\b\b\b\b\b\b\b\b\b\b\b\b\b\b\b\b\b\b\b\b\b\b\b\b\b\b\b\b\b\b\b\b\b\b\b\b\b\b\b\b\b 47% 87 - subset0/1.3.6.1.4.1.14519.5.2 . 89753704424911132261151767.raw\b\b\b\b\b\b\b\b\b\b\b\b\b\b\b\b\b\b\b\b\b\b\b\b\b\b\b\b\b\b\b\b\b\b\b\b\b\b\b\b\b\b\b\b\b\b\b\b\b\b\b\b\b\b\b\b\b\b\b\b\b\b\b\b\b\b\b\b\b\b\b\b                                                                        \b\b\b\b\b\b\b\b\b\b\b\b\b\b\b\b\b\b\b\b\b\b\b\b\b\b\b\b\b\b\b\b\b\b\b\b\b\b\b\b\b\b\b\b\b\b\b\b\b\b\b\b\b\b\b\b\b\b\b\b\b\b\b\b\b\b\b\b\b\b\b\b 48% 87 - subset0/1.3.6.1.4.1.14519.5.2 . 89753704424911132261151767.raw\b\b\b\b\b\b\b\b\b\b\b\b\b\b\b\b\b\b\b\b\b\b\b\b\b\b\b\b\b\b\b\b\b\b\b\b\b\b\b\b\b\b\b\b\b\b\b\b\b\b\b\b\b\b\b\b\b\b\b\b\b\b\b\b\b\b\b\b\b\b\b\b                                                                        \b\b\b\b\b\b\b\b\b\b\b\b\b\b\b\b\b\b\b\b\b\b\b\b\b\b\b\b\b\b\b\b\b\b\b\b\b\b\b\b\b\b\b\b\b\b\b\b\b\b\b\b\b\b\b\b\b\b\b\b\b\b\b\b\b\b\b\b\b\b\b\b 49% 87 - subset0/1.3.6.1.4.1.14519.5.2 . 89753704424911132261151767.raw\b\b\b\b\b\b\b\b\b\b\b\b\b\b\b\b\b\b\b\b\b\b\b\b\b\b\b\b\b\b\b\b\b\b\b\b\b\b\b\b\b\b\b\b\b\b\b\b\b\b\b\b\b\b\b\b\b\b\b\b\b\b\b\b\b\b\b\b\b\b\b\b                                                                        \b\b\b\b\b\b\b\b\b\b\b\b\b\b\b\b\b\b\b\b\b\b\b\b\b\b\b\b\b\b\b\b\b\b\b\b\b\b\b\b\b\b\b\b\b\b\b\b\b\b\b\b\b\b\b\b\b\b\b\b\b\b\b\b\b\b\b\b\b\b\b\b 49% 88\b\b\b\b\b\b\b       \b\b\b\b\b\b\b 49% 89 - subset0/1.3.6.1.4.1.14519.5.2 . 57615532132808762625441831.raw\b\b\b\b\b\b\b\b\b\b\b\b\b\b\b\b\b\b\b\b\b\b\b\b\b\b\b\b\b\b\b\b\b\b\b\b\b\b\b\b\b\b\b\b\b\b\b\b\b\b\b\b\b\b\b\b\b\b\b\b\b\b\b\b\b\b\b\b\b\b\b\b                                                                        \b\b\b\b\b\b\b\b\b\b\b\b\b\b\b\b\b\b\b\b\b\b\b\b\b\b\b\b\b\b\b\b\b\b\b\b\b\b\b\b\b\b\b\b\b\b\b\b\b\b\b\b\b\b\b\b\b\b\b\b\b\b\b\b\b\b\b\b\b\b\b\b 50% 89 - subset0/1.3.6.1.4.1.14519.5.2 . 57615532132808762625441831.raw\b\b\b\b\b\b\b\b\b\b\b\b\b\b\b\b\b\b\b\b\b\b\b\b\b\b\b\b\b\b\b\b\b\b\b\b\b\b\b\b\b\b\b\b\b\b\b\b\b\b\b\b\b\b\b\b\b\b\b\b\b\b\b\b\b\b\b\b\b\b\b\b                                                                        \b\b\b\b\b\b\b\b\b\b\b\b\b\b\b\b\b\b\b\b\b\b\b\b\b\b\b\b\b\b\b\b\b\b\b\b\b\b\b\b\b\b\b\b\b\b\b\b\b\b\b\b\b\b\b\b\b\b\b\b\b\b\b\b\b\b\b\b\b\b\b\b 51% 89 - subset0/1.3.6.1.4.1.14519.5.2 . 57615532132808762625441831.raw\b\b\b\b\b\b\b\b\b\b\b\b\b\b\b\b\b\b\b\b\b\b\b\b\b\b\b\b\b\b\b\b\b\b\b\b\b\b\b\b\b\b\b\b\b\b\b\b\b\b\b\b\b\b\b\b\b\b\b\b\b\b\b\b\b\b\b\b\b\b\b\b                                                                        \b\b\b\b\b\b\b\b\b\b\b\b\b\b\b\b\b\b\b\b\b\b\b\b\b\b\b\b\b\b\b\b\b\b\b\b\b\b\b\b\b\b\b\b\b\b\b\b\b\b\b\b\b\b\b\b\b\b\b\b\b\b\b\b\b\b\b\b\b\b\b\b 51% 90\b\b\b\b\b\b\b       \b\b\b\b\b\b\b 51% 91 - subset0/1.3.6.1.4.1.14519.5.2 . 88507421106424248264912111.raw\b\b\b\b\b\b\b\b\b\b\b\b\b\b\b\b\b\b\b\b\b\b\b\b\b\b\b\b\b\b\b\b\b\b\b\b\b\b\b\b\b\b\b\b\b\b\b\b\b\b\b\b\b\b\b\b\b\b\b\b\b\b\b\b\b\b\b\b\b\b\b\b                                                                        \b\b\b\b\b\b\b\b\b\b\b\b\b\b\b\b\b\b\b\b\b\b\b\b\b\b\b\b\b\b\b\b\b\b\b\b\b\b\b\b\b\b\b\b\b\b\b\b\b\b\b\b\b\b\b\b\b\b\b\b\b\b\b\b\b\b\b\b\b\b\b\b 52% 91 - subset0/1.3.6.1.4.1.14519.5.2 . 88507421106424248264912111.raw\b\b\b\b\b\b\b\b\b\b\b\b\b\b\b\b\b\b\b\b\b\b\b\b\b\b\b\b\b\b\b\b\b\b\b\b\b\b\b\b\b\b\b\b\b\b\b\b\b\b\b\b\b\b\b\b\b\b\b\b\b\b\b\b\b\b\b\b\b\b\b\b                                                                        \b\b\b\b\b\b\b\b\b\b\b\b\b\b\b\b\b\b\b\b\b\b\b\b\b\b\b\b\b\b\b\b\b\b\b\b\b\b\b\b\b\b\b\b\b\b\b\b\b\b\b\b\b\b\b\b\b\b\b\b\b\b\b\b\b\b\b\b\b\b\b\b 52% 92\b\b\b\b\b\b\b       \b\b\b\b\b\b\b 52% 93 - subset0/1.3.6.1.4.1.14519.5.2 . 98571102631191572192562523.raw\b\b\b\b\b\b\b\b\b\b\b\b\b\b\b\b\b\b\b\b\b\b\b\b\b\b\b\b\b\b\b\b\b\b\b\b\b\b\b\b\b\b\b\b\b\b\b\b\b\b\b\b\b\b\b\b\b\b\b\b\b\b\b\b\b\b\b\b\b\b\b\b                                                                        \b\b\b\b\b\b\b\b\b\b\b\b\b\b\b\b\b\b\b\b\b\b\b\b\b\b\b\b\b\b\b\b\b\b\b\b\b\b\b\b\b\b\b\b\b\b\b\b\b\b\b\b\b\b\b\b\b\b\b\b\b\b\b\b\b\b\b\b\b\b\b\b 53% 93 - subset0/1.3.6.1.4.1.14519.5.2 . 98571102631191572192562523.raw\b\b\b\b\b\b\b\b\b\b\b\b\b\b\b\b\b\b\b\b\b\b\b\b\b\b\b\b\b\b\b\b\b\b\b\b\b\b\b\b\b\b\b\b\b\b\b\b\b\b\b\b\b\b\b\b\b\b\b\b\b\b\b\b\b\b\b\b\b\b\b\b                                                                        \b\b\b\b\b\b\b\b\b\b\b\b\b\b\b\b\b\b\b\b\b\b\b\b\b\b\b\b\b\b\b\b\b\b\b\b\b\b\b\b\b\b\b\b\b\b\b\b\b\b\b\b\b\b\b\b\b\b\b\b\b\b\b\b\b\b\b\b\b\b\b\b 53% 94\b\b\b\b\b\b\b       \b\b\b\b\b\b\b 53% 95 - subset0/1.3.6.1.4.1.14519.5.2 . 20274214095686326263147663.raw\b\b\b\b\b\b\b\b\b\b\b\b\b\b\b\b\b\b\b\b\b\b\b\b\b\b\b\b\b\b\b\b\b\b\b\b\b\b\b\b\b\b\b\b\b\b\b\b\b\b\b\b\b\b\b\b\b\b\b\b\b\b\b\b\b\b\b\b\b\b\b\b                                                                        \b\b\b\b\b\b\b\b\b\b\b\b\b\b\b\b\b\b\b\b\b\b\b\b\b\b\b\b\b\b\b\b\b\b\b\b\b\b\b\b\b\b\b\b\b\b\b\b\b\b\b\b\b\b\b\b\b\b\b\b\b\b\b\b\b\b\b\b\b\b\b\b 54% 95 - subset0/1.3.6.1.4.1.14519.5.2 . 20274214095686326263147663.raw\b\b\b\b\b\b\b\b\b\b\b\b\b\b\b\b\b\b\b\b\b\b\b\b\b\b\b\b\b\b\b\b\b\b\b\b\b\b\b\b\b\b\b\b\b\b\b\b\b\b\b\b\b\b\b\b\b\b\b\b\b\b\b\b\b\b\b\b\b\b\b\b                                                                        \b\b\b\b\b\b\b\b\b\b\b\b\b\b\b\b\b\b\b\b\b\b\b\b\b\b\b\b\b\b\b\b\b\b\b\b\b\b\b\b\b\b\b\b\b\b\b\b\b\b\b\b\b\b\b\b\b\b\b\b\b\b\b\b\b\b\b\b\b\b\b\b 54% 96\b\b\b\b\b\b\b       \b\b\b\b\b\b\b 54% 97 - subset0/1.3.6.1.4.1.14519.5.2 . 34342469412607966016057827.raw\b\b\b\b\b\b\b\b\b\b\b\b\b\b\b\b\b\b\b\b\b\b\b\b\b\b\b\b\b\b\b\b\b\b\b\b\b\b\b\b\b\b\b\b\b\b\b\b\b\b\b\b\b\b\b\b\b\b\b\b\b\b\b\b\b\b\b\b\b\b\b\b                                                                        \b\b\b\b\b\b\b\b\b\b\b\b\b\b\b\b\b\b\b\b\b\b\b\b\b\b\b\b\b\b\b\b\b\b\b\b\b\b\b\b\b\b\b\b\b\b\b\b\b\b\b\b\b\b\b\b\b\b\b\b\b\b\b\b\b\b\b\b\b\b\b\b 55% 97 - subset0/1.3.6.1.4.1.14519.5.2 . 34342469412607966016057827.raw\b\b\b\b\b\b\b\b\b\b\b\b\b\b\b\b\b\b\b\b\b\b\b\b\b\b\b\b\b\b\b\b\b\b\b\b\b\b\b\b\b\b\b\b\b\b\b\b\b\b\b\b\b\b\b\b\b\b\b\b\b\b\b\b\b\b\b\b\b\b\b\b                                                                        \b\b\b\b\b\b\b\b\b\b\b\b\b\b\b\b\b\b\b\b\b\b\b\b\b\b\b\b\b\b\b\b\b\b\b\b\b\b\b\b\b\b\b\b\b\b\b\b\b\b\b\b\b\b\b\b\b\b\b\b\b\b\b\b\b\b\b\b\b\b\b\b 56% 97 - subset0/1.3.6.1.4.1.14519.5.2 . 34342469412607966016057827.raw\b\b\b\b\b\b\b\b\b\b\b\b\b\b\b\b\b\b\b\b\b\b\b\b\b\b\b\b\b\b\b\b\b\b\b\b\b\b\b\b\b\b\b\b\b\b\b\b\b\b\b\b\b\b\b\b\b\b\b\b\b\b\b\b\b\b\b\b\b\b\b\b                                                                        \b\b\b\b\b\b\b\b\b\b\b\b\b\b\b\b\b\b\b\b\b\b\b\b\b\b\b\b\b\b\b\b\b\b\b\b\b\b\b\b\b\b\b\b\b\b\b\b\b\b\b\b\b\b\b\b\b\b\b\b\b\b\b\b\b\b\b\b\b\b\b\b 56% 99 - subset0/1.3.6.1.4.1.14519.5.2 . 21828981831854739626597495.raw\b\b\b\b\b\b\b\b\b\b\b\b\b\b\b\b\b\b\b\b\b\b\b\b\b\b\b\b\b\b\b\b\b\b\b\b\b\b\b\b\b\b\b\b\b\b\b\b\b\b\b\b\b\b\b\b\b\b\b\b\b\b\b\b\b\b\b\b\b\b\b\b                                                                        \b\b\b\b\b\b\b\b\b\b\b\b\b\b\b\b\b\b\b\b\b\b\b\b\b\b\b\b\b\b\b\b\b\b\b\b\b\b\b\b\b\b\b\b\b\b\b\b\b\b\b\b\b\b\b\b\b\b\b\b\b\b\b\b\b\b\b\b\b\b\b\b 57% 99 - subset0/1.3.6.1.4.1.14519.5.2 . 21828981831854739626597495.raw\b\b\b\b\b\b\b\b\b\b\b\b\b\b\b\b\b\b\b\b\b\b\b\b\b\b\b\b\b\b\b\b\b\b\b\b\b\b\b\b\b\b\b\b\b\b\b\b\b\b\b\b\b\b\b\b\b\b\b\b\b\b\b\b\b\b\b\b\b\b\b\b                                                                        \b\b\b\b\b\b\b\b\b\b\b\b\b\b\b\b\b\b\b\b\b\b\b\b\b\b\b\b\b\b\b\b\b\b\b\b\b\b\b\b\b\b\b\b\b\b\b\b\b\b\b\b\b\b\b\b\b\b\b\b\b\b\b\b\b\b\b\b\b\b\b\b 57% 100\b\b\b\b\b\b\b\b        \b\b\b\b\b\b\b\b 57% 101 - subset0/1.3.6.1.4.1.14519.5.2 . 58704835252413616501469037.raw\b\b\b\b\b\b\b\b\b\b\b\b\b\b\b\b\b\b\b\b\b\b\b\b\b\b\b\b\b\b\b\b\b\b\b\b\b\b\b\b\b\b\b\b\b\b\b\b\b\b\b\b\b\b\b\b\b\b\b\b\b\b\b\b\b\b\b\b\b\b\b\b\b                                                                         \b\b\b\b\b\b\b\b\b\b\b\b\b\b\b\b\b\b\b\b\b\b\b\b\b\b\b\b\b\b\b\b\b\b\b\b\b\b\b\b\b\b\b\b\b\b\b\b\b\b\b\b\b\b\b\b\b\b\b\b\b\b\b\b\b\b\b\b\b\b\b\b\b 58% 101 - subset0/1.3.6.1.4.1.14519.5.2 . 58704835252413616501469037.raw\b\b\b\b\b\b\b\b\b\b\b\b\b\b\b\b\b\b\b\b\b\b\b\b\b\b\b\b\b\b\b\b\b\b\b\b\b\b\b\b\b\b\b\b\b\b\b\b\b\b\b\b\b\b\b\b\b\b\b\b\b\b\b\b\b\b\b\b\b\b\b\b\b                                                                         \b\b\b\b\b\b\b\b\b\b\b\b\b\b\b\b\b\b\b\b\b\b\b\b\b\b\b\b\b\b\b\b\b\b\b\b\b\b\b\b\b\b\b\b\b\b\b\b\b\b\b\b\b\b\b\b\b\b\b\b\b\b\b\b\b\b\b\b\b\b\b\b\b 58% 102\b\b\b\b\b\b\b\b        \b\b\b\b\b\b\b\b 58% 103 - subset0/1.3.6.1.4.1.14519.5.2 . 48927038333190233889983845.raw\b\b\b\b\b\b\b\b\b\b\b\b\b\b\b\b\b\b\b\b\b\b\b\b\b\b\b\b\b\b\b\b\b\b\b\b\b\b\b\b\b\b\b\b\b\b\b\b\b\b\b\b\b\b\b\b\b\b\b\b\b\b\b\b\b\b\b\b\b\b\b\b\b                                                                         \b\b\b\b\b\b\b\b\b\b\b\b\b\b\b\b\b\b\b\b\b\b\b\b\b\b\b\b\b\b\b\b\b\b\b\b\b\b\b\b\b\b\b\b\b\b\b\b\b\b\b\b\b\b\b\b\b\b\b\b\b\b\b\b\b\b\b\b\b\b\b\b\b 59% 103 - subset0/1.3.6.1.4.1.14519.5.2 . 48927038333190233889983845.raw\b\b\b\b\b\b\b\b\b\b\b\b\b\b\b\b\b\b\b\b\b\b\b\b\b\b\b\b\b\b\b\b\b\b\b\b\b\b\b\b\b\b\b\b\b\b\b\b\b\b\b\b\b\b\b\b\b\b\b\b\b\b\b\b\b\b\b\b\b\b\b\b\b                                                                         \b\b\b\b\b\b\b\b\b\b\b\b\b\b\b\b\b\b\b\b\b\b\b\b\b\b\b\b\b\b\b\b\b\b\b\b\b\b\b\b\b\b\b\b\b\b\b\b\b\b\b\b\b\b\b\b\b\b\b\b\b\b\b\b\b\b\b\b\b\b\b\b\b 59% 104\b\b\b\b\b\b\b\b        \b\b\b\b\b\b\b\b 59% 105 - subset0/1.3.6.1.4.1.14519.5.2 . 26494937915759224334597176.raw\b\b\b\b\b\b\b\b\b\b\b\b\b\b\b\b\b\b\b\b\b\b\b\b\b\b\b\b\b\b\b\b\b\b\b\b\b\b\b\b\b\b\b\b\b\b\b\b\b\b\b\b\b\b\b\b\b\b\b\b\b\b\b\b\b\b\b\b\b\b\b\b\b                                                                         \b\b\b\b\b\b\b\b\b\b\b\b\b\b\b\b\b\b\b\b\b\b\b\b\b\b\b\b\b\b\b\b\b\b\b\b\b\b\b\b\b\b\b\b\b\b\b\b\b\b\b\b\b\b\b\b\b\b\b\b\b\b\b\b\b\b\b\b\b\b\b\b\b 59% 106\b\b\b\b\b\b\b\b        \b\b\b\b\b\b\b\b 59% 107 - subset0/1.3.6.1.4.1.14519.5.2 . 81398931043315779172047718.raw\b\b\b\b\b\b\b\b\b\b\b\b\b\b\b\b\b\b\b\b\b\b\b\b\b\b\b\b\b\b\b\b\b\b\b\b\b\b\b\b\b\b\b\b\b\b\b\b\b\b\b\b\b\b\b\b\b\b\b\b\b\b\b\b\b\b\b\b\b\b\b\b\b                                                                         \b\b\b\b\b\b\b\b\b\b\b\b\b\b\b\b\b\b\b\b\b\b\b\b\b\b\b\b\b\b\b\b\b\b\b\b\b\b\b\b\b\b\b\b\b\b\b\b\b\b\b\b\b\b\b\b\b\b\b\b\b\b\b\b\b\b\b\b\b\b\b\b\b 60% 107 - subset0/1.3.6.1.4.1.14519.5.2 . 81398931043315779172047718.raw\b\b\b\b\b\b\b\b\b\b\b\b\b\b\b\b\b\b\b\b\b\b\b\b\b\b\b\b\b\b\b\b\b\b\b\b\b\b\b\b\b\b\b\b\b\b\b\b\b\b\b\b\b\b\b\b\b\b\b\b\b\b\b\b\b\b\b\b\b\b\b\b\b                                                                         \b\b\b\b\b\b\b\b\b\b\b\b\b\b\b\b\b\b\b\b\b\b\b\b\b\b\b\b\b\b\b\b\b\b\b\b\b\b\b\b\b\b\b\b\b\b\b\b\b\b\b\b\b\b\b\b\b\b\b\b\b\b\b\b\b\b\b\b\b\b\b\b\b 60% 108\b\b\b\b\b\b\b\b        \b\b\b\b\b\b\b\b 60% 109 - subset0/1.3.6.1.4.1.14519.5.2 . 34055029671473836954456733.raw\b\b\b\b\b\b\b\b\b\b\b\b\b\b\b\b\b\b\b\b\b\b\b\b\b\b\b\b\b\b\b\b\b\b\b\b\b\b\b\b\b\b\b\b\b\b\b\b\b\b\b\b\b\b\b\b\b\b\b\b\b\b\b\b\b\b\b\b\b\b\b\b\b                                                                         \b\b\b\b\b\b\b\b\b\b\b\b\b\b\b\b\b\b\b\b\b\b\b\b\b\b\b\b\b\b\b\b\b\b\b\b\b\b\b\b\b\b\b\b\b\b\b\b\b\b\b\b\b\b\b\b\b\b\b\b\b\b\b\b\b\b\b\b\b\b\b\b\b 60% 110\b\b\b\b\b\b\b\b        \b\b\b\b\b\b\b\b 61% 111 - subset0/1.3.6.1.4.1.14519.5.2 . 05260055394498989743099991.raw\b\b\b\b\b\b\b\b\b\b\b\b\b\b\b\b\b\b\b\b\b\b\b\b\b\b\b\b\b\b\b\b\b\b\b\b\b\b\b\b\b\b\b\b\b\b\b\b\b\b\b\b\b\b\b\b\b\b\b\b\b\b\b\b\b\b\b\b\b\b\b\b\b                                                                         \b\b\b\b\b\b\b\b\b\b\b\b\b\b\b\b\b\b\b\b\b\b\b\b\b\b\b\b\b\b\b\b\b\b\b\b\b\b\b\b\b\b\b\b\b\b\b\b\b\b\b\b\b\b\b\b\b\b\b\b\b\b\b\b\b\b\b\b\b\b\b\b\b 61% 112\b\b\b\b\b\b\b\b        \b\b\b\b\b\b\b\b 61% 113 - subset0/1.3.6.1.4.1.14519.5.2 . 35996725364342034830119490.raw\b\b\b\b\b\b\b\b\b\b\b\b\b\b\b\b\b\b\b\b\b\b\b\b\b\b\b\b\b\b\b\b\b\b\b\b\b\b\b\b\b\b\b\b\b\b\b\b\b\b\b\b\b\b\b\b\b\b\b\b\b\b\b\b\b\b\b\b\b\b\b\b\b                                                                         \b\b\b\b\b\b\b\b\b\b\b\b\b\b\b\b\b\b\b\b\b\b\b\b\b\b\b\b\b\b\b\b\b\b\b\b\b\b\b\b\b\b\b\b\b\b\b\b\b\b\b\b\b\b\b\b\b\b\b\b\b\b\b\b\b\b\b\b\b\b\b\b\b 62% 113 - subset0/1.3.6.1.4.1.14519.5.2 . 35996725364342034830119490.raw\b\b\b\b\b\b\b\b\b\b\b\b\b\b\b\b\b\b\b\b\b\b\b\b\b\b\b\b\b\b\b\b\b\b\b\b\b\b\b\b\b\b\b\b\b\b\b\b\b\b\b\b\b\b\b\b\b\b\b\b\b\b\b\b\b\b\b\b\b\b\b\b\b                                                                         \b\b\b\b\b\b\b\b\b\b\b\b\b\b\b\b\b\b\b\b\b\b\b\b\b\b\b\b\b\b\b\b\b\b\b\b\b\b\b\b\b\b\b\b\b\b\b\b\b\b\b\b\b\b\b\b\b\b\b\b\b\b\b\b\b\b\b\b\b\b\b\b\b 63% 113 - subset0/1.3.6.1.4.1.14519.5.2 . 35996725364342034830119490.raw\b\b\b\b\b\b\b\b\b\b\b\b\b\b\b\b\b\b\b\b\b\b\b\b\b\b\b\b\b\b\b\b\b\b\b\b\b\b\b\b\b\b\b\b\b\b\b\b\b\b\b\b\b\b\b\b\b\b\b\b\b\b\b\b\b\b\b\b\b\b\b\b\b                                                                         \b\b\b\b\b\b\b\b\b\b\b\b\b\b\b\b\b\b\b\b\b\b\b\b\b\b\b\b\b\b\b\b\b\b\b\b\b\b\b\b\b\b\b\b\b\b\b\b\b\b\b\b\b\b\b\b\b\b\b\b\b\b\b\b\b\b\b\b\b\b\b\b\b 63% 114\b\b\b\b\b\b\b\b        \b\b\b\b\b\b\b\b 63% 115 - subset0/1.3.6.1.4.1.14519.5.2 . 87518531899043292346860596.raw\b\b\b\b\b\b\b\b\b\b\b\b\b\b\b\b\b\b\b\b\b\b\b\b\b\b\b\b\b\b\b\b\b\b\b\b\b\b\b\b\b\b\b\b\b\b\b\b\b\b\b\b\b\b\b\b\b\b\b\b\b\b\b\b\b\b\b\b\b\b\b\b\b                                                                         \b\b\b\b\b\b\b\b\b\b\b\b\b\b\b\b\b\b\b\b\b\b\b\b\b\b\b\b\b\b\b\b\b\b\b\b\b\b\b\b\b\b\b\b\b\b\b\b\b\b\b\b\b\b\b\b\b\b\b\b\b\b\b\b\b\b\b\b\b\b\b\b\b 64% 115 - subset0/1.3.6.1.4.1.14519.5.2 . 87518531899043292346860596.raw\b\b\b\b\b\b\b\b\b\b\b\b\b\b\b\b\b\b\b\b\b\b\b\b\b\b\b\b\b\b\b\b\b\b\b\b\b\b\b\b\b\b\b\b\b\b\b\b\b\b\b\b\b\b\b\b\b\b\b\b\b\b\b\b\b\b\b\b\b\b\b\b\b                                                                         \b\b\b\b\b\b\b\b\b\b\b\b\b\b\b\b\b\b\b\b\b\b\b\b\b\b\b\b\b\b\b\b\b\b\b\b\b\b\b\b\b\b\b\b\b\b\b\b\b\b\b\b\b\b\b\b\b\b\b\b\b\b\b\b\b\b\b\b\b\b\b\b\b 65% 115 - subset0/1.3.6.1.4.1.14519.5.2 . 87518531899043292346860596.raw\b\b\b\b\b\b\b\b\b\b\b\b\b\b\b\b\b\b\b\b\b\b\b\b\b\b\b\b\b\b\b\b\b\b\b\b\b\b\b\b\b\b\b\b\b\b\b\b\b\b\b\b\b\b\b\b\b\b\b\b\b\b\b\b\b\b\b\b\b\b\b\b\b                                                                         \b\b\b\b\b\b\b\b\b\b\b\b\b\b\b\b\b\b\b\b\b\b\b\b\b\b\b\b\b\b\b\b\b\b\b\b\b\b\b\b\b\b\b\b\b\b\b\b\b\b\b\b\b\b\b\b\b\b\b\b\b\b\b\b\b\b\b\b\b\b\b\b\b 65% 116\b\b\b\b\b\b\b\b        \b\b\b\b\b\b\b\b 65% 117 - subset0/1.3.6.1.4.1.14519.5.2 . 02986710576400812869264321.raw\b\b\b\b\b\b\b\b\b\b\b\b\b\b\b\b\b\b\b\b\b\b\b\b\b\b\b\b\b\b\b\b\b\b\b\b\b\b\b\b\b\b\b\b\b\b\b\b\b\b\b\b\b\b\b\b\b\b\b\b\b\b\b\b\b\b\b\b\b\b\b\b\b                                                                         \b\b\b\b\b\b\b\b\b\b\b\b\b\b\b\b\b\b\b\b\b\b\b\b\b\b\b\b\b\b\b\b\b\b\b\b\b\b\b\b\b\b\b\b\b\b\b\b\b\b\b\b\b\b\b\b\b\b\b\b\b\b\b\b\b\b\b\b\b\b\b\b\b 66% 117 - subset0/1.3.6.1.4.1.14519.5.2 . 02986710576400812869264321.raw\b\b\b\b\b\b\b\b\b\b\b\b\b\b\b\b\b\b\b\b\b\b\b\b\b\b\b\b\b\b\b\b\b\b\b\b\b\b\b\b\b\b\b\b\b\b\b\b\b\b\b\b\b\b\b\b\b\b\b\b\b\b\b\b\b\b\b\b\b\b\b\b\b                                                                         \b\b\b\b\b\b\b\b\b\b\b\b\b\b\b\b\b\b\b\b\b\b\b\b\b\b\b\b\b\b\b\b\b\b\b\b\b\b\b\b\b\b\b\b\b\b\b\b\b\b\b\b\b\b\b\b\b\b\b\b\b\b\b\b\b\b\b\b\b\b\b\b\b 66% 118\b\b\b\b\b\b\b\b        \b\b\b\b\b\b\b\b 66% 119 - subset0/1.3.6.1.4.1.14519.5.2 . 59712968543712594665815359.raw\b\b\b\b\b\b\b\b\b\b\b\b\b\b\b\b\b\b\b\b\b\b\b\b\b\b\b\b\b\b\b\b\b\b\b\b\b\b\b\b\b\b\b\b\b\b\b\b\b\b\b\b\b\b\b\b\b\b\b\b\b\b\b\b\b\b\b\b\b\b\b\b\b                                                                         \b\b\b\b\b\b\b\b\b\b\b\b\b\b\b\b\b\b\b\b\b\b\b\b\b\b\b\b\b\b\b\b\b\b\b\b\b\b\b\b\b\b\b\b\b\b\b\b\b\b\b\b\b\b\b\b\b\b\b\b\b\b\b\b\b\b\b\b\b\b\b\b\b 67% 119 - subset0/1.3.6.1.4.1.14519.5.2 . 59712968543712594665815359.raw\b\b\b\b\b\b\b\b\b\b\b\b\b\b\b\b\b\b\b\b\b\b\b\b\b\b\b\b\b\b\b\b\b\b\b\b\b\b\b\b\b\b\b\b\b\b\b\b\b\b\b\b\b\b\b\b\b\b\b\b\b\b\b\b\b\b\b\b\b\b\b\b\b                                                                         \b\b\b\b\b\b\b\b\b\b\b\b\b\b\b\b\b\b\b\b\b\b\b\b\b\b\b\b\b\b\b\b\b\b\b\b\b\b\b\b\b\b\b\b\b\b\b\b\b\b\b\b\b\b\b\b\b\b\b\b\b\b\b\b\b\b\b\b\b\b\b\b\b 67% 120\b\b\b\b\b\b\b\b        \b\b\b\b\b\b\b\b 67% 121 - subset0/1.3.6.1.4.1.14519.5.2 . 53873575389860371315979768.raw\b\b\b\b\b\b\b\b\b\b\b\b\b\b\b\b\b\b\b\b\b\b\b\b\b\b\b\b\b\b\b\b\b\b\b\b\b\b\b\b\b\b\b\b\b\b\b\b\b\b\b\b\b\b\b\b\b\b\b\b\b\b\b\b\b\b\b\b\b\b\b\b\b                                                                         \b\b\b\b\b\b\b\b\b\b\b\b\b\b\b\b\b\b\b\b\b\b\b\b\b\b\b\b\b\b\b\b\b\b\b\b\b\b\b\b\b\b\b\b\b\b\b\b\b\b\b\b\b\b\b\b\b\b\b\b\b\b\b\b\b\b\b\b\b\b\b\b\b 68% 121 - subset0/1.3.6.1.4.1.14519.5.2 . 53873575389860371315979768.raw\b\b\b\b\b\b\b\b\b\b\b\b\b\b\b\b\b\b\b\b\b\b\b\b\b\b\b\b\b\b\b\b\b\b\b\b\b\b\b\b\b\b\b\b\b\b\b\b\b\b\b\b\b\b\b\b\b\b\b\b\b\b\b\b\b\b\b\b\b\b\b\b\b                                                                         \b\b\b\b\b\b\b\b\b\b\b\b\b\b\b\b\b\b\b\b\b\b\b\b\b\b\b\b\b\b\b\b\b\b\b\b\b\b\b\b\b\b\b\b\b\b\b\b\b\b\b\b\b\b\b\b\b\b\b\b\b\b\b\b\b\b\b\b\b\b\b\b\b 68% 122\b\b\b\b\b\b\b\b        \b\b\b\b\b\b\b\b 68% 123 - subset0/1.3.6.1.4.1.14519.5.2 . 45094436144085379032922488.raw\b\b\b\b\b\b\b\b\b\b\b\b\b\b\b\b\b\b\b\b\b\b\b\b\b\b\b\b\b\b\b\b\b\b\b\b\b\b\b\b\b\b\b\b\b\b\b\b\b\b\b\b\b\b\b\b\b\b\b\b\b\b\b\b\b\b\b\b\b\b\b\b\b                                                                         \b\b\b\b\b\b\b\b\b\b\b\b\b\b\b\b\b\b\b\b\b\b\b\b\b\b\b\b\b\b\b\b\b\b\b\b\b\b\b\b\b\b\b\b\b\b\b\b\b\b\b\b\b\b\b\b\b\b\b\b\b\b\b\b\b\b\b\b\b\b\b\b\b 68% 124\b\b\b\b\b\b\b\b        \b\b\b\b\b\b\b\b 69% 125 - subset0/1.3.6.1.4.1.14519.5.2 . 17907433161353885866806005.raw\b\b\b\b\b\b\b\b\b\b\b\b\b\b\b\b\b\b\b\b\b\b\b\b\b\b\b\b\b\b\b\b\b\b\b\b\b\b\b\b\b\b\b\b\b\b\b\b\b\b\b\b\b\b\b\b\b\b\b\b\b\b\b\b\b\b\b\b\b\b\b\b\b                                                                         \b\b\b\b\b\b\b\b\b\b\b\b\b\b\b\b\b\b\b\b\b\b\b\b\b\b\b\b\b\b\b\b\b\b\b\b\b\b\b\b\b\b\b\b\b\b\b\b\b\b\b\b\b\b\b\b\b\b\b\b\b\b\b\b\b\b\b\b\b\b\b\b\b 70% 125 - subset0/1.3.6.1.4.1.14519.5.2 . 17907433161353885866806005.raw\b\b\b\b\b\b\b\b\b\b\b\b\b\b\b\b\b\b\b\b\b\b\b\b\b\b\b\b\b\b\b\b\b\b\b\b\b\b\b\b\b\b\b\b\b\b\b\b\b\b\b\b\b\b\b\b\b\b\b\b\b\b\b\b\b\b\b\b\b\b\b\b\b                                                                         \b\b\b\b\b\b\b\b\b\b\b\b\b\b\b\b\b\b\b\b\b\b\b\b\b\b\b\b\b\b\b\b\b\b\b\b\b\b\b\b\b\b\b\b\b\b\b\b\b\b\b\b\b\b\b\b\b\b\b\b\b\b\b\b\b\b\b\b\b\b\b\b\b 70% 126\b\b\b\b\b\b\b\b        \b\b\b\b\b\b\b\b 70% 127 - subset0/1.3.6.1.4.1.14519.5.2 . 23571499047043765181005112.raw\b\b\b\b\b\b\b\b\b\b\b\b\b\b\b\b\b\b\b\b\b\b\b\b\b\b\b\b\b\b\b\b\b\b\b\b\b\b\b\b\b\b\b\b\b\b\b\b\b\b\b\b\b\b\b\b\b\b\b\b\b\b\b\b\b\b\b\b\b\b\b\b\b                                                                         \b\b\b\b\b\b\b\b\b\b\b\b\b\b\b\b\b\b\b\b\b\b\b\b\b\b\b\b\b\b\b\b\b\b\b\b\b\b\b\b\b\b\b\b\b\b\b\b\b\b\b\b\b\b\b\b\b\b\b\b\b\b\b\b\b\b\b\b\b\b\b\b\b 70% 128\b\b\b\b\b\b\b\b        \b\b\b\b\b\b\b\b 70% 129 - subset0/1.3.6.1.4.1.14519.5.2 . 62004302272014259317520874.raw\b\b\b\b\b\b\b\b\b\b\b\b\b\b\b\b\b\b\b\b\b\b\b\b\b\b\b\b\b\b\b\b\b\b\b\b\b\b\b\b\b\b\b\b\b\b\b\b\b\b\b\b\b\b\b\b\b\b\b\b\b\b\b\b\b\b\b\b\b\b\b\b\b                                                                         \b\b\b\b\b\b\b\b\b\b\b\b\b\b\b\b\b\b\b\b\b\b\b\b\b\b\b\b\b\b\b\b\b\b\b\b\b\b\b\b\b\b\b\b\b\b\b\b\b\b\b\b\b\b\b\b\b\b\b\b\b\b\b\b\b\b\b\b\b\b\b\b\b 71% 129 - subset0/1.3.6.1.4.1.14519.5.2 . 62004302272014259317520874.raw\b\b\b\b\b\b\b\b\b\b\b\b\b\b\b\b\b\b\b\b\b\b\b\b\b\b\b\b\b\b\b\b\b\b\b\b\b\b\b\b\b\b\b\b\b\b\b\b\b\b\b\b\b\b\b\b\b\b\b\b\b\b\b\b\b\b\b\b\b\b\b\b\b                                                                         \b\b\b\b\b\b\b\b\b\b\b\b\b\b\b\b\b\b\b\b\b\b\b\b\b\b\b\b\b\b\b\b\b\b\b\b\b\b\b\b\b\b\b\b\b\b\b\b\b\b\b\b\b\b\b\b\b\b\b\b\b\b\b\b\b\b\b\b\b\b\b\b\b 72% 129 - subset0/1.3.6.1.4.1.14519.5.2 . 62004302272014259317520874.raw\b\b\b\b\b\b\b\b\b\b\b\b\b\b\b\b\b\b\b\b\b\b\b\b\b\b\b\b\b\b\b\b\b\b\b\b\b\b\b\b\b\b\b\b\b\b\b\b\b\b\b\b\b\b\b\b\b\b\b\b\b\b\b\b\b\b\b\b\b\b\b\b\b                                                                         \b\b\b\b\b\b\b\b\b\b\b\b\b\b\b\b\b\b\b\b\b\b\b\b\b\b\b\b\b\b\b\b\b\b\b\b\b\b\b\b\b\b\b\b\b\b\b\b\b\b\b\b\b\b\b\b\b\b\b\b\b\b\b\b\b\b\b\b\b\b\b\b\b 72% 131 - subset0/1.3.6.1.4.1.14519.5.2 . 64125369979066736354549484.raw\b\b\b\b\b\b\b\b\b\b\b\b\b\b\b\b\b\b\b\b\b\b\b\b\b\b\b\b\b\b\b\b\b\b\b\b\b\b\b\b\b\b\b\b\b\b\b\b\b\b\b\b\b\b\b\b\b\b\b\b\b\b\b\b\b\b\b\b\b\b\b\b\b                                                                         \b\b\b\b\b\b\b\b\b\b\b\b\b\b\b\b\b\b\b\b\b\b\b\b\b\b\b\b\b\b\b\b\b\b\b\b\b\b\b\b\b\b\b\b\b\b\b\b\b\b\b\b\b\b\b\b\b\b\b\b\b\b\b\b\b\b\b\b\b\b\b\b\b 72% 132\b\b\b\b\b\b\b\b        \b\b\b\b\b\b\b\b 73% 133 - subset0/1.3.6.1.4.1.14519.5.2 . 15314896088956784723476543.raw\b\b\b\b\b\b\b\b\b\b\b\b\b\b\b\b\b\b\b\b\b\b\b\b\b\b\b\b\b\b\b\b\b\b\b\b\b\b\b\b\b\b\b\b\b\b\b\b\b\b\b\b\b\b\b\b\b\b\b\b\b\b\b\b\b\b\b\b\b\b\b\b\b                                                                         \b\b\b\b\b\b\b\b\b\b\b\b\b\b\b\b\b\b\b\b\b\b\b\b\b\b\b\b\b\b\b\b\b\b\b\b\b\b\b\b\b\b\b\b\b\b\b\b\b\b\b\b\b\b\b\b\b\b\b\b\b\b\b\b\b\b\b\b\b\b\b\b\b 74% 133 - subset0/1.3.6.1.4.1.14519.5.2 . 15314896088956784723476543.raw\b\b\b\b\b\b\b\b\b\b\b\b\b\b\b\b\b\b\b\b\b\b\b\b\b\b\b\b\b\b\b\b\b\b\b\b\b\b\b\b\b\b\b\b\b\b\b\b\b\b\b\b\b\b\b\b\b\b\b\b\b\b\b\b\b\b\b\b\b\b\b\b\b                                                                         \b\b\b\b\b\b\b\b\b\b\b\b\b\b\b\b\b\b\b\b\b\b\b\b\b\b\b\b\b\b\b\b\b\b\b\b\b\b\b\b\b\b\b\b\b\b\b\b\b\b\b\b\b\b\b\b\b\b\b\b\b\b\b\b\b\b\b\b\b\b\b\b\b 74% 134\b\b\b\b\b\b\b\b        \b\b\b\b\b\b\b\b 74% 135 - subset0/1.3.6.1.4.1.14519.5.2 . 09407146633213496148200410.raw\b\b\b\b\b\b\b\b\b\b\b\b\b\b\b\b\b\b\b\b\b\b\b\b\b\b\b\b\b\b\b\b\b\b\b\b\b\b\b\b\b\b\b\b\b\b\b\b\b\b\b\b\b\b\b\b\b\b\b\b\b\b\b\b\b\b\b\b\b\b\b\b\b                                                                         \b\b\b\b\b\b\b\b\b\b\b\b\b\b\b\b\b\b\b\b\b\b\b\b\b\b\b\b\b\b\b\b\b\b\b\b\b\b\b\b\b\b\b\b\b\b\b\b\b\b\b\b\b\b\b\b\b\b\b\b\b\b\b\b\b\b\b\b\b\b\b\b\b 75% 135 - subset0/1.3.6.1.4.1.14519.5.2 . 09407146633213496148200410.raw\b\b\b\b\b\b\b\b\b\b\b\b\b\b\b\b\b\b\b\b\b\b\b\b\b\b\b\b\b\b\b\b\b\b\b\b\b\b\b\b\b\b\b\b\b\b\b\b\b\b\b\b\b\b\b\b\b\b\b\b\b\b\b\b\b\b\b\b\b\b\b\b\b                                                                         \b\b\b\b\b\b\b\b\b\b\b\b\b\b\b\b\b\b\b\b\b\b\b\b\b\b\b\b\b\b\b\b\b\b\b\b\b\b\b\b\b\b\b\b\b\b\b\b\b\b\b\b\b\b\b\b\b\b\b\b\b\b\b\b\b\b\b\b\b\b\b\b\b 76% 135 - subset0/1.3.6.1.4.1.14519.5.2 . 09407146633213496148200410.raw\b\b\b\b\b\b\b\b\b\b\b\b\b\b\b\b\b\b\b\b\b\b\b\b\b\b\b\b\b\b\b\b\b\b\b\b\b\b\b\b\b\b\b\b\b\b\b\b\b\b\b\b\b\b\b\b\b\b\b\b\b\b\b\b\b\b\b\b\b\b\b\b\b                                                                         \b\b\b\b\b\b\b\b\b\b\b\b\b\b\b\b\b\b\b\b\b\b\b\b\b\b\b\b\b\b\b\b\b\b\b\b\b\b\b\b\b\b\b\b\b\b\b\b\b\b\b\b\b\b\b\b\b\b\b\b\b\b\b\b\b\b\b\b\b\b\b\b\b 77% 135 - subset0/1.3.6.1.4.1.14519.5.2 . 09407146633213496148200410.raw\b\b\b\b\b\b\b\b\b\b\b\b\b\b\b\b\b\b\b\b\b\b\b\b\b\b\b\b\b\b\b\b\b\b\b\b\b\b\b\b\b\b\b\b\b\b\b\b\b\b\b\b\b\b\b\b\b\b\b\b\b\b\b\b\b\b\b\b\b\b\b\b\b                                                                         \b\b\b\b\b\b\b\b\b\b\b\b\b\b\b\b\b\b\b\b\b\b\b\b\b\b\b\b\b\b\b\b\b\b\b\b\b\b\b\b\b\b\b\b\b\b\b\b\b\b\b\b\b\b\b\b\b\b\b\b\b\b\b\b\b\b\b\b\b\b\b\b\b 77% 136\b\b\b\b\b\b\b\b        \b\b\b\b\b\b\b\b 77% 137 - subset0/1.3.6.1.4.1.14519.5.2 . 01966058662668272378865145.raw\b\b\b\b\b\b\b\b\b\b\b\b\b\b\b\b\b\b\b\b\b\b\b\b\b\b\b\b\b\b\b\b\b\b\b\b\b\b\b\b\b\b\b\b\b\b\b\b\b\b\b\b\b\b\b\b\b\b\b\b\b\b\b\b\b\b\b\b\b\b\b\b\b                                                                         \b\b\b\b\b\b\b\b\b\b\b\b\b\b\b\b\b\b\b\b\b\b\b\b\b\b\b\b\b\b\b\b\b\b\b\b\b\b\b\b\b\b\b\b\b\b\b\b\b\b\b\b\b\b\b\b\b\b\b\b\b\b\b\b\b\b\b\b\b\b\b\b\b 77% 138\b\b\b\b\b\b\b\b        \b\b\b\b\b\b\b\b 78% 139 - subset0/1.3.6.1.4.1.14519.5.2 . 47030803753100045216493273.raw\b\b\b\b\b\b\b\b\b\b\b\b\b\b\b\b\b\b\b\b\b\b\b\b\b\b\b\b\b\b\b\b\b\b\b\b\b\b\b\b\b\b\b\b\b\b\b\b\b\b\b\b\b\b\b\b\b\b\b\b\b\b\b\b\b\b\b\b\b\b\b\b\b                                                                         \b\b\b\b\b\b\b\b\b\b\b\b\b\b\b\b\b\b\b\b\b\b\b\b\b\b\b\b\b\b\b\b\b\b\b\b\b\b\b\b\b\b\b\b\b\b\b\b\b\b\b\b\b\b\b\b\b\b\b\b\b\b\b\b\b\b\b\b\b\b\b\b\b 78% 140\b\b\b\b\b\b\b\b        \b\b\b\b\b\b\b\b 78% 141 - subset0/1.3.6.1.4.1.14519.5.2 . 37963993475482158828421281.raw\b\b\b\b\b\b\b\b\b\b\b\b\b\b\b\b\b\b\b\b\b\b\b\b\b\b\b\b\b\b\b\b\b\b\b\b\b\b\b\b\b\b\b\b\b\b\b\b\b\b\b\b\b\b\b\b\b\b\b\b\b\b\b\b\b\b\b\b\b\b\b\b\b                                                                         \b\b\b\b\b\b\b\b\b\b\b\b\b\b\b\b\b\b\b\b\b\b\b\b\b\b\b\b\b\b\b\b\b\b\b\b\b\b\b\b\b\b\b\b\b\b\b\b\b\b\b\b\b\b\b\b\b\b\b\b\b\b\b\b\b\b\b\b\b\b\b\b\b 79% 141 - subset0/1.3.6.1.4.1.14519.5.2 . 37963993475482158828421281.raw\b\b\b\b\b\b\b\b\b\b\b\b\b\b\b\b\b\b\b\b\b\b\b\b\b\b\b\b\b\b\b\b\b\b\b\b\b\b\b\b\b\b\b\b\b\b\b\b\b\b\b\b\b\b\b\b\b\b\b\b\b\b\b\b\b\b\b\b\b\b\b\b\b                                                                         \b\b\b\b\b\b\b\b\b\b\b\b\b\b\b\b\b\b\b\b\b\b\b\b\b\b\b\b\b\b\b\b\b\b\b\b\b\b\b\b\b\b\b\b\b\b\b\b\b\b\b\b\b\b\b\b\b\b\b\b\b\b\b\b\b\b\b\b\b\b\b\b\b 80% 141 - subset0/1.3.6.1.4.1.14519.5.2 . 37963993475482158828421281.raw\b\b\b\b\b\b\b\b\b\b\b\b\b\b\b\b\b\b\b\b\b\b\b\b\b\b\b\b\b\b\b\b\b\b\b\b\b\b\b\b\b\b\b\b\b\b\b\b\b\b\b\b\b\b\b\b\b\b\b\b\b\b\b\b\b\b\b\b\b\b\b\b\b                                                                         \b\b\b\b\b\b\b\b\b\b\b\b\b\b\b\b\b\b\b\b\b\b\b\b\b\b\b\b\b\b\b\b\b\b\b\b\b\b\b\b\b\b\b\b\b\b\b\b\b\b\b\b\b\b\b\b\b\b\b\b\b\b\b\b\b\b\b\b\b\b\b\b\b 80% 142\b\b\b\b\b\b\b\b        \b\b\b\b\b\b\b\b 80% 143 - subset0/1.3.6.1.4.1.14519.5.2 . 06575256943390479252771547.raw\b\b\b\b\b\b\b\b\b\b\b\b\b\b\b\b\b\b\b\b\b\b\b\b\b\b\b\b\b\b\b\b\b\b\b\b\b\b\b\b\b\b\b\b\b\b\b\b\b\b\b\b\b\b\b\b\b\b\b\b\b\b\b\b\b\b\b\b\b\b\b\b\b                                                                         \b\b\b\b\b\b\b\b\b\b\b\b\b\b\b\b\b\b\b\b\b\b\b\b\b\b\b\b\b\b\b\b\b\b\b\b\b\b\b\b\b\b\b\b\b\b\b\b\b\b\b\b\b\b\b\b\b\b\b\b\b\b\b\b\b\b\b\b\b\b\b\b\b 81% 143 - subset0/1.3.6.1.4.1.14519.5.2 . 06575256943390479252771547.raw\b\b\b\b\b\b\b\b\b\b\b\b\b\b\b\b\b\b\b\b\b\b\b\b\b\b\b\b\b\b\b\b\b\b\b\b\b\b\b\b\b\b\b\b\b\b\b\b\b\b\b\b\b\b\b\b\b\b\b\b\b\b\b\b\b\b\b\b\b\b\b\b\b                                                                         \b\b\b\b\b\b\b\b\b\b\b\b\b\b\b\b\b\b\b\b\b\b\b\b\b\b\b\b\b\b\b\b\b\b\b\b\b\b\b\b\b\b\b\b\b\b\b\b\b\b\b\b\b\b\b\b\b\b\b\b\b\b\b\b\b\b\b\b\b\b\b\b\b 82% 143 - subset0/1.3.6.1.4.1.14519.5.2 . 06575256943390479252771547.raw\b\b\b\b\b\b\b\b\b\b\b\b\b\b\b\b\b\b\b\b\b\b\b\b\b\b\b\b\b\b\b\b\b\b\b\b\b\b\b\b\b\b\b\b\b\b\b\b\b\b\b\b\b\b\b\b\b\b\b\b\b\b\b\b\b\b\b\b\b\b\b\b\b                                                                         \b\b\b\b\b\b\b\b\b\b\b\b\b\b\b\b\b\b\b\b\b\b\b\b\b\b\b\b\b\b\b\b\b\b\b\b\b\b\b\b\b\b\b\b\b\b\b\b\b\b\b\b\b\b\b\b\b\b\b\b\b\b\b\b\b\b\b\b\b\b\b\b\b 83% 143 - subset0/1.3.6.1.4.1.14519.5.2 . 06575256943390479252771547.raw\b\b\b\b\b\b\b\b\b\b\b\b\b\b\b\b\b\b\b\b\b\b\b\b\b\b\b\b\b\b\b\b\b\b\b\b\b\b\b\b\b\b\b\b\b\b\b\b\b\b\b\b\b\b\b\b\b\b\b\b\b\b\b\b\b\b\b\b\b\b\b\b\b                                                                         \b\b\b\b\b\b\b\b\b\b\b\b\b\b\b\b\b\b\b\b\b\b\b\b\b\b\b\b\b\b\b\b\b\b\b\b\b\b\b\b\b\b\b\b\b\b\b\b\b\b\b\b\b\b\b\b\b\b\b\b\b\b\b\b\b\b\b\b\b\b\b\b\b 83% 144 - subset0/1.3.6.1.4.1.14519.5.2 . 83630500464995109143618896.mhd\b\b\b\b\b\b\b\b\b\b\b\b\b\b\b\b\b\b\b\b\b\b\b\b\b\b\b\b\b\b\b\b\b\b\b\b\b\b\b\b\b\b\b\b\b\b\b\b\b\b\b\b\b\b\b\b\b\b\b\b\b\b\b\b\b\b\b\b\b\b\b\b\b                                                                         \b\b\b\b\b\b\b\b\b\b\b\b\b\b\b\b\b\b\b\b\b\b\b\b\b\b\b\b\b\b\b\b\b\b\b\b\b\b\b\b\b\b\b\b\b\b\b\b\b\b\b\b\b\b\b\b\b\b\b\b\b\b\b\b\b\b\b\b\b\b\b\b\b 83% 145 - subset0/1.3.6.1.4.1.14519.5.2 . 83630500464995109143618896.raw\b\b\b\b\b\b\b\b\b\b\b\b\b\b\b\b\b\b\b\b\b\b\b\b\b\b\b\b\b\b\b\b\b\b\b\b\b\b\b\b\b\b\b\b\b\b\b\b\b\b\b\b\b\b\b\b\b\b\b\b\b\b\b\b\b\b\b\b\b\b\b\b\b                                                                         \b\b\b\b\b\b\b\b\b\b\b\b\b\b\b\b\b\b\b\b\b\b\b\b\b\b\b\b\b\b\b\b\b\b\b\b\b\b\b\b\b\b\b\b\b\b\b\b\b\b\b\b\b\b\b\b\b\b\b\b\b\b\b\b\b\b\b\b\b\b\b\b\b 84% 145 - subset0/1.3.6.1.4.1.14519.5.2 . 83630500464995109143618896.raw\b\b\b\b\b\b\b\b\b\b\b\b\b\b\b\b\b\b\b\b\b\b\b\b\b\b\b\b\b\b\b\b\b\b\b\b\b\b\b\b\b\b\b\b\b\b\b\b\b\b\b\b\b\b\b\b\b\b\b\b\b\b\b\b\b\b\b\b\b\b\b\b\b                                                                         \b\b\b\b\b\b\b\b\b\b\b\b\b\b\b\b\b\b\b\b\b\b\b\b\b\b\b\b\b\b\b\b\b\b\b\b\b\b\b\b\b\b\b\b\b\b\b\b\b\b\b\b\b\b\b\b\b\b\b\b\b\b\b\b\b\b\b\b\b\b\b\b\b 84% 147 - subset0/1.3.6.1.4.1.14519.5.2 . 34197011295112247542153557.raw\b\b\b\b\b\b\b\b\b\b\b\b\b\b\b\b\b\b\b\b\b\b\b\b\b\b\b\b\b\b\b\b\b\b\b\b\b\b\b\b\b\b\b\b\b\b\b\b\b\b\b\b\b\b\b\b\b\b\b\b\b\b\b\b\b\b\b\b\b\b\b\b\b                                                                         \b\b\b\b\b\b\b\b\b\b\b\b\b\b\b\b\b\b\b\b\b\b\b\b\b\b\b\b\b\b\b\b\b\b\b\b\b\b\b\b\b\b\b\b\b\b\b\b\b\b\b\b\b\b\b\b\b\b\b\b\b\b\b\b\b\b\b\b\b\b\b\b\b 85% 147 - subset0/1.3.6.1.4.1.14519.5.2 . 34197011295112247542153557.raw\b\b\b\b\b\b\b\b\b\b\b\b\b\b\b\b\b\b\b\b\b\b\b\b\b\b\b\b\b\b\b\b\b\b\b\b\b\b\b\b\b\b\b\b\b\b\b\b\b\b\b\b\b\b\b\b\b\b\b\b\b\b\b\b\b\b\b\b\b\b\b\b\b                                                                         \b\b\b\b\b\b\b\b\b\b\b\b\b\b\b\b\b\b\b\b\b\b\b\b\b\b\b\b\b\b\b\b\b\b\b\b\b\b\b\b\b\b\b\b\b\b\b\b\b\b\b\b\b\b\b\b\b\b\b\b\b\b\b\b\b\b\b\b\b\b\b\b\b 85% 148\b\b\b\b\b\b\b\b        \b\b\b\b\b\b\b\b 85% 149 - subset0/1.3.6.1.4.1.14519.5.2 . 16709786169715745131047975.raw\b\b\b\b\b\b\b\b\b\b\b\b\b\b\b\b\b\b\b\b\b\b\b\b\b\b\b\b\b\b\b\b\b\b\b\b\b\b\b\b\b\b\b\b\b\b\b\b\b\b\b\b\b\b\b\b\b\b\b\b\b\b\b\b\b\b\b\b\b\b\b\b\b                                                                         \b\b\b\b\b\b\b\b\b\b\b\b\b\b\b\b\b\b\b\b\b\b\b\b\b\b\b\b\b\b\b\b\b\b\b\b\b\b\b\b\b\b\b\b\b\b\b\b\b\b\b\b\b\b\b\b\b\b\b\b\b\b\b\b\b\b\b\b\b\b\b\b\b 85% 150\b\b\b\b\b\b\b\b        \b\b\b\b\b\b\b\b 86% 151 - subset0/1.3.6.1.4.1.14519.5.2 . 16089407825046337959219998.raw\b\b\b\b\b\b\b\b\b\b\b\b\b\b\b\b\b\b\b\b\b\b\b\b\b\b\b\b\b\b\b\b\b\b\b\b\b\b\b\b\b\b\b\b\b\b\b\b\b\b\b\b\b\b\b\b\b\b\b\b\b\b\b\b\b\b\b\b\b\b\b\b\b                                                                         \b\b\b\b\b\b\b\b\b\b\b\b\b\b\b\b\b\b\b\b\b\b\b\b\b\b\b\b\b\b\b\b\b\b\b\b\b\b\b\b\b\b\b\b\b\b\b\b\b\b\b\b\b\b\b\b\b\b\b\b\b\b\b\b\b\b\b\b\b\b\b\b\b 86% 152\b\b\b\b\b\b\b\b        \b\b\b\b\b\b\b\b 86% 153 - subset0/1.3.6.1.4.1.14519.5.2 . 29228179368154416184318668.raw\b\b\b\b\b\b\b\b\b\b\b\b\b\b\b\b\b\b\b\b\b\b\b\b\b\b\b\b\b\b\b\b\b\b\b\b\b\b\b\b\b\b\b\b\b\b\b\b\b\b\b\b\b\b\b\b\b\b\b\b\b\b\b\b\b\b\b\b\b\b\b\b\b                                                                         \b\b\b\b\b\b\b\b\b\b\b\b\b\b\b\b\b\b\b\b\b\b\b\b\b\b\b\b\b\b\b\b\b\b\b\b\b\b\b\b\b\b\b\b\b\b\b\b\b\b\b\b\b\b\b\b\b\b\b\b\b\b\b\b\b\b\b\b\b\b\b\b\b 87% 153 - subset0/1.3.6.1.4.1.14519.5.2 . 29228179368154416184318668.raw\b\b\b\b\b\b\b\b\b\b\b\b\b\b\b\b\b\b\b\b\b\b\b\b\b\b\b\b\b\b\b\b\b\b\b\b\b\b\b\b\b\b\b\b\b\b\b\b\b\b\b\b\b\b\b\b\b\b\b\b\b\b\b\b\b\b\b\b\b\b\b\b\b                                                                         \b\b\b\b\b\b\b\b\b\b\b\b\b\b\b\b\b\b\b\b\b\b\b\b\b\b\b\b\b\b\b\b\b\b\b\b\b\b\b\b\b\b\b\b\b\b\b\b\b\b\b\b\b\b\b\b\b\b\b\b\b\b\b\b\b\b\b\b\b\b\b\b\b 88% 153 - subset0/1.3.6.1.4.1.14519.5.2 . 29228179368154416184318668.raw\b\b\b\b\b\b\b\b\b\b\b\b\b\b\b\b\b\b\b\b\b\b\b\b\b\b\b\b\b\b\b\b\b\b\b\b\b\b\b\b\b\b\b\b\b\b\b\b\b\b\b\b\b\b\b\b\b\b\b\b\b\b\b\b\b\b\b\b\b\b\b\b\b                                                                         \b\b\b\b\b\b\b\b\b\b\b\b\b\b\b\b\b\b\b\b\b\b\b\b\b\b\b\b\b\b\b\b\b\b\b\b\b\b\b\b\b\b\b\b\b\b\b\b\b\b\b\b\b\b\b\b\b\b\b\b\b\b\b\b\b\b\b\b\b\b\b\b\b 88% 154\b\b\b\b\b\b\b\b        \b\b\b\b\b\b\b\b 88% 155 - subset0/1.3.6.1.4.1.14519.5.2 . 75098760536289051744981056.raw\b\b\b\b\b\b\b\b\b\b\b\b\b\b\b\b\b\b\b\b\b\b\b\b\b\b\b\b\b\b\b\b\b\b\b\b\b\b\b\b\b\b\b\b\b\b\b\b\b\b\b\b\b\b\b\b\b\b\b\b\b\b\b\b\b\b\b\b\b\b\b\b\b                                                                         \b\b\b\b\b\b\b\b\b\b\b\b\b\b\b\b\b\b\b\b\b\b\b\b\b\b\b\b\b\b\b\b\b\b\b\b\b\b\b\b\b\b\b\b\b\b\b\b\b\b\b\b\b\b\b\b\b\b\b\b\b\b\b\b\b\b\b\b\b\b\b\b\b 89% 155 - subset0/1.3.6.1.4.1.14519.5.2 . 75098760536289051744981056.raw\b\b\b\b\b\b\b\b\b\b\b\b\b\b\b\b\b\b\b\b\b\b\b\b\b\b\b\b\b\b\b\b\b\b\b\b\b\b\b\b\b\b\b\b\b\b\b\b\b\b\b\b\b\b\b\b\b\b\b\b\b\b\b\b\b\b\b\b\b\b\b\b\b                                                                         \b\b\b\b\b\b\b\b\b\b\b\b\b\b\b\b\b\b\b\b\b\b\b\b\b\b\b\b\b\b\b\b\b\b\b\b\b\b\b\b\b\b\b\b\b\b\b\b\b\b\b\b\b\b\b\b\b\b\b\b\b\b\b\b\b\b\b\b\b\b\b\b\b 89% 157 - subset0/1.3.6.1.4.1.14519.5.2 . 98695101447665580610403574.raw\b\b\b\b\b\b\b\b\b\b\b\b\b\b\b\b\b\b\b\b\b\b\b\b\b\b\b\b\b\b\b\b\b\b\b\b\b\b\b\b\b\b\b\b\b\b\b\b\b\b\b\b\b\b\b\b\b\b\b\b\b\b\b\b\b\b\b\b\b\b\b\b\b                                                                         \b\b\b\b\b\b\b\b\b\b\b\b\b\b\b\b\b\b\b\b\b\b\b\b\b\b\b\b\b\b\b\b\b\b\b\b\b\b\b\b\b\b\b\b\b\b\b\b\b\b\b\b\b\b\b\b\b\b\b\b\b\b\b\b\b\b\b\b\b\b\b\b\b 90% 157 - subset0/1.3.6.1.4.1.14519.5.2 . 98695101447665580610403574.raw\b\b\b\b\b\b\b\b\b\b\b\b\b\b\b\b\b\b\b\b\b\b\b\b\b\b\b\b\b\b\b\b\b\b\b\b\b\b\b\b\b\b\b\b\b\b\b\b\b\b\b\b\b\b\b\b\b\b\b\b\b\b\b\b\b\b\b\b\b\b\b\b\b                                                                         \b\b\b\b\b\b\b\b\b\b\b\b\b\b\b\b\b\b\b\b\b\b\b\b\b\b\b\b\b\b\b\b\b\b\b\b\b\b\b\b\b\b\b\b\b\b\b\b\b\b\b\b\b\b\b\b\b\b\b\b\b\b\b\b\b\b\b\b\b\b\b\b\b 90% 158\b\b\b\b\b\b\b\b        \b\b\b\b\b\b\b\b 91% 159 - subset0/1.3.6.1.4.1.14519.5.2 . 51104254976962355686318345.raw\b\b\b\b\b\b\b\b\b\b\b\b\b\b\b\b\b\b\b\b\b\b\b\b\b\b\b\b\b\b\b\b\b\b\b\b\b\b\b\b\b\b\b\b\b\b\b\b\b\b\b\b\b\b\b\b\b\b\b\b\b\b\b\b\b\b\b\b\b\b\b\b\b                                                                         \b\b\b\b\b\b\b\b\b\b\b\b\b\b\b\b\b\b\b\b\b\b\b\b\b\b\b\b\b\b\b\b\b\b\b\b\b\b\b\b\b\b\b\b\b\b\b\b\b\b\b\b\b\b\b\b\b\b\b\b\b\b\b\b\b\b\b\b\b\b\b\b\b 92% 159 - subset0/1.3.6.1.4.1.14519.5.2 . 51104254976962355686318345.raw\b\b\b\b\b\b\b\b\b\b\b\b\b\b\b\b\b\b\b\b\b\b\b\b\b\b\b\b\b\b\b\b\b\b\b\b\b\b\b\b\b\b\b\b\b\b\b\b\b\b\b\b\b\b\b\b\b\b\b\b\b\b\b\b\b\b\b\b\b\b\b\b\b                                                                         \b\b\b\b\b\b\b\b\b\b\b\b\b\b\b\b\b\b\b\b\b\b\b\b\b\b\b\b\b\b\b\b\b\b\b\b\b\b\b\b\b\b\b\b\b\b\b\b\b\b\b\b\b\b\b\b\b\b\b\b\b\b\b\b\b\b\b\b\b\b\b\b\b 92% 160\b\b\b\b\b\b\b\b        \b\b\b\b\b\b\b\b 92% 161 - subset0/1.3.6.1.4.1.14519.5.2 . 56872840730509471096155114.raw\b\b\b\b\b\b\b\b\b\b\b\b\b\b\b\b\b\b\b\b\b\b\b\b\b\b\b\b\b\b\b\b\b\b\b\b\b\b\b\b\b\b\b\b\b\b\b\b\b\b\b\b\b\b\b\b\b\b\b\b\b\b\b\b\b\b\b\b\b\b\b\b\b                                                                         \b\b\b\b\b\b\b\b\b\b\b\b\b\b\b\b\b\b\b\b\b\b\b\b\b\b\b\b\b\b\b\b\b\b\b\b\b\b\b\b\b\b\b\b\b\b\b\b\b\b\b\b\b\b\b\b\b\b\b\b\b\b\b\b\b\b\b\b\b\b\b\b\b 93% 161 - subset0/1.3.6.1.4.1.14519.5.2 . 56872840730509471096155114.raw\b\b\b\b\b\b\b\b\b\b\b\b\b\b\b\b\b\b\b\b\b\b\b\b\b\b\b\b\b\b\b\b\b\b\b\b\b\b\b\b\b\b\b\b\b\b\b\b\b\b\b\b\b\b\b\b\b\b\b\b\b\b\b\b\b\b\b\b\b\b\b\b\b                                                                         \b\b\b\b\b\b\b\b\b\b\b\b\b\b\b\b\b\b\b\b\b\b\b\b\b\b\b\b\b\b\b\b\b\b\b\b\b\b\b\b\b\b\b\b\b\b\b\b\b\b\b\b\b\b\b\b\b\b\b\b\b\b\b\b\b\b\b\b\b\b\b\b\b 93% 162\b\b\b\b\b\b\b\b        \b\b\b\b\b\b\b\b 93% 163 - subset0/1.3.6.1.4.1.14519.5.2 . 25269324902055566754756843.raw\b\b\b\b\b\b\b\b\b\b\b\b\b\b\b\b\b\b\b\b\b\b\b\b\b\b\b\b\b\b\b\b\b\b\b\b\b\b\b\b\b\b\b\b\b\b\b\b\b\b\b\b\b\b\b\b\b\b\b\b\b\b\b\b\b\b\b\b\b\b\b\b\b                                                                         \b\b\b\b\b\b\b\b\b\b\b\b\b\b\b\b\b\b\b\b\b\b\b\b\b\b\b\b\b\b\b\b\b\b\b\b\b\b\b\b\b\b\b\b\b\b\b\b\b\b\b\b\b\b\b\b\b\b\b\b\b\b\b\b\b\b\b\b\b\b\b\b\b 93% 164\b\b\b\b\b\b\b\b        \b\b\b\b\b\b\b\b 94% 165 - subset0/1.3.6.1.4.1.14519.5.2 . 12708000318290301835871780.raw\b\b\b\b\b\b\b\b\b\b\b\b\b\b\b\b\b\b\b\b\b\b\b\b\b\b\b\b\b\b\b\b\b\b\b\b\b\b\b\b\b\b\b\b\b\b\b\b\b\b\b\b\b\b\b\b\b\b\b\b\b\b\b\b\b\b\b\b\b\b\b\b\b                                                                         \b\b\b\b\b\b\b\b\b\b\b\b\b\b\b\b\b\b\b\b\b\b\b\b\b\b\b\b\b\b\b\b\b\b\b\b\b\b\b\b\b\b\b\b\b\b\b\b\b\b\b\b\b\b\b\b\b\b\b\b\b\b\b\b\b\b\b\b\b\b\b\b\b 95% 165 - subset0/1.3.6.1.4.1.14519.5.2 . 12708000318290301835871780.raw\b\b\b\b\b\b\b\b\b\b\b\b\b\b\b\b\b\b\b\b\b\b\b\b\b\b\b\b\b\b\b\b\b\b\b\b\b\b\b\b\b\b\b\b\b\b\b\b\b\b\b\b\b\b\b\b\b\b\b\b\b\b\b\b\b\b\b\b\b\b\b\b\b                                                                         \b\b\b\b\b\b\b\b\b\b\b\b\b\b\b\b\b\b\b\b\b\b\b\b\b\b\b\b\b\b\b\b\b\b\b\b\b\b\b\b\b\b\b\b\b\b\b\b\b\b\b\b\b\b\b\b\b\b\b\b\b\b\b\b\b\b\b\b\b\b\b\b\b 95% 166\b\b\b\b\b\b\b\b        \b\b\b\b\b\b\b\b 95% 167 - subset0/1.3.6.1.4.1.14519.5.2 . 60670372728970918746541371.raw\b\b\b\b\b\b\b\b\b\b\b\b\b\b\b\b\b\b\b\b\b\b\b\b\b\b\b\b\b\b\b\b\b\b\b\b\b\b\b\b\b\b\b\b\b\b\b\b\b\b\b\b\b\b\b\b\b\b\b\b\b\b\b\b\b\b\b\b\b\b\b\b\b                                                                         \b\b\b\b\b\b\b\b\b\b\b\b\b\b\b\b\b\b\b\b\b\b\b\b\b\b\b\b\b\b\b\b\b\b\b\b\b\b\b\b\b\b\b\b\b\b\b\b\b\b\b\b\b\b\b\b\b\b\b\b\b\b\b\b\b\b\b\b\b\b\b\b\b 96% 167 - subset0/1.3.6.1.4.1.14519.5.2 . 60670372728970918746541371.raw\b\b\b\b\b\b\b\b\b\b\b\b\b\b\b\b\b\b\b\b\b\b\b\b\b\b\b\b\b\b\b\b\b\b\b\b\b\b\b\b\b\b\b\b\b\b\b\b\b\b\b\b\b\b\b\b\b\b\b\b\b\b\b\b\b\b\b\b\b\b\b\b\b                                                                         \b\b\b\b\b\b\b\b\b\b\b\b\b\b\b\b\b\b\b\b\b\b\b\b\b\b\b\b\b\b\b\b\b\b\b\b\b\b\b\b\b\b\b\b\b\b\b\b\b\b\b\b\b\b\b\b\b\b\b\b\b\b\b\b\b\b\b\b\b\b\b\b\b 96% 168\b\b\b\b\b\b\b\b        \b\b\b\b\b\b\b\b 96% 169 - subset0/1.3.6.1.4.1.14519.5.2 . 11851413924881662621747734.raw\b\b\b\b\b\b\b\b\b\b\b\b\b\b\b\b\b\b\b\b\b\b\b\b\b\b\b\b\b\b\b\b\b\b\b\b\b\b\b\b\b\b\b\b\b\b\b\b\b\b\b\b\b\b\b\b\b\b\b\b\b\b\b\b\b\b\b\b\b\b\b\b\b                                                                         \b\b\b\b\b\b\b\b\b\b\b\b\b\b\b\b\b\b\b\b\b\b\b\b\b\b\b\b\b\b\b\b\b\b\b\b\b\b\b\b\b\b\b\b\b\b\b\b\b\b\b\b\b\b\b\b\b\b\b\b\b\b\b\b\b\b\b\b\b\b\b\b\b 97% 169 - subset0/1.3.6.1.4.1.14519.5.2 . 11851413924881662621747734.raw\b\b\b\b\b\b\b\b\b\b\b\b\b\b\b\b\b\b\b\b\b\b\b\b\b\b\b\b\b\b\b\b\b\b\b\b\b\b\b\b\b\b\b\b\b\b\b\b\b\b\b\b\b\b\b\b\b\b\b\b\b\b\b\b\b\b\b\b\b\b\b\b\b                                                                         \b\b\b\b\b\b\b\b\b\b\b\b\b\b\b\b\b\b\b\b\b\b\b\b\b\b\b\b\b\b\b\b\b\b\b\b\b\b\b\b\b\b\b\b\b\b\b\b\b\b\b\b\b\b\b\b\b\b\b\b\b\b\b\b\b\b\b\b\b\b\b\b\b 97% 170\b\b\b\b\b\b\b\b        \b\b\b\b\b\b\b\b 97% 171 - subset0/1.3.6.1.4.1.14519.5.2 . 42529028521482602829374444.raw\b\b\b\b\b\b\b\b\b\b\b\b\b\b\b\b\b\b\b\b\b\b\b\b\b\b\b\b\b\b\b\b\b\b\b\b\b\b\b\b\b\b\b\b\b\b\b\b\b\b\b\b\b\b\b\b\b\b\b\b\b\b\b\b\b\b\b\b\b\b\b\b\b                                                                         \b\b\b\b\b\b\b\b\b\b\b\b\b\b\b\b\b\b\b\b\b\b\b\b\b\b\b\b\b\b\b\b\b\b\b\b\b\b\b\b\b\b\b\b\b\b\b\b\b\b\b\b\b\b\b\b\b\b\b\b\b\b\b\b\b\b\b\b\b\b\b\b\b 98% 171 - subset0/1.3.6.1.4.1.14519.5.2 . 42529028521482602829374444.raw\b\b\b\b\b\b\b\b\b\b\b\b\b\b\b\b\b\b\b\b\b\b\b\b\b\b\b\b\b\b\b\b\b\b\b\b\b\b\b\b\b\b\b\b\b\b\b\b\b\b\b\b\b\b\b\b\b\b\b\b\b\b\b\b\b\b\b\b\b\b\b\b\b                                                                         \b\b\b\b\b\b\b\b\b\b\b\b\b\b\b\b\b\b\b\b\b\b\b\b\b\b\b\b\b\b\b\b\b\b\b\b\b\b\b\b\b\b\b\b\b\b\b\b\b\b\b\b\b\b\b\b\b\b\b\b\b\b\b\b\b\b\b\b\b\b\b\b\b 98% 172\b\b\b\b\b\b\b\b        \b\b\b\b\b\b\b\b 98% 173 - subset0/1.3.6.1.4.1.14519.5.2 . 71958588660410240398317235.raw\b\b\b\b\b\b\b\b\b\b\b\b\b\b\b\b\b\b\b\b\b\b\b\b\b\b\b\b\b\b\b\b\b\b\b\b\b\b\b\b\b\b\b\b\b\b\b\b\b\b\b\b\b\b\b\b\b\b\b\b\b\b\b\b\b\b\b\b\b\b\b\b\b                                                                         \b\b\b\b\b\b\b\b\b\b\b\b\b\b\b\b\b\b\b\b\b\b\b\b\b\b\b\b\b\b\b\b\b\b\b\b\b\b\b\b\b\b\b\b\b\b\b\b\b\b\b\b\b\b\b\b\b\b\b\b\b\b\b\b\b\b\b\b\b\b\b\b\b 98% 174\b\b\b\b\b\b\b\b        \b\b\b\b\b\b\b\b 98% 175 - subset0/1.3.6.1.4.1.14519.5.2 . 54950136384517744116790879.raw\b\b\b\b\b\b\b\b\b\b\b\b\b\b\b\b\b\b\b\b\b\b\b\b\b\b\b\b\b\b\b\b\b\b\b\b\b\b\b\b\b\b\b\b\b\b\b\b\b\b\b\b\b\b\b\b\b\b\b\b\b\b\b\b\b\b\b\b\b\b\b\b\b                                                                         \b\b\b\b\b\b\b\b\b\b\b\b\b\b\b\b\b\b\b\b\b\b\b\b\b\b\b\b\b\b\b\b\b\b\b\b\b\b\b\b\b\b\b\b\b\b\b\b\b\b\b\b\b\b\b\b\b\b\b\b\b\b\b\b\b\b\b\b\b\b\b\b\b 99% 175 - subset0/1.3.6.1.4.1.14519.5.2 . 54950136384517744116790879.raw\b\b\b\b\b\b\b\b\b\b\b\b\b\b\b\b\b\b\b\b\b\b\b\b\b\b\b\b\b\b\b\b\b\b\b\b\b\b\b\b\b\b\b\b\b\b\b\b\b\b\b\b\b\b\b\b\b\b\b\b\b\b\b\b\b\b\b\b\b\b\b\b\b                                                                         \b\b\b\b\b\b\b\b\b\b\b\b\b\b\b\b\b\b\b\b\b\b\b\b\b\b\b\b\b\b\b\b\b\b\b\b\b\b\b\b\b\b\b\b\b\b\b\b\b\b\b\b\b\b\b\b\b\b\b\b\b\b\b\b\b\b\b\b\b\b\b\b\b 99% 176\b\b\b\b\b\b\b\b        \b\b\b\b\b\b\b\b 99% 177 - subset0/1.3.6.1.4.1.14519.5.2 . 83010707182900091062408058.raw\b\b\b\b\b\b\b\b\b\b\b\b\b\b\b\b\b\b\b\b\b\b\b\b\b\b\b\b\b\b\b\b\b\b\b\b\b\b\b\b\b\b\b\b\b\b\b\b\b\b\b\b\b\b\b\b\b\b\b\b\b\b\b\b\b\b\b\b\b\b\b\b\b                                                                         \b\b\b\b\b\b\b\b\b\b\b\b\b\b\b\b\b\b\b\b\b\b\b\b\b\b\b\b\b\b\b\b\b\b\b\b\b\b\b\b\b\b\b\b\b\b\b\b\b\b\b\b\b\b\b\b\b\b\b\b\b\b\b\b\b\b\b\b\b\b\b\b\b100% 177 - subset0/1.3.6.1.4.1.14519.5.2 . 83010707182900091062408058.raw\b\b\b\b\b\b\b\b\b\b\b\b\b\b\b\b\b\b\b\b\b\b\b\b\b\b\b\b\b\b\b\b\b\b\b\b\b\b\b\b\b\b\b\b\b\b\b\b\b\b\b\b\b\b\b\b\b\b\b\b\b\b\b\b\b\b\b\b\b\b\b\b\b                                                                         \b\b\b\b\b\b\b\b\b\b\b\b\b\b\b\b\b\b\b\b\b\b\b\b\b\b\b\b\b\b\b\b\b\b\b\b\b\b\b\b\b\b\b\b\b\b\b\b\b\b\b\b\b\b\b\b\b\b\b\b\b\b\b\b\b\b\b\b\b\b\b\b\b\n",
            "\n",
            "Archives with Errors: 1\n",
            "\n",
            "Open Errors: 1\n",
            "\n"
          ]
        }
      ]
    },
    {
      "cell_type": "code",
      "source": [
        "!pip install SimpleITK"
      ],
      "metadata": {
        "colab": {
          "base_uri": "https://localhost:8080/"
        },
        "id": "U8w8hztLzBVs",
        "outputId": "5480f4b4-b31d-4de6-8aa7-8c008d1aec19"
      },
      "execution_count": null,
      "outputs": [
        {
          "output_type": "stream",
          "name": "stdout",
          "text": [
            "Looking in indexes: https://pypi.org/simple, https://us-python.pkg.dev/colab-wheels/public/simple/\n",
            "Collecting SimpleITK\n",
            "  Downloading SimpleITK-2.2.0-cp37-cp37m-manylinux_2_17_x86_64.manylinux2014_x86_64.whl (52.8 MB)\n",
            "\u001b[K     |████████████████████████████████| 52.8 MB 229 kB/s \n",
            "\u001b[?25hInstalling collected packages: SimpleITK\n",
            "Successfully installed SimpleITK-2.2.0\n"
          ]
        }
      ]
    },
    {
      "cell_type": "code",
      "source": [
        "!pip install \"diskcache==4.1.0\""
      ],
      "metadata": {
        "colab": {
          "base_uri": "https://localhost:8080/"
        },
        "id": "4ewosSrazLIU",
        "outputId": "6e8ef967-28ee-4c70-ed39-95bfa7e2c009"
      },
      "execution_count": null,
      "outputs": [
        {
          "output_type": "stream",
          "name": "stdout",
          "text": [
            "Looking in indexes: https://pypi.org/simple, https://us-python.pkg.dev/colab-wheels/public/simple/\n",
            "Collecting diskcache==4.1.0\n",
            "  Downloading diskcache-4.1.0-py2.py3-none-any.whl (44 kB)\n",
            "\u001b[K     |████████████████████████████████| 44 kB 3.0 MB/s \n",
            "\u001b[?25hInstalling collected packages: diskcache\n",
            "Successfully installed diskcache-4.1.0\n"
          ]
        }
      ]
    },
    {
      "cell_type": "code",
      "source": [
        "cd /content/dlwpt-code/"
      ],
      "metadata": {
        "colab": {
          "base_uri": "https://localhost:8080/"
        },
        "id": "9hHySraD4Ae9",
        "outputId": "30e3f101-842b-4c13-8462-ae84b180bc05"
      },
      "execution_count": null,
      "outputs": [
        {
          "output_type": "stream",
          "name": "stdout",
          "text": [
            "/content/dlwpt-code\n"
          ]
        }
      ]
    },
    {
      "cell_type": "markdown",
      "source": [
        "## Setting up the LunaDataset\n",
        "We set up the LunaDataset to train the model"
      ],
      "metadata": {
        "id": "Lt2uxfL7OGIg"
      }
    },
    {
      "cell_type": "code",
      "source": [
        "from p2ch10.dsets import getCandidateInfoList, getCt, LunaDataset\n",
        "candidateInfo_list = getCandidateInfoList(requireOnDisk_bool=True)\n",
        "positiveInfo_list = [x for x in candidateInfo_list if x[0]]\n",
        "diameter_list = [x[1] for x in positiveInfo_list]"
      ],
      "metadata": {
        "id": "v1rVrHN64LcC"
      },
      "execution_count": null,
      "outputs": []
    },
    {
      "cell_type": "code",
      "source": [
        "print(len(positiveInfo_list))\n",
        "print(positiveInfo_list[0])"
      ],
      "metadata": {
        "colab": {
          "base_uri": "https://localhost:8080/"
        },
        "id": "S89OMkyN4TjJ",
        "outputId": "5932046b-64d6-4a5a-9dbf-bf1675da50d8"
      },
      "execution_count": null,
      "outputs": [
        {
          "output_type": "stream",
          "name": "stdout",
          "text": [
            "122\n",
            "CandidateInfoTuple(isNodule_bool=True, diameter_mm=25.23320204, series_uid='1.3.6.1.4.1.14519.5.2.1.6279.6001.511347030803753100045216493273', center_xyz=(63.4740118048, 73.9174523314, -213.736128767))\n"
          ]
        }
      ]
    },
    {
      "cell_type": "code",
      "source": [
        "for i in range(0, len(diameter_list), 100):\n",
        "    print('{:4}  {:4.1f} mm'.format(i, diameter_list[i]))"
      ],
      "metadata": {
        "colab": {
          "base_uri": "https://localhost:8080/"
        },
        "id": "U6Nt5q074aYR",
        "outputId": "bafb60af-e42d-4d70-e9a3-e31d2433e5aa"
      },
      "execution_count": null,
      "outputs": [
        {
          "output_type": "stream",
          "name": "stdout",
          "text": [
            "   0  25.2 mm\n",
            " 100   0.0 mm\n"
          ]
        }
      ]
    },
    {
      "cell_type": "code",
      "source": [
        "for candidateInfo_tup in positiveInfo_list[:10]:\n",
        "    print(candidateInfo_tup)\n",
        "for candidateInfo_tup in positiveInfo_list[-10:]:\n",
        "    print(candidateInfo_tup)\n",
        "    \n",
        "for candidateInfo_tup in positiveInfo_list:\n",
        "    if candidateInfo_tup.series_uid.endswith('565'):\n",
        "        print(candidateInfo_tup)"
      ],
      "metadata": {
        "colab": {
          "base_uri": "https://localhost:8080/"
        },
        "id": "_ngVuVOm6Enb",
        "outputId": "358e489f-e4ae-4f6b-b4d5-c505b4a23f40"
      },
      "execution_count": null,
      "outputs": [
        {
          "output_type": "stream",
          "name": "stdout",
          "text": [
            "CandidateInfoTuple(isNodule_bool=True, diameter_mm=25.23320204, series_uid='1.3.6.1.4.1.14519.5.2.1.6279.6001.511347030803753100045216493273', center_xyz=(63.4740118048, 73.9174523314, -213.736128767))\n",
            "CandidateInfoTuple(isNodule_bool=True, diameter_mm=21.58311204, series_uid='1.3.6.1.4.1.14519.5.2.1.6279.6001.905371958588660410240398317235', center_xyz=(109.142472723, 49.6356928166, -121.183579092))\n",
            "CandidateInfoTuple(isNodule_bool=True, diameter_mm=19.65387738, series_uid='1.3.6.1.4.1.14519.5.2.1.6279.6001.752756872840730509471096155114', center_xyz=(56.1226132601, 67.868268695, -65.6269886453))\n",
            "CandidateInfoTuple(isNodule_bool=True, diameter_mm=18.7832325, series_uid='1.3.6.1.4.1.14519.5.2.1.6279.6001.202811684116768680758082619196', center_xyz=(-82.79150362, -21.43587141, -97.18427459))\n",
            "CandidateInfoTuple(isNodule_bool=True, diameter_mm=17.75323185, series_uid='1.3.6.1.4.1.14519.5.2.1.6279.6001.187451715205085403623595258748', center_xyz=(94.1132711884, -15.8936132585, -202.847228297))\n",
            "CandidateInfoTuple(isNodule_bool=True, diameter_mm=17.69382414, series_uid='1.3.6.1.4.1.14519.5.2.1.6279.6001.137763212752154081977261297097', center_xyz=(-78.2266125547, 180.542140994, -467.88476912))\n",
            "CandidateInfoTuple(isNodule_bool=True, diameter_mm=17.69382414, series_uid='1.3.6.1.4.1.14519.5.2.1.6279.6001.137763212752154081977261297097', center_xyz=(-82.01161135, 186.5539408, -467.9168457))\n",
            "CandidateInfoTuple(isNodule_bool=True, diameter_mm=17.52596027, series_uid='1.3.6.1.4.1.14519.5.2.1.6279.6001.227962600322799211676960828223', center_xyz=(75.0930413723, -0.51240559114, -58.1161965725))\n",
            "CandidateInfoTuple(isNodule_bool=True, diameter_mm=17.3362496, series_uid='1.3.6.1.4.1.14519.5.2.1.6279.6001.805925269324902055566754756843', center_xyz=(-66.8081081882, 97.0125969393, -267.863533051))\n",
            "CandidateInfoTuple(isNodule_bool=True, diameter_mm=15.48525426, series_uid='1.3.6.1.4.1.14519.5.2.1.6279.6001.154677396354641150280013275227', center_xyz=(-57.04638761, 131.2249427, -520.247305))\n",
            "CandidateInfoTuple(isNodule_bool=True, diameter_mm=0.0, series_uid='1.3.6.1.4.1.14519.5.2.1.6279.6001.202811684116768680758082619196', center_xyz=(-85.8668496571, -26.6501938805, -95.2879167459))\n",
            "CandidateInfoTuple(isNodule_bool=True, diameter_mm=0.0, series_uid='1.3.6.1.4.1.14519.5.2.1.6279.6001.188376349804761988217597754952', center_xyz=(-86.9514169487, 162.142965995, -455.060669104))\n",
            "CandidateInfoTuple(isNodule_bool=True, diameter_mm=0.0, series_uid='1.3.6.1.4.1.14519.5.2.1.6279.6001.188209889686363159853715266493', center_xyz=(-80.7, 58.42, -131.12))\n",
            "CandidateInfoTuple(isNodule_bool=True, diameter_mm=0.0, series_uid='1.3.6.1.4.1.14519.5.2.1.6279.6001.187451715205085403623595258748', center_xyz=(94.8682494235, -22.4152582646, -208.030982511))\n",
            "CandidateInfoTuple(isNodule_bool=True, diameter_mm=0.0, series_uid='1.3.6.1.4.1.14519.5.2.1.6279.6001.154677396354641150280013275227', center_xyz=(-52.48, 135.05, -521.24))\n",
            "CandidateInfoTuple(isNodule_bool=True, diameter_mm=0.0, series_uid='1.3.6.1.4.1.14519.5.2.1.6279.6001.137763212752154081977261297097', center_xyz=(-74.74, 188.44, -468.48))\n",
            "CandidateInfoTuple(isNodule_bool=True, diameter_mm=0.0, series_uid='1.3.6.1.4.1.14519.5.2.1.6279.6001.137763212752154081977261297097', center_xyz=(-81.05, 190.54, -462.17))\n",
            "CandidateInfoTuple(isNodule_bool=True, diameter_mm=0.0, series_uid='1.3.6.1.4.1.14519.5.2.1.6279.6001.124154461048929153767743874565', center_xyz=(146.12, -160.55, -309.93))\n",
            "CandidateInfoTuple(isNodule_bool=True, diameter_mm=0.0, series_uid='1.3.6.1.4.1.14519.5.2.1.6279.6001.109002525524522225658609808059', center_xyz=(44.25, 52.17, -110.25))\n",
            "CandidateInfoTuple(isNodule_bool=True, diameter_mm=0.0, series_uid='1.3.6.1.4.1.14519.5.2.1.6279.6001.109002525524522225658609808059', center_xyz=(36.54, 78.1, -122.92))\n",
            "CandidateInfoTuple(isNodule_bool=True, diameter_mm=0.0, series_uid='1.3.6.1.4.1.14519.5.2.1.6279.6001.124154461048929153767743874565', center_xyz=(146.12, -160.55, -309.93))\n"
          ]
        }
      ]
    },
    {
      "cell_type": "code",
      "source": [
        "from p2ch10.vis import findPositiveSamples, showCandidate\n",
        "positiveSample_list = findPositiveSamples()"
      ],
      "metadata": {
        "colab": {
          "base_uri": "https://localhost:8080/"
        },
        "id": "sxCf_NNE6ZVx",
        "outputId": "1fe6d265-5c15-4fba-8bf7-dfd1d18d5074"
      },
      "execution_count": null,
      "outputs": [
        {
          "output_type": "stream",
          "name": "stderr",
          "text": [
            "2022-11-27 14:24:33,369 INFO     pid:75 p2ch10.dsets:173:__init__ <p2ch10.dsets.LunaDataset object at 0x7f0629ca3fd0>: 56938 training samples\n"
          ]
        },
        {
          "output_type": "stream",
          "name": "stdout",
          "text": [
            "0 CandidateInfoTuple(isNodule_bool=True, diameter_mm=25.23320204, series_uid='1.3.6.1.4.1.14519.5.2.1.6279.6001.511347030803753100045216493273', center_xyz=(63.4740118048, 73.9174523314, -213.736128767))\n",
            "1 CandidateInfoTuple(isNodule_bool=True, diameter_mm=21.58311204, series_uid='1.3.6.1.4.1.14519.5.2.1.6279.6001.905371958588660410240398317235', center_xyz=(109.142472723, 49.6356928166, -121.183579092))\n",
            "2 CandidateInfoTuple(isNodule_bool=True, diameter_mm=19.65387738, series_uid='1.3.6.1.4.1.14519.5.2.1.6279.6001.752756872840730509471096155114', center_xyz=(56.1226132601, 67.868268695, -65.6269886453))\n",
            "3 CandidateInfoTuple(isNodule_bool=True, diameter_mm=18.7832325, series_uid='1.3.6.1.4.1.14519.5.2.1.6279.6001.202811684116768680758082619196', center_xyz=(-82.79150362, -21.43587141, -97.18427459))\n",
            "4 CandidateInfoTuple(isNodule_bool=True, diameter_mm=17.75323185, series_uid='1.3.6.1.4.1.14519.5.2.1.6279.6001.187451715205085403623595258748', center_xyz=(94.1132711884, -15.8936132585, -202.847228297))\n",
            "5 CandidateInfoTuple(isNodule_bool=True, diameter_mm=17.69382414, series_uid='1.3.6.1.4.1.14519.5.2.1.6279.6001.137763212752154081977261297097', center_xyz=(-78.2266125547, 180.542140994, -467.88476912))\n",
            "6 CandidateInfoTuple(isNodule_bool=True, diameter_mm=17.69382414, series_uid='1.3.6.1.4.1.14519.5.2.1.6279.6001.137763212752154081977261297097', center_xyz=(-82.01161135, 186.5539408, -467.9168457))\n",
            "7 CandidateInfoTuple(isNodule_bool=True, diameter_mm=17.52596027, series_uid='1.3.6.1.4.1.14519.5.2.1.6279.6001.227962600322799211676960828223', center_xyz=(75.0930413723, -0.51240559114, -58.1161965725))\n",
            "8 CandidateInfoTuple(isNodule_bool=True, diameter_mm=17.3362496, series_uid='1.3.6.1.4.1.14519.5.2.1.6279.6001.805925269324902055566754756843', center_xyz=(-66.8081081882, 97.0125969393, -267.863533051))\n",
            "9 CandidateInfoTuple(isNodule_bool=True, diameter_mm=15.48525426, series_uid='1.3.6.1.4.1.14519.5.2.1.6279.6001.154677396354641150280013275227', center_xyz=(-57.04638761, 131.2249427, -520.247305))\n",
            "10 CandidateInfoTuple(isNodule_bool=True, diameter_mm=14.62904955, series_uid='1.3.6.1.4.1.14519.5.2.1.6279.6001.534006575256943390479252771547', center_xyz=(58.1090454962, -23.8769340894, -69.490632328))\n",
            "11 CandidateInfoTuple(isNodule_bool=True, diameter_mm=13.96263215, series_uid='1.3.6.1.4.1.14519.5.2.1.6279.6001.213140617640021803112060161074', center_xyz=(53.8710070042, 139.156354144, -625.795207073))\n",
            "12 CandidateInfoTuple(isNodule_bool=True, diameter_mm=13.84883567, series_uid='1.3.6.1.4.1.14519.5.2.1.6279.6001.219909753224298157409438012179', center_xyz=(119.314454061, 19.1701643762, -155.143581615))\n",
            "13 CandidateInfoTuple(isNodule_bool=True, diameter_mm=13.59647134, series_uid='1.3.6.1.4.1.14519.5.2.1.6279.6001.109002525524522225658609808059', center_xyz=(46.00314143, 47.66525294, -108.4822128))\n",
            "14 CandidateInfoTuple(isNodule_bool=True, diameter_mm=13.14006008, series_uid='1.3.6.1.4.1.14519.5.2.1.6279.6001.313835996725364342034830119490', center_xyz=(-103.606170996, 5.07017220203, -45.0445111659))\n",
            "15 CandidateInfoTuple(isNodule_bool=True, diameter_mm=13.05335657, series_uid='1.3.6.1.4.1.14519.5.2.1.6279.6001.187451715205085403623595258748', center_xyz=(65.9819404529, 65.3748482043, -245.07371322))\n",
            "16 CandidateInfoTuple(isNodule_bool=True, diameter_mm=12.80135622, series_uid='1.3.6.1.4.1.14519.5.2.1.6279.6001.534006575256943390479252771547', center_xyz=(-92.8243371229, 62.3770624293, -95.1800403034))\n",
            "17 CandidateInfoTuple(isNodule_bool=True, diameter_mm=12.68580657, series_uid='1.3.6.1.4.1.14519.5.2.1.6279.6001.313334055029671473836954456733', center_xyz=(67.68450126, 44.02446338, -265.684528))\n",
            "18 CandidateInfoTuple(isNodule_bool=True, diameter_mm=12.57054118, series_uid='1.3.6.1.4.1.14519.5.2.1.6279.6001.334517907433161353885866806005', center_xyz=(-89.634569225, 208.2810558, -396.8074266))\n",
            "19 CandidateInfoTuple(isNodule_bool=True, diameter_mm=12.02215382, series_uid='1.3.6.1.4.1.14519.5.2.1.6279.6001.430109407146633213496148200410', center_xyz=(-45.86281408, -106.11146345, -147.91194395))\n",
            "20 CandidateInfoTuple(isNodule_bool=True, diameter_mm=11.64560862, series_uid='1.3.6.1.4.1.14519.5.2.1.6279.6001.525937963993475482158828421281', center_xyz=(127.2868873, 70.71304151, -91.86194784))\n",
            "21 CandidateInfoTuple(isNodule_bool=True, diameter_mm=11.48732767, series_uid='1.3.6.1.4.1.14519.5.2.1.6279.6001.621916089407825046337959219998', center_xyz=(-97.330389555, 45.02276113, -155.38801195))\n",
            "22 CandidateInfoTuple(isNodule_bool=True, diameter_mm=11.17547004, series_uid='1.3.6.1.4.1.14519.5.2.1.6279.6001.450501966058662668272378865145', center_xyz=(52.955066627, 21.5829057375, 232.603987857))\n",
            "23 CandidateInfoTuple(isNodule_bool=True, diameter_mm=11.13983165, series_uid='1.3.6.1.4.1.14519.5.2.1.6279.6001.137763212752154081977261297097', center_xyz=(-102.748428579, 154.846550311, -465.913693912))\n",
            "24 CandidateInfoTuple(isNodule_bool=True, diameter_mm=11.10051888, series_uid='1.3.6.1.4.1.14519.5.2.1.6279.6001.219087313261026510628926082729', center_xyz=(-64.88987189, 196.9697692, -469.20840415))\n",
            "25 CandidateInfoTuple(isNodule_bool=True, diameter_mm=10.98914009, series_uid='1.3.6.1.4.1.14519.5.2.1.6279.6001.511347030803753100045216493273', center_xyz=(-108.732902775, -38.2541652087, -199.158196279))\n",
            "26 CandidateInfoTuple(isNodule_bool=True, diameter_mm=10.93827513, series_uid='1.3.6.1.4.1.14519.5.2.1.6279.6001.188376349804761988217597754952', center_xyz=(-55.911605232, 175.416751344, -405.328583147))\n",
            "27 CandidateInfoTuple(isNodule_bool=True, diameter_mm=10.83118822, series_uid='1.3.6.1.4.1.14519.5.2.1.6279.6001.249530219848512542668813996730', center_xyz=(124.200923089, 65.8035261302, -210.521147465))\n",
            "28 CandidateInfoTuple(isNodule_bool=True, diameter_mm=10.4626083, series_uid='1.3.6.1.4.1.14519.5.2.1.6279.6001.128023902651233986592378348912', center_xyz=(34.1223242148, 87.8273440723, -100.189149775))\n",
            "29 CandidateInfoTuple(isNodule_bool=True, diameter_mm=10.06186005, series_uid='1.3.6.1.4.1.14519.5.2.1.6279.6001.250863365157630276148828903732', center_xyz=(-83.1930640477, -29.0767194265, -153.227780712))\n",
            "30 CandidateInfoTuple(isNodule_bool=True, diameter_mm=9.756615445, series_uid='1.3.6.1.4.1.14519.5.2.1.6279.6001.511347030803753100045216493273', center_xyz=(-85.0178411434, 23.7094197723, -220.666696981))\n",
            "31 CandidateInfoTuple(isNodule_bool=True, diameter_mm=9.443896197, series_uid='1.3.6.1.4.1.14519.5.2.1.6279.6001.317087518531899043292346860596', center_xyz=(-86.8206570956, -49.4777595251, -116.583770016))\n",
            "32 CandidateInfoTuple(isNodule_bool=True, diameter_mm=9.25825997, series_uid='1.3.6.1.4.1.14519.5.2.1.6279.6001.134996872583497382954024478441', center_xyz=(-86.23791683, 16.037327905, -70.24667756))\n",
            "33 CandidateInfoTuple(isNodule_bool=True, diameter_mm=9.253917448, series_uid='1.3.6.1.4.1.14519.5.2.1.6279.6001.305858704835252413616501469037', center_xyz=(22.744456585, 196.0703828, -367.29208485))\n",
            "34 CandidateInfoTuple(isNodule_bool=True, diameter_mm=8.982986958, series_uid='1.3.6.1.4.1.14519.5.2.1.6279.6001.194440094986948071643661798326', center_xyz=(56.38967842, -92.71316409, -275.8592896))\n",
            "35 CandidateInfoTuple(isNodule_bool=True, diameter_mm=8.621579517, series_uid='1.3.6.1.4.1.14519.5.2.1.6279.6001.139258777898746693365877042411', center_xyz=(-106.98605025, -177.74552385, -192.46801265))\n",
            "36 CandidateInfoTuple(isNodule_bool=True, diameter_mm=8.368487089, series_uid='1.3.6.1.4.1.14519.5.2.1.6279.6001.868211851413924881662621747734', center_xyz=(-81.68, 82.68, -167.4))\n",
            "37 CandidateInfoTuple(isNodule_bool=True, diameter_mm=8.364989395, series_uid='1.3.6.1.4.1.14519.5.2.1.6279.6001.310548927038333190233889983845', center_xyz=(-45.2427079881, 57.3521070453, -64.0080443316))\n",
            "38 CandidateInfoTuple(isNodule_bool=True, diameter_mm=8.244643239, series_uid='1.3.6.1.4.1.14519.5.2.1.6279.6001.334517907433161353885866806005', center_xyz=(-113.4793963, 127.8996568, -452.72309185))\n",
            "39 CandidateInfoTuple(isNodule_bool=True, diameter_mm=8.208342207, series_uid='1.3.6.1.4.1.14519.5.2.1.6279.6001.333145094436144085379032922488', center_xyz=(-36.68, 95.21, -230.94))\n",
            "40 CandidateInfoTuple(isNodule_bool=True, diameter_mm=8.091312581, series_uid='1.3.6.1.4.1.14519.5.2.1.6279.6001.716498695101447665580610403574', center_xyz=(-68.2895869858, -109.992924453, -96.9283020516))\n",
            "41 CandidateInfoTuple(isNodule_bool=True, diameter_mm=7.98502287, series_uid='1.3.6.1.4.1.14519.5.2.1.6279.6001.826812708000318290301835871780', center_xyz=(-42.25, -52.72, -128.45))\n",
            "42 CandidateInfoTuple(isNodule_bool=True, diameter_mm=7.903510371, series_uid='1.3.6.1.4.1.14519.5.2.1.6279.6001.294188507421106424248264912111', center_xyz=(120.42003855, 26.50582658, -282.61165745))\n",
            "43 CandidateInfoTuple(isNodule_bool=True, diameter_mm=7.888814398, series_uid='1.3.6.1.4.1.14519.5.2.1.6279.6001.134996872583497382954024478441', center_xyz=(-69.3825, 56.288020835, -81.68967418))\n",
            "44 CandidateInfoTuple(isNodule_bool=True, diameter_mm=7.418028913, series_uid='1.3.6.1.4.1.14519.5.2.1.6279.6001.430109407146633213496148200410', center_xyz=(97.47, -97.09, -215.49))\n",
            "45 CandidateInfoTuple(isNodule_bool=True, diameter_mm=7.310399552, series_uid='1.3.6.1.4.1.14519.5.2.1.6279.6001.979083010707182900091062408058', center_xyz=(-102.84092514, 57.8809154545, -124.815520253))\n",
            "46 CandidateInfoTuple(isNodule_bool=True, diameter_mm=7.283782817, series_uid='1.3.6.1.4.1.14519.5.2.1.6279.6001.534006575256943390479252771547', center_xyz=(125.05, -9.15, -208.18))\n",
            "47 CandidateInfoTuple(isNodule_bool=True, diameter_mm=7.244054524, series_uid='1.3.6.1.4.1.14519.5.2.1.6279.6001.724251104254976962355686318345', center_xyz=(-58.8, 147.35, -647.99))\n",
            "48 CandidateInfoTuple(isNodule_bool=True, diameter_mm=7.178922623, series_uid='1.3.6.1.4.1.14519.5.2.1.6279.6001.334517907433161353885866806005', center_xyz=(-104.863406042, 139.747617264, -448.370359496))\n",
            "49 CandidateInfoTuple(isNodule_bool=True, diameter_mm=7.165672419, series_uid='1.3.6.1.4.1.14519.5.2.1.6279.6001.323302986710576400812869264321', center_xyz=(-77.6742804778, 24.6389385283, -107.581430893))\n",
            "50 CandidateInfoTuple(isNodule_bool=True, diameter_mm=7.053719722, series_uid='1.3.6.1.4.1.14519.5.2.1.6279.6001.134996872583497382954024478441', center_xyz=(-84.3086034783, -42.2047464888, -146.649587983))\n",
            "51 CandidateInfoTuple(isNodule_bool=True, diameter_mm=7.000523906, series_uid='1.3.6.1.4.1.14519.5.2.1.6279.6001.295420274214095686326263147663', center_xyz=(-46.1961954943, 75.8948313553, -161.12479227))\n",
            "52 CandidateInfoTuple(isNodule_bool=True, diameter_mm=6.972916889, series_uid='1.3.6.1.4.1.14519.5.2.1.6279.6001.305858704835252413616501469037', center_xyz=(-60.82, 227.03, -378.95))\n",
            "53 CandidateInfoTuple(isNodule_bool=True, diameter_mm=6.800248866, series_uid='1.3.6.1.4.1.14519.5.2.1.6279.6001.129055977637338639741695800950', center_xyz=(-95.430332199, -87.6984598229, 1131.88013133))\n",
            "54 CandidateInfoTuple(isNodule_bool=True, diameter_mm=6.779556482, series_uid='1.3.6.1.4.1.14519.5.2.1.6279.6001.134996872583497382954024478441', center_xyz=(99.534526984, -25.0008193614, -199.759483337))\n",
            "55 CandidateInfoTuple(isNodule_bool=True, diameter_mm=6.720277435, series_uid='1.3.6.1.4.1.14519.5.2.1.6279.6001.126264578931778258890371755354', center_xyz=(59.73, -157.0, -119.49))\n",
            "56 CandidateInfoTuple(isNodule_bool=True, diameter_mm=6.673547135, series_uid='1.3.6.1.4.1.14519.5.2.1.6279.6001.219909753224298157409438012179', center_xyz=(99.3146639166, 66.0098225079, -90.5268699307))\n",
            "57 CandidateInfoTuple(isNodule_bool=True, diameter_mm=6.614419285, series_uid='1.3.6.1.4.1.14519.5.2.1.6279.6001.323859712968543712594665815359', center_xyz=(-56.75, 44.15, -79.6))\n",
            "58 CandidateInfoTuple(isNodule_bool=True, diameter_mm=6.440878725, series_uid='1.3.6.1.4.1.14519.5.2.1.6279.6001.108197895896446896160048741492', center_xyz=(-100.46, 68.01, -230.55))\n",
            "59 CandidateInfoTuple(isNodule_bool=True, diameter_mm=6.430802339, series_uid='1.3.6.1.4.1.14519.5.2.1.6279.6001.868211851413924881662621747734', center_xyz=(-22.82, 77.77, -135.81))\n",
            "60 CandidateInfoTuple(isNodule_bool=True, diameter_mm=6.401625027, series_uid='1.3.6.1.4.1.14519.5.2.1.6279.6001.213140617640021803112060161074', center_xyz=(108.778555324, 229.013231915, -721.207828036))\n",
            "61 CandidateInfoTuple(isNodule_bool=True, diameter_mm=6.305539247, series_uid='1.3.6.1.4.1.14519.5.2.1.6279.6001.188376349804761988217597754952', center_xyz=(79.21, 210.52, -464.74))\n",
            "62 CandidateInfoTuple(isNodule_bool=True, diameter_mm=6.275342115, series_uid='1.3.6.1.4.1.14519.5.2.1.6279.6001.295298571102631191572192562523', center_xyz=(60.55, 6.89, -165.21))\n",
            "63 CandidateInfoTuple(isNodule_bool=True, diameter_mm=6.259551508, series_uid='1.3.6.1.4.1.14519.5.2.1.6279.6001.141069661700670042960678408762', center_xyz=(-102.01, 248.56, -739.43))\n",
            "64 CandidateInfoTuple(isNodule_bool=True, diameter_mm=6.246461343, series_uid='1.3.6.1.4.1.14519.5.2.1.6279.6001.832260670372728970918746541371', center_xyz=(23.2, 36.79, -85.53))\n",
            "65 CandidateInfoTuple(isNodule_bool=True, diameter_mm=6.242190906, series_uid='1.3.6.1.4.1.14519.5.2.1.6279.6001.249530219848512542668813996730', center_xyz=(145.81, 33.61, -189.8))\n",
            "66 CandidateInfoTuple(isNodule_bool=True, diameter_mm=6.21739005, series_uid='1.3.6.1.4.1.14519.5.2.1.6279.6001.640729228179368154416184318668', center_xyz=(-113.17, -225.85, -199.99))\n",
            "67 CandidateInfoTuple(isNodule_bool=True, diameter_mm=6.13100107, series_uid='1.3.6.1.4.1.14519.5.2.1.6279.6001.832260670372728970918746541371', center_xyz=(-126.724423175, 80.9467845003, -221.131923212))\n",
            "68 CandidateInfoTuple(isNodule_bool=True, diameter_mm=6.005399015, series_uid='1.3.6.1.4.1.14519.5.2.1.6279.6001.281489753704424911132261151767', center_xyz=(110.14, -31.2, -241.36))\n",
            "69 CandidateInfoTuple(isNodule_bool=True, diameter_mm=5.965579845, series_uid='1.3.6.1.4.1.14519.5.2.1.6279.6001.534083630500464995109143618896', center_xyz=(-86.8, 56.07, -112.26))\n",
            "70 CandidateInfoTuple(isNodule_bool=True, diameter_mm=5.722280115, series_uid='1.3.6.1.4.1.14519.5.2.1.6279.6001.294188507421106424248264912111', center_xyz=(100.03, 54.1, -256.65))\n",
            "71 CandidateInfoTuple(isNodule_bool=True, diameter_mm=5.6734543, series_uid='1.3.6.1.4.1.14519.5.2.1.6279.6001.295298571102631191572192562523', center_xyz=(-132.04, -3.6, -221.38))\n",
            "72 CandidateInfoTuple(isNodule_bool=True, diameter_mm=5.654138498, series_uid='1.3.6.1.4.1.14519.5.2.1.6279.6001.313605260055394498989743099991', center_xyz=(-104.595743227, -65.0387901544, -152.824022564))\n",
            "73 CandidateInfoTuple(isNodule_bool=True, diameter_mm=5.556944532, series_uid='1.3.6.1.4.1.14519.5.2.1.6279.6001.294188507421106424248264912111', center_xyz=(-85.01, 53.4, -281.93))\n",
            "74 CandidateInfoTuple(isNodule_bool=True, diameter_mm=5.525559329, series_uid='1.3.6.1.4.1.14519.5.2.1.6279.6001.724251104254976962355686318345', center_xyz=(93.83, 183.12, -518.99))\n",
            "75 CandidateInfoTuple(isNodule_bool=True, diameter_mm=5.357746933, series_uid='1.3.6.1.4.1.14519.5.2.1.6279.6001.188376349804761988217597754952', center_xyz=(-100.11, 179.7, -498.43))\n",
            "76 CandidateInfoTuple(isNodule_bool=True, diameter_mm=5.313818163, series_uid='1.3.6.1.4.1.14519.5.2.1.6279.6001.826812708000318290301835871780', center_xyz=(-53.5, -50.62, -137.83))\n",
            "77 CandidateInfoTuple(isNodule_bool=True, diameter_mm=5.253525386, series_uid='1.3.6.1.4.1.14519.5.2.1.6279.6001.241570579760883349458693655367', center_xyz=(-124.08, 127.67, 1633.06))\n",
            "78 CandidateInfoTuple(isNodule_bool=True, diameter_mm=5.247278653, series_uid='1.3.6.1.4.1.14519.5.2.1.6279.6001.293757615532132808762625441831', center_xyz=(-67.45, -40.62, -172.12))\n",
            "79 CandidateInfoTuple(isNodule_bool=True, diameter_mm=5.127950372, series_uid='1.3.6.1.4.1.14519.5.2.1.6279.6001.868211851413924881662621747734', center_xyz=(-8.81, 58.85, -109.84))\n",
            "80 CandidateInfoTuple(isNodule_bool=True, diameter_mm=5.104384596, series_uid='1.3.6.1.4.1.14519.5.2.1.6279.6001.323859712968543712594665815359', center_xyz=(-80.59, -74.34, -114.66))\n",
            "81 CandidateInfoTuple(isNodule_bool=True, diameter_mm=5.090964239, series_uid='1.3.6.1.4.1.14519.5.2.1.6279.6001.534083630500464995109143618896', center_xyz=(-41.95, -2.79, -114.37))\n",
            "82 CandidateInfoTuple(isNodule_bool=True, diameter_mm=5.063233243, series_uid='1.3.6.1.4.1.14519.5.2.1.6279.6001.404364125369979066736354549484', center_xyz=(97.84, -79.43, -202.46))\n",
            "83 CandidateInfoTuple(isNodule_bool=True, diameter_mm=5.060034849, series_uid='1.3.6.1.4.1.14519.5.2.1.6279.6001.303421828981831854739626597495', center_xyz=(91.25, 136.51, 1521.6))\n",
            "84 CandidateInfoTuple(isNodule_bool=True, diameter_mm=5.05940652, series_uid='1.3.6.1.4.1.14519.5.2.1.6279.6001.130438550890816550994739120843', center_xyz=(88.4711209658, 32.9338043994, -78.2315830223))\n",
            "85 CandidateInfoTuple(isNodule_bool=True, diameter_mm=5.028864971, series_uid='1.3.6.1.4.1.14519.5.2.1.6279.6001.272042302501586336192628818865', center_xyz=(36.8743693547, 178.560521522, -603.254348044))\n",
            "86 CandidateInfoTuple(isNodule_bool=True, diameter_mm=4.813145858, series_uid='1.3.6.1.4.1.14519.5.2.1.6279.6001.219087313261026510628926082729', center_xyz=(-61.1318931033, 224.376802237, -633.722209393))\n",
            "87 CandidateInfoTuple(isNodule_bool=True, diameter_mm=4.784886899, series_uid='1.3.6.1.4.1.14519.5.2.1.6279.6001.213140617640021803112060161074', center_xyz=(96.5080202269, 213.298021661, -613.21058414))\n",
            "88 CandidateInfoTuple(isNodule_bool=True, diameter_mm=4.717405126, series_uid='1.3.6.1.4.1.14519.5.2.1.6279.6001.277445975068759205899107114231', center_xyz=(-48.6932637254, -65.6001064436, -209.327417951))\n",
            "89 CandidateInfoTuple(isNodule_bool=True, diameter_mm=4.683570528, series_uid='1.3.6.1.4.1.14519.5.2.1.6279.6001.249530219848512542668813996730', center_xyz=(-100.6, 38.45, -117.3))\n",
            "90 CandidateInfoTuple(isNodule_bool=True, diameter_mm=4.681381581, series_uid='1.3.6.1.4.1.14519.5.2.1.6279.6001.111172165674661221381920536987', center_xyz=(136.31, 116.67, -181.89))\n",
            "91 CandidateInfoTuple(isNodule_bool=True, diameter_mm=4.678130013, series_uid='1.3.6.1.4.1.14519.5.2.1.6279.6001.898642529028521482602829374444', center_xyz=(-41.92, 92.28, -566.23))\n",
            "92 CandidateInfoTuple(isNodule_bool=True, diameter_mm=4.36498067, series_uid='1.3.6.1.4.1.14519.5.2.1.6279.6001.295420274214095686326263147663', center_xyz=(-68.45, 88.75, -190.46))\n",
            "93 CandidateInfoTuple(isNodule_bool=True, diameter_mm=4.315291242, series_uid='1.3.6.1.4.1.14519.5.2.1.6279.6001.534083630500464995109143618896', center_xyz=(114.247666457, -37.1199002155, -138.729666881))\n",
            "94 CandidateInfoTuple(isNodule_bool=True, diameter_mm=4.09125367, series_uid='1.3.6.1.4.1.14519.5.2.1.6279.6001.295420274214095686326263147663', center_xyz=(-65.9640510945, 81.2984155672, -179.11789495))\n",
            "95 CandidateInfoTuple(isNodule_bool=True, diameter_mm=3.661014906, series_uid='1.3.6.1.4.1.14519.5.2.1.6279.6001.216882370221919561230873289517', center_xyz=(-86.81, -17.42, -51.97))\n",
            "96 CandidateInfoTuple(isNodule_bool=True, diameter_mm=0.0, series_uid='1.3.6.1.4.1.14519.5.2.1.6279.6001.905371958588660410240398317235', center_xyz=(110.83, 57.69, -122.43))\n",
            "97 CandidateInfoTuple(isNodule_bool=True, diameter_mm=0.0, series_uid='1.3.6.1.4.1.14519.5.2.1.6279.6001.905371958588660410240398317235', center_xyz=(103.710144289, 42.3480198092, -119.266765088))\n",
            "98 CandidateInfoTuple(isNodule_bool=True, diameter_mm=0.0, series_uid='1.3.6.1.4.1.14519.5.2.1.6279.6001.898642529028521482602829374444', center_xyz=(75.62, 111.88, -533.24))\n",
            "99 CandidateInfoTuple(isNodule_bool=True, diameter_mm=0.0, series_uid='1.3.6.1.4.1.14519.5.2.1.6279.6001.805925269324902055566754756843', center_xyz=(-73.46, 97.11, -267.55))\n"
          ]
        }
      ]
    },
    {
      "cell_type": "code",
      "source": [
        "tuple_list = LunaDataset()"
      ],
      "metadata": {
        "colab": {
          "base_uri": "https://localhost:8080/"
        },
        "id": "a7AxC8rJ3znU",
        "outputId": "5b298ed6-fc20-4936-8bc7-0f20f689b253"
      },
      "execution_count": null,
      "outputs": [
        {
          "output_type": "stream",
          "name": "stderr",
          "text": [
            "2022-11-27 14:24:40,504 INFO     pid:75 p2ch10.dsets:173:__init__ <p2ch10.dsets.LunaDataset object at 0x7f0629ca3e50>: 56938 training samples\n"
          ]
        }
      ]
    },
    {
      "cell_type": "code",
      "source": [
        "pwd"
      ],
      "metadata": {
        "colab": {
          "base_uri": "https://localhost:8080/",
          "height": 36
        },
        "id": "-WW5SpkC6sZh",
        "outputId": "ac067716-bc87-4922-9c11-944d6507f4a1"
      },
      "execution_count": null,
      "outputs": [
        {
          "output_type": "execute_result",
          "data": {
            "text/plain": [
              "'/content/dlwpt-code'"
            ],
            "application/vnd.google.colaboratory.intrinsic+json": {
              "type": "string"
            }
          },
          "metadata": {},
          "execution_count": 19
        }
      ]
    },
    {
      "cell_type": "markdown",
      "source": [
        "## Train and run the model\n",
        "Use the script p2_run_everything.ipynb "
      ],
      "metadata": {
        "id": "bYFtsQY31vkO"
      }
    },
    {
      "cell_type": "code",
      "source": [
        "import datetime\n",
        "\n",
        "from util.util import importstr\n",
        "from util.logconf import logging\n",
        "log = logging.getLogger('nb')"
      ],
      "metadata": {
        "id": "4zcLomNN3p1i"
      },
      "execution_count": null,
      "outputs": []
    },
    {
      "cell_type": "code",
      "source": [
        "def run(app, *argv):\n",
        "    argv = list(argv)\n",
        "    argv.insert(0, '--num-workers=4')  # <1>\n",
        "    log.info(\"Running: {}({!r}).main()\".format(app, argv))\n",
        "    \n",
        "    app_cls = importstr(*app.rsplit('.', 1))  # <2>\n",
        "    app_cls(argv).main()\n",
        "    \n",
        "    log.info(\"Finished: {}.{!r}).main()\".format(app, argv))"
      ],
      "metadata": {
        "id": "mfZihYVsyAwv"
      },
      "execution_count": null,
      "outputs": []
    },
    {
      "cell_type": "code",
      "source": [
        "import os\n",
        "import shutil\n",
        "\n",
        "# clean up any old data that might be around.\n",
        "# We don't call this by default because it's destructive, \n",
        "# and would waste a lot of time if it ran when nothing \n",
        "# on the application side had changed.\n",
        "def cleanCache():\n",
        "    shutil.rmtree('data-unversioned/cache')\n",
        "    os.mkdir('data-unversioned/cache')\n",
        "\n",
        "# cleanCache()\n"
      ],
      "metadata": {
        "id": "GAVDORz7ylV9"
      },
      "execution_count": null,
      "outputs": []
    },
    {
      "cell_type": "code",
      "source": [
        "training_epochs = 20\n",
        "experiment_epochs = 10\n",
        "final_epochs = 50\n",
        "\n",
        "training_epochs = 2\n",
        "experiment_epochs = 2\n",
        "final_epochs = 5\n",
        "seg_epochs = 10"
      ],
      "metadata": {
        "id": "H1qM05LryqI0"
      },
      "execution_count": null,
      "outputs": []
    },
    {
      "cell_type": "code",
      "source": [
        "run('p2ch11.prepcache.LunaPrepCacheApp')"
      ],
      "metadata": {
        "colab": {
          "base_uri": "https://localhost:8080/"
        },
        "id": "spYDGY-0yuza",
        "outputId": "34174ff5-40a8-46c0-fa74-cef1e21e75ac"
      },
      "execution_count": null,
      "outputs": [
        {
          "output_type": "stream",
          "name": "stderr",
          "text": [
            "2022-11-27 14:25:07,448 INFO     pid:75 nb:004:run Running: p2ch11.prepcache.LunaPrepCacheApp(['--num-workers=4']).main()\n",
            "2022-11-27 14:25:09,280 INFO     pid:75 p2ch11.prepcache:043:main Starting LunaPrepCacheApp, Namespace(batch_size=1024, num_workers=4)\n",
            "2022-11-27 14:25:11,250 INFO     pid:75 p2ch11.dsets:185:__init__ <p2ch11.dsets.LunaDataset object at 0x7f062ea27050>: 56938 training samples\n",
            "/usr/local/lib/python3.7/dist-packages/torch/utils/data/dataloader.py:566: UserWarning: This DataLoader will create 4 worker processes in total. Our suggested max number of worker in current system is 2, which is smaller than what this DataLoader is going to create. Please be aware that excessive worker creation might get DataLoader running slow or even freeze, lower the worker number to avoid potential slowness/freeze if necessary.\n",
            "  cpuset_checked))\n",
            "2022-11-27 14:25:11,254 WARNING  pid:75 util.util:221:enumerateWithEstimate Stuffing cache ----/56, starting\n",
            "2022-11-27 14:25:58,492 INFO     pid:75 util.util:241:enumerateWithEstimate Stuffing cache    8/56, done at 2022-11-27 14:29:47, 0:04:13\n",
            "2022-11-27 14:26:46,715 INFO     pid:75 util.util:241:enumerateWithEstimate Stuffing cache   16/56, done at 2022-11-27 14:30:24, 0:04:50\n",
            "2022-11-27 14:28:14,732 INFO     pid:75 util.util:241:enumerateWithEstimate Stuffing cache   32/56, done at 2022-11-27 14:30:22, 0:04:47\n",
            "2022-11-27 14:30:12,142 WARNING  pid:75 util.util:252:enumerateWithEstimate Stuffing cache ----/56, done at 2022-11-27 14:30:12\n",
            "2022-11-27 14:30:12,163 INFO     pid:75 nb:009:run Finished: p2ch11.prepcache.LunaPrepCacheApp.['--num-workers=4']).main()\n"
          ]
        }
      ]
    },
    {
      "cell_type": "code",
      "source": [
        "run('p2ch11.training.LunaTrainingApp', '--epochs=1')"
      ],
      "metadata": {
        "colab": {
          "base_uri": "https://localhost:8080/"
        },
        "id": "1Y3tLY6IyzBb",
        "outputId": "085298b2-cfb4-49c2-8944-268af75bfbfb"
      },
      "execution_count": null,
      "outputs": [
        {
          "output_type": "stream",
          "name": "stderr",
          "text": [
            "2022-11-27 14:31:16,768 INFO     pid:75 nb:004:run Running: p2ch11.training.LunaTrainingApp(['--num-workers=4', '--epochs=1']).main()\n",
            "2022-11-27 14:31:17,795 INFO     pid:75 p2ch11.training:079:initModel Using CUDA; 1 devices.\n",
            "2022-11-27 14:31:22,008 INFO     pid:75 p2ch11.training:138:main Starting LunaTrainingApp, Namespace(batch_size=32, comment='dwlpt', epochs=1, num_workers=4, tb_prefix='p2ch11')\n",
            "2022-11-27 14:31:22,047 INFO     pid:75 p2ch11.dsets:185:__init__ <p2ch11.dsets.LunaDataset object at 0x7f062bbfb890>: 51244 training samples\n",
            "2022-11-27 14:31:22,055 INFO     pid:75 p2ch11.dsets:185:__init__ <p2ch11.dsets.LunaDataset object at 0x7f0634e87210>: 5694 validation samples\n",
            "2022-11-27 14:31:22,056 INFO     pid:75 p2ch11.training:151:main Epoch 1 of 1, 1602/178 batches of size 32*1\n",
            "2022-11-27 14:31:22,070 WARNING  pid:75 util.util:221:enumerateWithEstimate E1 Training ----/1602, starting\n",
            "2022-11-27 14:31:31,407 INFO     pid:75 util.util:241:enumerateWithEstimate E1 Training   16/1602, done at 2022-11-27 14:33:43, 0:02:13\n",
            "2022-11-27 14:31:35,419 INFO     pid:75 util.util:241:enumerateWithEstimate E1 Training   64/1602, done at 2022-11-27 14:33:43, 0:02:13\n",
            "2022-11-27 14:31:51,473 INFO     pid:75 util.util:241:enumerateWithEstimate E1 Training  256/1602, done at 2022-11-27 14:33:43, 0:02:13\n",
            "2022-11-27 14:33:03,969 INFO     pid:75 util.util:241:enumerateWithEstimate E1 Training 1024/1602, done at 2022-11-27 14:33:56, 0:02:26\n",
            "2022-11-27 14:33:59,926 WARNING  pid:75 util.util:252:enumerateWithEstimate E1 Training ----/1602, done at 2022-11-27 14:33:59\n",
            "2022-11-27 14:34:08,072 INFO     pid:75 numexpr.utils:160:_init_num_threads NumExpr defaulting to 2 threads.\n",
            "2022-11-27 14:34:09,258 INFO     pid:75 p2ch11.training:261:logMetrics E1 LunaTrainingApp\n",
            "2022-11-27 14:34:09,450 INFO     pid:75 p2ch11.training:295:logMetrics E1 trn      0.0295 loss,  99.7% correct, \n",
            "2022-11-27 14:34:09,452 INFO     pid:75 p2ch11.training:306:logMetrics E1 trn_neg  0.0041 loss,  99.9% correct (51105 of 51135)\n",
            "2022-11-27 14:34:09,453 INFO     pid:75 p2ch11.training:317:logMetrics E1 trn_pos  11.9486 loss,   0.0% correct (0 of 109)\n",
            "2022-11-27 14:34:11,925 WARNING  pid:75 util.util:221:enumerateWithEstimate E1 Validation  ----/178, starting\n",
            "/usr/local/lib/python3.7/dist-packages/torch/utils/data/dataloader.py:566: UserWarning: This DataLoader will create 4 worker processes in total. Our suggested max number of worker in current system is 2, which is smaller than what this DataLoader is going to create. Please be aware that excessive worker creation might get DataLoader running slow or even freeze, lower the worker number to avoid potential slowness/freeze if necessary.\n",
            "  cpuset_checked))\n",
            "2022-11-27 14:34:14,372 INFO     pid:75 util.util:241:enumerateWithEstimate E1 Validation    16/178, done at 2022-11-27 14:34:31, 0:00:18\n",
            "2022-11-27 14:34:18,169 INFO     pid:75 util.util:241:enumerateWithEstimate E1 Validation    64/178, done at 2022-11-27 14:34:27, 0:00:14\n",
            "2022-11-27 14:34:27,053 WARNING  pid:75 util.util:252:enumerateWithEstimate E1 Validation  ----/178, done at 2022-11-27 14:34:27\n",
            "2022-11-27 14:34:27,058 INFO     pid:75 p2ch11.training:261:logMetrics E1 LunaTrainingApp\n",
            "2022-11-27 14:34:27,060 INFO     pid:75 p2ch11.training:295:logMetrics E1 val      0.0179 loss,  99.8% correct, \n",
            "2022-11-27 14:34:27,063 INFO     pid:75 p2ch11.training:306:logMetrics E1 val_neg  0.0063 loss, 100.0% correct (5681 of 5681)\n",
            "2022-11-27 14:34:27,066 INFO     pid:75 p2ch11.training:317:logMetrics E1 val_pos  5.0721 loss,   0.0% correct (0 of 13)\n",
            "2022-11-27 14:34:27,080 INFO     pid:75 nb:009:run Finished: p2ch11.training.LunaTrainingApp.['--num-workers=4', '--epochs=1']).main()\n"
          ]
        }
      ]
    },
    {
      "cell_type": "code",
      "source": [
        "ls -lA runs/p2ch11/"
      ],
      "metadata": {
        "colab": {
          "base_uri": "https://localhost:8080/"
        },
        "id": "EgxfZXiKzt6M",
        "outputId": "448d9201-f62f-4384-feea-d8f60212d42d"
      },
      "execution_count": null,
      "outputs": [
        {
          "output_type": "stream",
          "name": "stdout",
          "text": [
            "total 8\n",
            "drwxr-xr-x 2 root root 4096 Nov 26 15:31 \u001b[0m\u001b[01;34m2022-11-26_15.28.55-trn_cls-dwlpt\u001b[0m/\n",
            "drwxr-xr-x 2 root root 4096 Nov 26 15:31 \u001b[01;34m2022-11-26_15.28.55-val_cls-dwlpt\u001b[0m/\n"
          ]
        }
      ]
    },
    {
      "cell_type": "markdown",
      "source": [
        "## Tensorboard\n",
        "Tensorboard does not work on Google Colab. This is a known issue so do not spend time trying to fix it. Mazbe one solution could be to download the data in the runs/p2ch11/ folder and use Tensorboard locally."
      ],
      "metadata": {
        "id": "LQwVoIF5pgF3"
      }
    },
    {
      "cell_type": "code",
      "source": [
        "!pip uninstall -y tensorboard-plugin-wit"
      ],
      "metadata": {
        "colab": {
          "base_uri": "https://localhost:8080/"
        },
        "id": "crJEPE5VpE5E",
        "outputId": "9347964e-bc65-44d8-c08a-b522d442f356"
      },
      "execution_count": null,
      "outputs": [
        {
          "output_type": "stream",
          "name": "stdout",
          "text": [
            "Found existing installation: tensorboard-plugin-wit 1.8.1\n",
            "Uninstalling tensorboard-plugin-wit-1.8.1:\n",
            "  Successfully uninstalled tensorboard-plugin-wit-1.8.1\n"
          ]
        }
      ]
    },
    {
      "cell_type": "code",
      "source": [
        "%reload_ext tensorboard"
      ],
      "metadata": {
        "id": "urQfnxtDnZNd"
      },
      "execution_count": null,
      "outputs": []
    },
    {
      "cell_type": "code",
      "source": [
        "%tensorboard --logdir runs"
      ],
      "metadata": {
        "colab": {
          "base_uri": "https://localhost:8080/",
          "height": 839
        },
        "id": "QYB38sFxSl8l",
        "outputId": "24be4921-2c83-4fa1-f8f0-b7536c7f940f"
      },
      "execution_count": null,
      "outputs": [
        {
          "output_type": "display_data",
          "data": {
            "text/plain": [
              "Reusing TensorBoard on port 6008 (pid 720), started 0:00:33 ago. (Use '!kill 720' to kill it.)"
            ]
          },
          "metadata": {}
        },
        {
          "output_type": "display_data",
          "data": {
            "text/plain": [
              "<IPython.core.display.Javascript object>"
            ],
            "application/javascript": [
              "\n",
              "        (async () => {\n",
              "            const url = new URL(await google.colab.kernel.proxyPort(6008, {'cache': true}));\n",
              "            url.searchParams.set('tensorboardColab', 'true');\n",
              "            const iframe = document.createElement('iframe');\n",
              "            iframe.src = url;\n",
              "            iframe.setAttribute('width', '100%');\n",
              "            iframe.setAttribute('height', '800');\n",
              "            iframe.setAttribute('frameborder', 0);\n",
              "            document.body.appendChild(iframe);\n",
              "        })();\n",
              "    "
            ]
          },
          "metadata": {}
        }
      ]
    },
    {
      "cell_type": "code",
      "source": [],
      "metadata": {
        "id": "QuGDzXkSl-nV"
      },
      "execution_count": null,
      "outputs": []
    }
  ]
}