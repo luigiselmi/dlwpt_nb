{
  "nbformat": 4,
  "nbformat_minor": 0,
  "metadata": {
    "colab": {
      "provenance": []
    },
    "kernelspec": {
      "name": "python3",
      "display_name": "Python 3"
    },
    "language_info": {
      "name": "python"
    },
    "gpuClass": "standard",
    "accelerator": "GPU"
  },
  "cells": [
    {
      "cell_type": "markdown",
      "source": [
        "# Metrics\n",
        "Once we have trained our model we want to estimate whether it is good enough for our purposes or whether we have to do something else. The problem with the CT scan dataset is that most voxels aren't nodules. The ratio betweenn positive samples (non nodules) and negative samples (nodules) is 400:1. So when we train our model it doesn't learn very much how to discriminate a nodule from a normal cell. We have to distinguish between false positives (FP) and true positives (TP) and also between false negatives (FN) and true negatives (TN). In our CT scan dataset there are many true negatives and few true positives that can be incorrectly classified resulting in false positives or false negatives. We have to use a different metric than the one we used previously focused only on the true positives or true negatives.\n",
        "\n",
        "## Precision and Recall\n",
        "These are two metrics. Recall (R), also known as sensitivity, represents the ratio between the true positives and the union of the true positives and the false negatives\n",
        "\n",
        "$$R = \\frac{TP}{TP + FN}$$\n",
        "\n",
        "Precision (P) is the ratio between true positives and the union of the true positives and false positives\n",
        "\n",
        "$$P = \\frac{TP}{TP + FP}$$\n",
        "\n",
        "A model can have a high recall or a high precision. If precison or recall is very low, that means our model is not working properly. \n",
        "\n",
        "## F1 score\n",
        "A metric that combines precision and recall is the [F1 score](https://en.wikipedia.org/wiki/F-score). We want a metric that is high when precision or recall is high in a balanced way. The $F_1$ score is defined as the harmonic mean of precision and recall\n",
        "\n",
        "$$F_1 = 2\\frac{1}{\\frac{1}{P} + \\frac{1}{R}} = 2\\frac{PR}{P + R}$$\n",
        "\n",
        "The $F_1$ score ranges in the interval [0, 1] where 0 represents a model with no precision nor recall and 1 represents a model with perfect precision and recall. The F1 score is implemented in the p2ch12/training.py script.\n",
        "\n"
      ],
      "metadata": {
        "id": "OdNMvPYWikf_"
      }
    },
    {
      "cell_type": "code",
      "source": [
        "!git clone https://github.com/deep-learning-with-pytorch/dlwpt-code.git"
      ],
      "metadata": {
        "colab": {
          "base_uri": "https://localhost:8080/"
        },
        "id": "kDg-xtrSh7pp",
        "outputId": "687fcbec-40d1-476b-a2da-deca3efff371"
      },
      "execution_count": null,
      "outputs": [
        {
          "output_type": "stream",
          "name": "stdout",
          "text": [
            "Cloning into 'dlwpt-code'...\n",
            "remote: Enumerating objects: 703, done.\u001b[K\n",
            "remote: Total 703 (delta 0), reused 0 (delta 0), pack-reused 703\u001b[K\n",
            "Receiving objects: 100% (703/703), 176.00 MiB | 16.15 MiB/s, done.\n",
            "Resolving deltas: 100% (309/309), done.\n",
            "Checking out files: 100% (228/228), done.\n"
          ]
        }
      ]
    },
    {
      "cell_type": "markdown",
      "source": [
        "## Downloading the data"
      ],
      "metadata": {
        "id": "ZvMO_NKPwlhz"
      }
    },
    {
      "cell_type": "code",
      "source": [
        "cd dlwpt-code/"
      ],
      "metadata": {
        "colab": {
          "base_uri": "https://localhost:8080/"
        },
        "id": "3iPzNhG3iHge",
        "outputId": "4456a09f-405f-42b2-cf6a-f721504a9975"
      },
      "execution_count": null,
      "outputs": [
        {
          "output_type": "stream",
          "name": "stdout",
          "text": [
            "/content/dlwpt-code\n"
          ]
        }
      ]
    },
    {
      "cell_type": "code",
      "source": [
        "mkdir data-unversioned"
      ],
      "metadata": {
        "id": "HdVR0LNIxHRP"
      },
      "execution_count": null,
      "outputs": []
    },
    {
      "cell_type": "code",
      "source": [
        "cd data-unversioned/"
      ],
      "metadata": {
        "colab": {
          "base_uri": "https://localhost:8080/"
        },
        "id": "TVWZYZO5xIMe",
        "outputId": "68780005-5d54-4880-8896-b5c7d4a0def9"
      },
      "execution_count": null,
      "outputs": [
        {
          "output_type": "stream",
          "name": "stdout",
          "text": [
            "/content/dlwpt-code/data-unversioned\n"
          ]
        }
      ]
    },
    {
      "cell_type": "code",
      "source": [
        "mkdir part2"
      ],
      "metadata": {
        "id": "RtnQUq-yxNuG"
      },
      "execution_count": null,
      "outputs": []
    },
    {
      "cell_type": "code",
      "source": [
        "cd part2"
      ],
      "metadata": {
        "colab": {
          "base_uri": "https://localhost:8080/"
        },
        "id": "QTI-zNnxxRP2",
        "outputId": "0bfd9352-de58-4138-b9b2-bdc940109453"
      },
      "execution_count": null,
      "outputs": [
        {
          "output_type": "stream",
          "name": "stdout",
          "text": [
            "/content/dlwpt-code/data-unversioned/part2\n"
          ]
        }
      ]
    },
    {
      "cell_type": "code",
      "source": [
        "mkdir luna"
      ],
      "metadata": {
        "id": "RE4zJKipxXlm"
      },
      "execution_count": null,
      "outputs": []
    },
    {
      "cell_type": "code",
      "source": [
        "cd luna"
      ],
      "metadata": {
        "id": "PSvrkcLOSR6K",
        "colab": {
          "base_uri": "https://localhost:8080/"
        },
        "outputId": "55456855-9933-4c25-ef15-130493cef8a5"
      },
      "execution_count": null,
      "outputs": [
        {
          "output_type": "stream",
          "name": "stdout",
          "text": [
            "/content/dlwpt-code/data-unversioned/part2/luna\n"
          ]
        }
      ]
    },
    {
      "cell_type": "code",
      "source": [
        "!wget https://zenodo.org/record/3723295/files/subset0.zip"
      ],
      "metadata": {
        "colab": {
          "base_uri": "https://localhost:8080/"
        },
        "id": "MQS8ERQGxi0m",
        "outputId": "c551e3ea-a65d-4d30-b39c-a1338b4b239a"
      },
      "execution_count": null,
      "outputs": [
        {
          "output_type": "stream",
          "name": "stdout",
          "text": [
            "--2022-12-04 18:19:44--  https://zenodo.org/record/3723295/files/subset0.zip\n",
            "Resolving zenodo.org (zenodo.org)... 188.185.124.72\n",
            "Connecting to zenodo.org (zenodo.org)|188.185.124.72|:443... connected.\n",
            "HTTP request sent, awaiting response... 200 OK\n",
            "Length: 6811924508 (6.3G) [application/octet-stream]\n",
            "Saving to: ‘subset0.zip’\n",
            "\n",
            "subset0.zip         100%[===================>]   6.34G  15.4MB/s    in 7m 15s  \n",
            "\n",
            "2022-12-04 18:27:01 (14.9 MB/s) - ‘subset0.zip’ saved [6811924508/6811924508]\n",
            "\n"
          ]
        }
      ]
    },
    {
      "cell_type": "code",
      "source": [
        "!7z x subset0.zip"
      ],
      "metadata": {
        "id": "gZQ3A2R91Ihd",
        "colab": {
          "base_uri": "https://localhost:8080/"
        },
        "outputId": "041291a2-9812-42c4-d55d-60c20f1ccf6e"
      },
      "execution_count": null,
      "outputs": [
        {
          "output_type": "stream",
          "name": "stdout",
          "text": [
            "\n",
            "7-Zip [64] 16.02 : Copyright (c) 1999-2016 Igor Pavlov : 2016-05-21\n",
            "p7zip Version 16.02 (locale=en_US.UTF-8,Utf16=on,HugeFiles=on,64 bits,2 CPUs Intel(R) Xeon(R) CPU @ 2.00GHz (50653),ASM,AES-NI)\n",
            "\n",
            "Scanning the drive for archives:\n",
            "  0M Scan\b\b\b\b\b\b\b\b\b         \b\b\b\b\b\b\b\b\b1 file, 6811924508 bytes (6497 MiB)\n",
            "\n",
            "Extracting archive: subset0.zip\n",
            "\n",
            "ERRORS:\n",
            "Headers Error\n",
            "\n",
            "--\n",
            "Path = subset0.zip\n",
            "Type = zip\n",
            "ERRORS:\n",
            "Headers Error\n",
            "Physical Size = 6811924508\n",
            "64-bit = +\n",
            "\n",
            "  0%\b\b\b\b    \b\b\b\b  0% 1 - subset0/1.3.6.1.4.1.14519.5.2.1.6 . 105756658031515062000744821260.raw\b\b\b\b\b\b\b\b\b\b\b\b\b\b\b\b\b\b\b\b\b\b\b\b\b\b\b\b\b\b\b\b\b\b\b\b\b\b\b\b\b\b\b\b\b\b\b\b\b\b\b\b\b\b\b\b\b\b\b\b\b\b\b\b\b\b\b\b\b\b\b\b\b\b\b\b\b\b\b                                                                               \b\b\b\b\b\b\b\b\b\b\b\b\b\b\b\b\b\b\b\b\b\b\b\b\b\b\b\b\b\b\b\b\b\b\b\b\b\b\b\b\b\b\b\b\b\b\b\b\b\b\b\b\b\b\b\b\b\b\b\b\b\b\b\b\b\b\b\b\b\b\b\b\b\b\b\b\b\b\b  0% 2\b\b\b\b\b\b      \b\b\b\b\b\b  0% 3 - subset0/1.3.6.1.4.1.14519.5.2.1.6 . 108197895896446896160048741492.raw\b\b\b\b\b\b\b\b\b\b\b\b\b\b\b\b\b\b\b\b\b\b\b\b\b\b\b\b\b\b\b\b\b\b\b\b\b\b\b\b\b\b\b\b\b\b\b\b\b\b\b\b\b\b\b\b\b\b\b\b\b\b\b\b\b\b\b\b\b\b\b\b\b\b\b\b\b\b\b                                                                               \b\b\b\b\b\b\b\b\b\b\b\b\b\b\b\b\b\b\b\b\b\b\b\b\b\b\b\b\b\b\b\b\b\b\b\b\b\b\b\b\b\b\b\b\b\b\b\b\b\b\b\b\b\b\b\b\b\b\b\b\b\b\b\b\b\b\b\b\b\b\b\b\b\b\b\b\b\b\b  1% 3 - subset0/1.3.6.1.4.1.14519.5.2.1.6 . 108197895896446896160048741492.raw\b\b\b\b\b\b\b\b\b\b\b\b\b\b\b\b\b\b\b\b\b\b\b\b\b\b\b\b\b\b\b\b\b\b\b\b\b\b\b\b\b\b\b\b\b\b\b\b\b\b\b\b\b\b\b\b\b\b\b\b\b\b\b\b\b\b\b\b\b\b\b\b\b\b\b\b\b\b\b                                                                               \b\b\b\b\b\b\b\b\b\b\b\b\b\b\b\b\b\b\b\b\b\b\b\b\b\b\b\b\b\b\b\b\b\b\b\b\b\b\b\b\b\b\b\b\b\b\b\b\b\b\b\b\b\b\b\b\b\b\b\b\b\b\b\b\b\b\b\b\b\b\b\b\b\b\b\b\b\b\b  1% 5 - subset0/1.3.6.1.4.1.14519.5.2.1.6 . 109002525524522225658609808059.raw\b\b\b\b\b\b\b\b\b\b\b\b\b\b\b\b\b\b\b\b\b\b\b\b\b\b\b\b\b\b\b\b\b\b\b\b\b\b\b\b\b\b\b\b\b\b\b\b\b\b\b\b\b\b\b\b\b\b\b\b\b\b\b\b\b\b\b\b\b\b\b\b\b\b\b\b\b\b\b                                                                               \b\b\b\b\b\b\b\b\b\b\b\b\b\b\b\b\b\b\b\b\b\b\b\b\b\b\b\b\b\b\b\b\b\b\b\b\b\b\b\b\b\b\b\b\b\b\b\b\b\b\b\b\b\b\b\b\b\b\b\b\b\b\b\b\b\b\b\b\b\b\b\b\b\b\b\b\b\b\b  1% 6\b\b\b\b\b\b      \b\b\b\b\b\b  1% 7 - subset0/1.3.6.1.4.1.14519.5.2.1.6 . 111172165674661221381920536987.raw\b\b\b\b\b\b\b\b\b\b\b\b\b\b\b\b\b\b\b\b\b\b\b\b\b\b\b\b\b\b\b\b\b\b\b\b\b\b\b\b\b\b\b\b\b\b\b\b\b\b\b\b\b\b\b\b\b\b\b\b\b\b\b\b\b\b\b\b\b\b\b\b\b\b\b\b\b\b\b                                                                               \b\b\b\b\b\b\b\b\b\b\b\b\b\b\b\b\b\b\b\b\b\b\b\b\b\b\b\b\b\b\b\b\b\b\b\b\b\b\b\b\b\b\b\b\b\b\b\b\b\b\b\b\b\b\b\b\b\b\b\b\b\b\b\b\b\b\b\b\b\b\b\b\b\b\b\b\b\b\b  2% 7 - subset0/1.3.6.1.4.1.14519.5.2.1.6 . 111172165674661221381920536987.raw\b\b\b\b\b\b\b\b\b\b\b\b\b\b\b\b\b\b\b\b\b\b\b\b\b\b\b\b\b\b\b\b\b\b\b\b\b\b\b\b\b\b\b\b\b\b\b\b\b\b\b\b\b\b\b\b\b\b\b\b\b\b\b\b\b\b\b\b\b\b\b\b\b\b\b\b\b\b\b                                                                               \b\b\b\b\b\b\b\b\b\b\b\b\b\b\b\b\b\b\b\b\b\b\b\b\b\b\b\b\b\b\b\b\b\b\b\b\b\b\b\b\b\b\b\b\b\b\b\b\b\b\b\b\b\b\b\b\b\b\b\b\b\b\b\b\b\b\b\b\b\b\b\b\b\b\b\b\b\b\b  3% 7 - subset0/1.3.6.1.4.1.14519.5.2.1.6 . 111172165674661221381920536987.raw\b\b\b\b\b\b\b\b\b\b\b\b\b\b\b\b\b\b\b\b\b\b\b\b\b\b\b\b\b\b\b\b\b\b\b\b\b\b\b\b\b\b\b\b\b\b\b\b\b\b\b\b\b\b\b\b\b\b\b\b\b\b\b\b\b\b\b\b\b\b\b\b\b\b\b\b\b\b\b                                                                               \b\b\b\b\b\b\b\b\b\b\b\b\b\b\b\b\b\b\b\b\b\b\b\b\b\b\b\b\b\b\b\b\b\b\b\b\b\b\b\b\b\b\b\b\b\b\b\b\b\b\b\b\b\b\b\b\b\b\b\b\b\b\b\b\b\b\b\b\b\b\b\b\b\b\b\b\b\b\b  4% 7 - subset0/1.3.6.1.4.1.14519.5.2.1.6 . 111172165674661221381920536987.raw\b\b\b\b\b\b\b\b\b\b\b\b\b\b\b\b\b\b\b\b\b\b\b\b\b\b\b\b\b\b\b\b\b\b\b\b\b\b\b\b\b\b\b\b\b\b\b\b\b\b\b\b\b\b\b\b\b\b\b\b\b\b\b\b\b\b\b\b\b\b\b\b\b\b\b\b\b\b\b                                                                               \b\b\b\b\b\b\b\b\b\b\b\b\b\b\b\b\b\b\b\b\b\b\b\b\b\b\b\b\b\b\b\b\b\b\b\b\b\b\b\b\b\b\b\b\b\b\b\b\b\b\b\b\b\b\b\b\b\b\b\b\b\b\b\b\b\b\b\b\b\b\b\b\b\b\b\b\b\b\b  4% 9 - subset0/1.3.6.1.4.1.14519.5.2.1.6 . 122763913896761494371822656720.raw\b\b\b\b\b\b\b\b\b\b\b\b\b\b\b\b\b\b\b\b\b\b\b\b\b\b\b\b\b\b\b\b\b\b\b\b\b\b\b\b\b\b\b\b\b\b\b\b\b\b\b\b\b\b\b\b\b\b\b\b\b\b\b\b\b\b\b\b\b\b\b\b\b\b\b\b\b\b\b                                                                               \b\b\b\b\b\b\b\b\b\b\b\b\b\b\b\b\b\b\b\b\b\b\b\b\b\b\b\b\b\b\b\b\b\b\b\b\b\b\b\b\b\b\b\b\b\b\b\b\b\b\b\b\b\b\b\b\b\b\b\b\b\b\b\b\b\b\b\b\b\b\b\b\b\b\b\b\b\b\b  4% 10\b\b\b\b\b\b\b       \b\b\b\b\b\b\b  4% 11 - subset0/1.3.6.1.4.1.14519.5.2 . 54461048929153767743874565.raw\b\b\b\b\b\b\b\b\b\b\b\b\b\b\b\b\b\b\b\b\b\b\b\b\b\b\b\b\b\b\b\b\b\b\b\b\b\b\b\b\b\b\b\b\b\b\b\b\b\b\b\b\b\b\b\b\b\b\b\b\b\b\b\b\b\b\b\b\b\b\b\b                                                                        \b\b\b\b\b\b\b\b\b\b\b\b\b\b\b\b\b\b\b\b\b\b\b\b\b\b\b\b\b\b\b\b\b\b\b\b\b\b\b\b\b\b\b\b\b\b\b\b\b\b\b\b\b\b\b\b\b\b\b\b\b\b\b\b\b\b\b\b\b\b\b\b  5% 11 - subset0/1.3.6.1.4.1.14519.5.2 . 54461048929153767743874565.raw\b\b\b\b\b\b\b\b\b\b\b\b\b\b\b\b\b\b\b\b\b\b\b\b\b\b\b\b\b\b\b\b\b\b\b\b\b\b\b\b\b\b\b\b\b\b\b\b\b\b\b\b\b\b\b\b\b\b\b\b\b\b\b\b\b\b\b\b\b\b\b\b                                                                        \b\b\b\b\b\b\b\b\b\b\b\b\b\b\b\b\b\b\b\b\b\b\b\b\b\b\b\b\b\b\b\b\b\b\b\b\b\b\b\b\b\b\b\b\b\b\b\b\b\b\b\b\b\b\b\b\b\b\b\b\b\b\b\b\b\b\b\b\b\b\b\b  5% 12\b\b\b\b\b\b\b       \b\b\b\b\b\b\b  5% 13 - subset0/1.3.6.1.4.1.14519.5.2 . 21460017257137098781143514.raw\b\b\b\b\b\b\b\b\b\b\b\b\b\b\b\b\b\b\b\b\b\b\b\b\b\b\b\b\b\b\b\b\b\b\b\b\b\b\b\b\b\b\b\b\b\b\b\b\b\b\b\b\b\b\b\b\b\b\b\b\b\b\b\b\b\b\b\b\b\b\b\b                                                                        \b\b\b\b\b\b\b\b\b\b\b\b\b\b\b\b\b\b\b\b\b\b\b\b\b\b\b\b\b\b\b\b\b\b\b\b\b\b\b\b\b\b\b\b\b\b\b\b\b\b\b\b\b\b\b\b\b\b\b\b\b\b\b\b\b\b\b\b\b\b\b\b  6% 13 - subset0/1.3.6.1.4.1.14519.5.2 . 21460017257137098781143514.raw\b\b\b\b\b\b\b\b\b\b\b\b\b\b\b\b\b\b\b\b\b\b\b\b\b\b\b\b\b\b\b\b\b\b\b\b\b\b\b\b\b\b\b\b\b\b\b\b\b\b\b\b\b\b\b\b\b\b\b\b\b\b\b\b\b\b\b\b\b\b\b\b                                                                        \b\b\b\b\b\b\b\b\b\b\b\b\b\b\b\b\b\b\b\b\b\b\b\b\b\b\b\b\b\b\b\b\b\b\b\b\b\b\b\b\b\b\b\b\b\b\b\b\b\b\b\b\b\b\b\b\b\b\b\b\b\b\b\b\b\b\b\b\b\b\b\b  6% 15 - subset0/1.3.6.1.4.1.14519.5.2 . 64578931778258890371755354.raw\b\b\b\b\b\b\b\b\b\b\b\b\b\b\b\b\b\b\b\b\b\b\b\b\b\b\b\b\b\b\b\b\b\b\b\b\b\b\b\b\b\b\b\b\b\b\b\b\b\b\b\b\b\b\b\b\b\b\b\b\b\b\b\b\b\b\b\b\b\b\b\b                                                                        \b\b\b\b\b\b\b\b\b\b\b\b\b\b\b\b\b\b\b\b\b\b\b\b\b\b\b\b\b\b\b\b\b\b\b\b\b\b\b\b\b\b\b\b\b\b\b\b\b\b\b\b\b\b\b\b\b\b\b\b\b\b\b\b\b\b\b\b\b\b\b\b  7% 15 - subset0/1.3.6.1.4.1.14519.5.2 . 64578931778258890371755354.raw\b\b\b\b\b\b\b\b\b\b\b\b\b\b\b\b\b\b\b\b\b\b\b\b\b\b\b\b\b\b\b\b\b\b\b\b\b\b\b\b\b\b\b\b\b\b\b\b\b\b\b\b\b\b\b\b\b\b\b\b\b\b\b\b\b\b\b\b\b\b\b\b                                                                        \b\b\b\b\b\b\b\b\b\b\b\b\b\b\b\b\b\b\b\b\b\b\b\b\b\b\b\b\b\b\b\b\b\b\b\b\b\b\b\b\b\b\b\b\b\b\b\b\b\b\b\b\b\b\b\b\b\b\b\b\b\b\b\b\b\b\b\b\b\b\b\b  8% 15 - subset0/1.3.6.1.4.1.14519.5.2 . 64578931778258890371755354.raw\b\b\b\b\b\b\b\b\b\b\b\b\b\b\b\b\b\b\b\b\b\b\b\b\b\b\b\b\b\b\b\b\b\b\b\b\b\b\b\b\b\b\b\b\b\b\b\b\b\b\b\b\b\b\b\b\b\b\b\b\b\b\b\b\b\b\b\b\b\b\b\b                                                                        \b\b\b\b\b\b\b\b\b\b\b\b\b\b\b\b\b\b\b\b\b\b\b\b\b\b\b\b\b\b\b\b\b\b\b\b\b\b\b\b\b\b\b\b\b\b\b\b\b\b\b\b\b\b\b\b\b\b\b\b\b\b\b\b\b\b\b\b\b\b\b\b  9% 15 - subset0/1.3.6.1.4.1.14519.5.2 . 64578931778258890371755354.raw\b\b\b\b\b\b\b\b\b\b\b\b\b\b\b\b\b\b\b\b\b\b\b\b\b\b\b\b\b\b\b\b\b\b\b\b\b\b\b\b\b\b\b\b\b\b\b\b\b\b\b\b\b\b\b\b\b\b\b\b\b\b\b\b\b\b\b\b\b\b\b\b                                                                        \b\b\b\b\b\b\b\b\b\b\b\b\b\b\b\b\b\b\b\b\b\b\b\b\b\b\b\b\b\b\b\b\b\b\b\b\b\b\b\b\b\b\b\b\b\b\b\b\b\b\b\b\b\b\b\b\b\b\b\b\b\b\b\b\b\b\b\b\b\b\b\b  9% 17 - subset0/1.3.6.1.4.1.14519.5.2 . 23902651233986592378348912.raw\b\b\b\b\b\b\b\b\b\b\b\b\b\b\b\b\b\b\b\b\b\b\b\b\b\b\b\b\b\b\b\b\b\b\b\b\b\b\b\b\b\b\b\b\b\b\b\b\b\b\b\b\b\b\b\b\b\b\b\b\b\b\b\b\b\b\b\b\b\b\b\b                                                                        \b\b\b\b\b\b\b\b\b\b\b\b\b\b\b\b\b\b\b\b\b\b\b\b\b\b\b\b\b\b\b\b\b\b\b\b\b\b\b\b\b\b\b\b\b\b\b\b\b\b\b\b\b\b\b\b\b\b\b\b\b\b\b\b\b\b\b\b\b\b\b\b  9% 18\b\b\b\b\b\b\b       \b\b\b\b\b\b\b  9% 19 - subset0/1.3.6.1.4.1.14519.5.2 . 55977637338639741695800950.raw\b\b\b\b\b\b\b\b\b\b\b\b\b\b\b\b\b\b\b\b\b\b\b\b\b\b\b\b\b\b\b\b\b\b\b\b\b\b\b\b\b\b\b\b\b\b\b\b\b\b\b\b\b\b\b\b\b\b\b\b\b\b\b\b\b\b\b\b\b\b\b\b                                                                        \b\b\b\b\b\b\b\b\b\b\b\b\b\b\b\b\b\b\b\b\b\b\b\b\b\b\b\b\b\b\b\b\b\b\b\b\b\b\b\b\b\b\b\b\b\b\b\b\b\b\b\b\b\b\b\b\b\b\b\b\b\b\b\b\b\b\b\b\b\b\b\b 10% 19 - subset0/1.3.6.1.4.1.14519.5.2 . 55977637338639741695800950.raw\b\b\b\b\b\b\b\b\b\b\b\b\b\b\b\b\b\b\b\b\b\b\b\b\b\b\b\b\b\b\b\b\b\b\b\b\b\b\b\b\b\b\b\b\b\b\b\b\b\b\b\b\b\b\b\b\b\b\b\b\b\b\b\b\b\b\b\b\b\b\b\b                                                                        \b\b\b\b\b\b\b\b\b\b\b\b\b\b\b\b\b\b\b\b\b\b\b\b\b\b\b\b\b\b\b\b\b\b\b\b\b\b\b\b\b\b\b\b\b\b\b\b\b\b\b\b\b\b\b\b\b\b\b\b\b\b\b\b\b\b\b\b\b\b\b\b 11% 19 - subset0/1.3.6.1.4.1.14519.5.2 . 55977637338639741695800950.raw\b\b\b\b\b\b\b\b\b\b\b\b\b\b\b\b\b\b\b\b\b\b\b\b\b\b\b\b\b\b\b\b\b\b\b\b\b\b\b\b\b\b\b\b\b\b\b\b\b\b\b\b\b\b\b\b\b\b\b\b\b\b\b\b\b\b\b\b\b\b\b\b                                                                        \b\b\b\b\b\b\b\b\b\b\b\b\b\b\b\b\b\b\b\b\b\b\b\b\b\b\b\b\b\b\b\b\b\b\b\b\b\b\b\b\b\b\b\b\b\b\b\b\b\b\b\b\b\b\b\b\b\b\b\b\b\b\b\b\b\b\b\b\b\b\b\b 11% 20\b\b\b\b\b\b\b       \b\b\b\b\b\b\b 11% 21 - subset0/1.3.6.1.4.1.14519.5.2 . 38550890816550994739120843.raw\b\b\b\b\b\b\b\b\b\b\b\b\b\b\b\b\b\b\b\b\b\b\b\b\b\b\b\b\b\b\b\b\b\b\b\b\b\b\b\b\b\b\b\b\b\b\b\b\b\b\b\b\b\b\b\b\b\b\b\b\b\b\b\b\b\b\b\b\b\b\b\b                                                                        \b\b\b\b\b\b\b\b\b\b\b\b\b\b\b\b\b\b\b\b\b\b\b\b\b\b\b\b\b\b\b\b\b\b\b\b\b\b\b\b\b\b\b\b\b\b\b\b\b\b\b\b\b\b\b\b\b\b\b\b\b\b\b\b\b\b\b\b\b\b\b\b 12% 21 - subset0/1.3.6.1.4.1.14519.5.2 . 38550890816550994739120843.raw\b\b\b\b\b\b\b\b\b\b\b\b\b\b\b\b\b\b\b\b\b\b\b\b\b\b\b\b\b\b\b\b\b\b\b\b\b\b\b\b\b\b\b\b\b\b\b\b\b\b\b\b\b\b\b\b\b\b\b\b\b\b\b\b\b\b\b\b\b\b\b\b                                                                        \b\b\b\b\b\b\b\b\b\b\b\b\b\b\b\b\b\b\b\b\b\b\b\b\b\b\b\b\b\b\b\b\b\b\b\b\b\b\b\b\b\b\b\b\b\b\b\b\b\b\b\b\b\b\b\b\b\b\b\b\b\b\b\b\b\b\b\b\b\b\b\b 12% 22\b\b\b\b\b\b\b       \b\b\b\b\b\b\b 13% 23 - subset0/1.3.6.1.4.1.14519.5.2 . 96872583497382954024478441.raw\b\b\b\b\b\b\b\b\b\b\b\b\b\b\b\b\b\b\b\b\b\b\b\b\b\b\b\b\b\b\b\b\b\b\b\b\b\b\b\b\b\b\b\b\b\b\b\b\b\b\b\b\b\b\b\b\b\b\b\b\b\b\b\b\b\b\b\b\b\b\b\b                                                                        \b\b\b\b\b\b\b\b\b\b\b\b\b\b\b\b\b\b\b\b\b\b\b\b\b\b\b\b\b\b\b\b\b\b\b\b\b\b\b\b\b\b\b\b\b\b\b\b\b\b\b\b\b\b\b\b\b\b\b\b\b\b\b\b\b\b\b\b\b\b\b\b 13% 24\b\b\b\b\b\b\b       \b\b\b\b\b\b\b 13% 25 - subset0/1.3.6.1.4.1.14519.5.2 . 63212752154081977261297097.raw\b\b\b\b\b\b\b\b\b\b\b\b\b\b\b\b\b\b\b\b\b\b\b\b\b\b\b\b\b\b\b\b\b\b\b\b\b\b\b\b\b\b\b\b\b\b\b\b\b\b\b\b\b\b\b\b\b\b\b\b\b\b\b\b\b\b\b\b\b\b\b\b                                                                        \b\b\b\b\b\b\b\b\b\b\b\b\b\b\b\b\b\b\b\b\b\b\b\b\b\b\b\b\b\b\b\b\b\b\b\b\b\b\b\b\b\b\b\b\b\b\b\b\b\b\b\b\b\b\b\b\b\b\b\b\b\b\b\b\b\b\b\b\b\b\b\b 14% 25 - subset0/1.3.6.1.4.1.14519.5.2 . 63212752154081977261297097.raw\b\b\b\b\b\b\b\b\b\b\b\b\b\b\b\b\b\b\b\b\b\b\b\b\b\b\b\b\b\b\b\b\b\b\b\b\b\b\b\b\b\b\b\b\b\b\b\b\b\b\b\b\b\b\b\b\b\b\b\b\b\b\b\b\b\b\b\b\b\b\b\b                                                                        \b\b\b\b\b\b\b\b\b\b\b\b\b\b\b\b\b\b\b\b\b\b\b\b\b\b\b\b\b\b\b\b\b\b\b\b\b\b\b\b\b\b\b\b\b\b\b\b\b\b\b\b\b\b\b\b\b\b\b\b\b\b\b\b\b\b\b\b\b\b\b\b 14% 26\b\b\b\b\b\b\b       \b\b\b\b\b\b\b 14% 27 - subset0/1.3.6.1.4.1.14519.5.2 . 80888843357047811238713686.raw\b\b\b\b\b\b\b\b\b\b\b\b\b\b\b\b\b\b\b\b\b\b\b\b\b\b\b\b\b\b\b\b\b\b\b\b\b\b\b\b\b\b\b\b\b\b\b\b\b\b\b\b\b\b\b\b\b\b\b\b\b\b\b\b\b\b\b\b\b\b\b\b                                                                        \b\b\b\b\b\b\b\b\b\b\b\b\b\b\b\b\b\b\b\b\b\b\b\b\b\b\b\b\b\b\b\b\b\b\b\b\b\b\b\b\b\b\b\b\b\b\b\b\b\b\b\b\b\b\b\b\b\b\b\b\b\b\b\b\b\b\b\b\b\b\b\b 15% 27 - subset0/1.3.6.1.4.1.14519.5.2 . 80888843357047811238713686.raw\b\b\b\b\b\b\b\b\b\b\b\b\b\b\b\b\b\b\b\b\b\b\b\b\b\b\b\b\b\b\b\b\b\b\b\b\b\b\b\b\b\b\b\b\b\b\b\b\b\b\b\b\b\b\b\b\b\b\b\b\b\b\b\b\b\b\b\b\b\b\b\b                                                                        \b\b\b\b\b\b\b\b\b\b\b\b\b\b\b\b\b\b\b\b\b\b\b\b\b\b\b\b\b\b\b\b\b\b\b\b\b\b\b\b\b\b\b\b\b\b\b\b\b\b\b\b\b\b\b\b\b\b\b\b\b\b\b\b\b\b\b\b\b\b\b\b 16% 27 - subset0/1.3.6.1.4.1.14519.5.2 . 80888843357047811238713686.raw\b\b\b\b\b\b\b\b\b\b\b\b\b\b\b\b\b\b\b\b\b\b\b\b\b\b\b\b\b\b\b\b\b\b\b\b\b\b\b\b\b\b\b\b\b\b\b\b\b\b\b\b\b\b\b\b\b\b\b\b\b\b\b\b\b\b\b\b\b\b\b\b                                                                        \b\b\b\b\b\b\b\b\b\b\b\b\b\b\b\b\b\b\b\b\b\b\b\b\b\b\b\b\b\b\b\b\b\b\b\b\b\b\b\b\b\b\b\b\b\b\b\b\b\b\b\b\b\b\b\b\b\b\b\b\b\b\b\b\b\b\b\b\b\b\b\b 16% 29 - subset0/1.3.6.1.4.1.14519.5.2 . 58777898746693365877042411.raw\b\b\b\b\b\b\b\b\b\b\b\b\b\b\b\b\b\b\b\b\b\b\b\b\b\b\b\b\b\b\b\b\b\b\b\b\b\b\b\b\b\b\b\b\b\b\b\b\b\b\b\b\b\b\b\b\b\b\b\b\b\b\b\b\b\b\b\b\b\b\b\b                                                                        \b\b\b\b\b\b\b\b\b\b\b\b\b\b\b\b\b\b\b\b\b\b\b\b\b\b\b\b\b\b\b\b\b\b\b\b\b\b\b\b\b\b\b\b\b\b\b\b\b\b\b\b\b\b\b\b\b\b\b\b\b\b\b\b\b\b\b\b\b\b\b\b 17% 29 - subset0/1.3.6.1.4.1.14519.5.2 . 58777898746693365877042411.raw\b\b\b\b\b\b\b\b\b\b\b\b\b\b\b\b\b\b\b\b\b\b\b\b\b\b\b\b\b\b\b\b\b\b\b\b\b\b\b\b\b\b\b\b\b\b\b\b\b\b\b\b\b\b\b\b\b\b\b\b\b\b\b\b\b\b\b\b\b\b\b\b                                                                        \b\b\b\b\b\b\b\b\b\b\b\b\b\b\b\b\b\b\b\b\b\b\b\b\b\b\b\b\b\b\b\b\b\b\b\b\b\b\b\b\b\b\b\b\b\b\b\b\b\b\b\b\b\b\b\b\b\b\b\b\b\b\b\b\b\b\b\b\b\b\b\b 18% 29 - subset0/1.3.6.1.4.1.14519.5.2 . 58777898746693365877042411.raw\b\b\b\b\b\b\b\b\b\b\b\b\b\b\b\b\b\b\b\b\b\b\b\b\b\b\b\b\b\b\b\b\b\b\b\b\b\b\b\b\b\b\b\b\b\b\b\b\b\b\b\b\b\b\b\b\b\b\b\b\b\b\b\b\b\b\b\b\b\b\b\b                                                                        \b\b\b\b\b\b\b\b\b\b\b\b\b\b\b\b\b\b\b\b\b\b\b\b\b\b\b\b\b\b\b\b\b\b\b\b\b\b\b\b\b\b\b\b\b\b\b\b\b\b\b\b\b\b\b\b\b\b\b\b\b\b\b\b\b\b\b\b\b\b\b\b 18% 30\b\b\b\b\b\b\b       \b\b\b\b\b\b\b 18% 31 - subset0/1.3.6.1.4.1.14519.5.2 . 13436241461669335487719526.raw\b\b\b\b\b\b\b\b\b\b\b\b\b\b\b\b\b\b\b\b\b\b\b\b\b\b\b\b\b\b\b\b\b\b\b\b\b\b\b\b\b\b\b\b\b\b\b\b\b\b\b\b\b\b\b\b\b\b\b\b\b\b\b\b\b\b\b\b\b\b\b\b                                                                        \b\b\b\b\b\b\b\b\b\b\b\b\b\b\b\b\b\b\b\b\b\b\b\b\b\b\b\b\b\b\b\b\b\b\b\b\b\b\b\b\b\b\b\b\b\b\b\b\b\b\b\b\b\b\b\b\b\b\b\b\b\b\b\b\b\b\b\b\b\b\b\b 19% 31 - subset0/1.3.6.1.4.1.14519.5.2 . 13436241461669335487719526.raw\b\b\b\b\b\b\b\b\b\b\b\b\b\b\b\b\b\b\b\b\b\b\b\b\b\b\b\b\b\b\b\b\b\b\b\b\b\b\b\b\b\b\b\b\b\b\b\b\b\b\b\b\b\b\b\b\b\b\b\b\b\b\b\b\b\b\b\b\b\b\b\b                                                                        \b\b\b\b\b\b\b\b\b\b\b\b\b\b\b\b\b\b\b\b\b\b\b\b\b\b\b\b\b\b\b\b\b\b\b\b\b\b\b\b\b\b\b\b\b\b\b\b\b\b\b\b\b\b\b\b\b\b\b\b\b\b\b\b\b\b\b\b\b\b\b\b 19% 32\b\b\b\b\b\b\b       \b\b\b\b\b\b\b 19% 33 - subset0/1.3.6.1.4.1.14519.5.2 . 69661700670042960678408762.raw\b\b\b\b\b\b\b\b\b\b\b\b\b\b\b\b\b\b\b\b\b\b\b\b\b\b\b\b\b\b\b\b\b\b\b\b\b\b\b\b\b\b\b\b\b\b\b\b\b\b\b\b\b\b\b\b\b\b\b\b\b\b\b\b\b\b\b\b\b\b\b\b                                                                        \b\b\b\b\b\b\b\b\b\b\b\b\b\b\b\b\b\b\b\b\b\b\b\b\b\b\b\b\b\b\b\b\b\b\b\b\b\b\b\b\b\b\b\b\b\b\b\b\b\b\b\b\b\b\b\b\b\b\b\b\b\b\b\b\b\b\b\b\b\b\b\b 20% 33 - subset0/1.3.6.1.4.1.14519.5.2 . 69661700670042960678408762.raw\b\b\b\b\b\b\b\b\b\b\b\b\b\b\b\b\b\b\b\b\b\b\b\b\b\b\b\b\b\b\b\b\b\b\b\b\b\b\b\b\b\b\b\b\b\b\b\b\b\b\b\b\b\b\b\b\b\b\b\b\b\b\b\b\b\b\b\b\b\b\b\b                                                                        \b\b\b\b\b\b\b\b\b\b\b\b\b\b\b\b\b\b\b\b\b\b\b\b\b\b\b\b\b\b\b\b\b\b\b\b\b\b\b\b\b\b\b\b\b\b\b\b\b\b\b\b\b\b\b\b\b\b\b\b\b\b\b\b\b\b\b\b\b\b\b\b 20% 34\b\b\b\b\b\b\b       \b\b\b\b\b\b\b 20% 35 - subset0/1.3.6.1.4.1.14519.5.2 . 38612068946916340281098509.raw\b\b\b\b\b\b\b\b\b\b\b\b\b\b\b\b\b\b\b\b\b\b\b\b\b\b\b\b\b\b\b\b\b\b\b\b\b\b\b\b\b\b\b\b\b\b\b\b\b\b\b\b\b\b\b\b\b\b\b\b\b\b\b\b\b\b\b\b\b\b\b\b                                                                        \b\b\b\b\b\b\b\b\b\b\b\b\b\b\b\b\b\b\b\b\b\b\b\b\b\b\b\b\b\b\b\b\b\b\b\b\b\b\b\b\b\b\b\b\b\b\b\b\b\b\b\b\b\b\b\b\b\b\b\b\b\b\b\b\b\b\b\b\b\b\b\b 21% 35 - subset0/1.3.6.1.4.1.14519.5.2 . 38612068946916340281098509.raw\b\b\b\b\b\b\b\b\b\b\b\b\b\b\b\b\b\b\b\b\b\b\b\b\b\b\b\b\b\b\b\b\b\b\b\b\b\b\b\b\b\b\b\b\b\b\b\b\b\b\b\b\b\b\b\b\b\b\b\b\b\b\b\b\b\b\b\b\b\b\b\b                                                                        \b\b\b\b\b\b\b\b\b\b\b\b\b\b\b\b\b\b\b\b\b\b\b\b\b\b\b\b\b\b\b\b\b\b\b\b\b\b\b\b\b\b\b\b\b\b\b\b\b\b\b\b\b\b\b\b\b\b\b\b\b\b\b\b\b\b\b\b\b\b\b\b 21% 36\b\b\b\b\b\b\b       \b\b\b\b\b\b\b 21% 37 - subset0/1.3.6.1.4.1.14519.5.2 . 29221666426688999739595820.raw\b\b\b\b\b\b\b\b\b\b\b\b\b\b\b\b\b\b\b\b\b\b\b\b\b\b\b\b\b\b\b\b\b\b\b\b\b\b\b\b\b\b\b\b\b\b\b\b\b\b\b\b\b\b\b\b\b\b\b\b\b\b\b\b\b\b\b\b\b\b\b\b                                                                        \b\b\b\b\b\b\b\b\b\b\b\b\b\b\b\b\b\b\b\b\b\b\b\b\b\b\b\b\b\b\b\b\b\b\b\b\b\b\b\b\b\b\b\b\b\b\b\b\b\b\b\b\b\b\b\b\b\b\b\b\b\b\b\b\b\b\b\b\b\b\b\b 22% 37 - subset0/1.3.6.1.4.1.14519.5.2 . 29221666426688999739595820.raw\b\b\b\b\b\b\b\b\b\b\b\b\b\b\b\b\b\b\b\b\b\b\b\b\b\b\b\b\b\b\b\b\b\b\b\b\b\b\b\b\b\b\b\b\b\b\b\b\b\b\b\b\b\b\b\b\b\b\b\b\b\b\b\b\b\b\b\b\b\b\b\b                                                                        \b\b\b\b\b\b\b\b\b\b\b\b\b\b\b\b\b\b\b\b\b\b\b\b\b\b\b\b\b\b\b\b\b\b\b\b\b\b\b\b\b\b\b\b\b\b\b\b\b\b\b\b\b\b\b\b\b\b\b\b\b\b\b\b\b\b\b\b\b\b\b\b 23% 37 - subset0/1.3.6.1.4.1.14519.5.2 . 29221666426688999739595820.raw\b\b\b\b\b\b\b\b\b\b\b\b\b\b\b\b\b\b\b\b\b\b\b\b\b\b\b\b\b\b\b\b\b\b\b\b\b\b\b\b\b\b\b\b\b\b\b\b\b\b\b\b\b\b\b\b\b\b\b\b\b\b\b\b\b\b\b\b\b\b\b\b                                                                        \b\b\b\b\b\b\b\b\b\b\b\b\b\b\b\b\b\b\b\b\b\b\b\b\b\b\b\b\b\b\b\b\b\b\b\b\b\b\b\b\b\b\b\b\b\b\b\b\b\b\b\b\b\b\b\b\b\b\b\b\b\b\b\b\b\b\b\b\b\b\b\b 24% 37 - subset0/1.3.6.1.4.1.14519.5.2 . 29221666426688999739595820.raw\b\b\b\b\b\b\b\b\b\b\b\b\b\b\b\b\b\b\b\b\b\b\b\b\b\b\b\b\b\b\b\b\b\b\b\b\b\b\b\b\b\b\b\b\b\b\b\b\b\b\b\b\b\b\b\b\b\b\b\b\b\b\b\b\b\b\b\b\b\b\b\b                                                                        \b\b\b\b\b\b\b\b\b\b\b\b\b\b\b\b\b\b\b\b\b\b\b\b\b\b\b\b\b\b\b\b\b\b\b\b\b\b\b\b\b\b\b\b\b\b\b\b\b\b\b\b\b\b\b\b\b\b\b\b\b\b\b\b\b\b\b\b\b\b\b\b 24% 38\b\b\b\b\b\b\b       \b\b\b\b\b\b\b 24% 39 - subset0/1.3.6.1.4.1.14519.5.2 . 77396354641150280013275227.raw\b\b\b\b\b\b\b\b\b\b\b\b\b\b\b\b\b\b\b\b\b\b\b\b\b\b\b\b\b\b\b\b\b\b\b\b\b\b\b\b\b\b\b\b\b\b\b\b\b\b\b\b\b\b\b\b\b\b\b\b\b\b\b\b\b\b\b\b\b\b\b\b                                                                        \b\b\b\b\b\b\b\b\b\b\b\b\b\b\b\b\b\b\b\b\b\b\b\b\b\b\b\b\b\b\b\b\b\b\b\b\b\b\b\b\b\b\b\b\b\b\b\b\b\b\b\b\b\b\b\b\b\b\b\b\b\b\b\b\b\b\b\b\b\b\b\b 25% 39 - subset0/1.3.6.1.4.1.14519.5.2 . 77396354641150280013275227.raw\b\b\b\b\b\b\b\b\b\b\b\b\b\b\b\b\b\b\b\b\b\b\b\b\b\b\b\b\b\b\b\b\b\b\b\b\b\b\b\b\b\b\b\b\b\b\b\b\b\b\b\b\b\b\b\b\b\b\b\b\b\b\b\b\b\b\b\b\b\b\b\b                                                                        \b\b\b\b\b\b\b\b\b\b\b\b\b\b\b\b\b\b\b\b\b\b\b\b\b\b\b\b\b\b\b\b\b\b\b\b\b\b\b\b\b\b\b\b\b\b\b\b\b\b\b\b\b\b\b\b\b\b\b\b\b\b\b\b\b\b\b\b\b\b\b\b 25% 40\b\b\b\b\b\b\b       \b\b\b\b\b\b\b 25% 41 - subset0/1.3.6.1.4.1.14519.5.2 . 51715205085403623595258748.raw\b\b\b\b\b\b\b\b\b\b\b\b\b\b\b\b\b\b\b\b\b\b\b\b\b\b\b\b\b\b\b\b\b\b\b\b\b\b\b\b\b\b\b\b\b\b\b\b\b\b\b\b\b\b\b\b\b\b\b\b\b\b\b\b\b\b\b\b\b\b\b\b                                                                        \b\b\b\b\b\b\b\b\b\b\b\b\b\b\b\b\b\b\b\b\b\b\b\b\b\b\b\b\b\b\b\b\b\b\b\b\b\b\b\b\b\b\b\b\b\b\b\b\b\b\b\b\b\b\b\b\b\b\b\b\b\b\b\b\b\b\b\b\b\b\b\b 26% 41 - subset0/1.3.6.1.4.1.14519.5.2 . 51715205085403623595258748.raw\b\b\b\b\b\b\b\b\b\b\b\b\b\b\b\b\b\b\b\b\b\b\b\b\b\b\b\b\b\b\b\b\b\b\b\b\b\b\b\b\b\b\b\b\b\b\b\b\b\b\b\b\b\b\b\b\b\b\b\b\b\b\b\b\b\b\b\b\b\b\b\b                                                                        \b\b\b\b\b\b\b\b\b\b\b\b\b\b\b\b\b\b\b\b\b\b\b\b\b\b\b\b\b\b\b\b\b\b\b\b\b\b\b\b\b\b\b\b\b\b\b\b\b\b\b\b\b\b\b\b\b\b\b\b\b\b\b\b\b\b\b\b\b\b\b\b 26% 42\b\b\b\b\b\b\b       \b\b\b\b\b\b\b 26% 43 - subset0/1.3.6.1.4.1.14519.5.2 . 09889686363159853715266493.raw\b\b\b\b\b\b\b\b\b\b\b\b\b\b\b\b\b\b\b\b\b\b\b\b\b\b\b\b\b\b\b\b\b\b\b\b\b\b\b\b\b\b\b\b\b\b\b\b\b\b\b\b\b\b\b\b\b\b\b\b\b\b\b\b\b\b\b\b\b\b\b\b                                                                        \b\b\b\b\b\b\b\b\b\b\b\b\b\b\b\b\b\b\b\b\b\b\b\b\b\b\b\b\b\b\b\b\b\b\b\b\b\b\b\b\b\b\b\b\b\b\b\b\b\b\b\b\b\b\b\b\b\b\b\b\b\b\b\b\b\b\b\b\b\b\b\b 26% 44\b\b\b\b\b\b\b       \b\b\b\b\b\b\b 26% 45 - subset0/1.3.6.1.4.1.14519.5.2 . 76349804761988217597754952.raw\b\b\b\b\b\b\b\b\b\b\b\b\b\b\b\b\b\b\b\b\b\b\b\b\b\b\b\b\b\b\b\b\b\b\b\b\b\b\b\b\b\b\b\b\b\b\b\b\b\b\b\b\b\b\b\b\b\b\b\b\b\b\b\b\b\b\b\b\b\b\b\b                                                                        \b\b\b\b\b\b\b\b\b\b\b\b\b\b\b\b\b\b\b\b\b\b\b\b\b\b\b\b\b\b\b\b\b\b\b\b\b\b\b\b\b\b\b\b\b\b\b\b\b\b\b\b\b\b\b\b\b\b\b\b\b\b\b\b\b\b\b\b\b\b\b\b 27% 45 - subset0/1.3.6.1.4.1.14519.5.2 . 76349804761988217597754952.raw\b\b\b\b\b\b\b\b\b\b\b\b\b\b\b\b\b\b\b\b\b\b\b\b\b\b\b\b\b\b\b\b\b\b\b\b\b\b\b\b\b\b\b\b\b\b\b\b\b\b\b\b\b\b\b\b\b\b\b\b\b\b\b\b\b\b\b\b\b\b\b\b                                                                        \b\b\b\b\b\b\b\b\b\b\b\b\b\b\b\b\b\b\b\b\b\b\b\b\b\b\b\b\b\b\b\b\b\b\b\b\b\b\b\b\b\b\b\b\b\b\b\b\b\b\b\b\b\b\b\b\b\b\b\b\b\b\b\b\b\b\b\b\b\b\b\b 27% 46\b\b\b\b\b\b\b       \b\b\b\b\b\b\b 28% 47 - subset0/1.3.6.1.4.1.14519.5.2 . 40094986948071643661798326.raw\b\b\b\b\b\b\b\b\b\b\b\b\b\b\b\b\b\b\b\b\b\b\b\b\b\b\b\b\b\b\b\b\b\b\b\b\b\b\b\b\b\b\b\b\b\b\b\b\b\b\b\b\b\b\b\b\b\b\b\b\b\b\b\b\b\b\b\b\b\b\b\b                                                                        \b\b\b\b\b\b\b\b\b\b\b\b\b\b\b\b\b\b\b\b\b\b\b\b\b\b\b\b\b\b\b\b\b\b\b\b\b\b\b\b\b\b\b\b\b\b\b\b\b\b\b\b\b\b\b\b\b\b\b\b\b\b\b\b\b\b\b\b\b\b\b\b 28% 48\b\b\b\b\b\b\b       \b\b\b\b\b\b\b 28% 49 - subset0/1.3.6.1.4.1.14519.5.2 . 65340552956447447896167830.raw\b\b\b\b\b\b\b\b\b\b\b\b\b\b\b\b\b\b\b\b\b\b\b\b\b\b\b\b\b\b\b\b\b\b\b\b\b\b\b\b\b\b\b\b\b\b\b\b\b\b\b\b\b\b\b\b\b\b\b\b\b\b\b\b\b\b\b\b\b\b\b\b                                                                        \b\b\b\b\b\b\b\b\b\b\b\b\b\b\b\b\b\b\b\b\b\b\b\b\b\b\b\b\b\b\b\b\b\b\b\b\b\b\b\b\b\b\b\b\b\b\b\b\b\b\b\b\b\b\b\b\b\b\b\b\b\b\b\b\b\b\b\b\b\b\b\b 29% 49 - subset0/1.3.6.1.4.1.14519.5.2 . 65340552956447447896167830.raw\b\b\b\b\b\b\b\b\b\b\b\b\b\b\b\b\b\b\b\b\b\b\b\b\b\b\b\b\b\b\b\b\b\b\b\b\b\b\b\b\b\b\b\b\b\b\b\b\b\b\b\b\b\b\b\b\b\b\b\b\b\b\b\b\b\b\b\b\b\b\b\b                                                                        \b\b\b\b\b\b\b\b\b\b\b\b\b\b\b\b\b\b\b\b\b\b\b\b\b\b\b\b\b\b\b\b\b\b\b\b\b\b\b\b\b\b\b\b\b\b\b\b\b\b\b\b\b\b\b\b\b\b\b\b\b\b\b\b\b\b\b\b\b\b\b\b 29% 50\b\b\b\b\b\b\b       \b\b\b\b\b\b\b 29% 51 - subset0/1.3.6.1.4.1.14519.5.2 . 11684116768680758082619196.raw\b\b\b\b\b\b\b\b\b\b\b\b\b\b\b\b\b\b\b\b\b\b\b\b\b\b\b\b\b\b\b\b\b\b\b\b\b\b\b\b\b\b\b\b\b\b\b\b\b\b\b\b\b\b\b\b\b\b\b\b\b\b\b\b\b\b\b\b\b\b\b\b                                                                        \b\b\b\b\b\b\b\b\b\b\b\b\b\b\b\b\b\b\b\b\b\b\b\b\b\b\b\b\b\b\b\b\b\b\b\b\b\b\b\b\b\b\b\b\b\b\b\b\b\b\b\b\b\b\b\b\b\b\b\b\b\b\b\b\b\b\b\b\b\b\b\b 29% 52\b\b\b\b\b\b\b       \b\b\b\b\b\b\b 30% 53 - subset0/1.3.6.1.4.1.14519.5.2 . 37812047373739447725050963.raw\b\b\b\b\b\b\b\b\b\b\b\b\b\b\b\b\b\b\b\b\b\b\b\b\b\b\b\b\b\b\b\b\b\b\b\b\b\b\b\b\b\b\b\b\b\b\b\b\b\b\b\b\b\b\b\b\b\b\b\b\b\b\b\b\b\b\b\b\b\b\b\b                                                                        \b\b\b\b\b\b\b\b\b\b\b\b\b\b\b\b\b\b\b\b\b\b\b\b\b\b\b\b\b\b\b\b\b\b\b\b\b\b\b\b\b\b\b\b\b\b\b\b\b\b\b\b\b\b\b\b\b\b\b\b\b\b\b\b\b\b\b\b\b\b\b\b 30% 54\b\b\b\b\b\b\b       \b\b\b\b\b\b\b 30% 55 - subset0/1.3.6.1.4.1.14519.5.2 . 40617640021803112060161074.raw\b\b\b\b\b\b\b\b\b\b\b\b\b\b\b\b\b\b\b\b\b\b\b\b\b\b\b\b\b\b\b\b\b\b\b\b\b\b\b\b\b\b\b\b\b\b\b\b\b\b\b\b\b\b\b\b\b\b\b\b\b\b\b\b\b\b\b\b\b\b\b\b                                                                        \b\b\b\b\b\b\b\b\b\b\b\b\b\b\b\b\b\b\b\b\b\b\b\b\b\b\b\b\b\b\b\b\b\b\b\b\b\b\b\b\b\b\b\b\b\b\b\b\b\b\b\b\b\b\b\b\b\b\b\b\b\b\b\b\b\b\b\b\b\b\b\b 31% 55 - subset0/1.3.6.1.4.1.14519.5.2 . 40617640021803112060161074.raw\b\b\b\b\b\b\b\b\b\b\b\b\b\b\b\b\b\b\b\b\b\b\b\b\b\b\b\b\b\b\b\b\b\b\b\b\b\b\b\b\b\b\b\b\b\b\b\b\b\b\b\b\b\b\b\b\b\b\b\b\b\b\b\b\b\b\b\b\b\b\b\b                                                                        \b\b\b\b\b\b\b\b\b\b\b\b\b\b\b\b\b\b\b\b\b\b\b\b\b\b\b\b\b\b\b\b\b\b\b\b\b\b\b\b\b\b\b\b\b\b\b\b\b\b\b\b\b\b\b\b\b\b\b\b\b\b\b\b\b\b\b\b\b\b\b\b 31% 56\b\b\b\b\b\b\b       \b\b\b\b\b\b\b 32% 57 - subset0/1.3.6.1.4.1.14519.5.2 . 82370221919561230873289517.raw\b\b\b\b\b\b\b\b\b\b\b\b\b\b\b\b\b\b\b\b\b\b\b\b\b\b\b\b\b\b\b\b\b\b\b\b\b\b\b\b\b\b\b\b\b\b\b\b\b\b\b\b\b\b\b\b\b\b\b\b\b\b\b\b\b\b\b\b\b\b\b\b                                                                        \b\b\b\b\b\b\b\b\b\b\b\b\b\b\b\b\b\b\b\b\b\b\b\b\b\b\b\b\b\b\b\b\b\b\b\b\b\b\b\b\b\b\b\b\b\b\b\b\b\b\b\b\b\b\b\b\b\b\b\b\b\b\b\b\b\b\b\b\b\b\b\b 33% 57 - subset0/1.3.6.1.4.1.14519.5.2 . 82370221919561230873289517.raw\b\b\b\b\b\b\b\b\b\b\b\b\b\b\b\b\b\b\b\b\b\b\b\b\b\b\b\b\b\b\b\b\b\b\b\b\b\b\b\b\b\b\b\b\b\b\b\b\b\b\b\b\b\b\b\b\b\b\b\b\b\b\b\b\b\b\b\b\b\b\b\b                                                                        \b\b\b\b\b\b\b\b\b\b\b\b\b\b\b\b\b\b\b\b\b\b\b\b\b\b\b\b\b\b\b\b\b\b\b\b\b\b\b\b\b\b\b\b\b\b\b\b\b\b\b\b\b\b\b\b\b\b\b\b\b\b\b\b\b\b\b\b\b\b\b\b 33% 59 - subset0/1.3.6.1.4.1.14519.5.2 . 87313261026510628926082729.raw\b\b\b\b\b\b\b\b\b\b\b\b\b\b\b\b\b\b\b\b\b\b\b\b\b\b\b\b\b\b\b\b\b\b\b\b\b\b\b\b\b\b\b\b\b\b\b\b\b\b\b\b\b\b\b\b\b\b\b\b\b\b\b\b\b\b\b\b\b\b\b\b                                                                        \b\b\b\b\b\b\b\b\b\b\b\b\b\b\b\b\b\b\b\b\b\b\b\b\b\b\b\b\b\b\b\b\b\b\b\b\b\b\b\b\b\b\b\b\b\b\b\b\b\b\b\b\b\b\b\b\b\b\b\b\b\b\b\b\b\b\b\b\b\b\b\b 34% 59 - subset0/1.3.6.1.4.1.14519.5.2 . 87313261026510628926082729.raw\b\b\b\b\b\b\b\b\b\b\b\b\b\b\b\b\b\b\b\b\b\b\b\b\b\b\b\b\b\b\b\b\b\b\b\b\b\b\b\b\b\b\b\b\b\b\b\b\b\b\b\b\b\b\b\b\b\b\b\b\b\b\b\b\b\b\b\b\b\b\b\b                                                                        \b\b\b\b\b\b\b\b\b\b\b\b\b\b\b\b\b\b\b\b\b\b\b\b\b\b\b\b\b\b\b\b\b\b\b\b\b\b\b\b\b\b\b\b\b\b\b\b\b\b\b\b\b\b\b\b\b\b\b\b\b\b\b\b\b\b\b\b\b\b\b\b 34% 60\b\b\b\b\b\b\b       \b\b\b\b\b\b\b 34% 61 - subset0/1.3.6.1.4.1.14519.5.2 . 09753224298157409438012179.raw\b\b\b\b\b\b\b\b\b\b\b\b\b\b\b\b\b\b\b\b\b\b\b\b\b\b\b\b\b\b\b\b\b\b\b\b\b\b\b\b\b\b\b\b\b\b\b\b\b\b\b\b\b\b\b\b\b\b\b\b\b\b\b\b\b\b\b\b\b\b\b\b                                                                        \b\b\b\b\b\b\b\b\b\b\b\b\b\b\b\b\b\b\b\b\b\b\b\b\b\b\b\b\b\b\b\b\b\b\b\b\b\b\b\b\b\b\b\b\b\b\b\b\b\b\b\b\b\b\b\b\b\b\b\b\b\b\b\b\b\b\b\b\b\b\b\b 34% 62\b\b\b\b\b\b\b       \b\b\b\b\b\b\b 35% 63 - subset0/1.3.6.1.4.1.14519.5.2 . 62600322799211676960828223.raw\b\b\b\b\b\b\b\b\b\b\b\b\b\b\b\b\b\b\b\b\b\b\b\b\b\b\b\b\b\b\b\b\b\b\b\b\b\b\b\b\b\b\b\b\b\b\b\b\b\b\b\b\b\b\b\b\b\b\b\b\b\b\b\b\b\b\b\b\b\b\b\b                                                                        \b\b\b\b\b\b\b\b\b\b\b\b\b\b\b\b\b\b\b\b\b\b\b\b\b\b\b\b\b\b\b\b\b\b\b\b\b\b\b\b\b\b\b\b\b\b\b\b\b\b\b\b\b\b\b\b\b\b\b\b\b\b\b\b\b\b\b\b\b\b\b\b 35% 64\b\b\b\b\b\b\b       \b\b\b\b\b\b\b 35% 65 - subset0/1.3.6.1.4.1.14519.5.2 . 45134739451754302647733304.raw\b\b\b\b\b\b\b\b\b\b\b\b\b\b\b\b\b\b\b\b\b\b\b\b\b\b\b\b\b\b\b\b\b\b\b\b\b\b\b\b\b\b\b\b\b\b\b\b\b\b\b\b\b\b\b\b\b\b\b\b\b\b\b\b\b\b\b\b\b\b\b\b                                                                        \b\b\b\b\b\b\b\b\b\b\b\b\b\b\b\b\b\b\b\b\b\b\b\b\b\b\b\b\b\b\b\b\b\b\b\b\b\b\b\b\b\b\b\b\b\b\b\b\b\b\b\b\b\b\b\b\b\b\b\b\b\b\b\b\b\b\b\b\b\b\b\b 36% 65 - subset0/1.3.6.1.4.1.14519.5.2 . 45134739451754302647733304.raw\b\b\b\b\b\b\b\b\b\b\b\b\b\b\b\b\b\b\b\b\b\b\b\b\b\b\b\b\b\b\b\b\b\b\b\b\b\b\b\b\b\b\b\b\b\b\b\b\b\b\b\b\b\b\b\b\b\b\b\b\b\b\b\b\b\b\b\b\b\b\b\b                                                                        \b\b\b\b\b\b\b\b\b\b\b\b\b\b\b\b\b\b\b\b\b\b\b\b\b\b\b\b\b\b\b\b\b\b\b\b\b\b\b\b\b\b\b\b\b\b\b\b\b\b\b\b\b\b\b\b\b\b\b\b\b\b\b\b\b\b\b\b\b\b\b\b 36% 66\b\b\b\b\b\b\b       \b\b\b\b\b\b\b 37% 67 - subset0/1.3.6.1.4.1.14519.5.2 . 22526736091851696274044574.raw\b\b\b\b\b\b\b\b\b\b\b\b\b\b\b\b\b\b\b\b\b\b\b\b\b\b\b\b\b\b\b\b\b\b\b\b\b\b\b\b\b\b\b\b\b\b\b\b\b\b\b\b\b\b\b\b\b\b\b\b\b\b\b\b\b\b\b\b\b\b\b\b                                                                        \b\b\b\b\b\b\b\b\b\b\b\b\b\b\b\b\b\b\b\b\b\b\b\b\b\b\b\b\b\b\b\b\b\b\b\b\b\b\b\b\b\b\b\b\b\b\b\b\b\b\b\b\b\b\b\b\b\b\b\b\b\b\b\b\b\b\b\b\b\b\b\b 37% 68\b\b\b\b\b\b\b       \b\b\b\b\b\b\b 37% 69 - subset0/1.3.6.1.4.1.14519.5.2 . 70579760883349458693655367.raw\b\b\b\b\b\b\b\b\b\b\b\b\b\b\b\b\b\b\b\b\b\b\b\b\b\b\b\b\b\b\b\b\b\b\b\b\b\b\b\b\b\b\b\b\b\b\b\b\b\b\b\b\b\b\b\b\b\b\b\b\b\b\b\b\b\b\b\b\b\b\b\b                                                                        \b\b\b\b\b\b\b\b\b\b\b\b\b\b\b\b\b\b\b\b\b\b\b\b\b\b\b\b\b\b\b\b\b\b\b\b\b\b\b\b\b\b\b\b\b\b\b\b\b\b\b\b\b\b\b\b\b\b\b\b\b\b\b\b\b\b\b\b\b\b\b\b 38% 69 - subset0/1.3.6.1.4.1.14519.5.2 . 70579760883349458693655367.raw\b\b\b\b\b\b\b\b\b\b\b\b\b\b\b\b\b\b\b\b\b\b\b\b\b\b\b\b\b\b\b\b\b\b\b\b\b\b\b\b\b\b\b\b\b\b\b\b\b\b\b\b\b\b\b\b\b\b\b\b\b\b\b\b\b\b\b\b\b\b\b\b                                                                        \b\b\b\b\b\b\b\b\b\b\b\b\b\b\b\b\b\b\b\b\b\b\b\b\b\b\b\b\b\b\b\b\b\b\b\b\b\b\b\b\b\b\b\b\b\b\b\b\b\b\b\b\b\b\b\b\b\b\b\b\b\b\b\b\b\b\b\b\b\b\b\b 39% 69 - subset0/1.3.6.1.4.1.14519.5.2 . 70579760883349458693655367.raw\b\b\b\b\b\b\b\b\b\b\b\b\b\b\b\b\b\b\b\b\b\b\b\b\b\b\b\b\b\b\b\b\b\b\b\b\b\b\b\b\b\b\b\b\b\b\b\b\b\b\b\b\b\b\b\b\b\b\b\b\b\b\b\b\b\b\b\b\b\b\b\b                                                                        \b\b\b\b\b\b\b\b\b\b\b\b\b\b\b\b\b\b\b\b\b\b\b\b\b\b\b\b\b\b\b\b\b\b\b\b\b\b\b\b\b\b\b\b\b\b\b\b\b\b\b\b\b\b\b\b\b\b\b\b\b\b\b\b\b\b\b\b\b\b\b\b 39% 71 - subset0/1.3.6.1.4.1.14519.5.2 . 30219848512542668813996730.raw\b\b\b\b\b\b\b\b\b\b\b\b\b\b\b\b\b\b\b\b\b\b\b\b\b\b\b\b\b\b\b\b\b\b\b\b\b\b\b\b\b\b\b\b\b\b\b\b\b\b\b\b\b\b\b\b\b\b\b\b\b\b\b\b\b\b\b\b\b\b\b\b                                                                        \b\b\b\b\b\b\b\b\b\b\b\b\b\b\b\b\b\b\b\b\b\b\b\b\b\b\b\b\b\b\b\b\b\b\b\b\b\b\b\b\b\b\b\b\b\b\b\b\b\b\b\b\b\b\b\b\b\b\b\b\b\b\b\b\b\b\b\b\b\b\b\b 40% 71 - subset0/1.3.6.1.4.1.14519.5.2 . 30219848512542668813996730.raw\b\b\b\b\b\b\b\b\b\b\b\b\b\b\b\b\b\b\b\b\b\b\b\b\b\b\b\b\b\b\b\b\b\b\b\b\b\b\b\b\b\b\b\b\b\b\b\b\b\b\b\b\b\b\b\b\b\b\b\b\b\b\b\b\b\b\b\b\b\b\b\b                                                                        \b\b\b\b\b\b\b\b\b\b\b\b\b\b\b\b\b\b\b\b\b\b\b\b\b\b\b\b\b\b\b\b\b\b\b\b\b\b\b\b\b\b\b\b\b\b\b\b\b\b\b\b\b\b\b\b\b\b\b\b\b\b\b\b\b\b\b\b\b\b\b\b 41% 71 - subset0/1.3.6.1.4.1.14519.5.2 . 30219848512542668813996730.raw\b\b\b\b\b\b\b\b\b\b\b\b\b\b\b\b\b\b\b\b\b\b\b\b\b\b\b\b\b\b\b\b\b\b\b\b\b\b\b\b\b\b\b\b\b\b\b\b\b\b\b\b\b\b\b\b\b\b\b\b\b\b\b\b\b\b\b\b\b\b\b\b                                                                        \b\b\b\b\b\b\b\b\b\b\b\b\b\b\b\b\b\b\b\b\b\b\b\b\b\b\b\b\b\b\b\b\b\b\b\b\b\b\b\b\b\b\b\b\b\b\b\b\b\b\b\b\b\b\b\b\b\b\b\b\b\b\b\b\b\b\b\b\b\b\b\b 41% 72\b\b\b\b\b\b\b       \b\b\b\b\b\b\b 41% 73 - subset0/1.3.6.1.4.1.14519.5.2 . 38451287314206124484591986.raw\b\b\b\b\b\b\b\b\b\b\b\b\b\b\b\b\b\b\b\b\b\b\b\b\b\b\b\b\b\b\b\b\b\b\b\b\b\b\b\b\b\b\b\b\b\b\b\b\b\b\b\b\b\b\b\b\b\b\b\b\b\b\b\b\b\b\b\b\b\b\b\b                                                                        \b\b\b\b\b\b\b\b\b\b\b\b\b\b\b\b\b\b\b\b\b\b\b\b\b\b\b\b\b\b\b\b\b\b\b\b\b\b\b\b\b\b\b\b\b\b\b\b\b\b\b\b\b\b\b\b\b\b\b\b\b\b\b\b\b\b\b\b\b\b\b\b 42% 73 - subset0/1.3.6.1.4.1.14519.5.2 . 38451287314206124484591986.raw\b\b\b\b\b\b\b\b\b\b\b\b\b\b\b\b\b\b\b\b\b\b\b\b\b\b\b\b\b\b\b\b\b\b\b\b\b\b\b\b\b\b\b\b\b\b\b\b\b\b\b\b\b\b\b\b\b\b\b\b\b\b\b\b\b\b\b\b\b\b\b\b                                                                        \b\b\b\b\b\b\b\b\b\b\b\b\b\b\b\b\b\b\b\b\b\b\b\b\b\b\b\b\b\b\b\b\b\b\b\b\b\b\b\b\b\b\b\b\b\b\b\b\b\b\b\b\b\b\b\b\b\b\b\b\b\b\b\b\b\b\b\b\b\b\b\b 42% 74\b\b\b\b\b\b\b       \b\b\b\b\b\b\b 42% 75 - subset0/1.3.6.1.4.1.14519.5.2 . 63365157630276148828903732.raw\b\b\b\b\b\b\b\b\b\b\b\b\b\b\b\b\b\b\b\b\b\b\b\b\b\b\b\b\b\b\b\b\b\b\b\b\b\b\b\b\b\b\b\b\b\b\b\b\b\b\b\b\b\b\b\b\b\b\b\b\b\b\b\b\b\b\b\b\b\b\b\b                                                                        \b\b\b\b\b\b\b\b\b\b\b\b\b\b\b\b\b\b\b\b\b\b\b\b\b\b\b\b\b\b\b\b\b\b\b\b\b\b\b\b\b\b\b\b\b\b\b\b\b\b\b\b\b\b\b\b\b\b\b\b\b\b\b\b\b\b\b\b\b\b\b\b 43% 75 - subset0/1.3.6.1.4.1.14519.5.2 . 63365157630276148828903732.raw\b\b\b\b\b\b\b\b\b\b\b\b\b\b\b\b\b\b\b\b\b\b\b\b\b\b\b\b\b\b\b\b\b\b\b\b\b\b\b\b\b\b\b\b\b\b\b\b\b\b\b\b\b\b\b\b\b\b\b\b\b\b\b\b\b\b\b\b\b\b\b\b                                                                        \b\b\b\b\b\b\b\b\b\b\b\b\b\b\b\b\b\b\b\b\b\b\b\b\b\b\b\b\b\b\b\b\b\b\b\b\b\b\b\b\b\b\b\b\b\b\b\b\b\b\b\b\b\b\b\b\b\b\b\b\b\b\b\b\b\b\b\b\b\b\b\b 43% 76\b\b\b\b\b\b\b       \b\b\b\b\b\b\b 43% 77 - subset0/1.3.6.1.4.1.14519.5.2 . 89294231892620436462818860.raw\b\b\b\b\b\b\b\b\b\b\b\b\b\b\b\b\b\b\b\b\b\b\b\b\b\b\b\b\b\b\b\b\b\b\b\b\b\b\b\b\b\b\b\b\b\b\b\b\b\b\b\b\b\b\b\b\b\b\b\b\b\b\b\b\b\b\b\b\b\b\b\b                                                                        \b\b\b\b\b\b\b\b\b\b\b\b\b\b\b\b\b\b\b\b\b\b\b\b\b\b\b\b\b\b\b\b\b\b\b\b\b\b\b\b\b\b\b\b\b\b\b\b\b\b\b\b\b\b\b\b\b\b\b\b\b\b\b\b\b\b\b\b\b\b\b\b 44% 77 - subset0/1.3.6.1.4.1.14519.5.2 . 89294231892620436462818860.raw\b\b\b\b\b\b\b\b\b\b\b\b\b\b\b\b\b\b\b\b\b\b\b\b\b\b\b\b\b\b\b\b\b\b\b\b\b\b\b\b\b\b\b\b\b\b\b\b\b\b\b\b\b\b\b\b\b\b\b\b\b\b\b\b\b\b\b\b\b\b\b\b                                                                        \b\b\b\b\b\b\b\b\b\b\b\b\b\b\b\b\b\b\b\b\b\b\b\b\b\b\b\b\b\b\b\b\b\b\b\b\b\b\b\b\b\b\b\b\b\b\b\b\b\b\b\b\b\b\b\b\b\b\b\b\b\b\b\b\b\b\b\b\b\b\b\b 44% 79 - subset0/1.3.6.1.4.1.14519.5.2 . 42302501586336192628818865.raw\b\b\b\b\b\b\b\b\b\b\b\b\b\b\b\b\b\b\b\b\b\b\b\b\b\b\b\b\b\b\b\b\b\b\b\b\b\b\b\b\b\b\b\b\b\b\b\b\b\b\b\b\b\b\b\b\b\b\b\b\b\b\b\b\b\b\b\b\b\b\b\b                                                                        \b\b\b\b\b\b\b\b\b\b\b\b\b\b\b\b\b\b\b\b\b\b\b\b\b\b\b\b\b\b\b\b\b\b\b\b\b\b\b\b\b\b\b\b\b\b\b\b\b\b\b\b\b\b\b\b\b\b\b\b\b\b\b\b\b\b\b\b\b\b\b\b 45% 79 - subset0/1.3.6.1.4.1.14519.5.2 . 42302501586336192628818865.raw\b\b\b\b\b\b\b\b\b\b\b\b\b\b\b\b\b\b\b\b\b\b\b\b\b\b\b\b\b\b\b\b\b\b\b\b\b\b\b\b\b\b\b\b\b\b\b\b\b\b\b\b\b\b\b\b\b\b\b\b\b\b\b\b\b\b\b\b\b\b\b\b                                                                        \b\b\b\b\b\b\b\b\b\b\b\b\b\b\b\b\b\b\b\b\b\b\b\b\b\b\b\b\b\b\b\b\b\b\b\b\b\b\b\b\b\b\b\b\b\b\b\b\b\b\b\b\b\b\b\b\b\b\b\b\b\b\b\b\b\b\b\b\b\b\b\b 45% 80\b\b\b\b\b\b\b       \b\b\b\b\b\b\b 45% 81 - subset0/1.3.6.1.4.1.14519.5.2 . 45975068759205899107114231.raw\b\b\b\b\b\b\b\b\b\b\b\b\b\b\b\b\b\b\b\b\b\b\b\b\b\b\b\b\b\b\b\b\b\b\b\b\b\b\b\b\b\b\b\b\b\b\b\b\b\b\b\b\b\b\b\b\b\b\b\b\b\b\b\b\b\b\b\b\b\b\b\b                                                                        \b\b\b\b\b\b\b\b\b\b\b\b\b\b\b\b\b\b\b\b\b\b\b\b\b\b\b\b\b\b\b\b\b\b\b\b\b\b\b\b\b\b\b\b\b\b\b\b\b\b\b\b\b\b\b\b\b\b\b\b\b\b\b\b\b\b\b\b\b\b\b\b 46% 81 - subset0/1.3.6.1.4.1.14519.5.2 . 45975068759205899107114231.raw\b\b\b\b\b\b\b\b\b\b\b\b\b\b\b\b\b\b\b\b\b\b\b\b\b\b\b\b\b\b\b\b\b\b\b\b\b\b\b\b\b\b\b\b\b\b\b\b\b\b\b\b\b\b\b\b\b\b\b\b\b\b\b\b\b\b\b\b\b\b\b\b                                                                        \b\b\b\b\b\b\b\b\b\b\b\b\b\b\b\b\b\b\b\b\b\b\b\b\b\b\b\b\b\b\b\b\b\b\b\b\b\b\b\b\b\b\b\b\b\b\b\b\b\b\b\b\b\b\b\b\b\b\b\b\b\b\b\b\b\b\b\b\b\b\b\b 46% 83 - subset0/1.3.6.1.4.1.14519.5.2 . 60284797073139172446973682.raw\b\b\b\b\b\b\b\b\b\b\b\b\b\b\b\b\b\b\b\b\b\b\b\b\b\b\b\b\b\b\b\b\b\b\b\b\b\b\b\b\b\b\b\b\b\b\b\b\b\b\b\b\b\b\b\b\b\b\b\b\b\b\b\b\b\b\b\b\b\b\b\b                                                                        \b\b\b\b\b\b\b\b\b\b\b\b\b\b\b\b\b\b\b\b\b\b\b\b\b\b\b\b\b\b\b\b\b\b\b\b\b\b\b\b\b\b\b\b\b\b\b\b\b\b\b\b\b\b\b\b\b\b\b\b\b\b\b\b\b\b\b\b\b\b\b\b 46% 84\b\b\b\b\b\b\b       \b\b\b\b\b\b\b 46% 85 - subset0/1.3.6.1.4.1.14519.5.2 . 72147860943609388015648430.raw\b\b\b\b\b\b\b\b\b\b\b\b\b\b\b\b\b\b\b\b\b\b\b\b\b\b\b\b\b\b\b\b\b\b\b\b\b\b\b\b\b\b\b\b\b\b\b\b\b\b\b\b\b\b\b\b\b\b\b\b\b\b\b\b\b\b\b\b\b\b\b\b                                                                        \b\b\b\b\b\b\b\b\b\b\b\b\b\b\b\b\b\b\b\b\b\b\b\b\b\b\b\b\b\b\b\b\b\b\b\b\b\b\b\b\b\b\b\b\b\b\b\b\b\b\b\b\b\b\b\b\b\b\b\b\b\b\b\b\b\b\b\b\b\b\b\b 47% 85 - subset0/1.3.6.1.4.1.14519.5.2 . 72147860943609388015648430.raw\b\b\b\b\b\b\b\b\b\b\b\b\b\b\b\b\b\b\b\b\b\b\b\b\b\b\b\b\b\b\b\b\b\b\b\b\b\b\b\b\b\b\b\b\b\b\b\b\b\b\b\b\b\b\b\b\b\b\b\b\b\b\b\b\b\b\b\b\b\b\b\b                                                                        \b\b\b\b\b\b\b\b\b\b\b\b\b\b\b\b\b\b\b\b\b\b\b\b\b\b\b\b\b\b\b\b\b\b\b\b\b\b\b\b\b\b\b\b\b\b\b\b\b\b\b\b\b\b\b\b\b\b\b\b\b\b\b\b\b\b\b\b\b\b\b\b 47% 87 - subset0/1.3.6.1.4.1.14519.5.2 . 89753704424911132261151767.raw\b\b\b\b\b\b\b\b\b\b\b\b\b\b\b\b\b\b\b\b\b\b\b\b\b\b\b\b\b\b\b\b\b\b\b\b\b\b\b\b\b\b\b\b\b\b\b\b\b\b\b\b\b\b\b\b\b\b\b\b\b\b\b\b\b\b\b\b\b\b\b\b                                                                        \b\b\b\b\b\b\b\b\b\b\b\b\b\b\b\b\b\b\b\b\b\b\b\b\b\b\b\b\b\b\b\b\b\b\b\b\b\b\b\b\b\b\b\b\b\b\b\b\b\b\b\b\b\b\b\b\b\b\b\b\b\b\b\b\b\b\b\b\b\b\b\b 48% 87 - subset0/1.3.6.1.4.1.14519.5.2 . 89753704424911132261151767.raw\b\b\b\b\b\b\b\b\b\b\b\b\b\b\b\b\b\b\b\b\b\b\b\b\b\b\b\b\b\b\b\b\b\b\b\b\b\b\b\b\b\b\b\b\b\b\b\b\b\b\b\b\b\b\b\b\b\b\b\b\b\b\b\b\b\b\b\b\b\b\b\b                                                                        \b\b\b\b\b\b\b\b\b\b\b\b\b\b\b\b\b\b\b\b\b\b\b\b\b\b\b\b\b\b\b\b\b\b\b\b\b\b\b\b\b\b\b\b\b\b\b\b\b\b\b\b\b\b\b\b\b\b\b\b\b\b\b\b\b\b\b\b\b\b\b\b 49% 87 - subset0/1.3.6.1.4.1.14519.5.2 . 89753704424911132261151767.raw\b\b\b\b\b\b\b\b\b\b\b\b\b\b\b\b\b\b\b\b\b\b\b\b\b\b\b\b\b\b\b\b\b\b\b\b\b\b\b\b\b\b\b\b\b\b\b\b\b\b\b\b\b\b\b\b\b\b\b\b\b\b\b\b\b\b\b\b\b\b\b\b                                                                        \b\b\b\b\b\b\b\b\b\b\b\b\b\b\b\b\b\b\b\b\b\b\b\b\b\b\b\b\b\b\b\b\b\b\b\b\b\b\b\b\b\b\b\b\b\b\b\b\b\b\b\b\b\b\b\b\b\b\b\b\b\b\b\b\b\b\b\b\b\b\b\b 49% 88\b\b\b\b\b\b\b       \b\b\b\b\b\b\b 49% 89 - subset0/1.3.6.1.4.1.14519.5.2 . 57615532132808762625441831.raw\b\b\b\b\b\b\b\b\b\b\b\b\b\b\b\b\b\b\b\b\b\b\b\b\b\b\b\b\b\b\b\b\b\b\b\b\b\b\b\b\b\b\b\b\b\b\b\b\b\b\b\b\b\b\b\b\b\b\b\b\b\b\b\b\b\b\b\b\b\b\b\b                                                                        \b\b\b\b\b\b\b\b\b\b\b\b\b\b\b\b\b\b\b\b\b\b\b\b\b\b\b\b\b\b\b\b\b\b\b\b\b\b\b\b\b\b\b\b\b\b\b\b\b\b\b\b\b\b\b\b\b\b\b\b\b\b\b\b\b\b\b\b\b\b\b\b 50% 89 - subset0/1.3.6.1.4.1.14519.5.2 . 57615532132808762625441831.raw\b\b\b\b\b\b\b\b\b\b\b\b\b\b\b\b\b\b\b\b\b\b\b\b\b\b\b\b\b\b\b\b\b\b\b\b\b\b\b\b\b\b\b\b\b\b\b\b\b\b\b\b\b\b\b\b\b\b\b\b\b\b\b\b\b\b\b\b\b\b\b\b                                                                        \b\b\b\b\b\b\b\b\b\b\b\b\b\b\b\b\b\b\b\b\b\b\b\b\b\b\b\b\b\b\b\b\b\b\b\b\b\b\b\b\b\b\b\b\b\b\b\b\b\b\b\b\b\b\b\b\b\b\b\b\b\b\b\b\b\b\b\b\b\b\b\b 51% 89 - subset0/1.3.6.1.4.1.14519.5.2 . 57615532132808762625441831.raw\b\b\b\b\b\b\b\b\b\b\b\b\b\b\b\b\b\b\b\b\b\b\b\b\b\b\b\b\b\b\b\b\b\b\b\b\b\b\b\b\b\b\b\b\b\b\b\b\b\b\b\b\b\b\b\b\b\b\b\b\b\b\b\b\b\b\b\b\b\b\b\b                                                                        \b\b\b\b\b\b\b\b\b\b\b\b\b\b\b\b\b\b\b\b\b\b\b\b\b\b\b\b\b\b\b\b\b\b\b\b\b\b\b\b\b\b\b\b\b\b\b\b\b\b\b\b\b\b\b\b\b\b\b\b\b\b\b\b\b\b\b\b\b\b\b\b 51% 90\b\b\b\b\b\b\b       \b\b\b\b\b\b\b 51% 91 - subset0/1.3.6.1.4.1.14519.5.2 . 88507421106424248264912111.raw\b\b\b\b\b\b\b\b\b\b\b\b\b\b\b\b\b\b\b\b\b\b\b\b\b\b\b\b\b\b\b\b\b\b\b\b\b\b\b\b\b\b\b\b\b\b\b\b\b\b\b\b\b\b\b\b\b\b\b\b\b\b\b\b\b\b\b\b\b\b\b\b                                                                        \b\b\b\b\b\b\b\b\b\b\b\b\b\b\b\b\b\b\b\b\b\b\b\b\b\b\b\b\b\b\b\b\b\b\b\b\b\b\b\b\b\b\b\b\b\b\b\b\b\b\b\b\b\b\b\b\b\b\b\b\b\b\b\b\b\b\b\b\b\b\b\b 52% 91 - subset0/1.3.6.1.4.1.14519.5.2 . 88507421106424248264912111.raw\b\b\b\b\b\b\b\b\b\b\b\b\b\b\b\b\b\b\b\b\b\b\b\b\b\b\b\b\b\b\b\b\b\b\b\b\b\b\b\b\b\b\b\b\b\b\b\b\b\b\b\b\b\b\b\b\b\b\b\b\b\b\b\b\b\b\b\b\b\b\b\b                                                                        \b\b\b\b\b\b\b\b\b\b\b\b\b\b\b\b\b\b\b\b\b\b\b\b\b\b\b\b\b\b\b\b\b\b\b\b\b\b\b\b\b\b\b\b\b\b\b\b\b\b\b\b\b\b\b\b\b\b\b\b\b\b\b\b\b\b\b\b\b\b\b\b 52% 92\b\b\b\b\b\b\b       \b\b\b\b\b\b\b 52% 93 - subset0/1.3.6.1.4.1.14519.5.2 . 98571102631191572192562523.raw\b\b\b\b\b\b\b\b\b\b\b\b\b\b\b\b\b\b\b\b\b\b\b\b\b\b\b\b\b\b\b\b\b\b\b\b\b\b\b\b\b\b\b\b\b\b\b\b\b\b\b\b\b\b\b\b\b\b\b\b\b\b\b\b\b\b\b\b\b\b\b\b                                                                        \b\b\b\b\b\b\b\b\b\b\b\b\b\b\b\b\b\b\b\b\b\b\b\b\b\b\b\b\b\b\b\b\b\b\b\b\b\b\b\b\b\b\b\b\b\b\b\b\b\b\b\b\b\b\b\b\b\b\b\b\b\b\b\b\b\b\b\b\b\b\b\b 53% 93 - subset0/1.3.6.1.4.1.14519.5.2 . 98571102631191572192562523.raw\b\b\b\b\b\b\b\b\b\b\b\b\b\b\b\b\b\b\b\b\b\b\b\b\b\b\b\b\b\b\b\b\b\b\b\b\b\b\b\b\b\b\b\b\b\b\b\b\b\b\b\b\b\b\b\b\b\b\b\b\b\b\b\b\b\b\b\b\b\b\b\b                                                                        \b\b\b\b\b\b\b\b\b\b\b\b\b\b\b\b\b\b\b\b\b\b\b\b\b\b\b\b\b\b\b\b\b\b\b\b\b\b\b\b\b\b\b\b\b\b\b\b\b\b\b\b\b\b\b\b\b\b\b\b\b\b\b\b\b\b\b\b\b\b\b\b 53% 94\b\b\b\b\b\b\b       \b\b\b\b\b\b\b 53% 95 - subset0/1.3.6.1.4.1.14519.5.2 . 20274214095686326263147663.raw\b\b\b\b\b\b\b\b\b\b\b\b\b\b\b\b\b\b\b\b\b\b\b\b\b\b\b\b\b\b\b\b\b\b\b\b\b\b\b\b\b\b\b\b\b\b\b\b\b\b\b\b\b\b\b\b\b\b\b\b\b\b\b\b\b\b\b\b\b\b\b\b                                                                        \b\b\b\b\b\b\b\b\b\b\b\b\b\b\b\b\b\b\b\b\b\b\b\b\b\b\b\b\b\b\b\b\b\b\b\b\b\b\b\b\b\b\b\b\b\b\b\b\b\b\b\b\b\b\b\b\b\b\b\b\b\b\b\b\b\b\b\b\b\b\b\b 54% 95 - subset0/1.3.6.1.4.1.14519.5.2 . 20274214095686326263147663.raw\b\b\b\b\b\b\b\b\b\b\b\b\b\b\b\b\b\b\b\b\b\b\b\b\b\b\b\b\b\b\b\b\b\b\b\b\b\b\b\b\b\b\b\b\b\b\b\b\b\b\b\b\b\b\b\b\b\b\b\b\b\b\b\b\b\b\b\b\b\b\b\b                                                                        \b\b\b\b\b\b\b\b\b\b\b\b\b\b\b\b\b\b\b\b\b\b\b\b\b\b\b\b\b\b\b\b\b\b\b\b\b\b\b\b\b\b\b\b\b\b\b\b\b\b\b\b\b\b\b\b\b\b\b\b\b\b\b\b\b\b\b\b\b\b\b\b 54% 96\b\b\b\b\b\b\b       \b\b\b\b\b\b\b 54% 97 - subset0/1.3.6.1.4.1.14519.5.2 . 34342469412607966016057827.raw\b\b\b\b\b\b\b\b\b\b\b\b\b\b\b\b\b\b\b\b\b\b\b\b\b\b\b\b\b\b\b\b\b\b\b\b\b\b\b\b\b\b\b\b\b\b\b\b\b\b\b\b\b\b\b\b\b\b\b\b\b\b\b\b\b\b\b\b\b\b\b\b                                                                        \b\b\b\b\b\b\b\b\b\b\b\b\b\b\b\b\b\b\b\b\b\b\b\b\b\b\b\b\b\b\b\b\b\b\b\b\b\b\b\b\b\b\b\b\b\b\b\b\b\b\b\b\b\b\b\b\b\b\b\b\b\b\b\b\b\b\b\b\b\b\b\b 55% 97 - subset0/1.3.6.1.4.1.14519.5.2 . 34342469412607966016057827.raw\b\b\b\b\b\b\b\b\b\b\b\b\b\b\b\b\b\b\b\b\b\b\b\b\b\b\b\b\b\b\b\b\b\b\b\b\b\b\b\b\b\b\b\b\b\b\b\b\b\b\b\b\b\b\b\b\b\b\b\b\b\b\b\b\b\b\b\b\b\b\b\b                                                                        \b\b\b\b\b\b\b\b\b\b\b\b\b\b\b\b\b\b\b\b\b\b\b\b\b\b\b\b\b\b\b\b\b\b\b\b\b\b\b\b\b\b\b\b\b\b\b\b\b\b\b\b\b\b\b\b\b\b\b\b\b\b\b\b\b\b\b\b\b\b\b\b 56% 97 - subset0/1.3.6.1.4.1.14519.5.2 . 34342469412607966016057827.raw\b\b\b\b\b\b\b\b\b\b\b\b\b\b\b\b\b\b\b\b\b\b\b\b\b\b\b\b\b\b\b\b\b\b\b\b\b\b\b\b\b\b\b\b\b\b\b\b\b\b\b\b\b\b\b\b\b\b\b\b\b\b\b\b\b\b\b\b\b\b\b\b                                                                        \b\b\b\b\b\b\b\b\b\b\b\b\b\b\b\b\b\b\b\b\b\b\b\b\b\b\b\b\b\b\b\b\b\b\b\b\b\b\b\b\b\b\b\b\b\b\b\b\b\b\b\b\b\b\b\b\b\b\b\b\b\b\b\b\b\b\b\b\b\b\b\b 56% 99 - subset0/1.3.6.1.4.1.14519.5.2 . 21828981831854739626597495.raw\b\b\b\b\b\b\b\b\b\b\b\b\b\b\b\b\b\b\b\b\b\b\b\b\b\b\b\b\b\b\b\b\b\b\b\b\b\b\b\b\b\b\b\b\b\b\b\b\b\b\b\b\b\b\b\b\b\b\b\b\b\b\b\b\b\b\b\b\b\b\b\b                                                                        \b\b\b\b\b\b\b\b\b\b\b\b\b\b\b\b\b\b\b\b\b\b\b\b\b\b\b\b\b\b\b\b\b\b\b\b\b\b\b\b\b\b\b\b\b\b\b\b\b\b\b\b\b\b\b\b\b\b\b\b\b\b\b\b\b\b\b\b\b\b\b\b 57% 99 - subset0/1.3.6.1.4.1.14519.5.2 . 21828981831854739626597495.raw\b\b\b\b\b\b\b\b\b\b\b\b\b\b\b\b\b\b\b\b\b\b\b\b\b\b\b\b\b\b\b\b\b\b\b\b\b\b\b\b\b\b\b\b\b\b\b\b\b\b\b\b\b\b\b\b\b\b\b\b\b\b\b\b\b\b\b\b\b\b\b\b                                                                        \b\b\b\b\b\b\b\b\b\b\b\b\b\b\b\b\b\b\b\b\b\b\b\b\b\b\b\b\b\b\b\b\b\b\b\b\b\b\b\b\b\b\b\b\b\b\b\b\b\b\b\b\b\b\b\b\b\b\b\b\b\b\b\b\b\b\b\b\b\b\b\b 57% 100\b\b\b\b\b\b\b\b        \b\b\b\b\b\b\b\b 57% 101 - subset0/1.3.6.1.4.1.14519.5.2 . 58704835252413616501469037.raw\b\b\b\b\b\b\b\b\b\b\b\b\b\b\b\b\b\b\b\b\b\b\b\b\b\b\b\b\b\b\b\b\b\b\b\b\b\b\b\b\b\b\b\b\b\b\b\b\b\b\b\b\b\b\b\b\b\b\b\b\b\b\b\b\b\b\b\b\b\b\b\b\b                                                                         \b\b\b\b\b\b\b\b\b\b\b\b\b\b\b\b\b\b\b\b\b\b\b\b\b\b\b\b\b\b\b\b\b\b\b\b\b\b\b\b\b\b\b\b\b\b\b\b\b\b\b\b\b\b\b\b\b\b\b\b\b\b\b\b\b\b\b\b\b\b\b\b\b 58% 101 - subset0/1.3.6.1.4.1.14519.5.2 . 58704835252413616501469037.raw\b\b\b\b\b\b\b\b\b\b\b\b\b\b\b\b\b\b\b\b\b\b\b\b\b\b\b\b\b\b\b\b\b\b\b\b\b\b\b\b\b\b\b\b\b\b\b\b\b\b\b\b\b\b\b\b\b\b\b\b\b\b\b\b\b\b\b\b\b\b\b\b\b                                                                         \b\b\b\b\b\b\b\b\b\b\b\b\b\b\b\b\b\b\b\b\b\b\b\b\b\b\b\b\b\b\b\b\b\b\b\b\b\b\b\b\b\b\b\b\b\b\b\b\b\b\b\b\b\b\b\b\b\b\b\b\b\b\b\b\b\b\b\b\b\b\b\b\b 58% 102\b\b\b\b\b\b\b\b        \b\b\b\b\b\b\b\b 58% 103 - subset0/1.3.6.1.4.1.14519.5.2 . 48927038333190233889983845.raw\b\b\b\b\b\b\b\b\b\b\b\b\b\b\b\b\b\b\b\b\b\b\b\b\b\b\b\b\b\b\b\b\b\b\b\b\b\b\b\b\b\b\b\b\b\b\b\b\b\b\b\b\b\b\b\b\b\b\b\b\b\b\b\b\b\b\b\b\b\b\b\b\b                                                                         \b\b\b\b\b\b\b\b\b\b\b\b\b\b\b\b\b\b\b\b\b\b\b\b\b\b\b\b\b\b\b\b\b\b\b\b\b\b\b\b\b\b\b\b\b\b\b\b\b\b\b\b\b\b\b\b\b\b\b\b\b\b\b\b\b\b\b\b\b\b\b\b\b 59% 103 - subset0/1.3.6.1.4.1.14519.5.2 . 48927038333190233889983845.raw\b\b\b\b\b\b\b\b\b\b\b\b\b\b\b\b\b\b\b\b\b\b\b\b\b\b\b\b\b\b\b\b\b\b\b\b\b\b\b\b\b\b\b\b\b\b\b\b\b\b\b\b\b\b\b\b\b\b\b\b\b\b\b\b\b\b\b\b\b\b\b\b\b                                                                         \b\b\b\b\b\b\b\b\b\b\b\b\b\b\b\b\b\b\b\b\b\b\b\b\b\b\b\b\b\b\b\b\b\b\b\b\b\b\b\b\b\b\b\b\b\b\b\b\b\b\b\b\b\b\b\b\b\b\b\b\b\b\b\b\b\b\b\b\b\b\b\b\b 59% 104\b\b\b\b\b\b\b\b        \b\b\b\b\b\b\b\b 59% 105 - subset0/1.3.6.1.4.1.14519.5.2 . 26494937915759224334597176.raw\b\b\b\b\b\b\b\b\b\b\b\b\b\b\b\b\b\b\b\b\b\b\b\b\b\b\b\b\b\b\b\b\b\b\b\b\b\b\b\b\b\b\b\b\b\b\b\b\b\b\b\b\b\b\b\b\b\b\b\b\b\b\b\b\b\b\b\b\b\b\b\b\b                                                                         \b\b\b\b\b\b\b\b\b\b\b\b\b\b\b\b\b\b\b\b\b\b\b\b\b\b\b\b\b\b\b\b\b\b\b\b\b\b\b\b\b\b\b\b\b\b\b\b\b\b\b\b\b\b\b\b\b\b\b\b\b\b\b\b\b\b\b\b\b\b\b\b\b 59% 106\b\b\b\b\b\b\b\b        \b\b\b\b\b\b\b\b 59% 107 - subset0/1.3.6.1.4.1.14519.5.2 . 81398931043315779172047718.raw\b\b\b\b\b\b\b\b\b\b\b\b\b\b\b\b\b\b\b\b\b\b\b\b\b\b\b\b\b\b\b\b\b\b\b\b\b\b\b\b\b\b\b\b\b\b\b\b\b\b\b\b\b\b\b\b\b\b\b\b\b\b\b\b\b\b\b\b\b\b\b\b\b                                                                         \b\b\b\b\b\b\b\b\b\b\b\b\b\b\b\b\b\b\b\b\b\b\b\b\b\b\b\b\b\b\b\b\b\b\b\b\b\b\b\b\b\b\b\b\b\b\b\b\b\b\b\b\b\b\b\b\b\b\b\b\b\b\b\b\b\b\b\b\b\b\b\b\b 60% 107 - subset0/1.3.6.1.4.1.14519.5.2 . 81398931043315779172047718.raw\b\b\b\b\b\b\b\b\b\b\b\b\b\b\b\b\b\b\b\b\b\b\b\b\b\b\b\b\b\b\b\b\b\b\b\b\b\b\b\b\b\b\b\b\b\b\b\b\b\b\b\b\b\b\b\b\b\b\b\b\b\b\b\b\b\b\b\b\b\b\b\b\b                                                                         \b\b\b\b\b\b\b\b\b\b\b\b\b\b\b\b\b\b\b\b\b\b\b\b\b\b\b\b\b\b\b\b\b\b\b\b\b\b\b\b\b\b\b\b\b\b\b\b\b\b\b\b\b\b\b\b\b\b\b\b\b\b\b\b\b\b\b\b\b\b\b\b\b 60% 108\b\b\b\b\b\b\b\b        \b\b\b\b\b\b\b\b 60% 109 - subset0/1.3.6.1.4.1.14519.5.2 . 34055029671473836954456733.raw\b\b\b\b\b\b\b\b\b\b\b\b\b\b\b\b\b\b\b\b\b\b\b\b\b\b\b\b\b\b\b\b\b\b\b\b\b\b\b\b\b\b\b\b\b\b\b\b\b\b\b\b\b\b\b\b\b\b\b\b\b\b\b\b\b\b\b\b\b\b\b\b\b                                                                         \b\b\b\b\b\b\b\b\b\b\b\b\b\b\b\b\b\b\b\b\b\b\b\b\b\b\b\b\b\b\b\b\b\b\b\b\b\b\b\b\b\b\b\b\b\b\b\b\b\b\b\b\b\b\b\b\b\b\b\b\b\b\b\b\b\b\b\b\b\b\b\b\b 60% 110\b\b\b\b\b\b\b\b        \b\b\b\b\b\b\b\b 61% 111 - subset0/1.3.6.1.4.1.14519.5.2 . 05260055394498989743099991.raw\b\b\b\b\b\b\b\b\b\b\b\b\b\b\b\b\b\b\b\b\b\b\b\b\b\b\b\b\b\b\b\b\b\b\b\b\b\b\b\b\b\b\b\b\b\b\b\b\b\b\b\b\b\b\b\b\b\b\b\b\b\b\b\b\b\b\b\b\b\b\b\b\b                                                                         \b\b\b\b\b\b\b\b\b\b\b\b\b\b\b\b\b\b\b\b\b\b\b\b\b\b\b\b\b\b\b\b\b\b\b\b\b\b\b\b\b\b\b\b\b\b\b\b\b\b\b\b\b\b\b\b\b\b\b\b\b\b\b\b\b\b\b\b\b\b\b\b\b 61% 112\b\b\b\b\b\b\b\b        \b\b\b\b\b\b\b\b 61% 113 - subset0/1.3.6.1.4.1.14519.5.2 . 35996725364342034830119490.raw\b\b\b\b\b\b\b\b\b\b\b\b\b\b\b\b\b\b\b\b\b\b\b\b\b\b\b\b\b\b\b\b\b\b\b\b\b\b\b\b\b\b\b\b\b\b\b\b\b\b\b\b\b\b\b\b\b\b\b\b\b\b\b\b\b\b\b\b\b\b\b\b\b                                                                         \b\b\b\b\b\b\b\b\b\b\b\b\b\b\b\b\b\b\b\b\b\b\b\b\b\b\b\b\b\b\b\b\b\b\b\b\b\b\b\b\b\b\b\b\b\b\b\b\b\b\b\b\b\b\b\b\b\b\b\b\b\b\b\b\b\b\b\b\b\b\b\b\b 62% 113 - subset0/1.3.6.1.4.1.14519.5.2 . 35996725364342034830119490.raw\b\b\b\b\b\b\b\b\b\b\b\b\b\b\b\b\b\b\b\b\b\b\b\b\b\b\b\b\b\b\b\b\b\b\b\b\b\b\b\b\b\b\b\b\b\b\b\b\b\b\b\b\b\b\b\b\b\b\b\b\b\b\b\b\b\b\b\b\b\b\b\b\b                                                                         \b\b\b\b\b\b\b\b\b\b\b\b\b\b\b\b\b\b\b\b\b\b\b\b\b\b\b\b\b\b\b\b\b\b\b\b\b\b\b\b\b\b\b\b\b\b\b\b\b\b\b\b\b\b\b\b\b\b\b\b\b\b\b\b\b\b\b\b\b\b\b\b\b 63% 113 - subset0/1.3.6.1.4.1.14519.5.2 . 35996725364342034830119490.raw\b\b\b\b\b\b\b\b\b\b\b\b\b\b\b\b\b\b\b\b\b\b\b\b\b\b\b\b\b\b\b\b\b\b\b\b\b\b\b\b\b\b\b\b\b\b\b\b\b\b\b\b\b\b\b\b\b\b\b\b\b\b\b\b\b\b\b\b\b\b\b\b\b                                                                         \b\b\b\b\b\b\b\b\b\b\b\b\b\b\b\b\b\b\b\b\b\b\b\b\b\b\b\b\b\b\b\b\b\b\b\b\b\b\b\b\b\b\b\b\b\b\b\b\b\b\b\b\b\b\b\b\b\b\b\b\b\b\b\b\b\b\b\b\b\b\b\b\b 63% 114\b\b\b\b\b\b\b\b        \b\b\b\b\b\b\b\b 63% 115 - subset0/1.3.6.1.4.1.14519.5.2 . 87518531899043292346860596.raw\b\b\b\b\b\b\b\b\b\b\b\b\b\b\b\b\b\b\b\b\b\b\b\b\b\b\b\b\b\b\b\b\b\b\b\b\b\b\b\b\b\b\b\b\b\b\b\b\b\b\b\b\b\b\b\b\b\b\b\b\b\b\b\b\b\b\b\b\b\b\b\b\b                                                                         \b\b\b\b\b\b\b\b\b\b\b\b\b\b\b\b\b\b\b\b\b\b\b\b\b\b\b\b\b\b\b\b\b\b\b\b\b\b\b\b\b\b\b\b\b\b\b\b\b\b\b\b\b\b\b\b\b\b\b\b\b\b\b\b\b\b\b\b\b\b\b\b\b 64% 115 - subset0/1.3.6.1.4.1.14519.5.2 . 87518531899043292346860596.raw\b\b\b\b\b\b\b\b\b\b\b\b\b\b\b\b\b\b\b\b\b\b\b\b\b\b\b\b\b\b\b\b\b\b\b\b\b\b\b\b\b\b\b\b\b\b\b\b\b\b\b\b\b\b\b\b\b\b\b\b\b\b\b\b\b\b\b\b\b\b\b\b\b                                                                         \b\b\b\b\b\b\b\b\b\b\b\b\b\b\b\b\b\b\b\b\b\b\b\b\b\b\b\b\b\b\b\b\b\b\b\b\b\b\b\b\b\b\b\b\b\b\b\b\b\b\b\b\b\b\b\b\b\b\b\b\b\b\b\b\b\b\b\b\b\b\b\b\b 65% 115 - subset0/1.3.6.1.4.1.14519.5.2 . 87518531899043292346860596.raw\b\b\b\b\b\b\b\b\b\b\b\b\b\b\b\b\b\b\b\b\b\b\b\b\b\b\b\b\b\b\b\b\b\b\b\b\b\b\b\b\b\b\b\b\b\b\b\b\b\b\b\b\b\b\b\b\b\b\b\b\b\b\b\b\b\b\b\b\b\b\b\b\b                                                                         \b\b\b\b\b\b\b\b\b\b\b\b\b\b\b\b\b\b\b\b\b\b\b\b\b\b\b\b\b\b\b\b\b\b\b\b\b\b\b\b\b\b\b\b\b\b\b\b\b\b\b\b\b\b\b\b\b\b\b\b\b\b\b\b\b\b\b\b\b\b\b\b\b 65% 116\b\b\b\b\b\b\b\b        \b\b\b\b\b\b\b\b 65% 117 - subset0/1.3.6.1.4.1.14519.5.2 . 02986710576400812869264321.raw\b\b\b\b\b\b\b\b\b\b\b\b\b\b\b\b\b\b\b\b\b\b\b\b\b\b\b\b\b\b\b\b\b\b\b\b\b\b\b\b\b\b\b\b\b\b\b\b\b\b\b\b\b\b\b\b\b\b\b\b\b\b\b\b\b\b\b\b\b\b\b\b\b                                                                         \b\b\b\b\b\b\b\b\b\b\b\b\b\b\b\b\b\b\b\b\b\b\b\b\b\b\b\b\b\b\b\b\b\b\b\b\b\b\b\b\b\b\b\b\b\b\b\b\b\b\b\b\b\b\b\b\b\b\b\b\b\b\b\b\b\b\b\b\b\b\b\b\b 66% 117 - subset0/1.3.6.1.4.1.14519.5.2 . 02986710576400812869264321.raw\b\b\b\b\b\b\b\b\b\b\b\b\b\b\b\b\b\b\b\b\b\b\b\b\b\b\b\b\b\b\b\b\b\b\b\b\b\b\b\b\b\b\b\b\b\b\b\b\b\b\b\b\b\b\b\b\b\b\b\b\b\b\b\b\b\b\b\b\b\b\b\b\b                                                                         \b\b\b\b\b\b\b\b\b\b\b\b\b\b\b\b\b\b\b\b\b\b\b\b\b\b\b\b\b\b\b\b\b\b\b\b\b\b\b\b\b\b\b\b\b\b\b\b\b\b\b\b\b\b\b\b\b\b\b\b\b\b\b\b\b\b\b\b\b\b\b\b\b 66% 118\b\b\b\b\b\b\b\b        \b\b\b\b\b\b\b\b 66% 119 - subset0/1.3.6.1.4.1.14519.5.2 . 59712968543712594665815359.raw\b\b\b\b\b\b\b\b\b\b\b\b\b\b\b\b\b\b\b\b\b\b\b\b\b\b\b\b\b\b\b\b\b\b\b\b\b\b\b\b\b\b\b\b\b\b\b\b\b\b\b\b\b\b\b\b\b\b\b\b\b\b\b\b\b\b\b\b\b\b\b\b\b                                                                         \b\b\b\b\b\b\b\b\b\b\b\b\b\b\b\b\b\b\b\b\b\b\b\b\b\b\b\b\b\b\b\b\b\b\b\b\b\b\b\b\b\b\b\b\b\b\b\b\b\b\b\b\b\b\b\b\b\b\b\b\b\b\b\b\b\b\b\b\b\b\b\b\b 67% 119 - subset0/1.3.6.1.4.1.14519.5.2 . 59712968543712594665815359.raw\b\b\b\b\b\b\b\b\b\b\b\b\b\b\b\b\b\b\b\b\b\b\b\b\b\b\b\b\b\b\b\b\b\b\b\b\b\b\b\b\b\b\b\b\b\b\b\b\b\b\b\b\b\b\b\b\b\b\b\b\b\b\b\b\b\b\b\b\b\b\b\b\b                                                                         \b\b\b\b\b\b\b\b\b\b\b\b\b\b\b\b\b\b\b\b\b\b\b\b\b\b\b\b\b\b\b\b\b\b\b\b\b\b\b\b\b\b\b\b\b\b\b\b\b\b\b\b\b\b\b\b\b\b\b\b\b\b\b\b\b\b\b\b\b\b\b\b\b 67% 120\b\b\b\b\b\b\b\b        \b\b\b\b\b\b\b\b 67% 121 - subset0/1.3.6.1.4.1.14519.5.2 . 53873575389860371315979768.raw\b\b\b\b\b\b\b\b\b\b\b\b\b\b\b\b\b\b\b\b\b\b\b\b\b\b\b\b\b\b\b\b\b\b\b\b\b\b\b\b\b\b\b\b\b\b\b\b\b\b\b\b\b\b\b\b\b\b\b\b\b\b\b\b\b\b\b\b\b\b\b\b\b                                                                         \b\b\b\b\b\b\b\b\b\b\b\b\b\b\b\b\b\b\b\b\b\b\b\b\b\b\b\b\b\b\b\b\b\b\b\b\b\b\b\b\b\b\b\b\b\b\b\b\b\b\b\b\b\b\b\b\b\b\b\b\b\b\b\b\b\b\b\b\b\b\b\b\b 68% 121 - subset0/1.3.6.1.4.1.14519.5.2 . 53873575389860371315979768.raw\b\b\b\b\b\b\b\b\b\b\b\b\b\b\b\b\b\b\b\b\b\b\b\b\b\b\b\b\b\b\b\b\b\b\b\b\b\b\b\b\b\b\b\b\b\b\b\b\b\b\b\b\b\b\b\b\b\b\b\b\b\b\b\b\b\b\b\b\b\b\b\b\b                                                                         \b\b\b\b\b\b\b\b\b\b\b\b\b\b\b\b\b\b\b\b\b\b\b\b\b\b\b\b\b\b\b\b\b\b\b\b\b\b\b\b\b\b\b\b\b\b\b\b\b\b\b\b\b\b\b\b\b\b\b\b\b\b\b\b\b\b\b\b\b\b\b\b\b 68% 122\b\b\b\b\b\b\b\b        \b\b\b\b\b\b\b\b 68% 123 - subset0/1.3.6.1.4.1.14519.5.2 . 45094436144085379032922488.raw\b\b\b\b\b\b\b\b\b\b\b\b\b\b\b\b\b\b\b\b\b\b\b\b\b\b\b\b\b\b\b\b\b\b\b\b\b\b\b\b\b\b\b\b\b\b\b\b\b\b\b\b\b\b\b\b\b\b\b\b\b\b\b\b\b\b\b\b\b\b\b\b\b                                                                         \b\b\b\b\b\b\b\b\b\b\b\b\b\b\b\b\b\b\b\b\b\b\b\b\b\b\b\b\b\b\b\b\b\b\b\b\b\b\b\b\b\b\b\b\b\b\b\b\b\b\b\b\b\b\b\b\b\b\b\b\b\b\b\b\b\b\b\b\b\b\b\b\b 68% 124\b\b\b\b\b\b\b\b        \b\b\b\b\b\b\b\b 69% 125 - subset0/1.3.6.1.4.1.14519.5.2 . 17907433161353885866806005.raw\b\b\b\b\b\b\b\b\b\b\b\b\b\b\b\b\b\b\b\b\b\b\b\b\b\b\b\b\b\b\b\b\b\b\b\b\b\b\b\b\b\b\b\b\b\b\b\b\b\b\b\b\b\b\b\b\b\b\b\b\b\b\b\b\b\b\b\b\b\b\b\b\b                                                                         \b\b\b\b\b\b\b\b\b\b\b\b\b\b\b\b\b\b\b\b\b\b\b\b\b\b\b\b\b\b\b\b\b\b\b\b\b\b\b\b\b\b\b\b\b\b\b\b\b\b\b\b\b\b\b\b\b\b\b\b\b\b\b\b\b\b\b\b\b\b\b\b\b 70% 125 - subset0/1.3.6.1.4.1.14519.5.2 . 17907433161353885866806005.raw\b\b\b\b\b\b\b\b\b\b\b\b\b\b\b\b\b\b\b\b\b\b\b\b\b\b\b\b\b\b\b\b\b\b\b\b\b\b\b\b\b\b\b\b\b\b\b\b\b\b\b\b\b\b\b\b\b\b\b\b\b\b\b\b\b\b\b\b\b\b\b\b\b                                                                         \b\b\b\b\b\b\b\b\b\b\b\b\b\b\b\b\b\b\b\b\b\b\b\b\b\b\b\b\b\b\b\b\b\b\b\b\b\b\b\b\b\b\b\b\b\b\b\b\b\b\b\b\b\b\b\b\b\b\b\b\b\b\b\b\b\b\b\b\b\b\b\b\b 70% 126\b\b\b\b\b\b\b\b        \b\b\b\b\b\b\b\b 70% 127 - subset0/1.3.6.1.4.1.14519.5.2 . 23571499047043765181005112.raw\b\b\b\b\b\b\b\b\b\b\b\b\b\b\b\b\b\b\b\b\b\b\b\b\b\b\b\b\b\b\b\b\b\b\b\b\b\b\b\b\b\b\b\b\b\b\b\b\b\b\b\b\b\b\b\b\b\b\b\b\b\b\b\b\b\b\b\b\b\b\b\b\b                                                                         \b\b\b\b\b\b\b\b\b\b\b\b\b\b\b\b\b\b\b\b\b\b\b\b\b\b\b\b\b\b\b\b\b\b\b\b\b\b\b\b\b\b\b\b\b\b\b\b\b\b\b\b\b\b\b\b\b\b\b\b\b\b\b\b\b\b\b\b\b\b\b\b\b 70% 128\b\b\b\b\b\b\b\b        \b\b\b\b\b\b\b\b 70% 129 - subset0/1.3.6.1.4.1.14519.5.2 . 62004302272014259317520874.raw\b\b\b\b\b\b\b\b\b\b\b\b\b\b\b\b\b\b\b\b\b\b\b\b\b\b\b\b\b\b\b\b\b\b\b\b\b\b\b\b\b\b\b\b\b\b\b\b\b\b\b\b\b\b\b\b\b\b\b\b\b\b\b\b\b\b\b\b\b\b\b\b\b                                                                         \b\b\b\b\b\b\b\b\b\b\b\b\b\b\b\b\b\b\b\b\b\b\b\b\b\b\b\b\b\b\b\b\b\b\b\b\b\b\b\b\b\b\b\b\b\b\b\b\b\b\b\b\b\b\b\b\b\b\b\b\b\b\b\b\b\b\b\b\b\b\b\b\b 71% 129 - subset0/1.3.6.1.4.1.14519.5.2 . 62004302272014259317520874.raw\b\b\b\b\b\b\b\b\b\b\b\b\b\b\b\b\b\b\b\b\b\b\b\b\b\b\b\b\b\b\b\b\b\b\b\b\b\b\b\b\b\b\b\b\b\b\b\b\b\b\b\b\b\b\b\b\b\b\b\b\b\b\b\b\b\b\b\b\b\b\b\b\b                                                                         \b\b\b\b\b\b\b\b\b\b\b\b\b\b\b\b\b\b\b\b\b\b\b\b\b\b\b\b\b\b\b\b\b\b\b\b\b\b\b\b\b\b\b\b\b\b\b\b\b\b\b\b\b\b\b\b\b\b\b\b\b\b\b\b\b\b\b\b\b\b\b\b\b 72% 129 - subset0/1.3.6.1.4.1.14519.5.2 . 62004302272014259317520874.raw\b\b\b\b\b\b\b\b\b\b\b\b\b\b\b\b\b\b\b\b\b\b\b\b\b\b\b\b\b\b\b\b\b\b\b\b\b\b\b\b\b\b\b\b\b\b\b\b\b\b\b\b\b\b\b\b\b\b\b\b\b\b\b\b\b\b\b\b\b\b\b\b\b                                                                         \b\b\b\b\b\b\b\b\b\b\b\b\b\b\b\b\b\b\b\b\b\b\b\b\b\b\b\b\b\b\b\b\b\b\b\b\b\b\b\b\b\b\b\b\b\b\b\b\b\b\b\b\b\b\b\b\b\b\b\b\b\b\b\b\b\b\b\b\b\b\b\b\b 72% 131 - subset0/1.3.6.1.4.1.14519.5.2 . 64125369979066736354549484.raw\b\b\b\b\b\b\b\b\b\b\b\b\b\b\b\b\b\b\b\b\b\b\b\b\b\b\b\b\b\b\b\b\b\b\b\b\b\b\b\b\b\b\b\b\b\b\b\b\b\b\b\b\b\b\b\b\b\b\b\b\b\b\b\b\b\b\b\b\b\b\b\b\b                                                                         \b\b\b\b\b\b\b\b\b\b\b\b\b\b\b\b\b\b\b\b\b\b\b\b\b\b\b\b\b\b\b\b\b\b\b\b\b\b\b\b\b\b\b\b\b\b\b\b\b\b\b\b\b\b\b\b\b\b\b\b\b\b\b\b\b\b\b\b\b\b\b\b\b 72% 132\b\b\b\b\b\b\b\b        \b\b\b\b\b\b\b\b 73% 133 - subset0/1.3.6.1.4.1.14519.5.2 . 15314896088956784723476543.raw\b\b\b\b\b\b\b\b\b\b\b\b\b\b\b\b\b\b\b\b\b\b\b\b\b\b\b\b\b\b\b\b\b\b\b\b\b\b\b\b\b\b\b\b\b\b\b\b\b\b\b\b\b\b\b\b\b\b\b\b\b\b\b\b\b\b\b\b\b\b\b\b\b                                                                         \b\b\b\b\b\b\b\b\b\b\b\b\b\b\b\b\b\b\b\b\b\b\b\b\b\b\b\b\b\b\b\b\b\b\b\b\b\b\b\b\b\b\b\b\b\b\b\b\b\b\b\b\b\b\b\b\b\b\b\b\b\b\b\b\b\b\b\b\b\b\b\b\b 74% 133 - subset0/1.3.6.1.4.1.14519.5.2 . 15314896088956784723476543.raw\b\b\b\b\b\b\b\b\b\b\b\b\b\b\b\b\b\b\b\b\b\b\b\b\b\b\b\b\b\b\b\b\b\b\b\b\b\b\b\b\b\b\b\b\b\b\b\b\b\b\b\b\b\b\b\b\b\b\b\b\b\b\b\b\b\b\b\b\b\b\b\b\b                                                                         \b\b\b\b\b\b\b\b\b\b\b\b\b\b\b\b\b\b\b\b\b\b\b\b\b\b\b\b\b\b\b\b\b\b\b\b\b\b\b\b\b\b\b\b\b\b\b\b\b\b\b\b\b\b\b\b\b\b\b\b\b\b\b\b\b\b\b\b\b\b\b\b\b 74% 135 - subset0/1.3.6.1.4.1.14519.5.2 . 09407146633213496148200410.raw\b\b\b\b\b\b\b\b\b\b\b\b\b\b\b\b\b\b\b\b\b\b\b\b\b\b\b\b\b\b\b\b\b\b\b\b\b\b\b\b\b\b\b\b\b\b\b\b\b\b\b\b\b\b\b\b\b\b\b\b\b\b\b\b\b\b\b\b\b\b\b\b\b                                                                         \b\b\b\b\b\b\b\b\b\b\b\b\b\b\b\b\b\b\b\b\b\b\b\b\b\b\b\b\b\b\b\b\b\b\b\b\b\b\b\b\b\b\b\b\b\b\b\b\b\b\b\b\b\b\b\b\b\b\b\b\b\b\b\b\b\b\b\b\b\b\b\b\b 75% 135 - subset0/1.3.6.1.4.1.14519.5.2 . 09407146633213496148200410.raw\b\b\b\b\b\b\b\b\b\b\b\b\b\b\b\b\b\b\b\b\b\b\b\b\b\b\b\b\b\b\b\b\b\b\b\b\b\b\b\b\b\b\b\b\b\b\b\b\b\b\b\b\b\b\b\b\b\b\b\b\b\b\b\b\b\b\b\b\b\b\b\b\b                                                                         \b\b\b\b\b\b\b\b\b\b\b\b\b\b\b\b\b\b\b\b\b\b\b\b\b\b\b\b\b\b\b\b\b\b\b\b\b\b\b\b\b\b\b\b\b\b\b\b\b\b\b\b\b\b\b\b\b\b\b\b\b\b\b\b\b\b\b\b\b\b\b\b\b 76% 135 - subset0/1.3.6.1.4.1.14519.5.2 . 09407146633213496148200410.raw\b\b\b\b\b\b\b\b\b\b\b\b\b\b\b\b\b\b\b\b\b\b\b\b\b\b\b\b\b\b\b\b\b\b\b\b\b\b\b\b\b\b\b\b\b\b\b\b\b\b\b\b\b\b\b\b\b\b\b\b\b\b\b\b\b\b\b\b\b\b\b\b\b                                                                         \b\b\b\b\b\b\b\b\b\b\b\b\b\b\b\b\b\b\b\b\b\b\b\b\b\b\b\b\b\b\b\b\b\b\b\b\b\b\b\b\b\b\b\b\b\b\b\b\b\b\b\b\b\b\b\b\b\b\b\b\b\b\b\b\b\b\b\b\b\b\b\b\b 77% 135 - subset0/1.3.6.1.4.1.14519.5.2 . 09407146633213496148200410.raw\b\b\b\b\b\b\b\b\b\b\b\b\b\b\b\b\b\b\b\b\b\b\b\b\b\b\b\b\b\b\b\b\b\b\b\b\b\b\b\b\b\b\b\b\b\b\b\b\b\b\b\b\b\b\b\b\b\b\b\b\b\b\b\b\b\b\b\b\b\b\b\b\b                                                                         \b\b\b\b\b\b\b\b\b\b\b\b\b\b\b\b\b\b\b\b\b\b\b\b\b\b\b\b\b\b\b\b\b\b\b\b\b\b\b\b\b\b\b\b\b\b\b\b\b\b\b\b\b\b\b\b\b\b\b\b\b\b\b\b\b\b\b\b\b\b\b\b\b 77% 136\b\b\b\b\b\b\b\b        \b\b\b\b\b\b\b\b 77% 137 - subset0/1.3.6.1.4.1.14519.5.2 . 01966058662668272378865145.raw\b\b\b\b\b\b\b\b\b\b\b\b\b\b\b\b\b\b\b\b\b\b\b\b\b\b\b\b\b\b\b\b\b\b\b\b\b\b\b\b\b\b\b\b\b\b\b\b\b\b\b\b\b\b\b\b\b\b\b\b\b\b\b\b\b\b\b\b\b\b\b\b\b                                                                         \b\b\b\b\b\b\b\b\b\b\b\b\b\b\b\b\b\b\b\b\b\b\b\b\b\b\b\b\b\b\b\b\b\b\b\b\b\b\b\b\b\b\b\b\b\b\b\b\b\b\b\b\b\b\b\b\b\b\b\b\b\b\b\b\b\b\b\b\b\b\b\b\b 77% 138\b\b\b\b\b\b\b\b        \b\b\b\b\b\b\b\b 78% 139 - subset0/1.3.6.1.4.1.14519.5.2 . 47030803753100045216493273.raw\b\b\b\b\b\b\b\b\b\b\b\b\b\b\b\b\b\b\b\b\b\b\b\b\b\b\b\b\b\b\b\b\b\b\b\b\b\b\b\b\b\b\b\b\b\b\b\b\b\b\b\b\b\b\b\b\b\b\b\b\b\b\b\b\b\b\b\b\b\b\b\b\b                                                                         \b\b\b\b\b\b\b\b\b\b\b\b\b\b\b\b\b\b\b\b\b\b\b\b\b\b\b\b\b\b\b\b\b\b\b\b\b\b\b\b\b\b\b\b\b\b\b\b\b\b\b\b\b\b\b\b\b\b\b\b\b\b\b\b\b\b\b\b\b\b\b\b\b 78% 140\b\b\b\b\b\b\b\b        \b\b\b\b\b\b\b\b 78% 141 - subset0/1.3.6.1.4.1.14519.5.2 . 37963993475482158828421281.raw\b\b\b\b\b\b\b\b\b\b\b\b\b\b\b\b\b\b\b\b\b\b\b\b\b\b\b\b\b\b\b\b\b\b\b\b\b\b\b\b\b\b\b\b\b\b\b\b\b\b\b\b\b\b\b\b\b\b\b\b\b\b\b\b\b\b\b\b\b\b\b\b\b                                                                         \b\b\b\b\b\b\b\b\b\b\b\b\b\b\b\b\b\b\b\b\b\b\b\b\b\b\b\b\b\b\b\b\b\b\b\b\b\b\b\b\b\b\b\b\b\b\b\b\b\b\b\b\b\b\b\b\b\b\b\b\b\b\b\b\b\b\b\b\b\b\b\b\b 79% 141 - subset0/1.3.6.1.4.1.14519.5.2 . 37963993475482158828421281.raw\b\b\b\b\b\b\b\b\b\b\b\b\b\b\b\b\b\b\b\b\b\b\b\b\b\b\b\b\b\b\b\b\b\b\b\b\b\b\b\b\b\b\b\b\b\b\b\b\b\b\b\b\b\b\b\b\b\b\b\b\b\b\b\b\b\b\b\b\b\b\b\b\b                                                                         \b\b\b\b\b\b\b\b\b\b\b\b\b\b\b\b\b\b\b\b\b\b\b\b\b\b\b\b\b\b\b\b\b\b\b\b\b\b\b\b\b\b\b\b\b\b\b\b\b\b\b\b\b\b\b\b\b\b\b\b\b\b\b\b\b\b\b\b\b\b\b\b\b 80% 141 - subset0/1.3.6.1.4.1.14519.5.2 . 37963993475482158828421281.raw\b\b\b\b\b\b\b\b\b\b\b\b\b\b\b\b\b\b\b\b\b\b\b\b\b\b\b\b\b\b\b\b\b\b\b\b\b\b\b\b\b\b\b\b\b\b\b\b\b\b\b\b\b\b\b\b\b\b\b\b\b\b\b\b\b\b\b\b\b\b\b\b\b                                                                         \b\b\b\b\b\b\b\b\b\b\b\b\b\b\b\b\b\b\b\b\b\b\b\b\b\b\b\b\b\b\b\b\b\b\b\b\b\b\b\b\b\b\b\b\b\b\b\b\b\b\b\b\b\b\b\b\b\b\b\b\b\b\b\b\b\b\b\b\b\b\b\b\b 80% 142\b\b\b\b\b\b\b\b        \b\b\b\b\b\b\b\b 80% 143 - subset0/1.3.6.1.4.1.14519.5.2 . 06575256943390479252771547.raw\b\b\b\b\b\b\b\b\b\b\b\b\b\b\b\b\b\b\b\b\b\b\b\b\b\b\b\b\b\b\b\b\b\b\b\b\b\b\b\b\b\b\b\b\b\b\b\b\b\b\b\b\b\b\b\b\b\b\b\b\b\b\b\b\b\b\b\b\b\b\b\b\b                                                                         \b\b\b\b\b\b\b\b\b\b\b\b\b\b\b\b\b\b\b\b\b\b\b\b\b\b\b\b\b\b\b\b\b\b\b\b\b\b\b\b\b\b\b\b\b\b\b\b\b\b\b\b\b\b\b\b\b\b\b\b\b\b\b\b\b\b\b\b\b\b\b\b\b 81% 143 - subset0/1.3.6.1.4.1.14519.5.2 . 06575256943390479252771547.raw\b\b\b\b\b\b\b\b\b\b\b\b\b\b\b\b\b\b\b\b\b\b\b\b\b\b\b\b\b\b\b\b\b\b\b\b\b\b\b\b\b\b\b\b\b\b\b\b\b\b\b\b\b\b\b\b\b\b\b\b\b\b\b\b\b\b\b\b\b\b\b\b\b                                                                         \b\b\b\b\b\b\b\b\b\b\b\b\b\b\b\b\b\b\b\b\b\b\b\b\b\b\b\b\b\b\b\b\b\b\b\b\b\b\b\b\b\b\b\b\b\b\b\b\b\b\b\b\b\b\b\b\b\b\b\b\b\b\b\b\b\b\b\b\b\b\b\b\b 82% 143 - subset0/1.3.6.1.4.1.14519.5.2 . 06575256943390479252771547.raw\b\b\b\b\b\b\b\b\b\b\b\b\b\b\b\b\b\b\b\b\b\b\b\b\b\b\b\b\b\b\b\b\b\b\b\b\b\b\b\b\b\b\b\b\b\b\b\b\b\b\b\b\b\b\b\b\b\b\b\b\b\b\b\b\b\b\b\b\b\b\b\b\b                                                                         \b\b\b\b\b\b\b\b\b\b\b\b\b\b\b\b\b\b\b\b\b\b\b\b\b\b\b\b\b\b\b\b\b\b\b\b\b\b\b\b\b\b\b\b\b\b\b\b\b\b\b\b\b\b\b\b\b\b\b\b\b\b\b\b\b\b\b\b\b\b\b\b\b 83% 143 - subset0/1.3.6.1.4.1.14519.5.2 . 06575256943390479252771547.raw\b\b\b\b\b\b\b\b\b\b\b\b\b\b\b\b\b\b\b\b\b\b\b\b\b\b\b\b\b\b\b\b\b\b\b\b\b\b\b\b\b\b\b\b\b\b\b\b\b\b\b\b\b\b\b\b\b\b\b\b\b\b\b\b\b\b\b\b\b\b\b\b\b                                                                         \b\b\b\b\b\b\b\b\b\b\b\b\b\b\b\b\b\b\b\b\b\b\b\b\b\b\b\b\b\b\b\b\b\b\b\b\b\b\b\b\b\b\b\b\b\b\b\b\b\b\b\b\b\b\b\b\b\b\b\b\b\b\b\b\b\b\b\b\b\b\b\b\b 83% 145 - subset0/1.3.6.1.4.1.14519.5.2 . 83630500464995109143618896.raw\b\b\b\b\b\b\b\b\b\b\b\b\b\b\b\b\b\b\b\b\b\b\b\b\b\b\b\b\b\b\b\b\b\b\b\b\b\b\b\b\b\b\b\b\b\b\b\b\b\b\b\b\b\b\b\b\b\b\b\b\b\b\b\b\b\b\b\b\b\b\b\b\b                                                                         \b\b\b\b\b\b\b\b\b\b\b\b\b\b\b\b\b\b\b\b\b\b\b\b\b\b\b\b\b\b\b\b\b\b\b\b\b\b\b\b\b\b\b\b\b\b\b\b\b\b\b\b\b\b\b\b\b\b\b\b\b\b\b\b\b\b\b\b\b\b\b\b\b 84% 145 - subset0/1.3.6.1.4.1.14519.5.2 . 83630500464995109143618896.raw\b\b\b\b\b\b\b\b\b\b\b\b\b\b\b\b\b\b\b\b\b\b\b\b\b\b\b\b\b\b\b\b\b\b\b\b\b\b\b\b\b\b\b\b\b\b\b\b\b\b\b\b\b\b\b\b\b\b\b\b\b\b\b\b\b\b\b\b\b\b\b\b\b                                                                         \b\b\b\b\b\b\b\b\b\b\b\b\b\b\b\b\b\b\b\b\b\b\b\b\b\b\b\b\b\b\b\b\b\b\b\b\b\b\b\b\b\b\b\b\b\b\b\b\b\b\b\b\b\b\b\b\b\b\b\b\b\b\b\b\b\b\b\b\b\b\b\b\b 84% 147 - subset0/1.3.6.1.4.1.14519.5.2 . 34197011295112247542153557.raw\b\b\b\b\b\b\b\b\b\b\b\b\b\b\b\b\b\b\b\b\b\b\b\b\b\b\b\b\b\b\b\b\b\b\b\b\b\b\b\b\b\b\b\b\b\b\b\b\b\b\b\b\b\b\b\b\b\b\b\b\b\b\b\b\b\b\b\b\b\b\b\b\b                                                                         \b\b\b\b\b\b\b\b\b\b\b\b\b\b\b\b\b\b\b\b\b\b\b\b\b\b\b\b\b\b\b\b\b\b\b\b\b\b\b\b\b\b\b\b\b\b\b\b\b\b\b\b\b\b\b\b\b\b\b\b\b\b\b\b\b\b\b\b\b\b\b\b\b 85% 147 - subset0/1.3.6.1.4.1.14519.5.2 . 34197011295112247542153557.raw\b\b\b\b\b\b\b\b\b\b\b\b\b\b\b\b\b\b\b\b\b\b\b\b\b\b\b\b\b\b\b\b\b\b\b\b\b\b\b\b\b\b\b\b\b\b\b\b\b\b\b\b\b\b\b\b\b\b\b\b\b\b\b\b\b\b\b\b\b\b\b\b\b                                                                         \b\b\b\b\b\b\b\b\b\b\b\b\b\b\b\b\b\b\b\b\b\b\b\b\b\b\b\b\b\b\b\b\b\b\b\b\b\b\b\b\b\b\b\b\b\b\b\b\b\b\b\b\b\b\b\b\b\b\b\b\b\b\b\b\b\b\b\b\b\b\b\b\b 85% 148\b\b\b\b\b\b\b\b        \b\b\b\b\b\b\b\b 85% 149 - subset0/1.3.6.1.4.1.14519.5.2 . 16709786169715745131047975.raw\b\b\b\b\b\b\b\b\b\b\b\b\b\b\b\b\b\b\b\b\b\b\b\b\b\b\b\b\b\b\b\b\b\b\b\b\b\b\b\b\b\b\b\b\b\b\b\b\b\b\b\b\b\b\b\b\b\b\b\b\b\b\b\b\b\b\b\b\b\b\b\b\b                                                                         \b\b\b\b\b\b\b\b\b\b\b\b\b\b\b\b\b\b\b\b\b\b\b\b\b\b\b\b\b\b\b\b\b\b\b\b\b\b\b\b\b\b\b\b\b\b\b\b\b\b\b\b\b\b\b\b\b\b\b\b\b\b\b\b\b\b\b\b\b\b\b\b\b 85% 150\b\b\b\b\b\b\b\b        \b\b\b\b\b\b\b\b 86% 151 - subset0/1.3.6.1.4.1.14519.5.2 . 16089407825046337959219998.raw\b\b\b\b\b\b\b\b\b\b\b\b\b\b\b\b\b\b\b\b\b\b\b\b\b\b\b\b\b\b\b\b\b\b\b\b\b\b\b\b\b\b\b\b\b\b\b\b\b\b\b\b\b\b\b\b\b\b\b\b\b\b\b\b\b\b\b\b\b\b\b\b\b                                                                         \b\b\b\b\b\b\b\b\b\b\b\b\b\b\b\b\b\b\b\b\b\b\b\b\b\b\b\b\b\b\b\b\b\b\b\b\b\b\b\b\b\b\b\b\b\b\b\b\b\b\b\b\b\b\b\b\b\b\b\b\b\b\b\b\b\b\b\b\b\b\b\b\b 86% 152\b\b\b\b\b\b\b\b        \b\b\b\b\b\b\b\b 86% 153 - subset0/1.3.6.1.4.1.14519.5.2 . 29228179368154416184318668.raw\b\b\b\b\b\b\b\b\b\b\b\b\b\b\b\b\b\b\b\b\b\b\b\b\b\b\b\b\b\b\b\b\b\b\b\b\b\b\b\b\b\b\b\b\b\b\b\b\b\b\b\b\b\b\b\b\b\b\b\b\b\b\b\b\b\b\b\b\b\b\b\b\b                                                                         \b\b\b\b\b\b\b\b\b\b\b\b\b\b\b\b\b\b\b\b\b\b\b\b\b\b\b\b\b\b\b\b\b\b\b\b\b\b\b\b\b\b\b\b\b\b\b\b\b\b\b\b\b\b\b\b\b\b\b\b\b\b\b\b\b\b\b\b\b\b\b\b\b 87% 153 - subset0/1.3.6.1.4.1.14519.5.2 . 29228179368154416184318668.raw\b\b\b\b\b\b\b\b\b\b\b\b\b\b\b\b\b\b\b\b\b\b\b\b\b\b\b\b\b\b\b\b\b\b\b\b\b\b\b\b\b\b\b\b\b\b\b\b\b\b\b\b\b\b\b\b\b\b\b\b\b\b\b\b\b\b\b\b\b\b\b\b\b                                                                         \b\b\b\b\b\b\b\b\b\b\b\b\b\b\b\b\b\b\b\b\b\b\b\b\b\b\b\b\b\b\b\b\b\b\b\b\b\b\b\b\b\b\b\b\b\b\b\b\b\b\b\b\b\b\b\b\b\b\b\b\b\b\b\b\b\b\b\b\b\b\b\b\b 88% 153 - subset0/1.3.6.1.4.1.14519.5.2 . 29228179368154416184318668.raw\b\b\b\b\b\b\b\b\b\b\b\b\b\b\b\b\b\b\b\b\b\b\b\b\b\b\b\b\b\b\b\b\b\b\b\b\b\b\b\b\b\b\b\b\b\b\b\b\b\b\b\b\b\b\b\b\b\b\b\b\b\b\b\b\b\b\b\b\b\b\b\b\b                                                                         \b\b\b\b\b\b\b\b\b\b\b\b\b\b\b\b\b\b\b\b\b\b\b\b\b\b\b\b\b\b\b\b\b\b\b\b\b\b\b\b\b\b\b\b\b\b\b\b\b\b\b\b\b\b\b\b\b\b\b\b\b\b\b\b\b\b\b\b\b\b\b\b\b 88% 154\b\b\b\b\b\b\b\b        \b\b\b\b\b\b\b\b 88% 155 - subset0/1.3.6.1.4.1.14519.5.2 . 75098760536289051744981056.raw\b\b\b\b\b\b\b\b\b\b\b\b\b\b\b\b\b\b\b\b\b\b\b\b\b\b\b\b\b\b\b\b\b\b\b\b\b\b\b\b\b\b\b\b\b\b\b\b\b\b\b\b\b\b\b\b\b\b\b\b\b\b\b\b\b\b\b\b\b\b\b\b\b                                                                         \b\b\b\b\b\b\b\b\b\b\b\b\b\b\b\b\b\b\b\b\b\b\b\b\b\b\b\b\b\b\b\b\b\b\b\b\b\b\b\b\b\b\b\b\b\b\b\b\b\b\b\b\b\b\b\b\b\b\b\b\b\b\b\b\b\b\b\b\b\b\b\b\b 89% 155 - subset0/1.3.6.1.4.1.14519.5.2 . 75098760536289051744981056.raw\b\b\b\b\b\b\b\b\b\b\b\b\b\b\b\b\b\b\b\b\b\b\b\b\b\b\b\b\b\b\b\b\b\b\b\b\b\b\b\b\b\b\b\b\b\b\b\b\b\b\b\b\b\b\b\b\b\b\b\b\b\b\b\b\b\b\b\b\b\b\b\b\b                                                                         \b\b\b\b\b\b\b\b\b\b\b\b\b\b\b\b\b\b\b\b\b\b\b\b\b\b\b\b\b\b\b\b\b\b\b\b\b\b\b\b\b\b\b\b\b\b\b\b\b\b\b\b\b\b\b\b\b\b\b\b\b\b\b\b\b\b\b\b\b\b\b\b\b 89% 157 - subset0/1.3.6.1.4.1.14519.5.2 . 98695101447665580610403574.raw\b\b\b\b\b\b\b\b\b\b\b\b\b\b\b\b\b\b\b\b\b\b\b\b\b\b\b\b\b\b\b\b\b\b\b\b\b\b\b\b\b\b\b\b\b\b\b\b\b\b\b\b\b\b\b\b\b\b\b\b\b\b\b\b\b\b\b\b\b\b\b\b\b                                                                         \b\b\b\b\b\b\b\b\b\b\b\b\b\b\b\b\b\b\b\b\b\b\b\b\b\b\b\b\b\b\b\b\b\b\b\b\b\b\b\b\b\b\b\b\b\b\b\b\b\b\b\b\b\b\b\b\b\b\b\b\b\b\b\b\b\b\b\b\b\b\b\b\b 90% 157 - subset0/1.3.6.1.4.1.14519.5.2 . 98695101447665580610403574.raw\b\b\b\b\b\b\b\b\b\b\b\b\b\b\b\b\b\b\b\b\b\b\b\b\b\b\b\b\b\b\b\b\b\b\b\b\b\b\b\b\b\b\b\b\b\b\b\b\b\b\b\b\b\b\b\b\b\b\b\b\b\b\b\b\b\b\b\b\b\b\b\b\b                                                                         \b\b\b\b\b\b\b\b\b\b\b\b\b\b\b\b\b\b\b\b\b\b\b\b\b\b\b\b\b\b\b\b\b\b\b\b\b\b\b\b\b\b\b\b\b\b\b\b\b\b\b\b\b\b\b\b\b\b\b\b\b\b\b\b\b\b\b\b\b\b\b\b\b 90% 158\b\b\b\b\b\b\b\b        \b\b\b\b\b\b\b\b 91% 159 - subset0/1.3.6.1.4.1.14519.5.2 . 51104254976962355686318345.raw\b\b\b\b\b\b\b\b\b\b\b\b\b\b\b\b\b\b\b\b\b\b\b\b\b\b\b\b\b\b\b\b\b\b\b\b\b\b\b\b\b\b\b\b\b\b\b\b\b\b\b\b\b\b\b\b\b\b\b\b\b\b\b\b\b\b\b\b\b\b\b\b\b                                                                         \b\b\b\b\b\b\b\b\b\b\b\b\b\b\b\b\b\b\b\b\b\b\b\b\b\b\b\b\b\b\b\b\b\b\b\b\b\b\b\b\b\b\b\b\b\b\b\b\b\b\b\b\b\b\b\b\b\b\b\b\b\b\b\b\b\b\b\b\b\b\b\b\b 92% 159 - subset0/1.3.6.1.4.1.14519.5.2 . 51104254976962355686318345.raw\b\b\b\b\b\b\b\b\b\b\b\b\b\b\b\b\b\b\b\b\b\b\b\b\b\b\b\b\b\b\b\b\b\b\b\b\b\b\b\b\b\b\b\b\b\b\b\b\b\b\b\b\b\b\b\b\b\b\b\b\b\b\b\b\b\b\b\b\b\b\b\b\b                                                                         \b\b\b\b\b\b\b\b\b\b\b\b\b\b\b\b\b\b\b\b\b\b\b\b\b\b\b\b\b\b\b\b\b\b\b\b\b\b\b\b\b\b\b\b\b\b\b\b\b\b\b\b\b\b\b\b\b\b\b\b\b\b\b\b\b\b\b\b\b\b\b\b\b 92% 160\b\b\b\b\b\b\b\b        \b\b\b\b\b\b\b\b 92% 161 - subset0/1.3.6.1.4.1.14519.5.2 . 56872840730509471096155114.raw\b\b\b\b\b\b\b\b\b\b\b\b\b\b\b\b\b\b\b\b\b\b\b\b\b\b\b\b\b\b\b\b\b\b\b\b\b\b\b\b\b\b\b\b\b\b\b\b\b\b\b\b\b\b\b\b\b\b\b\b\b\b\b\b\b\b\b\b\b\b\b\b\b                                                                         \b\b\b\b\b\b\b\b\b\b\b\b\b\b\b\b\b\b\b\b\b\b\b\b\b\b\b\b\b\b\b\b\b\b\b\b\b\b\b\b\b\b\b\b\b\b\b\b\b\b\b\b\b\b\b\b\b\b\b\b\b\b\b\b\b\b\b\b\b\b\b\b\b 93% 161 - subset0/1.3.6.1.4.1.14519.5.2 . 56872840730509471096155114.raw\b\b\b\b\b\b\b\b\b\b\b\b\b\b\b\b\b\b\b\b\b\b\b\b\b\b\b\b\b\b\b\b\b\b\b\b\b\b\b\b\b\b\b\b\b\b\b\b\b\b\b\b\b\b\b\b\b\b\b\b\b\b\b\b\b\b\b\b\b\b\b\b\b                                                                         \b\b\b\b\b\b\b\b\b\b\b\b\b\b\b\b\b\b\b\b\b\b\b\b\b\b\b\b\b\b\b\b\b\b\b\b\b\b\b\b\b\b\b\b\b\b\b\b\b\b\b\b\b\b\b\b\b\b\b\b\b\b\b\b\b\b\b\b\b\b\b\b\b 93% 162\b\b\b\b\b\b\b\b        \b\b\b\b\b\b\b\b 93% 163 - subset0/1.3.6.1.4.1.14519.5.2 . 25269324902055566754756843.raw\b\b\b\b\b\b\b\b\b\b\b\b\b\b\b\b\b\b\b\b\b\b\b\b\b\b\b\b\b\b\b\b\b\b\b\b\b\b\b\b\b\b\b\b\b\b\b\b\b\b\b\b\b\b\b\b\b\b\b\b\b\b\b\b\b\b\b\b\b\b\b\b\b                                                                         \b\b\b\b\b\b\b\b\b\b\b\b\b\b\b\b\b\b\b\b\b\b\b\b\b\b\b\b\b\b\b\b\b\b\b\b\b\b\b\b\b\b\b\b\b\b\b\b\b\b\b\b\b\b\b\b\b\b\b\b\b\b\b\b\b\b\b\b\b\b\b\b\b 93% 164\b\b\b\b\b\b\b\b        \b\b\b\b\b\b\b\b 94% 165 - subset0/1.3.6.1.4.1.14519.5.2 . 12708000318290301835871780.raw\b\b\b\b\b\b\b\b\b\b\b\b\b\b\b\b\b\b\b\b\b\b\b\b\b\b\b\b\b\b\b\b\b\b\b\b\b\b\b\b\b\b\b\b\b\b\b\b\b\b\b\b\b\b\b\b\b\b\b\b\b\b\b\b\b\b\b\b\b\b\b\b\b                                                                         \b\b\b\b\b\b\b\b\b\b\b\b\b\b\b\b\b\b\b\b\b\b\b\b\b\b\b\b\b\b\b\b\b\b\b\b\b\b\b\b\b\b\b\b\b\b\b\b\b\b\b\b\b\b\b\b\b\b\b\b\b\b\b\b\b\b\b\b\b\b\b\b\b 95% 165 - subset0/1.3.6.1.4.1.14519.5.2 . 12708000318290301835871780.raw\b\b\b\b\b\b\b\b\b\b\b\b\b\b\b\b\b\b\b\b\b\b\b\b\b\b\b\b\b\b\b\b\b\b\b\b\b\b\b\b\b\b\b\b\b\b\b\b\b\b\b\b\b\b\b\b\b\b\b\b\b\b\b\b\b\b\b\b\b\b\b\b\b                                                                         \b\b\b\b\b\b\b\b\b\b\b\b\b\b\b\b\b\b\b\b\b\b\b\b\b\b\b\b\b\b\b\b\b\b\b\b\b\b\b\b\b\b\b\b\b\b\b\b\b\b\b\b\b\b\b\b\b\b\b\b\b\b\b\b\b\b\b\b\b\b\b\b\b 95% 166\b\b\b\b\b\b\b\b        \b\b\b\b\b\b\b\b 95% 167 - subset0/1.3.6.1.4.1.14519.5.2 . 60670372728970918746541371.raw\b\b\b\b\b\b\b\b\b\b\b\b\b\b\b\b\b\b\b\b\b\b\b\b\b\b\b\b\b\b\b\b\b\b\b\b\b\b\b\b\b\b\b\b\b\b\b\b\b\b\b\b\b\b\b\b\b\b\b\b\b\b\b\b\b\b\b\b\b\b\b\b\b                                                                         \b\b\b\b\b\b\b\b\b\b\b\b\b\b\b\b\b\b\b\b\b\b\b\b\b\b\b\b\b\b\b\b\b\b\b\b\b\b\b\b\b\b\b\b\b\b\b\b\b\b\b\b\b\b\b\b\b\b\b\b\b\b\b\b\b\b\b\b\b\b\b\b\b 96% 167 - subset0/1.3.6.1.4.1.14519.5.2 . 60670372728970918746541371.raw\b\b\b\b\b\b\b\b\b\b\b\b\b\b\b\b\b\b\b\b\b\b\b\b\b\b\b\b\b\b\b\b\b\b\b\b\b\b\b\b\b\b\b\b\b\b\b\b\b\b\b\b\b\b\b\b\b\b\b\b\b\b\b\b\b\b\b\b\b\b\b\b\b                                                                         \b\b\b\b\b\b\b\b\b\b\b\b\b\b\b\b\b\b\b\b\b\b\b\b\b\b\b\b\b\b\b\b\b\b\b\b\b\b\b\b\b\b\b\b\b\b\b\b\b\b\b\b\b\b\b\b\b\b\b\b\b\b\b\b\b\b\b\b\b\b\b\b\b 96% 168\b\b\b\b\b\b\b\b        \b\b\b\b\b\b\b\b 96% 169 - subset0/1.3.6.1.4.1.14519.5.2 . 11851413924881662621747734.raw\b\b\b\b\b\b\b\b\b\b\b\b\b\b\b\b\b\b\b\b\b\b\b\b\b\b\b\b\b\b\b\b\b\b\b\b\b\b\b\b\b\b\b\b\b\b\b\b\b\b\b\b\b\b\b\b\b\b\b\b\b\b\b\b\b\b\b\b\b\b\b\b\b                                                                         \b\b\b\b\b\b\b\b\b\b\b\b\b\b\b\b\b\b\b\b\b\b\b\b\b\b\b\b\b\b\b\b\b\b\b\b\b\b\b\b\b\b\b\b\b\b\b\b\b\b\b\b\b\b\b\b\b\b\b\b\b\b\b\b\b\b\b\b\b\b\b\b\b 97% 169 - subset0/1.3.6.1.4.1.14519.5.2 . 11851413924881662621747734.raw\b\b\b\b\b\b\b\b\b\b\b\b\b\b\b\b\b\b\b\b\b\b\b\b\b\b\b\b\b\b\b\b\b\b\b\b\b\b\b\b\b\b\b\b\b\b\b\b\b\b\b\b\b\b\b\b\b\b\b\b\b\b\b\b\b\b\b\b\b\b\b\b\b                                                                         \b\b\b\b\b\b\b\b\b\b\b\b\b\b\b\b\b\b\b\b\b\b\b\b\b\b\b\b\b\b\b\b\b\b\b\b\b\b\b\b\b\b\b\b\b\b\b\b\b\b\b\b\b\b\b\b\b\b\b\b\b\b\b\b\b\b\b\b\b\b\b\b\b 97% 170\b\b\b\b\b\b\b\b        \b\b\b\b\b\b\b\b 97% 171 - subset0/1.3.6.1.4.1.14519.5.2 . 42529028521482602829374444.raw\b\b\b\b\b\b\b\b\b\b\b\b\b\b\b\b\b\b\b\b\b\b\b\b\b\b\b\b\b\b\b\b\b\b\b\b\b\b\b\b\b\b\b\b\b\b\b\b\b\b\b\b\b\b\b\b\b\b\b\b\b\b\b\b\b\b\b\b\b\b\b\b\b                                                                         \b\b\b\b\b\b\b\b\b\b\b\b\b\b\b\b\b\b\b\b\b\b\b\b\b\b\b\b\b\b\b\b\b\b\b\b\b\b\b\b\b\b\b\b\b\b\b\b\b\b\b\b\b\b\b\b\b\b\b\b\b\b\b\b\b\b\b\b\b\b\b\b\b 98% 171 - subset0/1.3.6.1.4.1.14519.5.2 . 42529028521482602829374444.raw\b\b\b\b\b\b\b\b\b\b\b\b\b\b\b\b\b\b\b\b\b\b\b\b\b\b\b\b\b\b\b\b\b\b\b\b\b\b\b\b\b\b\b\b\b\b\b\b\b\b\b\b\b\b\b\b\b\b\b\b\b\b\b\b\b\b\b\b\b\b\b\b\b                                                                         \b\b\b\b\b\b\b\b\b\b\b\b\b\b\b\b\b\b\b\b\b\b\b\b\b\b\b\b\b\b\b\b\b\b\b\b\b\b\b\b\b\b\b\b\b\b\b\b\b\b\b\b\b\b\b\b\b\b\b\b\b\b\b\b\b\b\b\b\b\b\b\b\b 98% 172\b\b\b\b\b\b\b\b        \b\b\b\b\b\b\b\b 98% 173 - subset0/1.3.6.1.4.1.14519.5.2 . 71958588660410240398317235.raw\b\b\b\b\b\b\b\b\b\b\b\b\b\b\b\b\b\b\b\b\b\b\b\b\b\b\b\b\b\b\b\b\b\b\b\b\b\b\b\b\b\b\b\b\b\b\b\b\b\b\b\b\b\b\b\b\b\b\b\b\b\b\b\b\b\b\b\b\b\b\b\b\b                                                                         \b\b\b\b\b\b\b\b\b\b\b\b\b\b\b\b\b\b\b\b\b\b\b\b\b\b\b\b\b\b\b\b\b\b\b\b\b\b\b\b\b\b\b\b\b\b\b\b\b\b\b\b\b\b\b\b\b\b\b\b\b\b\b\b\b\b\b\b\b\b\b\b\b 98% 174\b\b\b\b\b\b\b\b        \b\b\b\b\b\b\b\b 99% 175 - subset0/1.3.6.1.4.1.14519.5.2 . 54950136384517744116790879.raw\b\b\b\b\b\b\b\b\b\b\b\b\b\b\b\b\b\b\b\b\b\b\b\b\b\b\b\b\b\b\b\b\b\b\b\b\b\b\b\b\b\b\b\b\b\b\b\b\b\b\b\b\b\b\b\b\b\b\b\b\b\b\b\b\b\b\b\b\b\b\b\b\b                                                                         \b\b\b\b\b\b\b\b\b\b\b\b\b\b\b\b\b\b\b\b\b\b\b\b\b\b\b\b\b\b\b\b\b\b\b\b\b\b\b\b\b\b\b\b\b\b\b\b\b\b\b\b\b\b\b\b\b\b\b\b\b\b\b\b\b\b\b\b\b\b\b\b\b 99% 176\b\b\b\b\b\b\b\b        \b\b\b\b\b\b\b\b 99% 177 - subset0/1.3.6.1.4.1.14519.5.2 . 83010707182900091062408058.raw\b\b\b\b\b\b\b\b\b\b\b\b\b\b\b\b\b\b\b\b\b\b\b\b\b\b\b\b\b\b\b\b\b\b\b\b\b\b\b\b\b\b\b\b\b\b\b\b\b\b\b\b\b\b\b\b\b\b\b\b\b\b\b\b\b\b\b\b\b\b\b\b\b                                                                         \b\b\b\b\b\b\b\b\b\b\b\b\b\b\b\b\b\b\b\b\b\b\b\b\b\b\b\b\b\b\b\b\b\b\b\b\b\b\b\b\b\b\b\b\b\b\b\b\b\b\b\b\b\b\b\b\b\b\b\b\b\b\b\b\b\b\b\b\b\b\b\b\b100% 177 - subset0/1.3.6.1.4.1.14519.5.2 . 83010707182900091062408058.raw\b\b\b\b\b\b\b\b\b\b\b\b\b\b\b\b\b\b\b\b\b\b\b\b\b\b\b\b\b\b\b\b\b\b\b\b\b\b\b\b\b\b\b\b\b\b\b\b\b\b\b\b\b\b\b\b\b\b\b\b\b\b\b\b\b\b\b\b\b\b\b\b\b                                                                         \b\b\b\b\b\b\b\b\b\b\b\b\b\b\b\b\b\b\b\b\b\b\b\b\b\b\b\b\b\b\b\b\b\b\b\b\b\b\b\b\b\b\b\b\b\b\b\b\b\b\b\b\b\b\b\b\b\b\b\b\b\b\b\b\b\b\b\b\b\b\b\b\b\n",
            "\n",
            "Archives with Errors: 1\n",
            "\n",
            "Open Errors: 1\n",
            "\n"
          ]
        }
      ]
    },
    {
      "cell_type": "code",
      "source": [
        "!pip install SimpleITK"
      ],
      "metadata": {
        "colab": {
          "base_uri": "https://localhost:8080/"
        },
        "id": "6yfgHXsl_e2d",
        "outputId": "57a3bdb5-1f0c-4f40-edaf-9b85c3cba016"
      },
      "execution_count": null,
      "outputs": [
        {
          "output_type": "stream",
          "name": "stdout",
          "text": [
            "Looking in indexes: https://pypi.org/simple, https://us-python.pkg.dev/colab-wheels/public/simple/\n",
            "Collecting SimpleITK\n",
            "  Downloading SimpleITK-2.2.0-cp38-cp38-manylinux_2_17_x86_64.manylinux2014_x86_64.whl (52.8 MB)\n",
            "\u001b[K     |████████████████████████████████| 52.8 MB 256 kB/s \n",
            "\u001b[?25hInstalling collected packages: SimpleITK\n",
            "Successfully installed SimpleITK-2.2.0\n"
          ]
        }
      ]
    },
    {
      "cell_type": "code",
      "source": [
        "!pip install \"diskcache==4.1.0\""
      ],
      "metadata": {
        "colab": {
          "base_uri": "https://localhost:8080/"
        },
        "id": "LXy4CkEO_gE0",
        "outputId": "3c214b94-5793-4592-cec8-27758c2ae2d1"
      },
      "execution_count": null,
      "outputs": [
        {
          "output_type": "stream",
          "name": "stdout",
          "text": [
            "Looking in indexes: https://pypi.org/simple, https://us-python.pkg.dev/colab-wheels/public/simple/\n",
            "Collecting diskcache==4.1.0\n",
            "  Downloading diskcache-4.1.0-py2.py3-none-any.whl (44 kB)\n",
            "\u001b[K     |████████████████████████████████| 44 kB 3.1 MB/s \n",
            "\u001b[?25hInstalling collected packages: diskcache\n",
            "Successfully installed diskcache-4.1.0\n"
          ]
        }
      ]
    },
    {
      "cell_type": "code",
      "source": [
        "cd /content/dlwpt-code/"
      ],
      "metadata": {
        "colab": {
          "base_uri": "https://localhost:8080/"
        },
        "id": "2N16Syns_lFq",
        "outputId": "bd189508-4060-47e5-8f86-65540d50a202"
      },
      "execution_count": null,
      "outputs": [
        {
          "output_type": "stream",
          "name": "stdout",
          "text": [
            "/content/dlwpt-code\n"
          ]
        }
      ]
    },
    {
      "cell_type": "markdown",
      "source": [
        "## Setting up the LunaDataset\n",
        "We set up the LunaDataset to train the model. We use the code in p2ch12explore_data.ipynb."
      ],
      "metadata": {
        "id": "m25miW0CA0nr"
      }
    },
    {
      "cell_type": "code",
      "source": [
        "import torch\n",
        "from p2ch12.dsets import getCandidateInfoList, getCt, LunaDataset\n",
        "from util.util import xyz2irc"
      ],
      "metadata": {
        "id": "eR874EuzApk5"
      },
      "execution_count": null,
      "outputs": []
    },
    {
      "cell_type": "code",
      "source": [
        "candidateInfo_list = getCandidateInfoList(requireOnDisk_bool=False)\n",
        "candidateInfo_list[0]"
      ],
      "metadata": {
        "colab": {
          "base_uri": "https://localhost:8080/"
        },
        "id": "Q_ep-GOk_pyj",
        "outputId": "da74caa2-ff61-48ab-ad56-8ea2ffb0365b"
      },
      "execution_count": null,
      "outputs": [
        {
          "output_type": "execute_result",
          "data": {
            "text/plain": [
              "CandidateInfoTuple(isNodule_bool=True, diameter_mm=32.27003025, series_uid='1.3.6.1.4.1.14519.5.2.1.6279.6001.287966244644280690737019247886', center_xyz=(67.61451718, 85.02525992, -109.8084416))"
            ]
          },
          "metadata": {},
          "execution_count": 15
        }
      ]
    },
    {
      "cell_type": "code",
      "source": [
        "from p2ch12.vis import findPositiveSamples, showCandidate\n",
        "positiveSample_list = findPositiveSamples()"
      ],
      "metadata": {
        "colab": {
          "base_uri": "https://localhost:8080/"
        },
        "id": "8BUXZvAR_4JB",
        "outputId": "85cf8448-13e6-4461-8999-0e366c052964"
      },
      "execution_count": null,
      "outputs": [
        {
          "output_type": "stream",
          "name": "stderr",
          "text": [
            "2022-12-04 18:32:43,945 INFO     pid:75 p2ch12.dsets:266:__init__ <p2ch12.dsets.LunaDataset object at 0x7f8644e739d0>: 56938 training samples, 56816 neg, 122 pos, unbalanced ratio\n"
          ]
        },
        {
          "output_type": "stream",
          "name": "stdout",
          "text": [
            "0 CandidateInfoTuple(isNodule_bool=True, diameter_mm=25.23320204, series_uid='1.3.6.1.4.1.14519.5.2.1.6279.6001.511347030803753100045216493273', center_xyz=(63.4740118048, 73.9174523314, -213.736128767))\n",
            "1 CandidateInfoTuple(isNodule_bool=True, diameter_mm=21.58311204, series_uid='1.3.6.1.4.1.14519.5.2.1.6279.6001.905371958588660410240398317235', center_xyz=(109.142472723, 49.6356928166, -121.183579092))\n",
            "2 CandidateInfoTuple(isNodule_bool=True, diameter_mm=19.65387738, series_uid='1.3.6.1.4.1.14519.5.2.1.6279.6001.752756872840730509471096155114', center_xyz=(56.1226132601, 67.868268695, -65.6269886453))\n",
            "3 CandidateInfoTuple(isNodule_bool=True, diameter_mm=18.7832325, series_uid='1.3.6.1.4.1.14519.5.2.1.6279.6001.202811684116768680758082619196', center_xyz=(-82.79150362, -21.43587141, -97.18427459))\n",
            "4 CandidateInfoTuple(isNodule_bool=True, diameter_mm=17.75323185, series_uid='1.3.6.1.4.1.14519.5.2.1.6279.6001.187451715205085403623595258748', center_xyz=(94.1132711884, -15.8936132585, -202.847228297))\n",
            "5 CandidateInfoTuple(isNodule_bool=True, diameter_mm=17.69382414, series_uid='1.3.6.1.4.1.14519.5.2.1.6279.6001.137763212752154081977261297097', center_xyz=(-78.2266125547, 180.542140994, -467.88476912))\n",
            "6 CandidateInfoTuple(isNodule_bool=True, diameter_mm=17.69382414, series_uid='1.3.6.1.4.1.14519.5.2.1.6279.6001.137763212752154081977261297097', center_xyz=(-82.01161135, 186.5539408, -467.9168457))\n",
            "7 CandidateInfoTuple(isNodule_bool=True, diameter_mm=17.52596027, series_uid='1.3.6.1.4.1.14519.5.2.1.6279.6001.227962600322799211676960828223', center_xyz=(75.0930413723, -0.51240559114, -58.1161965725))\n",
            "8 CandidateInfoTuple(isNodule_bool=True, diameter_mm=17.3362496, series_uid='1.3.6.1.4.1.14519.5.2.1.6279.6001.805925269324902055566754756843', center_xyz=(-66.8081081882, 97.0125969393, -267.863533051))\n",
            "9 CandidateInfoTuple(isNodule_bool=True, diameter_mm=15.48525426, series_uid='1.3.6.1.4.1.14519.5.2.1.6279.6001.154677396354641150280013275227', center_xyz=(-57.04638761, 131.2249427, -520.247305))\n"
          ]
        }
      ]
    },
    {
      "cell_type": "code",
      "source": [
        "tuple_list = LunaDataset()"
      ],
      "metadata": {
        "colab": {
          "base_uri": "https://localhost:8080/"
        },
        "id": "j3ZI2aw7PcdL",
        "outputId": "d715ed73-88b4-4665-c9c7-10d125323741"
      },
      "execution_count": null,
      "outputs": [
        {
          "output_type": "stream",
          "name": "stderr",
          "text": [
            "2022-12-04 18:32:48,565 INFO     pid:75 p2ch12.dsets:266:__init__ <p2ch12.dsets.LunaDataset object at 0x7f85c1c38fd0>: 56938 training samples, 56816 neg, 122 pos, unbalanced ratio\n"
          ]
        }
      ]
    },
    {
      "cell_type": "markdown",
      "source": [
        "## Class balancing\n",
        "Since the number of negative samples (no nodule) are many more than the positive ones (nodules) if we use the data as it is to build our batches the grat majority of them will contain only negative samples and the network will not learn how to discriminate negative from positive samples. In order to overcome this problem we have to make each batch more balanced, with a 1:1 ratio, using the positive samples more than once. The class balancing is implemented in p2ch12/dset.py"
      ],
      "metadata": {
        "id": "Vl9dEcc9Kb-T"
      }
    },
    {
      "cell_type": "markdown",
      "source": [
        "## Train and run the model\n",
        "We first train the model without balancing. We use the script p2_run_everything.ipynb for chapter 12"
      ],
      "metadata": {
        "id": "U69bu1IIMXge"
      }
    },
    {
      "cell_type": "code",
      "source": [
        "import datetime\n",
        "\n",
        "from util.util import importstr\n",
        "from util.logconf import logging\n",
        "log = logging.getLogger('nb')"
      ],
      "metadata": {
        "id": "imQ8olBWPx9y"
      },
      "execution_count": null,
      "outputs": []
    },
    {
      "cell_type": "code",
      "source": [
        "def run(app, *argv):\n",
        "    argv = list(argv)\n",
        "    argv.insert(0, '--num-workers=4')  # <1>\n",
        "    log.info(\"Running: {}({!r}).main()\".format(app, argv))\n",
        "    \n",
        "    app_cls = importstr(*app.rsplit('.', 1))  # <2>\n",
        "    app_cls(argv).main()\n",
        "    \n",
        "    log.info(\"Finished: {}.{!r}).main()\".format(app, argv))"
      ],
      "metadata": {
        "id": "bU69h05yP_tC"
      },
      "execution_count": null,
      "outputs": []
    },
    {
      "cell_type": "code",
      "source": [
        "import os\n",
        "import shutil\n",
        "\n",
        "# clean up any old data that might be around.\n",
        "# We don't call this by default because it's destructive, \n",
        "# and would waste a lot of time if it ran when nothing \n",
        "# on the application side had changed.\n",
        "def cleanCache():\n",
        "    shutil.rmtree('data-unversioned/cache')\n",
        "    os.mkdir('data-unversioned/cache')\n",
        "\n",
        "# cleanCache()"
      ],
      "metadata": {
        "id": "8pzOiHpmQFkh"
      },
      "execution_count": null,
      "outputs": []
    },
    {
      "cell_type": "code",
      "source": [
        "training_epochs = 4\n",
        "experiment_epochs = 2\n",
        "final_epochs = 5\n",
        "seg_epochs = 10"
      ],
      "metadata": {
        "id": "3Vpbo5x7QKuR"
      },
      "execution_count": null,
      "outputs": []
    },
    {
      "cell_type": "code",
      "source": [
        "run('p2ch12.prepcache.LunaPrepCacheApp')"
      ],
      "metadata": {
        "colab": {
          "base_uri": "https://localhost:8080/"
        },
        "id": "onCs_TXnQTex",
        "outputId": "0b210644-a3f1-4adb-b9e4-7edbb13cec45"
      },
      "execution_count": null,
      "outputs": [
        {
          "output_type": "stream",
          "name": "stderr",
          "text": [
            "2022-12-04 18:33:20,089 INFO     pid:75 nb:004:run Running: p2ch12.prepcache.LunaPrepCacheApp(['--num-workers=4']).main()\n",
            "2022-12-04 18:33:20,096 INFO     pid:75 p2ch12.prepcache:043:main Starting LunaPrepCacheApp, Namespace(batch_size=1024, num_workers=4)\n",
            "2022-12-04 18:33:20,145 INFO     pid:75 p2ch12.dsets:266:__init__ <p2ch12.dsets.LunaDataset object at 0x7f85c1c38f70>: 56938 training samples, 56816 neg, 122 pos, unbalanced ratio\n",
            "/usr/local/lib/python3.8/dist-packages/torch/utils/data/dataloader.py:563: UserWarning: This DataLoader will create 4 worker processes in total. Our suggested max number of worker in current system is 2, which is smaller than what this DataLoader is going to create. Please be aware that excessive worker creation might get DataLoader running slow or even freeze, lower the worker number to avoid potential slowness/freeze if necessary.\n",
            "  warnings.warn(_create_warning_msg(\n",
            "2022-12-04 18:33:20,152 WARNING  pid:75 util.util:219:enumerateWithEstimate Stuffing cache ----/56, starting\n",
            "2022-12-04 18:34:12,542 INFO     pid:75 util.util:236:enumerateWithEstimate Stuffing cache    8/56, done at 2022-12-04 18:38:51, 0:05:08\n",
            "2022-12-04 18:35:00,050 INFO     pid:75 util.util:236:enumerateWithEstimate Stuffing cache   16/56, done at 2022-12-04 18:38:51, 0:05:08\n",
            "2022-12-04 18:36:34,066 INFO     pid:75 util.util:236:enumerateWithEstimate Stuffing cache   32/56, done at 2022-12-04 18:38:49, 0:05:07\n",
            "2022-12-04 18:38:38,228 WARNING  pid:75 util.util:249:enumerateWithEstimate Stuffing cache ----/56, done at 2022-12-04 18:38:38\n",
            "2022-12-04 18:38:38,263 INFO     pid:75 nb:009:run Finished: p2ch12.prepcache.LunaPrepCacheApp.['--num-workers=4']).main()\n"
          ]
        }
      ]
    },
    {
      "cell_type": "code",
      "source": [
        "run('p2ch12.training.LunaTrainingApp', '--epochs=1', 'unbalanced')"
      ],
      "metadata": {
        "colab": {
          "base_uri": "https://localhost:8080/"
        },
        "id": "u5T1QTOhQ7MX",
        "outputId": "5a39010b-62a4-423f-e43a-79241f8af2ab"
      },
      "execution_count": null,
      "outputs": [
        {
          "output_type": "stream",
          "name": "stderr",
          "text": [
            "2022-12-04 18:39:56,828 INFO     pid:75 nb:004:run Running: p2ch12.training.LunaTrainingApp(['--num-workers=4', '--epochs=1', 'unbalanced']).main()\n",
            "2022-12-04 18:39:58,745 INFO     pid:75 p2ch12.training:127:initModel Using CUDA; 1 devices.\n",
            "2022-12-04 18:40:03,599 INFO     pid:75 p2ch12.training:188:main Starting LunaTrainingApp, Namespace(augment_flip=False, augment_noise=False, augment_offset=False, augment_rotate=False, augment_scale=False, augmented=False, balanced=False, batch_size=32, comment='unbalanced', epochs=1, num_workers=4, tb_prefix='p2ch12')\n",
            "2022-12-04 18:40:03,636 INFO     pid:75 p2ch12.dsets:266:__init__ <p2ch12.dsets.LunaDataset object at 0x7f85bb8619a0>: 51244 training samples, 51135 neg, 109 pos, unbalanced ratio\n",
            "2022-12-04 18:40:03,641 INFO     pid:75 p2ch12.dsets:266:__init__ <p2ch12.dsets.LunaDataset object at 0x7f85c1e5bc40>: 5694 validation samples, 5681 neg, 13 pos, unbalanced ratio\n",
            "2022-12-04 18:40:03,645 INFO     pid:75 p2ch12.training:195:main Epoch 1 of 1, 1602/178 batches of size 32*1\n",
            "2022-12-04 18:40:03,660 WARNING  pid:75 util.util:219:enumerateWithEstimate E1 Training ----/1602, starting\n",
            "2022-12-04 18:40:19,312 INFO     pid:75 util.util:236:enumerateWithEstimate E1 Training   16/1602, done at 2022-12-04 18:43:13, 0:02:55\n",
            "2022-12-04 18:40:25,867 INFO     pid:75 util.util:236:enumerateWithEstimate E1 Training   64/1602, done at 2022-12-04 18:43:47, 0:03:29\n",
            "2022-12-04 18:40:47,517 INFO     pid:75 util.util:236:enumerateWithEstimate E1 Training  256/1602, done at 2022-12-04 18:43:25, 0:03:07\n",
            "2022-12-04 18:42:08,124 INFO     pid:75 util.util:236:enumerateWithEstimate E1 Training 1024/1602, done at 2022-12-04 18:43:10, 0:02:52\n",
            "2022-12-04 18:43:05,589 WARNING  pid:75 util.util:249:enumerateWithEstimate E1 Training ----/1602, done at 2022-12-04 18:43:05\n",
            "2022-12-04 18:43:12,113 INFO     pid:75 numexpr.utils:160:_init_num_threads NumExpr defaulting to 2 threads.\n",
            "2022-12-04 18:43:13,293 INFO     pid:75 p2ch12.training:304:logMetrics E1 LunaTrainingApp\n",
            "/content/dlwpt-code/p2ch12/training.py:339: RuntimeWarning: invalid value encountered in double_scalars\n",
            "  2 * (precision * recall) / (precision + recall)\n",
            "2022-12-04 18:43:13,449 INFO     pid:75 p2ch12.training:341:logMetrics E1 trn      0.0248 loss,  99.8% correct, 0.0000 precision, 0.0000 recall, nan f1 score\n",
            "2022-12-04 18:43:13,451 INFO     pid:75 p2ch12.training:353:logMetrics E1 trn_neg  0.0027 loss, 100.0% correct (51122 of 51135)\n",
            "2022-12-04 18:43:13,452 INFO     pid:75 p2ch12.training:364:logMetrics E1 trn_pos  10.3493 loss,   0.0% correct (0 of 109)\n",
            "2022-12-04 18:43:15,685 WARNING  pid:75 util.util:219:enumerateWithEstimate E1 Validation  ----/178, starting\n",
            "/usr/local/lib/python3.8/dist-packages/torch/utils/data/dataloader.py:563: UserWarning: This DataLoader will create 4 worker processes in total. Our suggested max number of worker in current system is 2, which is smaller than what this DataLoader is going to create. Please be aware that excessive worker creation might get DataLoader running slow or even freeze, lower the worker number to avoid potential slowness/freeze if necessary.\n",
            "  warnings.warn(_create_warning_msg(\n",
            "2022-12-04 18:43:18,546 INFO     pid:75 util.util:236:enumerateWithEstimate E1 Validation    16/178, done at 2022-12-04 18:43:39, 0:00:22\n",
            "2022-12-04 18:43:23,554 INFO     pid:75 util.util:236:enumerateWithEstimate E1 Validation    64/178, done at 2022-12-04 18:43:36, 0:00:19\n",
            "2022-12-04 18:43:34,663 WARNING  pid:75 util.util:249:enumerateWithEstimate E1 Validation  ----/178, done at 2022-12-04 18:43:34\n",
            "2022-12-04 18:43:34,668 INFO     pid:75 p2ch12.training:304:logMetrics E1 LunaTrainingApp\n",
            "/content/dlwpt-code/p2ch12/training.py:334: RuntimeWarning: invalid value encountered in true_divide\n",
            "  truePos_count / np.float32(truePos_count + falsePos_count)\n",
            "2022-12-04 18:43:34,670 INFO     pid:75 p2ch12.training:341:logMetrics E1 val      0.0169 loss,  99.8% correct, nan precision, 0.0000 recall, nan f1 score\n",
            "2022-12-04 18:43:34,673 INFO     pid:75 p2ch12.training:353:logMetrics E1 val_neg  0.0009 loss, 100.0% correct (5681 of 5681)\n",
            "2022-12-04 18:43:34,676 INFO     pid:75 p2ch12.training:364:logMetrics E1 val_pos  7.0292 loss,   0.0% correct (0 of 13)\n",
            "2022-12-04 18:43:34,750 INFO     pid:75 nb:009:run Finished: p2ch12.training.LunaTrainingApp.['--num-workers=4', '--epochs=1', 'unbalanced']).main()\n"
          ]
        }
      ]
    },
    {
      "cell_type": "markdown",
      "source": [
        "## Train and run with balancing\n",
        "The LunaDataset is already set up to use balanced batches, we have only to train the model again passing the argument 'balanced' to the LunaTrainApp application. We train the model for two epochs to see whether there is an improvement or not by comparing the training loss and the validation loss. We use only one subset of the data for a limit in the available resources on Google Colab. That subset contains 5681 negative samples and only 13 positive samples. In the validation for the positive samples we have 53.8% correct for the 1st epoch and only 69.2% for the 2nd epoch, so the validation loss for positive samples is decreasing. The same, and even better, happens for the negative samples: 94.3 correct in the 1st epoch and 98.8% correct in the 2nd epoch. This result may be different if we run more epochs. We could see a lower performance for the positive samples and that would mean that there is overfitting since there are fewer positive samples than negative ones."
      ],
      "metadata": {
        "id": "MD-lxOJRebpc"
      }
    },
    {
      "cell_type": "code",
      "source": [
        "run('p2ch12.training.LunaTrainingApp', f'--epochs={training_epochs}', '--balanced', 'balanced')\n"
      ],
      "metadata": {
        "colab": {
          "base_uri": "https://localhost:8080/"
        },
        "id": "L1GucswcdQDw",
        "outputId": "7d5df6f9-dd2a-4f28-f0b7-4b09e5187de3"
      },
      "execution_count": null,
      "outputs": [
        {
          "output_type": "stream",
          "name": "stderr",
          "text": [
            "2022-12-04 20:03:38,340 INFO     pid:75 nb:004:run Running: p2ch12.training.LunaTrainingApp(['--num-workers=4', '--epochs=4', '--balanced', 'balanced']).main()\n",
            "2022-12-04 20:03:38,368 INFO     pid:75 p2ch12.training:127:initModel Using CUDA; 1 devices.\n",
            "2022-12-04 20:03:38,383 INFO     pid:75 p2ch12.training:188:main Starting LunaTrainingApp, Namespace(augment_flip=False, augment_noise=False, augment_offset=False, augment_rotate=False, augment_scale=False, augmented=False, balanced=True, batch_size=32, comment='balanced', epochs=4, num_workers=4, tb_prefix='p2ch12')\n",
            "2022-12-04 20:03:38,421 INFO     pid:75 p2ch12.dsets:266:__init__ <p2ch12.dsets.LunaDataset object at 0x7f85b34fafa0>: 51244 training samples, 51135 neg, 109 pos, 1:1 ratio\n",
            "2022-12-04 20:03:38,429 INFO     pid:75 p2ch12.dsets:266:__init__ <p2ch12.dsets.LunaDataset object at 0x7f85c1afd1c0>: 5694 validation samples, 5681 neg, 13 pos, unbalanced ratio\n",
            "2022-12-04 20:03:38,432 INFO     pid:75 p2ch12.training:195:main Epoch 1 of 4, 6250/178 batches of size 32*1\n",
            "2022-12-04 20:03:38,456 WARNING  pid:75 util.util:219:enumerateWithEstimate E1 Training ----/6250, starting\n",
            "2022-12-04 20:03:40,315 INFO     pid:75 util.util:236:enumerateWithEstimate E1 Training   16/6250, done at 2022-12-04 20:13:09, 0:09:30\n",
            "2022-12-04 20:03:44,564 INFO     pid:75 util.util:236:enumerateWithEstimate E1 Training   64/6250, done at 2022-12-04 20:12:55, 0:09:16\n",
            "2022-12-04 20:04:01,880 INFO     pid:75 util.util:236:enumerateWithEstimate E1 Training  256/6250, done at 2022-12-04 20:13:00, 0:09:21\n",
            "2022-12-04 20:05:09,458 INFO     pid:75 util.util:236:enumerateWithEstimate E1 Training 1024/6250, done at 2022-12-04 20:12:51, 0:09:12\n",
            "2022-12-04 20:09:35,691 INFO     pid:75 util.util:236:enumerateWithEstimate E1 Training 4096/6250, done at 2022-12-04 20:12:43, 0:09:04\n",
            "2022-12-04 20:12:42,469 WARNING  pid:75 util.util:249:enumerateWithEstimate E1 Training ----/6250, done at 2022-12-04 20:12:42\n",
            "2022-12-04 20:12:42,652 INFO     pid:75 p2ch12.training:304:logMetrics E1 LunaTrainingApp\n",
            "2022-12-04 20:12:42,841 INFO     pid:75 p2ch12.training:341:logMetrics E1 trn      0.2403 loss,  91.4% correct, 0.9211 precision, 0.9053 recall, 0.9131 f1 score\n",
            "2022-12-04 20:12:42,842 INFO     pid:75 p2ch12.training:353:logMetrics E1 trn_neg  0.2634 loss,  92.2% correct (92243 of 100000)\n",
            "2022-12-04 20:12:42,848 INFO     pid:75 p2ch12.training:364:logMetrics E1 trn_pos  0.2172 loss,  90.5% correct (90529 of 100000)\n",
            "2022-12-04 20:12:42,933 WARNING  pid:75 util.util:219:enumerateWithEstimate E1 Validation  ----/178, starting\n",
            "2022-12-04 20:12:45,978 INFO     pid:75 util.util:236:enumerateWithEstimate E1 Validation    16/178, done at 2022-12-04 20:13:07, 0:00:23\n",
            "2022-12-04 20:12:50,798 INFO     pid:75 util.util:236:enumerateWithEstimate E1 Validation    64/178, done at 2022-12-04 20:13:02, 0:00:18\n",
            "2022-12-04 20:13:02,130 WARNING  pid:75 util.util:249:enumerateWithEstimate E1 Validation  ----/178, done at 2022-12-04 20:13:02\n",
            "2022-12-04 20:13:02,137 INFO     pid:75 p2ch12.training:304:logMetrics E1 LunaTrainingApp\n",
            "2022-12-04 20:13:02,139 INFO     pid:75 p2ch12.training:341:logMetrics E1 val      0.9504 loss,  25.7% correct, 0.0019 precision, 0.6154 recall, 0.0038 f1 score\n",
            "2022-12-04 20:13:02,143 INFO     pid:75 p2ch12.training:353:logMetrics E1 val_neg  0.9509 loss,  25.6% correct (1456 of 5681)\n",
            "2022-12-04 20:13:02,144 INFO     pid:75 p2ch12.training:364:logMetrics E1 val_pos  0.7300 loss,  61.5% correct (8 of 13)\n",
            "2022-12-04 20:13:02,155 INFO     pid:75 p2ch12.training:195:main Epoch 2 of 4, 6250/178 batches of size 32*1\n",
            "2022-12-04 20:13:02,185 WARNING  pid:75 util.util:219:enumerateWithEstimate E2 Training ----/6250, starting\n",
            "2022-12-04 20:13:03,928 INFO     pid:75 util.util:236:enumerateWithEstimate E2 Training   16/6250, done at 2022-12-04 20:21:33, 0:08:30\n",
            "2022-12-04 20:13:08,039 INFO     pid:75 util.util:236:enumerateWithEstimate E2 Training   64/6250, done at 2022-12-04 20:21:52, 0:08:49\n",
            "2022-12-04 20:13:24,855 INFO     pid:75 util.util:236:enumerateWithEstimate E2 Training  256/6250, done at 2022-12-04 20:22:05, 0:09:02\n",
            "2022-12-04 20:14:31,422 INFO     pid:75 util.util:236:enumerateWithEstimate E2 Training 1024/6250, done at 2022-12-04 20:22:04, 0:09:01\n",
            "2022-12-04 20:18:57,488 INFO     pid:75 util.util:236:enumerateWithEstimate E2 Training 4096/6250, done at 2022-12-04 20:22:04, 0:09:01\n",
            "2022-12-04 20:22:04,163 WARNING  pid:75 util.util:249:enumerateWithEstimate E2 Training ----/6250, done at 2022-12-04 20:22:04\n",
            "2022-12-04 20:22:04,489 INFO     pid:75 p2ch12.training:304:logMetrics E2 LunaTrainingApp\n",
            "2022-12-04 20:22:04,636 INFO     pid:75 p2ch12.training:341:logMetrics E2 trn      0.6933 loss,  50.3% correct, 0.5034 precision, 0.4956 recall, 0.4995 f1 score\n",
            "2022-12-04 20:22:04,637 INFO     pid:75 p2ch12.training:353:logMetrics E2 trn_neg  0.6934 loss,  51.1% correct (51117 of 100000)\n",
            "2022-12-04 20:22:04,640 INFO     pid:75 p2ch12.training:364:logMetrics E2 trn_pos  0.6933 loss,  49.6% correct (49558 of 100000)\n",
            "2022-12-04 20:22:04,815 WARNING  pid:75 util.util:219:enumerateWithEstimate E2 Validation  ----/178, starting\n",
            "2022-12-04 20:22:07,639 INFO     pid:75 util.util:236:enumerateWithEstimate E2 Validation    16/178, done at 2022-12-04 20:22:28, 0:00:22\n",
            "2022-12-04 20:22:12,787 INFO     pid:75 util.util:236:enumerateWithEstimate E2 Validation    64/178, done at 2022-12-04 20:22:25, 0:00:19\n",
            "2022-12-04 20:22:23,573 WARNING  pid:75 util.util:249:enumerateWithEstimate E2 Validation  ----/178, done at 2022-12-04 20:22:23\n",
            "2022-12-04 20:22:23,578 INFO     pid:75 p2ch12.training:304:logMetrics E2 LunaTrainingApp\n",
            "2022-12-04 20:22:23,580 INFO     pid:75 p2ch12.training:341:logMetrics E2 val      0.6927 loss,  99.8% correct, 0.0000 precision, 0.0000 recall, nan f1 score\n",
            "2022-12-04 20:22:23,583 INFO     pid:75 p2ch12.training:353:logMetrics E2 val_neg  0.6927 loss, 100.0% correct (5680 of 5681)\n",
            "2022-12-04 20:22:23,589 INFO     pid:75 p2ch12.training:364:logMetrics E2 val_pos  0.6936 loss,   0.0% correct (0 of 13)\n",
            "2022-12-04 20:22:23,597 INFO     pid:75 p2ch12.training:195:main Epoch 3 of 4, 6250/178 batches of size 32*1\n",
            "2022-12-04 20:22:23,628 WARNING  pid:75 util.util:219:enumerateWithEstimate E3 Training ----/6250, starting\n",
            "2022-12-04 20:22:25,326 INFO     pid:75 util.util:236:enumerateWithEstimate E3 Training   16/6250, done at 2022-12-04 20:30:44, 0:08:20\n",
            "2022-12-04 20:22:29,434 INFO     pid:75 util.util:236:enumerateWithEstimate E3 Training   64/6250, done at 2022-12-04 20:31:11, 0:08:47\n",
            "2022-12-04 20:22:46,245 INFO     pid:75 util.util:236:enumerateWithEstimate E3 Training  256/6250, done at 2022-12-04 20:31:26, 0:09:02\n",
            "2022-12-04 20:23:52,889 INFO     pid:75 util.util:236:enumerateWithEstimate E3 Training 1024/6250, done at 2022-12-04 20:31:26, 0:09:02\n",
            "2022-12-04 20:28:19,114 INFO     pid:75 util.util:236:enumerateWithEstimate E3 Training 4096/6250, done at 2022-12-04 20:31:25, 0:09:01\n",
            "2022-12-04 20:31:26,113 WARNING  pid:75 util.util:249:enumerateWithEstimate E3 Training ----/6250, done at 2022-12-04 20:31:26\n",
            "2022-12-04 20:31:26,434 INFO     pid:75 p2ch12.training:304:logMetrics E3 LunaTrainingApp\n",
            "2022-12-04 20:31:26,575 INFO     pid:75 p2ch12.training:341:logMetrics E3 trn      0.6864 loss,  51.3% correct, 0.5142 precision, 0.4773 recall, 0.4951 f1 score\n",
            "2022-12-04 20:31:26,578 INFO     pid:75 p2ch12.training:353:logMetrics E3 trn_neg  0.6858 loss,  54.9% correct (54906 of 100000)\n",
            "2022-12-04 20:31:26,582 INFO     pid:75 p2ch12.training:364:logMetrics E3 trn_pos  0.6870 loss,  47.7% correct (47735 of 100000)\n",
            "2022-12-04 20:31:26,690 WARNING  pid:75 util.util:219:enumerateWithEstimate E3 Validation  ----/178, starting\n",
            "2022-12-04 20:31:29,514 INFO     pid:75 util.util:236:enumerateWithEstimate E3 Validation    16/178, done at 2022-12-04 20:31:49, 0:00:21\n",
            "2022-12-04 20:31:34,059 INFO     pid:75 util.util:236:enumerateWithEstimate E3 Validation    64/178, done at 2022-12-04 20:31:45, 0:00:17\n",
            "2022-12-04 20:31:44,627 WARNING  pid:75 util.util:249:enumerateWithEstimate E3 Validation  ----/178, done at 2022-12-04 20:31:44\n",
            "2022-12-04 20:31:44,631 INFO     pid:75 p2ch12.training:304:logMetrics E3 LunaTrainingApp\n",
            "2022-12-04 20:31:44,634 INFO     pid:75 p2ch12.training:341:logMetrics E3 val      0.7441 loss,  32.1% correct, 0.0023 precision, 0.6923 recall, 0.0046 f1 score\n",
            "2022-12-04 20:31:44,636 INFO     pid:75 p2ch12.training:353:logMetrics E3 val_neg  0.7441 loss,  32.0% correct (1819 of 5681)\n",
            "2022-12-04 20:31:44,638 INFO     pid:75 p2ch12.training:364:logMetrics E3 val_pos  0.7633 loss,  69.2% correct (9 of 13)\n",
            "2022-12-04 20:31:44,655 INFO     pid:75 p2ch12.training:195:main Epoch 4 of 4, 6250/178 batches of size 32*1\n",
            "2022-12-04 20:31:44,685 WARNING  pid:75 util.util:219:enumerateWithEstimate E4 Training ----/6250, starting\n",
            "2022-12-04 20:31:46,406 INFO     pid:75 util.util:236:enumerateWithEstimate E4 Training   16/6250, done at 2022-12-04 20:40:04, 0:08:19\n",
            "2022-12-04 20:31:50,526 INFO     pid:75 util.util:236:enumerateWithEstimate E4 Training   64/6250, done at 2022-12-04 20:40:33, 0:08:48\n",
            "2022-12-04 20:32:07,358 INFO     pid:75 util.util:236:enumerateWithEstimate E4 Training  256/6250, done at 2022-12-04 20:40:48, 0:09:02\n",
            "2022-12-04 20:33:13,983 INFO     pid:75 util.util:236:enumerateWithEstimate E4 Training 1024/6250, done at 2022-12-04 20:40:47, 0:09:02\n",
            "2022-12-04 20:37:39,949 INFO     pid:75 util.util:236:enumerateWithEstimate E4 Training 4096/6250, done at 2022-12-04 20:40:46, 0:09:01\n",
            "2022-12-04 20:40:46,605 WARNING  pid:75 util.util:249:enumerateWithEstimate E4 Training ----/6250, done at 2022-12-04 20:40:46\n",
            "2022-12-04 20:40:46,910 INFO     pid:75 p2ch12.training:304:logMetrics E4 LunaTrainingApp\n",
            "2022-12-04 20:40:47,091 INFO     pid:75 p2ch12.training:341:logMetrics E4 trn      0.6935 loss,  50.3% correct, 0.5017 precision, 0.7543 recall, 0.6026 f1 score\n",
            "2022-12-04 20:40:47,095 INFO     pid:75 p2ch12.training:353:logMetrics E4 trn_neg  0.6949 loss,  25.1% correct (25098 of 100000)\n",
            "2022-12-04 20:40:47,098 INFO     pid:75 p2ch12.training:364:logMetrics E4 trn_pos  0.6920 loss,  75.4% correct (75427 of 100000)\n",
            "2022-12-04 20:40:47,232 WARNING  pid:75 util.util:219:enumerateWithEstimate E4 Validation  ----/178, starting\n",
            "2022-12-04 20:40:50,136 INFO     pid:75 util.util:236:enumerateWithEstimate E4 Validation    16/178, done at 2022-12-04 20:41:10, 0:00:21\n",
            "2022-12-04 20:40:55,100 INFO     pid:75 util.util:236:enumerateWithEstimate E4 Validation    64/178, done at 2022-12-04 20:41:07, 0:00:18\n",
            "2022-12-04 20:41:06,769 WARNING  pid:75 util.util:249:enumerateWithEstimate E4 Validation  ----/178, done at 2022-12-04 20:41:06\n",
            "2022-12-04 20:41:06,771 INFO     pid:75 p2ch12.training:304:logMetrics E4 LunaTrainingApp\n",
            "2022-12-04 20:41:06,776 INFO     pid:75 p2ch12.training:341:logMetrics E4 val      0.6931 loss,   0.2% correct, 0.0023 precision, 1.0000 recall, 0.0046 f1 score\n",
            "2022-12-04 20:41:06,781 INFO     pid:75 p2ch12.training:353:logMetrics E4 val_neg  0.6931 loss,   0.0% correct (0 of 5681)\n",
            "2022-12-04 20:41:06,783 INFO     pid:75 p2ch12.training:364:logMetrics E4 val_pos  0.6931 loss, 100.0% correct (13 of 13)\n",
            "2022-12-04 20:41:07,062 INFO     pid:75 nb:009:run Finished: p2ch12.training.LunaTrainingApp.['--num-workers=4', '--epochs=4', '--balanced', 'balanced']).main()\n"
          ]
        }
      ]
    },
    {
      "cell_type": "markdown",
      "source": [
        "## Data augmentation\n",
        "We can address the overfitting problem by using the data augmentation technique. It consists of applying some affine transformations to our dataset to have more samples for training\n",
        "\n",
        "- Mirroring the image up-down, left-right, and/or front-back\n",
        "- Shifting the image around by a few voxels\n",
        "- Scaling the image up or down\n",
        "- Rotating the image around the head-foot axis\n",
        "- Adding noise to the image \n",
        "\n",
        "The function to augment the data is implementd in p2ch12/dsets.py"
      ],
      "metadata": {
        "id": "VzKrREITO8eH"
      }
    },
    {
      "cell_type": "code",
      "source": [
        "augmentation_dict = {}\n",
        "augmentation_list = [\n",
        "    ('None', {}),\n",
        "    ('flip', {'flip': True}),\n",
        "    ('offset', {'offset': 0.1}),\n",
        "    ('scale', {'scale': 0.2}),\n",
        "    ('rotate', {'rotate': True}),\n",
        "    ('noise', {'noise': 25.0}),    \n",
        "]\n",
        "ds_list = [\n",
        "    LunaDataset(sortby_str='label_and_size', augmentation_dict=augmentation_dict) \n",
        "    for title_str, augmentation_dict in augmentation_list\n",
        "]\n",
        "\n",
        "all_dict = {}\n",
        "for title_str, augmentation_dict in augmentation_list:\n",
        "    all_dict.update(augmentation_dict)\n",
        "all_ds = LunaDataset(sortby_str='label_and_size', augmentation_dict=all_dict)\n",
        "\n",
        "augmentation_list.extend([('All', augmentation_dict)] * 3)\n",
        "ds_list.extend([all_ds] * 3)"
      ],
      "metadata": {
        "colab": {
          "base_uri": "https://localhost:8080/"
        },
        "id": "IJwD1keRAANq",
        "outputId": "40eef431-ee51-4e33-eee8-8e3ca7399c6b"
      },
      "execution_count": null,
      "outputs": [
        {
          "output_type": "stream",
          "name": "stderr",
          "text": [
            "2022-12-04 20:42:35,352 INFO     pid:75 p2ch12.dsets:266:__init__ <p2ch12.dsets.LunaDataset object at 0x7f85b33c8940>: 56938 training samples, 56816 neg, 122 pos, unbalanced ratio\n",
            "2022-12-04 20:42:35,360 INFO     pid:75 p2ch12.dsets:266:__init__ <p2ch12.dsets.LunaDataset object at 0x7f85b33c8760>: 56938 training samples, 56816 neg, 122 pos, unbalanced ratio\n",
            "2022-12-04 20:42:35,370 INFO     pid:75 p2ch12.dsets:266:__init__ <p2ch12.dsets.LunaDataset object at 0x7f85b33c8550>: 56938 training samples, 56816 neg, 122 pos, unbalanced ratio\n",
            "2022-12-04 20:42:35,379 INFO     pid:75 p2ch12.dsets:266:__init__ <p2ch12.dsets.LunaDataset object at 0x7f85b34fa730>: 56938 training samples, 56816 neg, 122 pos, unbalanced ratio\n",
            "2022-12-04 20:42:35,387 INFO     pid:75 p2ch12.dsets:266:__init__ <p2ch12.dsets.LunaDataset object at 0x7f85b34fa670>: 56938 training samples, 56816 neg, 122 pos, unbalanced ratio\n",
            "2022-12-04 20:42:35,395 INFO     pid:75 p2ch12.dsets:266:__init__ <p2ch12.dsets.LunaDataset object at 0x7f85b34fa760>: 56938 training samples, 56816 neg, 122 pos, unbalanced ratio\n",
            "2022-12-04 20:42:35,404 INFO     pid:75 p2ch12.dsets:266:__init__ <p2ch12.dsets.LunaDataset object at 0x7f85b32ce7c0>: 56938 training samples, 56816 neg, 122 pos, unbalanced ratio\n"
          ]
        }
      ]
    },
    {
      "cell_type": "markdown",
      "source": [
        "We train the model again using the augmented dataset"
      ],
      "metadata": {
        "id": "MN5NlMS_D7gT"
      }
    },
    {
      "cell_type": "code",
      "source": [
        "run('p2ch12.training.LunaTrainingApp', f'--epochs={training_epochs}', '--balanced', '--augmented', 'fully-augmented')"
      ],
      "metadata": {
        "colab": {
          "base_uri": "https://localhost:8080/"
        },
        "id": "Wgvjw4D74NwQ",
        "outputId": "e7f7fba7-63b3-4e28-ee49-951312533a1a"
      },
      "execution_count": null,
      "outputs": [
        {
          "output_type": "stream",
          "name": "stderr",
          "text": [
            "2022-12-04 20:44:17,275 INFO     pid:75 nb:004:run Running: p2ch12.training.LunaTrainingApp(['--num-workers=4', '--epochs=4', '--balanced', '--augmented', 'fully-augmented']).main()\n",
            "2022-12-04 20:44:17,292 INFO     pid:75 p2ch12.training:127:initModel Using CUDA; 1 devices.\n",
            "2022-12-04 20:44:17,296 INFO     pid:75 p2ch12.training:188:main Starting LunaTrainingApp, Namespace(augment_flip=False, augment_noise=False, augment_offset=False, augment_rotate=False, augment_scale=False, augmented=True, balanced=True, batch_size=32, comment='fully-augmented', epochs=4, num_workers=4, tb_prefix='p2ch12')\n",
            "2022-12-04 20:44:17,336 INFO     pid:75 p2ch12.dsets:266:__init__ <p2ch12.dsets.LunaDataset object at 0x7f85b34029d0>: 51244 training samples, 51135 neg, 109 pos, 1:1 ratio\n",
            "2022-12-04 20:44:17,341 INFO     pid:75 p2ch12.dsets:266:__init__ <p2ch12.dsets.LunaDataset object at 0x7f85c1e74280>: 5694 validation samples, 5681 neg, 13 pos, unbalanced ratio\n",
            "2022-12-04 20:44:17,345 INFO     pid:75 p2ch12.training:195:main Epoch 1 of 4, 6250/178 batches of size 32*1\n",
            "2022-12-04 20:44:17,373 WARNING  pid:75 util.util:219:enumerateWithEstimate E1 Training ----/6250, starting\n",
            "2022-12-04 20:44:21,682 INFO     pid:75 util.util:236:enumerateWithEstimate E1 Training   16/6250, done at 2022-12-04 21:05:55, 0:21:36\n",
            "2022-12-04 20:44:30,549 INFO     pid:75 util.util:236:enumerateWithEstimate E1 Training   64/6250, done at 2022-12-04 21:04:03, 0:19:44\n",
            "2022-12-04 20:45:05,345 INFO     pid:75 util.util:236:enumerateWithEstimate E1 Training  256/6250, done at 2022-12-04 21:03:23, 0:19:04\n",
            "2022-12-04 20:47:29,198 INFO     pid:75 util.util:236:enumerateWithEstimate E1 Training 1024/6250, done at 2022-12-04 21:03:42, 0:19:23\n",
            "2022-12-04 20:56:51,567 INFO     pid:75 util.util:236:enumerateWithEstimate E1 Training 4096/6250, done at 2022-12-04 21:03:27, 0:19:08\n",
            "2022-12-04 21:03:25,488 WARNING  pid:75 util.util:249:enumerateWithEstimate E1 Training ----/6250, done at 2022-12-04 21:03:25\n",
            "2022-12-04 21:03:25,607 INFO     pid:75 p2ch12.training:304:logMetrics E1 LunaTrainingApp\n",
            "2022-12-04 21:03:25,782 INFO     pid:75 p2ch12.training:341:logMetrics E1 trn      0.4047 loss,  81.9% correct, 0.8630 precision, 0.7586 recall, 0.8074 f1 score\n",
            "2022-12-04 21:03:25,783 INFO     pid:75 p2ch12.training:353:logMetrics E1 trn_neg  0.3639 loss,  88.0% correct (87959 of 100000)\n",
            "2022-12-04 21:03:25,787 INFO     pid:75 p2ch12.training:364:logMetrics E1 trn_pos  0.4455 loss,  75.9% correct (75857 of 100000)\n",
            "2022-12-04 21:03:25,880 WARNING  pid:75 util.util:219:enumerateWithEstimate E1 Validation  ----/178, starting\n",
            "2022-12-04 21:03:28,668 INFO     pid:75 util.util:236:enumerateWithEstimate E1 Validation    16/178, done at 2022-12-04 21:03:47, 0:00:20\n",
            "2022-12-04 21:03:33,466 INFO     pid:75 util.util:236:enumerateWithEstimate E1 Validation    64/178, done at 2022-12-04 21:03:45, 0:00:18\n",
            "2022-12-04 21:03:44,706 WARNING  pid:75 util.util:249:enumerateWithEstimate E1 Validation  ----/178, done at 2022-12-04 21:03:44\n",
            "2022-12-04 21:03:44,711 INFO     pid:75 p2ch12.training:304:logMetrics E1 LunaTrainingApp\n",
            "2022-12-04 21:03:44,713 INFO     pid:75 p2ch12.training:341:logMetrics E1 val      0.3519 loss,  90.6% correct, 0.0221 precision, 0.9231 recall, 0.0431 f1 score\n",
            "2022-12-04 21:03:44,715 INFO     pid:75 p2ch12.training:353:logMetrics E1 val_neg  0.3522 loss,  90.6% correct (5149 of 5681)\n",
            "2022-12-04 21:03:44,718 INFO     pid:75 p2ch12.training:364:logMetrics E1 val_pos  0.2067 loss,  92.3% correct (12 of 13)\n",
            "2022-12-04 21:03:44,729 INFO     pid:75 p2ch12.training:195:main Epoch 2 of 4, 6250/178 batches of size 32*1\n",
            "2022-12-04 21:03:44,760 WARNING  pid:75 util.util:219:enumerateWithEstimate E2 Training ----/6250, starting\n",
            "2022-12-04 21:03:48,956 INFO     pid:75 util.util:236:enumerateWithEstimate E2 Training   16/6250, done at 2022-12-04 21:27:07, 0:23:21\n",
            "2022-12-04 21:03:57,536 INFO     pid:75 util.util:236:enumerateWithEstimate E2 Training   64/6250, done at 2022-12-04 21:23:23, 0:19:37\n",
            "2022-12-04 21:04:33,757 INFO     pid:75 util.util:236:enumerateWithEstimate E2 Training  256/6250, done at 2022-12-04 21:23:24, 0:19:38\n",
            "2022-12-04 21:06:51,326 INFO     pid:75 util.util:236:enumerateWithEstimate E2 Training 1024/6250, done at 2022-12-04 21:22:39, 0:18:53\n",
            "2022-12-04 21:16:03,539 INFO     pid:75 util.util:236:enumerateWithEstimate E2 Training 4096/6250, done at 2022-12-04 21:22:31, 0:18:45\n",
            "2022-12-04 21:22:27,273 WARNING  pid:75 util.util:249:enumerateWithEstimate E2 Training ----/6250, done at 2022-12-04 21:22:27\n",
            "2022-12-04 21:22:27,544 INFO     pid:75 p2ch12.training:304:logMetrics E2 LunaTrainingApp\n",
            "2022-12-04 21:22:27,689 INFO     pid:75 p2ch12.training:341:logMetrics E2 trn      0.2180 loss,  91.8% correct, 0.9460 precision, 0.8867 recall, 0.9154 f1 score\n",
            "2022-12-04 21:22:27,694 INFO     pid:75 p2ch12.training:353:logMetrics E2 trn_neg  0.1914 loss,  94.9% correct (94940 of 100000)\n",
            "2022-12-04 21:22:27,697 INFO     pid:75 p2ch12.training:364:logMetrics E2 trn_pos  0.2445 loss,  88.7% correct (88673 of 100000)\n",
            "2022-12-04 21:22:27,818 WARNING  pid:75 util.util:219:enumerateWithEstimate E2 Validation  ----/178, starting\n",
            "2022-12-04 21:22:30,652 INFO     pid:75 util.util:236:enumerateWithEstimate E2 Validation    16/178, done at 2022-12-04 21:22:50, 0:00:21\n",
            "2022-12-04 21:22:34,903 INFO     pid:75 util.util:236:enumerateWithEstimate E2 Validation    64/178, done at 2022-12-04 21:22:45, 0:00:16\n",
            "2022-12-04 21:22:45,158 WARNING  pid:75 util.util:249:enumerateWithEstimate E2 Validation  ----/178, done at 2022-12-04 21:22:45\n",
            "2022-12-04 21:22:45,160 INFO     pid:75 p2ch12.training:304:logMetrics E2 LunaTrainingApp\n",
            "2022-12-04 21:22:45,167 INFO     pid:75 p2ch12.training:341:logMetrics E2 val      0.1253 loss,  96.1% correct, 0.0393 precision, 0.6923 recall, 0.0744 f1 score\n",
            "2022-12-04 21:22:45,168 INFO     pid:75 p2ch12.training:353:logMetrics E2 val_neg  0.1236 loss,  96.1% correct (5461 of 5681)\n",
            "2022-12-04 21:22:45,173 INFO     pid:75 p2ch12.training:364:logMetrics E2 val_pos  0.8903 loss,  69.2% correct (9 of 13)\n",
            "2022-12-04 21:22:45,183 INFO     pid:75 p2ch12.training:195:main Epoch 3 of 4, 6250/178 batches of size 32*1\n",
            "2022-12-04 21:22:45,211 WARNING  pid:75 util.util:219:enumerateWithEstimate E3 Training ----/6250, starting\n",
            "2022-12-04 21:22:49,315 INFO     pid:75 util.util:236:enumerateWithEstimate E3 Training   16/6250, done at 2022-12-04 21:45:33, 0:22:47\n",
            "2022-12-04 21:22:59,802 INFO     pid:75 util.util:236:enumerateWithEstimate E3 Training   64/6250, done at 2022-12-04 21:45:31, 0:22:45\n",
            "2022-12-04 21:23:35,042 INFO     pid:75 util.util:236:enumerateWithEstimate E3 Training  256/6250, done at 2022-12-04 21:42:45, 0:19:59\n",
            "2022-12-04 21:25:53,349 INFO     pid:75 util.util:236:enumerateWithEstimate E3 Training 1024/6250, done at 2022-12-04 21:41:49, 0:19:03\n",
            "2022-12-04 21:35:04,715 INFO     pid:75 util.util:236:enumerateWithEstimate E3 Training 4096/6250, done at 2022-12-04 21:41:33, 0:18:46\n",
            "2022-12-04 21:41:28,194 WARNING  pid:75 util.util:249:enumerateWithEstimate E3 Training ----/6250, done at 2022-12-04 21:41:28\n",
            "2022-12-04 21:41:28,434 INFO     pid:75 p2ch12.training:304:logMetrics E3 LunaTrainingApp\n",
            "2022-12-04 21:41:28,580 INFO     pid:75 p2ch12.training:341:logMetrics E3 trn      0.1209 loss,  95.8% correct, 0.9648 precision, 0.9511 recall, 0.9579 f1 score\n",
            "2022-12-04 21:41:28,582 INFO     pid:75 p2ch12.training:353:logMetrics E3 trn_neg  0.1192 loss,  96.5% correct (96528 of 100000)\n",
            "2022-12-04 21:41:28,584 INFO     pid:75 p2ch12.training:364:logMetrics E3 trn_pos  0.1227 loss,  95.1% correct (95108 of 100000)\n",
            "2022-12-04 21:41:28,711 WARNING  pid:75 util.util:219:enumerateWithEstimate E3 Validation  ----/178, starting\n",
            "2022-12-04 21:41:31,383 INFO     pid:75 util.util:236:enumerateWithEstimate E3 Validation    16/178, done at 2022-12-04 21:41:48, 0:00:18\n",
            "2022-12-04 21:41:35,544 INFO     pid:75 util.util:236:enumerateWithEstimate E3 Validation    64/178, done at 2022-12-04 21:41:45, 0:00:15\n",
            "2022-12-04 21:41:45,418 WARNING  pid:75 util.util:249:enumerateWithEstimate E3 Validation  ----/178, done at 2022-12-04 21:41:45\n",
            "2022-12-04 21:41:45,426 INFO     pid:75 p2ch12.training:304:logMetrics E3 LunaTrainingApp\n",
            "2022-12-04 21:41:45,429 INFO     pid:75 p2ch12.training:341:logMetrics E3 val      0.1803 loss,  94.8% correct, 0.0418 precision, 1.0000 recall, 0.0802 f1 score\n",
            "2022-12-04 21:41:45,431 INFO     pid:75 p2ch12.training:353:logMetrics E3 val_neg  0.1807 loss,  94.8% correct (5383 of 5681)\n",
            "2022-12-04 21:41:45,433 INFO     pid:75 p2ch12.training:364:logMetrics E3 val_pos  0.0244 loss, 100.0% correct (13 of 13)\n",
            "2022-12-04 21:41:45,446 INFO     pid:75 p2ch12.training:195:main Epoch 4 of 4, 6250/178 batches of size 32*1\n",
            "2022-12-04 21:41:45,479 WARNING  pid:75 util.util:219:enumerateWithEstimate E4 Training ----/6250, starting\n",
            "2022-12-04 21:41:49,469 INFO     pid:75 util.util:236:enumerateWithEstimate E4 Training   16/6250, done at 2022-12-04 22:03:17, 0:21:30\n",
            "2022-12-04 21:41:57,878 INFO     pid:75 util.util:236:enumerateWithEstimate E4 Training   64/6250, done at 2022-12-04 22:00:42, 0:18:56\n",
            "2022-12-04 21:42:31,863 INFO     pid:75 util.util:236:enumerateWithEstimate E4 Training  256/6250, done at 2022-12-04 22:00:19, 0:18:32\n",
            "2022-12-04 21:44:53,617 INFO     pid:75 util.util:236:enumerateWithEstimate E4 Training 1024/6250, done at 2022-12-04 22:00:49, 0:19:02\n",
            "2022-12-04 21:54:02,398 INFO     pid:75 util.util:236:enumerateWithEstimate E4 Training 4096/6250, done at 2022-12-04 22:00:29, 0:18:42\n",
            "2022-12-04 22:00:20,838 WARNING  pid:75 util.util:249:enumerateWithEstimate E4 Training ----/6250, done at 2022-12-04 22:00:20\n",
            "2022-12-04 22:00:21,171 INFO     pid:75 p2ch12.training:304:logMetrics E4 LunaTrainingApp\n",
            "2022-12-04 22:00:21,315 INFO     pid:75 p2ch12.training:341:logMetrics E4 trn      0.0939 loss,  96.8% correct, 0.9721 precision, 0.9646 recall, 0.9683 f1 score\n",
            "2022-12-04 22:00:21,318 INFO     pid:75 p2ch12.training:353:logMetrics E4 trn_neg  0.0956 loss,  97.2% correct (97228 of 100000)\n",
            "2022-12-04 22:00:21,320 INFO     pid:75 p2ch12.training:364:logMetrics E4 trn_pos  0.0923 loss,  96.5% correct (96459 of 100000)\n",
            "2022-12-04 22:00:21,434 WARNING  pid:75 util.util:219:enumerateWithEstimate E4 Validation  ----/178, starting\n",
            "2022-12-04 22:00:24,039 INFO     pid:75 util.util:236:enumerateWithEstimate E4 Validation    16/178, done at 2022-12-04 22:00:42, 0:00:19\n",
            "2022-12-04 22:00:28,098 INFO     pid:75 util.util:236:enumerateWithEstimate E4 Validation    64/178, done at 2022-12-04 22:00:38, 0:00:15\n",
            "2022-12-04 22:00:38,004 WARNING  pid:75 util.util:249:enumerateWithEstimate E4 Validation  ----/178, done at 2022-12-04 22:00:38\n",
            "2022-12-04 22:00:38,009 INFO     pid:75 p2ch12.training:304:logMetrics E4 LunaTrainingApp\n",
            "2022-12-04 22:00:38,012 INFO     pid:75 p2ch12.training:341:logMetrics E4 val      0.1169 loss,  96.9% correct, 0.0691 precision, 1.0000 recall, 0.1294 f1 score\n",
            "2022-12-04 22:00:38,015 INFO     pid:75 p2ch12.training:353:logMetrics E4 val_neg  0.1171 loss,  96.9% correct (5506 of 5681)\n",
            "2022-12-04 22:00:38,017 INFO     pid:75 p2ch12.training:364:logMetrics E4 val_pos  0.0370 loss, 100.0% correct (13 of 13)\n",
            "2022-12-04 22:00:38,285 INFO     pid:75 nb:009:run Finished: p2ch12.training.LunaTrainingApp.['--num-workers=4', '--epochs=4', '--balanced', '--augmented', 'fully-augmented']).main()\n"
          ]
        }
      ]
    },
    {
      "cell_type": "code",
      "source": [],
      "metadata": {
        "id": "ebl-XpWf4eHW"
      },
      "execution_count": null,
      "outputs": []
    }
  ]
}