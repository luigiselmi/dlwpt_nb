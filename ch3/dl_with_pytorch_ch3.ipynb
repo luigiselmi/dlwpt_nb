{
  "nbformat": 4,
  "nbformat_minor": 0,
  "metadata": {
    "colab": {
      "provenance": []
    },
    "kernelspec": {
      "name": "python3",
      "display_name": "Python 3"
    },
    "language_info": {
      "name": "python"
    },
    "gpuClass": "standard"
  },
  "cells": [
    {
      "cell_type": "markdown",
      "source": [
        "## PyTorch tensor\n",
        "---\n",
        "In this notebook we will learn some of the methods available on a tensor object.\n"
      ],
      "metadata": {
        "id": "9M6tNj8IK8MK"
      }
    },
    {
      "cell_type": "code",
      "execution_count": null,
      "metadata": {
        "colab": {
          "base_uri": "https://localhost:8080/"
        },
        "id": "Whrv_eab9QUp",
        "outputId": "180b4b65-6913-459e-f42b-b39c54b96ec8"
      },
      "outputs": [
        {
          "output_type": "execute_result",
          "data": {
            "text/plain": [
              "tensor([1., 1., 1.])"
            ]
          },
          "metadata": {},
          "execution_count": 1
        }
      ],
      "source": [
        "import torch\n",
        "a = torch.ones(3)\n",
        "a"
      ]
    },
    {
      "cell_type": "markdown",
      "source": [
        "An image can be represented as a 3 dimensional array [channels, rows, columns]."
      ],
      "metadata": {
        "id": "nAck4XWqDiCA"
      }
    },
    {
      "cell_type": "code",
      "source": [
        "img_t = torch.randn(3, 5, 5) # shape [channels, rows, columns]\n",
        "img_t"
      ],
      "metadata": {
        "colab": {
          "base_uri": "https://localhost:8080/"
        },
        "id": "EIrqpPEM-OE9",
        "outputId": "89f90894-bd89-40ff-9dc9-94e427a2fb78"
      },
      "execution_count": null,
      "outputs": [
        {
          "output_type": "execute_result",
          "data": {
            "text/plain": [
              "tensor([[[ 0.2610, -0.7911,  0.5575,  0.3069, -1.4433],\n",
              "         [ 1.5622,  0.3699,  0.7384,  1.3187, -0.3897],\n",
              "         [-0.5342, -0.2891,  0.5901, -1.4438, -1.6414],\n",
              "         [ 0.1158,  0.9506, -0.7869,  1.1564,  0.7902],\n",
              "         [-0.7936,  0.3055, -0.3932, -0.6455,  1.9615]],\n",
              "\n",
              "        [[-0.0884, -1.0892,  0.6155, -0.0950,  1.5019],\n",
              "         [-0.0341, -0.6863, -0.7033,  0.6989,  0.4996],\n",
              "         [-0.4508,  0.9287, -0.6297, -0.1203,  1.7448],\n",
              "         [ 0.0107,  0.1420, -2.0567, -0.5690,  0.0077],\n",
              "         [-1.7630, -0.3729,  0.5218, -1.6114,  0.7342]],\n",
              "\n",
              "        [[-1.0558,  1.2811, -0.0932, -1.9150, -1.3845],\n",
              "         [ 1.7504,  1.8145, -1.0842,  0.1109,  3.1704],\n",
              "         [ 0.4941,  0.0851, -0.9222,  0.1480,  1.1355],\n",
              "         [-0.4941, -1.0956,  0.3403,  2.5229,  1.0648],\n",
              "         [ 0.7337,  0.2495,  0.6792, -1.2740, -0.9321]]])"
            ]
          },
          "metadata": {},
          "execution_count": 3
        }
      ]
    },
    {
      "cell_type": "code",
      "source": [
        "img_t.shape"
      ],
      "metadata": {
        "colab": {
          "base_uri": "https://localhost:8080/"
        },
        "id": "uJ7xnkq7LgeQ",
        "outputId": "9c9c8fe2-98f4-43fc-d2d3-75d2b3b1581a"
      },
      "execution_count": null,
      "outputs": [
        {
          "output_type": "execute_result",
          "data": {
            "text/plain": [
              "torch.Size([3, 5, 5])"
            ]
          },
          "metadata": {},
          "execution_count": 23
        }
      ]
    },
    {
      "cell_type": "markdown",
      "source": [
        "A batch of images is a 4D array that can contain one or more images [batch, channels, rows, columns]"
      ],
      "metadata": {
        "id": "JyaXSa9zEeD1"
      }
    },
    {
      "cell_type": "code",
      "source": [
        "batch_t = torch.randn(2, 3, 5, 5) # shape [batch, channels, rows, columns]\n",
        "batch_t"
      ],
      "metadata": {
        "colab": {
          "base_uri": "https://localhost:8080/"
        },
        "id": "g81kQxm4EW_W",
        "outputId": "558f3389-3c3f-4f87-c083-80ba1709a423"
      },
      "execution_count": null,
      "outputs": [
        {
          "output_type": "execute_result",
          "data": {
            "text/plain": [
              "tensor([[[[ 0.9923,  2.0979, -0.9044,  1.6845, -1.6281],\n",
              "          [-0.5906,  1.0107,  0.5731, -0.3924, -0.9911],\n",
              "          [ 0.0274, -0.3743,  0.2194,  0.9597, -1.5001],\n",
              "          [-3.5758,  0.5653,  0.0742,  0.0120,  0.6224],\n",
              "          [ 0.3064,  0.5683, -0.1840,  0.0158,  0.9675]],\n",
              "\n",
              "         [[ 0.6663, -0.9410,  0.4565,  0.0111, -0.2275],\n",
              "          [-0.3156, -0.5872, -0.0995,  0.1455, -0.4873],\n",
              "          [-1.3322,  0.5824,  0.3241, -1.1951,  0.4731],\n",
              "          [ 0.8790,  0.0985,  0.0183, -0.1201,  0.1062],\n",
              "          [-0.0165,  0.2755, -1.3555,  0.5205,  0.5806]],\n",
              "\n",
              "         [[ 0.4857,  1.1666,  0.5062,  1.5914,  0.3188],\n",
              "          [ 0.0577,  1.5179,  0.1602, -0.7869,  1.2026],\n",
              "          [ 0.2737, -1.2003, -0.1132, -0.3264,  0.6059],\n",
              "          [-0.5263, -0.2398, -1.3702, -1.2158, -0.7375],\n",
              "          [ 0.3911,  0.5220, -0.2402,  0.6844,  1.7875]]],\n",
              "\n",
              "\n",
              "        [[[-0.1090, -0.1774,  0.6930, -0.2975, -0.4742],\n",
              "          [ 1.1265, -0.5921,  1.1657, -1.5748,  1.0634],\n",
              "          [ 0.6736,  0.7285, -1.2379, -0.0767, -1.7289],\n",
              "          [-0.0770,  1.5572, -0.4409,  0.9871,  0.0706],\n",
              "          [-0.1032, -1.2223, -0.9843, -0.4118,  0.2907]],\n",
              "\n",
              "         [[ 0.2761,  0.2620, -0.3567, -0.5782, -0.1664],\n",
              "          [ 0.1302,  1.4329, -2.2336, -0.2477, -1.0568],\n",
              "          [-0.4427,  0.6838, -1.6601,  0.4185, -0.9808],\n",
              "          [-0.3754,  0.6192,  1.1031, -0.8201,  0.2930],\n",
              "          [ 0.6260, -1.4173,  0.5020,  0.4382, -0.1095]],\n",
              "\n",
              "         [[-0.0618,  0.4435,  0.5117, -0.1909, -0.0708],\n",
              "          [ 0.4807, -0.3341, -0.3527, -0.2104,  0.3188],\n",
              "          [ 0.2004, -0.0040,  0.2464,  1.2093, -0.3319],\n",
              "          [-0.3290, -0.8526, -1.3289,  0.6184,  0.7222],\n",
              "          [-0.9847,  0.1809, -0.4765,  0.0939,  1.5717]]]])"
            ]
          },
          "metadata": {},
          "execution_count": 4
        }
      ]
    },
    {
      "cell_type": "code",
      "source": [
        "batch_t.shape"
      ],
      "metadata": {
        "colab": {
          "base_uri": "https://localhost:8080/"
        },
        "id": "Q5Z2b3faL1ln",
        "outputId": "df5cdc34-cb56-490b-9aec-9a17c3c9e37d"
      },
      "execution_count": null,
      "outputs": [
        {
          "output_type": "execute_result",
          "data": {
            "text/plain": [
              "torch.Size([2, 3, 5, 5])"
            ]
          },
          "metadata": {},
          "execution_count": 24
        }
      ]
    },
    {
      "cell_type": "code",
      "source": [
        "weights = torch.tensor([0.2126, 0.7152, 0.0722])\n",
        "weights"
      ],
      "metadata": {
        "colab": {
          "base_uri": "https://localhost:8080/"
        },
        "id": "NAqlexwrEj_W",
        "outputId": "812befe2-bbf5-40db-9895-6f2d4e65eb83"
      },
      "execution_count": null,
      "outputs": [
        {
          "output_type": "execute_result",
          "data": {
            "text/plain": [
              "tensor([0.2126, 0.7152, 0.0722])"
            ]
          },
          "metadata": {},
          "execution_count": 8
        }
      ]
    },
    {
      "cell_type": "code",
      "source": [
        "weights.shape"
      ],
      "metadata": {
        "colab": {
          "base_uri": "https://localhost:8080/"
        },
        "id": "jGwR9bcTKkBe",
        "outputId": "f8df2215-1faf-4c94-fa97-bdb0b6cfb675"
      },
      "execution_count": null,
      "outputs": [
        {
          "output_type": "execute_result",
          "data": {
            "text/plain": [
              "torch.Size([3])"
            ]
          },
          "metadata": {},
          "execution_count": 18
        }
      ]
    },
    {
      "cell_type": "code",
      "source": [
        "unsqueezed_weights = weights.unsqueeze(-1).unsqueeze(-1)\n",
        "unsqueezed_weights"
      ],
      "metadata": {
        "colab": {
          "base_uri": "https://localhost:8080/"
        },
        "id": "2LpxraFdFY8G",
        "outputId": "48402c09-4640-482f-a7af-ae263ea54960"
      },
      "execution_count": null,
      "outputs": [
        {
          "output_type": "execute_result",
          "data": {
            "text/plain": [
              "tensor([[[0.2126]],\n",
              "\n",
              "        [[0.7152]],\n",
              "\n",
              "        [[0.0722]]])"
            ]
          },
          "metadata": {},
          "execution_count": 20
        }
      ]
    },
    {
      "cell_type": "code",
      "source": [
        "unsqueezed_weights.shape"
      ],
      "metadata": {
        "colab": {
          "base_uri": "https://localhost:8080/"
        },
        "id": "9qzM67ePI2jK",
        "outputId": "52d12391-6d8d-4aa5-a939-196431f089b0"
      },
      "execution_count": null,
      "outputs": [
        {
          "output_type": "execute_result",
          "data": {
            "text/plain": [
              "torch.Size([3, 1, 1])"
            ]
          },
          "metadata": {},
          "execution_count": 27
        }
      ]
    },
    {
      "cell_type": "code",
      "source": [
        "img_weights = img_t * unsqueezed_weights # (3, 5, 5) x (3, 1, 1)\n",
        "img_weights"
      ],
      "metadata": {
        "colab": {
          "base_uri": "https://localhost:8080/"
        },
        "id": "30Y8axhAKg7W",
        "outputId": "41672be1-b213-41bc-9fe8-f46041f98587"
      },
      "execution_count": null,
      "outputs": [
        {
          "output_type": "execute_result",
          "data": {
            "text/plain": [
              "tensor([[[ 0.0555, -0.1682,  0.1185,  0.0652, -0.3068],\n",
              "         [ 0.3321,  0.0786,  0.1570,  0.2804, -0.0829],\n",
              "         [-0.1136, -0.0615,  0.1254, -0.3070, -0.3490],\n",
              "         [ 0.0246,  0.2021, -0.1673,  0.2458,  0.1680],\n",
              "         [-0.1687,  0.0649, -0.0836, -0.1372,  0.4170]],\n",
              "\n",
              "        [[-0.0632, -0.7790,  0.4402, -0.0680,  1.0742],\n",
              "         [-0.0244, -0.4909, -0.5030,  0.4998,  0.3573],\n",
              "         [-0.3224,  0.6642, -0.4503, -0.0861,  1.2479],\n",
              "         [ 0.0076,  0.1016, -1.4709, -0.4070,  0.0055],\n",
              "         [-1.2609, -0.2667,  0.3732, -1.1525,  0.5251]],\n",
              "\n",
              "        [[-0.0762,  0.0925, -0.0067, -0.1383, -0.1000],\n",
              "         [ 0.1264,  0.1310, -0.0783,  0.0080,  0.2289],\n",
              "         [ 0.0357,  0.0061, -0.0666,  0.0107,  0.0820],\n",
              "         [-0.0357, -0.0791,  0.0246,  0.1822,  0.0769],\n",
              "         [ 0.0530,  0.0180,  0.0490, -0.0920, -0.0673]]])"
            ]
          },
          "metadata": {},
          "execution_count": 28
        }
      ]
    },
    {
      "cell_type": "code",
      "source": [
        "img_weights.shape"
      ],
      "metadata": {
        "colab": {
          "base_uri": "https://localhost:8080/"
        },
        "id": "1Ob-29K1NKWA",
        "outputId": "7452416e-844c-4ba4-bf3b-1dcf93d2f9c2"
      },
      "execution_count": null,
      "outputs": [
        {
          "output_type": "execute_result",
          "data": {
            "text/plain": [
              "torch.Size([3, 5, 5])"
            ]
          },
          "metadata": {},
          "execution_count": 32
        }
      ]
    },
    {
      "cell_type": "code",
      "source": [
        "batch_weights = batch_t * unsqueezed_weights # (2, 3, 5, 5) x (3, 1, 1)\n",
        "batch_weights"
      ],
      "metadata": {
        "colab": {
          "base_uri": "https://localhost:8080/"
        },
        "id": "YPAUH1PDK5xU",
        "outputId": "bb58a0e6-1e8e-4d6e-f2fb-29d3bd613ae7"
      },
      "execution_count": null,
      "outputs": [
        {
          "output_type": "execute_result",
          "data": {
            "text/plain": [
              "tensor([[[[ 2.1095e-01,  4.4601e-01, -1.9228e-01,  3.5813e-01, -3.4614e-01],\n",
              "          [-1.2557e-01,  2.1486e-01,  1.2183e-01, -8.3428e-02, -2.1070e-01],\n",
              "          [ 5.8204e-03, -7.9577e-02,  4.6641e-02,  2.0403e-01, -3.1893e-01],\n",
              "          [-7.6021e-01,  1.2018e-01,  1.5769e-02,  2.5608e-03,  1.3232e-01],\n",
              "          [ 6.5135e-02,  1.2082e-01, -3.9111e-02,  3.3486e-03,  2.0569e-01]],\n",
              "\n",
              "         [[ 4.7657e-01, -6.7299e-01,  3.2648e-01,  7.9134e-03, -1.6272e-01],\n",
              "          [-2.2575e-01, -4.1997e-01, -7.1166e-02,  1.0409e-01, -3.4855e-01],\n",
              "          [-9.5280e-01,  4.1655e-01,  2.3181e-01, -8.5473e-01,  3.3839e-01],\n",
              "          [ 6.2867e-01,  7.0462e-02,  1.3102e-02, -8.5891e-02,  7.5957e-02],\n",
              "          [-1.1816e-02,  1.9706e-01, -9.6948e-01,  3.7229e-01,  4.1526e-01]],\n",
              "\n",
              "         [[ 3.5066e-02,  8.4230e-02,  3.6549e-02,  1.1490e-01,  2.3015e-02],\n",
              "          [ 4.1658e-03,  1.0959e-01,  1.1566e-02, -5.6812e-02,  8.6831e-02],\n",
              "          [ 1.9758e-02, -8.6664e-02, -8.1755e-03, -2.3568e-02,  4.3744e-02],\n",
              "          [-3.7997e-02, -1.7310e-02, -9.8932e-02, -8.7778e-02, -5.3248e-02],\n",
              "          [ 2.8241e-02,  3.7685e-02, -1.7340e-02,  4.9412e-02,  1.2906e-01]]],\n",
              "\n",
              "\n",
              "        [[[-2.3182e-02, -3.7705e-02,  1.4733e-01, -6.3256e-02, -1.0082e-01],\n",
              "          [ 2.3950e-01, -1.2587e-01,  2.4783e-01, -3.3479e-01,  2.2608e-01],\n",
              "          [ 1.4320e-01,  1.5489e-01, -2.6318e-01, -1.6310e-02, -3.6756e-01],\n",
              "          [-1.6371e-02,  3.3107e-01, -9.3730e-02,  2.0985e-01,  1.5011e-02],\n",
              "          [-2.1937e-02, -2.5986e-01, -2.0927e-01, -8.7548e-02,  6.1798e-02]],\n",
              "\n",
              "         [[ 1.9743e-01,  1.8736e-01, -2.5513e-01, -4.1356e-01, -1.1900e-01],\n",
              "          [ 9.3131e-02,  1.0248e+00, -1.5975e+00, -1.7717e-01, -7.5584e-01],\n",
              "          [-3.1659e-01,  4.8908e-01, -1.1873e+00,  2.9935e-01, -7.0144e-01],\n",
              "          [-2.6852e-01,  4.4287e-01,  7.8891e-01, -5.8651e-01,  2.0954e-01],\n",
              "          [ 4.4772e-01, -1.0137e+00,  3.5901e-01,  3.1337e-01, -7.8319e-02]],\n",
              "\n",
              "         [[-4.4595e-03,  3.2019e-02,  3.6947e-02, -1.3786e-02, -5.1116e-03],\n",
              "          [ 3.4710e-02, -2.4119e-02, -2.5461e-02, -1.5188e-02,  2.3016e-02],\n",
              "          [ 1.4469e-02, -2.9185e-04,  1.7792e-02,  8.7308e-02, -2.3964e-02],\n",
              "          [-2.3751e-02, -6.1557e-02, -9.5945e-02,  4.4651e-02,  5.2140e-02],\n",
              "          [-7.1096e-02,  1.3064e-02, -3.4400e-02,  6.7803e-03,  1.1348e-01]]]])"
            ]
          },
          "metadata": {},
          "execution_count": 29
        }
      ]
    },
    {
      "cell_type": "code",
      "source": [
        "batch_weights.shape"
      ],
      "metadata": {
        "colab": {
          "base_uri": "https://localhost:8080/"
        },
        "id": "qZnEPHC3MaqC",
        "outputId": "df9002d8-68d9-40d6-ecac-2228fadfc01c"
      },
      "execution_count": null,
      "outputs": [
        {
          "output_type": "execute_result",
          "data": {
            "text/plain": [
              "torch.Size([2, 3, 5, 5])"
            ]
          },
          "metadata": {},
          "execution_count": 30
        }
      ]
    },
    {
      "cell_type": "code",
      "source": [
        "batch_weights.dtype"
      ],
      "metadata": {
        "colab": {
          "base_uri": "https://localhost:8080/"
        },
        "id": "PmSJQgDLMdzX",
        "outputId": "25fa710c-8d32-49c9-eec0-2d410c8b0b8c"
      },
      "execution_count": null,
      "outputs": [
        {
          "output_type": "execute_result",
          "data": {
            "text/plain": [
              "torch.float32"
            ]
          },
          "metadata": {},
          "execution_count": 33
        }
      ]
    },
    {
      "cell_type": "code",
      "source": [
        "a = torch.ones(3, 2)\n",
        "a_t = torch.transpose(a, 0, 1)  # 0 and 1 are the dimensions to be swapped\n",
        "a_t.shape"
      ],
      "metadata": {
        "id": "jFZn08KZRXj3",
        "colab": {
          "base_uri": "https://localhost:8080/"
        },
        "outputId": "6366149c-a08a-4404-f4c1-48d69888e940"
      },
      "execution_count": null,
      "outputs": [
        {
          "output_type": "execute_result",
          "data": {
            "text/plain": [
              "torch.Size([2, 3])"
            ]
          },
          "metadata": {},
          "execution_count": 4
        }
      ]
    },
    {
      "cell_type": "code",
      "source": [
        "a = torch.zeros(3, 5)"
      ],
      "metadata": {
        "id": "ty6N8IfA00aj"
      },
      "execution_count": null,
      "outputs": []
    },
    {
      "cell_type": "code",
      "source": [
        "for i in range(0, 3):\n",
        "  for j in range(0, 5):\n",
        "    a[i, j] = i + j"
      ],
      "metadata": {
        "id": "FDzMqiUy2Ld0"
      },
      "execution_count": null,
      "outputs": []
    },
    {
      "cell_type": "code",
      "source": [
        "a"
      ],
      "metadata": {
        "colab": {
          "base_uri": "https://localhost:8080/"
        },
        "id": "0ZH9Duv82-ZQ",
        "outputId": "b23ea5a7-4b94-4196-cff7-e00022243c65"
      },
      "execution_count": null,
      "outputs": [
        {
          "output_type": "execute_result",
          "data": {
            "text/plain": [
              "tensor([[0., 1., 2., 3., 4.],\n",
              "        [1., 2., 3., 4., 5.],\n",
              "        [2., 3., 4., 5., 6.]])"
            ]
          },
          "metadata": {},
          "execution_count": 16
        }
      ]
    },
    {
      "cell_type": "code",
      "source": [
        "a.transpose(0, 1)"
      ],
      "metadata": {
        "colab": {
          "base_uri": "https://localhost:8080/"
        },
        "id": "LfH3WLen2_PY",
        "outputId": "daa7a447-7450-442a-c644-9db146616c26"
      },
      "execution_count": null,
      "outputs": [
        {
          "output_type": "execute_result",
          "data": {
            "text/plain": [
              "tensor([[0., 1., 2.],\n",
              "        [1., 2., 3.],\n",
              "        [2., 3., 4.],\n",
              "        [3., 4., 5.],\n",
              "        [4., 5., 6.]])"
            ]
          },
          "metadata": {},
          "execution_count": 19
        }
      ]
    },
    {
      "cell_type": "markdown",
      "source": [
        "We can access its elements by its indices"
      ],
      "metadata": {
        "id": "0m13UAHg77VM"
      }
    },
    {
      "cell_type": "code",
      "source": [
        "float(a[1, 2])"
      ],
      "metadata": {
        "colab": {
          "base_uri": "https://localhost:8080/"
        },
        "id": "aZwBSIwU7vgc",
        "outputId": "f6b0d292-f0ab-45b2-a43b-a244b467929b"
      },
      "execution_count": null,
      "outputs": [
        {
          "output_type": "execute_result",
          "data": {
            "text/plain": [
              "3.0"
            ]
          },
          "metadata": {},
          "execution_count": 23
        }
      ]
    },
    {
      "cell_type": "markdown",
      "source": [
        "A tensor occupies a contiguous one dimensional indexed  space of elements (integers, floats). This can be seen when we store the data onto the hard disk."
      ],
      "metadata": {
        "id": "9xe2Cl3x64AM"
      }
    },
    {
      "cell_type": "code",
      "source": [
        "points = torch.tensor([[4.0, 1.0], [5.0, 3.0], [2.0, 1.0]])"
      ],
      "metadata": {
        "id": "ExaSeWD93Iuw"
      },
      "execution_count": null,
      "outputs": []
    },
    {
      "cell_type": "code",
      "source": [
        "points_storage = points.storage()"
      ],
      "metadata": {
        "id": "sHLqXGve3gyJ"
      },
      "execution_count": null,
      "outputs": []
    },
    {
      "cell_type": "code",
      "source": [
        "points_storage[5]"
      ],
      "metadata": {
        "colab": {
          "base_uri": "https://localhost:8080/"
        },
        "id": "cjdNonVt6lJl",
        "outputId": "b4b656c0-8543-4a56-f0a5-3e9a326051c2"
      },
      "execution_count": null,
      "outputs": [
        {
          "output_type": "execute_result",
          "data": {
            "text/plain": [
              "1.0"
            ]
          },
          "metadata": {},
          "execution_count": 25
        }
      ]
    },
    {
      "cell_type": "markdown",
      "source": [
        "## Inplace methods\n",
        "These are methods that are performed on the tensor's elements to update their values and do not return a new tensor. These methods' names are characterized by trailing undescore."
      ],
      "metadata": {
        "id": "9w6eXmNN81je"
      }
    },
    {
      "cell_type": "code",
      "source": [
        "points.zero_()"
      ],
      "metadata": {
        "colab": {
          "base_uri": "https://localhost:8080/"
        },
        "id": "STxAWXfU8hx7",
        "outputId": "91cd66ed-0f37-467f-bd0b-9eac12774ba1"
      },
      "execution_count": null,
      "outputs": [
        {
          "output_type": "execute_result",
          "data": {
            "text/plain": [
              "tensor([[0., 0.],\n",
              "        [0., 0.],\n",
              "        [0., 0.]])"
            ]
          },
          "metadata": {},
          "execution_count": 26
        }
      ]
    },
    {
      "cell_type": "markdown",
      "source": [
        "## Tensor metadata: size, offset and stride\n",
        "The size (shape) of a tensor indicates how many elements there are on each dimension."
      ],
      "metadata": {
        "id": "8EjBbZedAEhv"
      }
    },
    {
      "cell_type": "code",
      "source": [
        "points = torch.tensor([[4.0, 1.0], [5.0, 3.0], [2.0, 1.0]])\n",
        "points.shape"
      ],
      "metadata": {
        "colab": {
          "base_uri": "https://localhost:8080/"
        },
        "id": "712dPT6i-PgT",
        "outputId": "22da7975-ec48-4523-fb97-9c33764e52d8"
      },
      "execution_count": null,
      "outputs": [
        {
          "output_type": "execute_result",
          "data": {
            "text/plain": [
              "torch.Size([3, 2])"
            ]
          },
          "metadata": {},
          "execution_count": 2
        }
      ]
    },
    {
      "cell_type": "markdown",
      "source": [
        "The offset indicates the index of the 1st element of the tensor in the storage."
      ],
      "metadata": {
        "id": "9FQTZFXnBKR0"
      }
    },
    {
      "cell_type": "code",
      "source": [
        "offset = points.storage_offset()\n",
        "offset"
      ],
      "metadata": {
        "colab": {
          "base_uri": "https://localhost:8080/"
        },
        "id": "PRdV77fBAsrf",
        "outputId": "88110cfb-382a-4664-f858-dfc34e9bdd98"
      },
      "execution_count": null,
      "outputs": [
        {
          "output_type": "execute_result",
          "data": {
            "text/plain": [
              "0"
            ]
          },
          "metadata": {},
          "execution_count": 3
        }
      ]
    },
    {
      "cell_type": "markdown",
      "source": [
        "The stride is the number of elements that must be skipped to get to the next element of the next dimension. For example to get the next point of our list we have to skip two elements."
      ],
      "metadata": {
        "id": "NjsuQFNmBeD-"
      }
    },
    {
      "cell_type": "code",
      "source": [
        "stride = points.stride()\n",
        "stride"
      ],
      "metadata": {
        "colab": {
          "base_uri": "https://localhost:8080/"
        },
        "id": "M-UjsQNQBAak",
        "outputId": "31778b7f-0323-476c-8349-2522d6fad57d"
      },
      "execution_count": null,
      "outputs": [
        {
          "output_type": "execute_result",
          "data": {
            "text/plain": [
              "(2, 1)"
            ]
          },
          "metadata": {},
          "execution_count": 4
        }
      ]
    },
    {
      "cell_type": "code",
      "source": [
        "points_storage = points.storage()"
      ],
      "metadata": {
        "id": "LZsE2WxgEAXC"
      },
      "execution_count": null,
      "outputs": []
    },
    {
      "cell_type": "markdown",
      "source": [
        "We can compute the storage index to access a tensor using its indices (row and column)"
      ],
      "metadata": {
        "id": "uEcfUY8uEgz8"
      }
    },
    {
      "cell_type": "code",
      "source": [
        "i = 1\n",
        "j = 1\n",
        "storage_index = offset + stride[0] * i + stride[1] * j\n",
        "storage_index"
      ],
      "metadata": {
        "colab": {
          "base_uri": "https://localhost:8080/"
        },
        "id": "KGb2hbZlBcwn",
        "outputId": "e584cdf0-e916-49c5-9b64-1a99d791a0be"
      },
      "execution_count": null,
      "outputs": [
        {
          "output_type": "execute_result",
          "data": {
            "text/plain": [
              "3"
            ]
          },
          "metadata": {},
          "execution_count": 6
        }
      ]
    },
    {
      "cell_type": "code",
      "source": [
        "points_storage[storage_index]"
      ],
      "metadata": {
        "colab": {
          "base_uri": "https://localhost:8080/"
        },
        "id": "2648JvtXDEGT",
        "outputId": "a400b64f-20bd-4a1d-bf4e-60a6f7b1f77a"
      },
      "execution_count": null,
      "outputs": [
        {
          "output_type": "execute_result",
          "data": {
            "text/plain": [
              "3.0"
            ]
          },
          "metadata": {},
          "execution_count": 7
        }
      ]
    },
    {
      "cell_type": "markdown",
      "source": [
        "We can use a shortcut to compute the transpose of a tensor."
      ],
      "metadata": {
        "id": "7brPCnwKGkA8"
      }
    },
    {
      "cell_type": "code",
      "source": [
        "points_t = points.t()\n",
        "points_t"
      ],
      "metadata": {
        "colab": {
          "base_uri": "https://localhost:8080/"
        },
        "id": "7vuRAbRLEdfm",
        "outputId": "fe1843f5-807c-4f44-e668-919a8c36438f"
      },
      "execution_count": null,
      "outputs": [
        {
          "output_type": "execute_result",
          "data": {
            "text/plain": [
              "tensor([[4., 5., 2.],\n",
              "        [1., 3., 1.]])"
            ]
          },
          "metadata": {},
          "execution_count": 8
        }
      ]
    },
    {
      "cell_type": "code",
      "source": [
        "points_t.is_contiguous()"
      ],
      "metadata": {
        "colab": {
          "base_uri": "https://localhost:8080/"
        },
        "id": "abCdLu_CGi3N",
        "outputId": "1602243e-a942-4bd3-9d81-118c223b6230"
      },
      "execution_count": null,
      "outputs": [
        {
          "output_type": "execute_result",
          "data": {
            "text/plain": [
              "False"
            ]
          },
          "metadata": {},
          "execution_count": 9
        }
      ]
    },
    {
      "cell_type": "markdown",
      "source": [
        "## Moving tensors to the GPU\n",
        "In Google Colab we need to chanage the runtime to use the GPU"
      ],
      "metadata": {
        "id": "AIikyx6WJb30"
      }
    },
    {
      "cell_type": "code",
      "source": [
        "points_gpu = points.to(device='cuda')"
      ],
      "metadata": {
        "id": "5LIk9Ea4IF-I"
      },
      "execution_count": null,
      "outputs": []
    },
    {
      "cell_type": "code",
      "source": [
        "points_gpu * 2 # stored in the GPU"
      ],
      "metadata": {
        "colab": {
          "base_uri": "https://localhost:8080/"
        },
        "id": "2be3vBKrJgFl",
        "outputId": "714d0b72-9d8c-4211-98eb-c99e26f4bc3d"
      },
      "execution_count": null,
      "outputs": [
        {
          "output_type": "execute_result",
          "data": {
            "text/plain": [
              "tensor([[ 8.,  2.],\n",
              "        [10.,  6.],\n",
              "        [ 4.,  2.]], device='cuda:0')"
            ]
          },
          "metadata": {},
          "execution_count": 13
        }
      ]
    },
    {
      "cell_type": "code",
      "source": [
        "points # stored in the CPU"
      ],
      "metadata": {
        "colab": {
          "base_uri": "https://localhost:8080/"
        },
        "id": "uLUuyRVKKgqL",
        "outputId": "1a99a5a8-71ca-456f-d235-7dbd25d82de4"
      },
      "execution_count": null,
      "outputs": [
        {
          "output_type": "execute_result",
          "data": {
            "text/plain": [
              "tensor([[4., 1.],\n",
              "        [5., 3.],\n",
              "        [2., 1.]])"
            ]
          },
          "metadata": {},
          "execution_count": 14
        }
      ]
    },
    {
      "cell_type": "markdown",
      "source": [
        "## NumPy interoperability\n",
        "We can copy a PyTorch tensor stored on CPU RAM into a NumPy array."
      ],
      "metadata": {
        "id": "GM3svh4ZOl2L"
      }
    },
    {
      "cell_type": "code",
      "source": [
        "points_np = points.numpy()\n",
        "points_np"
      ],
      "metadata": {
        "colab": {
          "base_uri": "https://localhost:8080/"
        },
        "id": "T5SgrC-fKjDH",
        "outputId": "77b53c90-7a71-4012-cdf0-9b3e7b8dc0aa"
      },
      "execution_count": null,
      "outputs": [
        {
          "output_type": "execute_result",
          "data": {
            "text/plain": [
              "array([[4., 1.],\n",
              "       [5., 3.],\n",
              "       [2., 1.]], dtype=float32)"
            ]
          },
          "metadata": {},
          "execution_count": 10
        }
      ]
    },
    {
      "cell_type": "markdown",
      "source": [
        "Conversely we can copy a NumPy array into a PyTorch tensor"
      ],
      "metadata": {
        "id": "RZIQnXfeQje2"
      }
    },
    {
      "cell_type": "code",
      "source": [
        "points_tensor = torch.from_numpy(points_np)\n",
        "points_tensor"
      ],
      "metadata": {
        "colab": {
          "base_uri": "https://localhost:8080/"
        },
        "id": "t1Qjpx5nPPop",
        "outputId": "5c279e17-1f87-42f1-f3a5-028a274a944a"
      },
      "execution_count": null,
      "outputs": [
        {
          "output_type": "execute_result",
          "data": {
            "text/plain": [
              "tensor([[4., 1.],\n",
              "        [5., 3.],\n",
              "        [2., 1.]])"
            ]
          },
          "metadata": {},
          "execution_count": 11
        }
      ]
    },
    {
      "cell_type": "markdown",
      "source": [
        "We write the tensor data into a file"
      ],
      "metadata": {
        "id": "TWUGrYc2xlvR"
      }
    },
    {
      "cell_type": "code",
      "source": [
        "with open('/content/sample_data/ourpoints.t','wb') as f:\n",
        "  torch.save(points, f)"
      ],
      "metadata": {
        "id": "ywpv6V2EQdsv"
      },
      "execution_count": null,
      "outputs": []
    },
    {
      "cell_type": "markdown",
      "source": [
        "We read the data from the file"
      ],
      "metadata": {
        "id": "fprXysrlx2u5"
      }
    },
    {
      "cell_type": "code",
      "source": [
        "with open('/content/sample_data/ourpoints.t','rb') as f:\n",
        "  points_copy = torch.load(f)\n",
        "points_copy"
      ],
      "metadata": {
        "colab": {
          "base_uri": "https://localhost:8080/"
        },
        "id": "10qCsCw_xTl7",
        "outputId": "a984a9d0-c660-4ff1-f3d4-06b7517b8d6f"
      },
      "execution_count": null,
      "outputs": [
        {
          "output_type": "execute_result",
          "data": {
            "text/plain": [
              "tensor([[4., 1.],\n",
              "        [5., 3.],\n",
              "        [2., 1.]])"
            ]
          },
          "metadata": {},
          "execution_count": 14
        }
      ]
    },
    {
      "cell_type": "code",
      "source": [
        "import h5py"
      ],
      "metadata": {
        "id": "wKbLBfeGx0Nh"
      },
      "execution_count": null,
      "outputs": []
    },
    {
      "cell_type": "markdown",
      "source": [
        "We write the data in a different file format: hdf5"
      ],
      "metadata": {
        "id": "qY63JRrL0N0r"
      }
    },
    {
      "cell_type": "code",
      "source": [
        "f = h5py.File('/content/sample_data/ourpoints.hdf5', 'w')\n",
        "dset = f.create_dataset('coords', data=points.numpy())\n",
        "f.close()"
      ],
      "metadata": {
        "id": "6f-DByKozvyX"
      },
      "execution_count": null,
      "outputs": []
    },
    {
      "cell_type": "markdown",
      "source": [
        "We read a subset of the data"
      ],
      "metadata": {
        "id": "e8pp9dbE0TcQ"
      }
    },
    {
      "cell_type": "code",
      "source": [
        "f = h5py.File('/content/sample_data/ourpoints.hdf5', 'r')\n",
        "dset = f['coords']\n",
        "last_points = dset[-2:]\n",
        "last_points"
      ],
      "metadata": {
        "colab": {
          "base_uri": "https://localhost:8080/"
        },
        "id": "-z9BhXe1z-Qc",
        "outputId": "bbabea22-9f9b-4b80-f762-73d44da3afc4"
      },
      "execution_count": null,
      "outputs": [
        {
          "output_type": "execute_result",
          "data": {
            "text/plain": [
              "array([[5., 3.],\n",
              "       [2., 1.]], dtype=float32)"
            ]
          },
          "metadata": {},
          "execution_count": 18
        }
      ]
    },
    {
      "cell_type": "markdown",
      "source": [
        "We copy the data into a tensor"
      ],
      "metadata": {
        "id": "ZPcXlNUn0u53"
      }
    },
    {
      "cell_type": "code",
      "source": [
        "last_points = torch.from_numpy(dset[-2:])\n",
        "f.close()"
      ],
      "metadata": {
        "id": "SmkeiG-a0dT8"
      },
      "execution_count": null,
      "outputs": []
    },
    {
      "cell_type": "code",
      "source": [],
      "metadata": {
        "id": "NOgnOr_z0y66"
      },
      "execution_count": null,
      "outputs": []
    }
  ]
}