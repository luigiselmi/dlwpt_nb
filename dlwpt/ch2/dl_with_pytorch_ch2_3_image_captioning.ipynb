{
 "cells": [
  {
   "cell_type": "markdown",
   "metadata": {
    "id": "Amp9m5A-UPs8"
   },
   "source": [
    "# Image captioning\n",
    "In this example we will classify an image and the output will be used to build a sentence about its content. It is based on two networks: a convolutional neural network (CNN) for the classification task and a recurrent neural network (RNN) for the textual description of the image. "
   ]
  },
  {
   "cell_type": "markdown",
   "metadata": {},
   "source": [
    "We clone the repository containing the model in a sibling directory"
   ]
  },
  {
   "cell_type": "code",
   "execution_count": 7,
   "metadata": {},
   "outputs": [
    {
     "data": {
      "text/plain": [
       "'C:\\\\cygwin64\\\\home\\\\Luigi'"
      ]
     },
     "execution_count": 7,
     "metadata": {},
     "output_type": "execute_result"
    },
    {
     "name": "stderr",
     "output_type": "stream",
     "text": [
      "Cloning into 'ImageCaptioning.pytorch'...\n",
      "error: 6941 bytes of body are still expected\n",
      "fetch-pack: unexpected disconnect while reading sideband packet\n",
      "fatal: early EOF\n",
      "fatal: fetch-pack: invalid index-pack output\n",
      "Cloning into 'ImageCaptioning.pytorch'...\n",
      "fatal: could not open '/home/Luigi/dlwpt_nb/ImageCaptioning.pytorch/.git/objects/pack/tmp_pack_kcwu1i' for reading: No such file or directory\n",
      "fatal: fetch-pack: invalid index-pack output\n"
     ]
    }
   ],
   "source": []
  },
  {
   "cell_type": "code",
   "execution_count": 6,
   "metadata": {
    "colab": {
     "base_uri": "https://localhost:8080/"
    },
    "id": "Yfm0dK7ZT2mA",
    "outputId": "078d0630-696d-4ab9-ef38-fc6c766bbb36"
   },
   "outputs": [
    {
     "name": "stdout",
     "output_type": "stream",
     "text": [
      "^C\n"
     ]
    }
   ],
   "source": [
    "!git clone https://github.com/deep-learning-with-pytorch/ImageCaptioning.pytorch.git"
   ]
  },
  {
   "cell_type": "code",
   "execution_count": 8,
   "metadata": {
    "colab": {
     "base_uri": "https://localhost:8080/"
    },
    "id": "8Z3Q8mxygv84",
    "outputId": "175a2995-0f51-4dde-9e1e-09346bd6601b"
   },
   "outputs": [
    {
     "name": "stdout",
     "output_type": "stream",
     "text": [
      "C:\\cygwin64\\home\\Luigi\\ImageCaptioning.pytorch\n"
     ]
    }
   ],
   "source": [
    "cd ImageCaptioning.pytorch/"
   ]
  },
  {
   "cell_type": "markdown",
   "metadata": {
    "id": "4YqUcaF6lFX3"
   },
   "source": [
    "We add a couple of images in /content/ImageCaptioning.pytorch/data, e.g. the image with the horse that we have used before and the image generated from it that shows the horse with strips like a zebra, to see what will be the descriptions of our CNN+RNN network "
   ]
  },
  {
   "cell_type": "code",
   "execution_count": 9,
   "metadata": {
    "colab": {
     "base_uri": "https://localhost:8080/"
    },
    "id": "-QctZ-8lg-Bo",
    "outputId": "571656ed-b6a2-40eb-faa5-585c4d7d9f60"
   },
   "outputs": [
    {
     "name": "stderr",
     "output_type": "stream",
     "text": [
      "Traceback (most recent call last):\n",
      "  File \"C:\\cygwin64\\home\\Luigi\\ImageCaptioning.pytorch\\eval.py\", line 15, in <module>\n",
      "    from dataloader import *\n",
      "  File \"C:\\cygwin64\\home\\Luigi\\ImageCaptioning.pytorch\\dataloader.py\", line 6, in <module>\n",
      "    import h5py\n",
      "ModuleNotFoundError: No module named 'h5py'\n"
     ]
    }
   ],
   "source": [
    "!python eval.py --model ./data/FC/fc-model.pth --infos_path ./data/FC/fc-infos.pkl --image_folder ./data"
   ]
  },
  {
   "cell_type": "code",
   "execution_count": null,
   "metadata": {
    "id": "RLrXZ-ciic4d"
   },
   "outputs": [],
   "source": []
  }
 ],
 "metadata": {
  "colab": {
   "provenance": []
  },
  "kernelspec": {
   "display_name": "Python 3 (ipykernel)",
   "language": "python",
   "name": "python3"
  },
  "language_info": {
   "codemirror_mode": {
    "name": "ipython",
    "version": 3
   },
   "file_extension": ".py",
   "mimetype": "text/x-python",
   "name": "python",
   "nbconvert_exporter": "python",
   "pygments_lexer": "ipython3",
   "version": "3.9.13"
  }
 },
 "nbformat": 4,
 "nbformat_minor": 1
}
