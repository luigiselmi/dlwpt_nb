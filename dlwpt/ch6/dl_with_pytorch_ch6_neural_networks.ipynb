{
  "nbformat": 4,
  "nbformat_minor": 0,
  "metadata": {
    "colab": {
      "provenance": []
    },
    "kernelspec": {
      "name": "python3",
      "display_name": "Python 3"
    },
    "language_info": {
      "name": "python"
    }
  },
  "cells": [
    {
      "cell_type": "markdown",
      "source": [
        "# Neural networks\n",
        "We move from a linear model to a model based on a neural network that can fit any function, linear or non linear, depending on its number of parameters. PyTorch provides a module that implements all the components required to build a neural network: parameters, linear transformation (using weights and bias parameters), activation functions for the non-linearity. "
      ],
      "metadata": {
        "id": "1igf24VuANtb"
      }
    },
    {
      "cell_type": "code",
      "source": [
        "import numpy as np\n",
        "import torch\n",
        "import torch.optim as optim\n",
        "import torch.nn as nn"
      ],
      "metadata": {
        "id": "16YJ2CHlA6OQ"
      },
      "execution_count": null,
      "outputs": []
    },
    {
      "cell_type": "markdown",
      "source": [
        "## Linear models in PyTorch\n",
        "In order to see what is avaliable in PyTorch we will build a linear model using a PyTorch module instead of creating one. Once we have seen the modules available in PyTorch to build models we will see how to build one using a neural network. We use the same temperature data seen in ch.5"
      ],
      "metadata": {
        "id": "ALwOQQ88DZU9"
      }
    },
    {
      "cell_type": "code",
      "source": [
        "t_c = [0.5,  14.0, 15.0, 28.0, 11.0,  8.0,  3.0, -4.0,  6.0, 13.0, 21.0]\n",
        "t_u = [35.7, 55.9, 58.2, 81.9, 56.3, 48.9, 33.9, 21.8, 48.4, 60.4, 68.4]\n",
        "t_c = torch.tensor(t_c).unsqueeze(1) \n",
        "t_u = torch.tensor(t_u).unsqueeze(1) \n",
        "t_u.shape"
      ],
      "metadata": {
        "colab": {
          "base_uri": "https://localhost:8080/"
        },
        "id": "lUdFDuW1DXAe",
        "outputId": "90587282-6faf-4c62-8f35-a5177567719a"
      },
      "execution_count": null,
      "outputs": [
        {
          "output_type": "execute_result",
          "data": {
            "text/plain": [
              "torch.Size([11, 1])"
            ]
          },
          "metadata": {},
          "execution_count": 7
        }
      ]
    },
    {
      "cell_type": "markdown",
      "source": [
        "We split the data into two subsets: a training set and a validation set by shuffling the indices"
      ],
      "metadata": {
        "id": "2RXTLlSQE4YT"
      }
    },
    {
      "cell_type": "code",
      "source": [
        "n_samples = t_u.shape[0]\n",
        "n_val = int(0.2 * n_samples)\n",
        "\n",
        "shuffled_indices = torch.randperm(n_samples)\n",
        "\n",
        "train_indices = shuffled_indices[:-n_val]\n",
        "val_indices = shuffled_indices[-n_val:]\n",
        "\n",
        "train_indices, val_indices"
      ],
      "metadata": {
        "colab": {
          "base_uri": "https://localhost:8080/"
        },
        "id": "NsU9cfOSFF4a",
        "outputId": "b6bea929-165f-4e6c-c64e-eacfcb3e9ffc"
      },
      "execution_count": null,
      "outputs": [
        {
          "output_type": "execute_result",
          "data": {
            "text/plain": [
              "(tensor([ 5,  6,  1,  8,  7, 10,  2,  9,  0]), tensor([4, 3]))"
            ]
          },
          "metadata": {},
          "execution_count": 6
        }
      ]
    },
    {
      "cell_type": "markdown",
      "source": [
        "With the indices we can create the two subsets and also apply a normalization of the data"
      ],
      "metadata": {
        "id": "Ka2ob89EFejQ"
      }
    },
    {
      "cell_type": "code",
      "source": [
        "t_u_train = t_u[train_indices]\n",
        "t_c_train = t_c[train_indices]\n",
        "\n",
        "t_u_val = t_u[val_indices]\n",
        "t_c_val = t_c[val_indices]\n",
        "\n",
        "t_un_train = 0.1 * t_u_train\n",
        "t_un_val = 0.1 * t_u_val"
      ],
      "metadata": {
        "id": "aaV2OOJVFkZy"
      },
      "execution_count": null,
      "outputs": []
    },
    {
      "cell_type": "markdown",
      "source": [
        "We create a linear model, using the PyTorch module, with only one parameter (the weight), one output value, and one (default) bias."
      ],
      "metadata": {
        "id": "rONs9THQF8mX"
      }
    },
    {
      "cell_type": "code",
      "source": [
        "num_weights = 1\n",
        "num_output = 1\n",
        "linear_model = nn.Linear(num_weights, num_output)\n",
        "linear_model(t_un_val)"
      ],
      "metadata": {
        "colab": {
          "base_uri": "https://localhost:8080/"
        },
        "id": "qgmq4b7zC8aq",
        "outputId": "c254867b-40c9-4e87-b733-f30fdeec87b6"
      },
      "execution_count": null,
      "outputs": [
        {
          "output_type": "execute_result",
          "data": {
            "text/plain": [
              "tensor([[4.9743],\n",
              "        [7.1240]], grad_fn=<AddmmBackward0>)"
            ]
          },
          "metadata": {},
          "execution_count": 11
        }
      ]
    },
    {
      "cell_type": "code",
      "source": [
        "linear_model.weight"
      ],
      "metadata": {
        "colab": {
          "base_uri": "https://localhost:8080/"
        },
        "id": "eype6vfMDF6q",
        "outputId": "c2b7991b-4f1b-4253-ec8a-1de5d6d4df37"
      },
      "execution_count": null,
      "outputs": [
        {
          "output_type": "execute_result",
          "data": {
            "text/plain": [
              "Parameter containing:\n",
              "tensor([[0.8397]], requires_grad=True)"
            ]
          },
          "metadata": {},
          "execution_count": 12
        }
      ]
    },
    {
      "cell_type": "code",
      "source": [
        "linear_model.bias"
      ],
      "metadata": {
        "colab": {
          "base_uri": "https://localhost:8080/"
        },
        "id": "YHBrAY-SHyya",
        "outputId": "324a8c0e-e1a6-4533-ef31-99f2b4a5bee7"
      },
      "execution_count": null,
      "outputs": [
        {
          "output_type": "execute_result",
          "data": {
            "text/plain": [
              "Parameter containing:\n",
              "tensor([0.2467], requires_grad=True)"
            ]
          },
          "metadata": {},
          "execution_count": 13
        }
      ]
    },
    {
      "cell_type": "markdown",
      "source": [
        "We can apply our linear model, built using the PyTorch module, to a batch of data points"
      ],
      "metadata": {
        "id": "eNdhWXvWJBcJ"
      }
    },
    {
      "cell_type": "code",
      "source": [
        "batch_size = 10\n",
        "input_features = 1 # weight\n",
        "x = torch.ones(batch_size, input_features)\n",
        "linear_model(x)"
      ],
      "metadata": {
        "colab": {
          "base_uri": "https://localhost:8080/"
        },
        "id": "W3fqu_nxH58I",
        "outputId": "234b59ba-43cc-4cc1-9b55-58c08f86c7c1"
      },
      "execution_count": null,
      "outputs": [
        {
          "output_type": "execute_result",
          "data": {
            "text/plain": [
              "tensor([[1.0864],\n",
              "        [1.0864],\n",
              "        [1.0864],\n",
              "        [1.0864],\n",
              "        [1.0864],\n",
              "        [1.0864],\n",
              "        [1.0864],\n",
              "        [1.0864],\n",
              "        [1.0864],\n",
              "        [1.0864]], grad_fn=<AddmmBackward0>)"
            ]
          },
          "metadata": {},
          "execution_count": 16
        }
      ]
    },
    {
      "cell_type": "markdown",
      "source": [
        "We will follow the same approach when we will build a batch of images with the three RGB channels and their width and height. Now we use the same training loop that we used with our own linear model but this time we use the linear model implementation available in the nn PyTorch module"
      ],
      "metadata": {
        "id": "A09pQmMxMUxG"
      }
    },
    {
      "cell_type": "code",
      "source": [
        "def training_loop(n_epochs, optimizer, model, loss_fn, t_u_train, t_u_val, t_c_train, t_c_val):\n",
        "    for epoch in range(1, n_epochs + 1):\n",
        "        t_p_train = model(t_u_train) \n",
        "        loss_train = loss_fn(t_p_train, t_c_train)\n",
        "\n",
        "        t_p_val = model(t_u_val) \n",
        "        loss_val = loss_fn(t_p_val, t_c_val)\n",
        "        \n",
        "        optimizer.zero_grad()\n",
        "        loss_train.backward() \n",
        "        optimizer.step()\n",
        "\n",
        "        if epoch == 1 or epoch % 1000 == 0:\n",
        "            print(f\"Epoch {epoch}, Training loss {loss_train.item():.4f},\"\n",
        "                  f\" Validation loss {loss_val.item():.4f}\")"
      ],
      "metadata": {
        "id": "yn5dn9RjI3pf"
      },
      "execution_count": null,
      "outputs": []
    },
    {
      "cell_type": "markdown",
      "source": [
        "We use the same loss function (mean square errors) to be minimized using an optimization algorithm such as Stochastic Gradient Descent (SGD)"
      ],
      "metadata": {
        "id": "Ik-RRaRISr79"
      }
    },
    {
      "cell_type": "code",
      "source": [
        "def loss_fn(t_p, t_c):\n",
        "    squared_diffs = (t_p - t_c)**2\n",
        "    return squared_diffs.mean()"
      ],
      "metadata": {
        "id": "qmSBtJuDN6I_"
      },
      "execution_count": null,
      "outputs": []
    },
    {
      "cell_type": "code",
      "source": [
        "linear_model = nn.Linear(1, 1) \n",
        "optimizer = optim.SGD(linear_model.parameters(), lr=1e-2)\n",
        "\n",
        "training_loop(\n",
        "    n_epochs = 3000, \n",
        "    optimizer = optimizer,\n",
        "    model = linear_model,\n",
        "    loss_fn = loss_fn,\n",
        "    t_u_train = t_un_train,\n",
        "    t_u_val = t_un_val, \n",
        "    t_c_train = t_c_train,\n",
        "    t_c_val = t_c_val)"
      ],
      "metadata": {
        "colab": {
          "base_uri": "https://localhost:8080/"
        },
        "id": "flmOCVZCRMn4",
        "outputId": "7868f4c0-cebb-4fd4-9dd0-e253e189ffa4"
      },
      "execution_count": null,
      "outputs": [
        {
          "output_type": "stream",
          "name": "stdout",
          "text": [
            "Epoch 1, Training loss 76.6742, Validation loss 301.1889\n",
            "Epoch 1000, Training loss 4.0647, Validation loss 9.3708\n",
            "Epoch 2000, Training loss 2.9659, Validation loss 4.2739\n",
            "Epoch 3000, Training loss 2.9138, Validation loss 3.5676\n"
          ]
        }
      ]
    },
    {
      "cell_type": "markdown",
      "source": [
        "After the training, we can print the parameters that have been learnt by our linear model, that is the weight and the bias"
      ],
      "metadata": {
        "id": "_wtdyGXETXIb"
      }
    },
    {
      "cell_type": "code",
      "source": [
        "print(linear_model.weight)\n",
        "print(linear_model.bias)"
      ],
      "metadata": {
        "colab": {
          "base_uri": "https://localhost:8080/"
        },
        "id": "Yivh-JNWRxUM",
        "outputId": "e794e559-4db3-474c-a77d-8e22d59704c0"
      },
      "execution_count": null,
      "outputs": [
        {
          "output_type": "stream",
          "name": "stdout",
          "text": [
            "Parameter containing:\n",
            "tensor([[5.1659]], requires_grad=True)\n",
            "Parameter containing:\n",
            "tensor([-16.2595], requires_grad=True)\n"
          ]
        }
      ]
    },
    {
      "cell_type": "markdown",
      "source": [
        "We can also use the the mean square errors loss function implemented in the nn module of PyTorch instead of passing our own implementation."
      ],
      "metadata": {
        "id": "DOPLcpHzVW2W"
      }
    },
    {
      "cell_type": "code",
      "source": [
        "linear_model = nn.Linear(1, 1) \n",
        "optimizer = optim.SGD(linear_model.parameters(), lr=1e-2)\n",
        "\n",
        "training_loop(\n",
        "    n_epochs = 3000, \n",
        "    optimizer = optimizer,\n",
        "    model = linear_model,\n",
        "    loss_fn = nn.MSELoss(), # mean square errors loss function implemented in PyTorch\n",
        "    t_u_train = t_un_train,\n",
        "    t_u_val = t_un_val, \n",
        "    t_c_train = t_c_train,\n",
        "    t_c_val = t_c_val)"
      ],
      "metadata": {
        "colab": {
          "base_uri": "https://localhost:8080/"
        },
        "id": "D1YCUuDERyC7",
        "outputId": "7e50bc18-be98-4dfd-8436-022c56a7b8e8"
      },
      "execution_count": null,
      "outputs": [
        {
          "output_type": "stream",
          "name": "stdout",
          "text": [
            "Epoch 1, Training loss 259.3491, Validation loss 798.4213\n",
            "Epoch 1000, Training loss 3.9613, Validation loss 8.9878\n",
            "Epoch 2000, Training loss 2.9610, Validation loss 4.2285\n",
            "Epoch 3000, Training loss 2.9135, Validation loss 3.5595\n"
          ]
        }
      ]
    },
    {
      "cell_type": "markdown",
      "source": [
        "The result is of course similar to what we got using our loss function implementation"
      ],
      "metadata": {
        "id": "x1tzub2kWCn0"
      }
    },
    {
      "cell_type": "code",
      "source": [
        "print(linear_model.weight)\n",
        "print(linear_model.bias)"
      ],
      "metadata": {
        "colab": {
          "base_uri": "https://localhost:8080/"
        },
        "id": "RuoGU6laUwt5",
        "outputId": "5733e2d2-41b0-4c72-a3ae-c032b8156812"
      },
      "execution_count": null,
      "outputs": [
        {
          "output_type": "stream",
          "name": "stdout",
          "text": [
            "Parameter containing:\n",
            "tensor([[5.1675]], requires_grad=True)\n",
            "Parameter containing:\n",
            "tensor([-16.2678], requires_grad=True)\n"
          ]
        }
      ]
    },
    {
      "cell_type": "markdown",
      "source": [
        "## Neural networks in PyTorch\n",
        "After we have seen how to build, train, and use a linear model using some modules available in PyTorch we will see how to build a neural network, with an input layer, a hidden layer, and an output layer. We will use the neural network model to solve the same temperature conversion problem so we will be able to see whether a solution based on a neural netowork can be used to address a regression task. We build a simple neural network with one unit for the input layer, 13 units for the hidden layer, and one unit for the ouput layer. The input unit is connected to each of the 13 units of the hidden layers and they are all connected to the output layer. We use the Tanh() function as the activation function of the units in the hidden layer. Our neural network is built as a sequence of the input layer, the activation function of the units in the hidden layer, and the output layer. "
      ],
      "metadata": {
        "id": "u3dAvifhk0B0"
      }
    },
    {
      "cell_type": "code",
      "source": [
        "seq_model = nn.Sequential(\n",
        "  nn.Linear(1, 13),\n",
        "  nn.Tanh(),\n",
        "  nn.Linear(13, 1))\n",
        "seq_model"
      ],
      "metadata": {
        "colab": {
          "base_uri": "https://localhost:8080/"
        },
        "id": "uYElvwevVR7G",
        "outputId": "a3a87f51-7b35-4387-ac3e-52c06d36b809"
      },
      "execution_count": null,
      "outputs": [
        {
          "output_type": "execute_result",
          "data": {
            "text/plain": [
              "Sequential(\n",
              "  (0): Linear(in_features=1, out_features=13, bias=True)\n",
              "  (1): Tanh()\n",
              "  (2): Linear(in_features=13, out_features=1, bias=True)\n",
              ")"
            ]
          },
          "metadata": {},
          "execution_count": 28
        }
      ]
    },
    {
      "cell_type": "code",
      "source": [
        "optimizer = optim.SGD(seq_model.parameters(), lr=1e-3)\n",
        "\n",
        "training_loop(\n",
        "  n_epochs = 5000,\n",
        "  optimizer = optimizer,\n",
        "  model = seq_model,\n",
        "  loss_fn = nn.MSELoss(),\n",
        "  t_u_train = t_un_train,\n",
        "  t_u_val = t_un_val,\n",
        "  t_c_train = t_c_train,\n",
        "  t_c_val = t_c_val)"
      ],
      "metadata": {
        "colab": {
          "base_uri": "https://localhost:8080/"
        },
        "id": "23cNq04jkvEN",
        "outputId": "960adf06-4d04-46ec-90fe-155de723e21e"
      },
      "execution_count": null,
      "outputs": [
        {
          "output_type": "stream",
          "name": "stdout",
          "text": [
            "Epoch 1, Training loss 132.2358, Validation loss 461.0046\n",
            "Epoch 1000, Training loss 3.9295, Validation loss 37.6054\n",
            "Epoch 2000, Training loss 2.7013, Validation loss 18.7500\n",
            "Epoch 3000, Training loss 2.3449, Validation loss 12.1683\n",
            "Epoch 4000, Training loss 2.1943, Validation loss 8.7160\n",
            "Epoch 5000, Training loss 2.1230, Validation loss 6.7429\n"
          ]
        }
      ]
    },
    {
      "cell_type": "markdown",
      "source": [
        "Since our neural network model has 13 parameters and not only two as in the linear model we cannot compare the two models using the parameters value but we can plot the output for different inputs"
      ],
      "metadata": {
        "id": "VR6umHVjsytl"
      }
    },
    {
      "cell_type": "code",
      "source": [
        "from matplotlib import pyplot as plt\n",
        "t_range = torch.arange(20., 90.).unsqueeze(1)\n",
        "plt.xlabel(\"Fahrenheit\")\n",
        "plt.ylabel(\"Celsius\")\n",
        "plt.plot(t_u.numpy(), t_c.numpy(), 'o')\n",
        "plt.plot(t_range.numpy(), seq_model(0.1 * t_range).detach().numpy(), 'c-')\n",
        "plt.plot(t_u.numpy(), seq_model(0.1 * t_u).detach().numpy(), 'kx')"
      ],
      "metadata": {
        "colab": {
          "base_uri": "https://localhost:8080/",
          "height": 296
        },
        "id": "EXfxOGfKqxZU",
        "outputId": "7662e094-7d5a-4842-ea5d-0b057fff1be4"
      },
      "execution_count": null,
      "outputs": [
        {
          "output_type": "execute_result",
          "data": {
            "text/plain": [
              "[<matplotlib.lines.Line2D at 0x7f97b9778fd0>]"
            ]
          },
          "metadata": {},
          "execution_count": 32
        },
        {
          "output_type": "display_data",
          "data": {
            "text/plain": [
              "<Figure size 432x288 with 1 Axes>"
            ],
            "image/png": "[encoded data removed]"
          },
          "metadata": {
            "needs_background": "light"
          }
        }
      ]
    },
    {
      "cell_type": "markdown",
      "source": [
        "We can see that our model, with its 13 parameters, overfits the data and instead of a linear relationship between Fahrenheit and Celsius we can see a non-linear one. In any case the neural network model fits the data quite well."
      ],
      "metadata": {
        "id": "LzUvbw-qt2Jg"
      }
    },
    {
      "cell_type": "code",
      "source": [],
      "metadata": {
        "id": "FuNpHBPBtkBI"
      },
      "execution_count": null,
      "outputs": []
    }
  ]
}