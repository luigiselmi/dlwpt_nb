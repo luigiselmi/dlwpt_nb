{
  "nbformat": 4,
  "nbformat_minor": 0,
  "metadata": {
    "colab": {
      "provenance": []
    },
    "kernelspec": {
      "name": "python3",
      "display_name": "Python 3"
    },
    "language_info": {
      "name": "python"
    },
    "accelerator": "GPU",
    "gpuClass": "standard",
    "widgets": {
      "application/vnd.jupyter.widget-state+json": {
        "7df1d4c8c5054476aa29d69832ee4319": {
          "model_module": "@jupyter-widgets/controls",
          "model_name": "HBoxModel",
          "model_module_version": "1.5.0",
          "state": {
            "_dom_classes": [],
            "_model_module": "@jupyter-widgets/controls",
            "_model_module_version": "1.5.0",
            "_model_name": "HBoxModel",
            "_view_count": null,
            "_view_module": "@jupyter-widgets/controls",
            "_view_module_version": "1.5.0",
            "_view_name": "HBoxView",
            "box_style": "",
            "children": [
              "IPY_MODEL_1bc7c5882a074337a9ba22a23d51dde0",
              "IPY_MODEL_a0af275c032e478eb44683f7a7ed0065",
              "IPY_MODEL_c8cf6b8c750d4a2baafc156ad0270405"
            ],
            "layout": "IPY_MODEL_1dee680fb0ce41839820b89ffa6dc00e"
          }
        },
        "1bc7c5882a074337a9ba22a23d51dde0": {
          "model_module": "@jupyter-widgets/controls",
          "model_name": "HTMLModel",
          "model_module_version": "1.5.0",
          "state": {
            "_dom_classes": [],
            "_model_module": "@jupyter-widgets/controls",
            "_model_module_version": "1.5.0",
            "_model_name": "HTMLModel",
            "_view_count": null,
            "_view_module": "@jupyter-widgets/controls",
            "_view_module_version": "1.5.0",
            "_view_name": "HTMLView",
            "description": "",
            "description_tooltip": null,
            "layout": "IPY_MODEL_c0b8e83d6a6b4b978872f10ccb0cb8ea",
            "placeholder": "​",
            "style": "IPY_MODEL_17d7069fab0b436589e84161dbc4f14d",
            "value": "100%"
          }
        },
        "a0af275c032e478eb44683f7a7ed0065": {
          "model_module": "@jupyter-widgets/controls",
          "model_name": "FloatProgressModel",
          "model_module_version": "1.5.0",
          "state": {
            "_dom_classes": [],
            "_model_module": "@jupyter-widgets/controls",
            "_model_module_version": "1.5.0",
            "_model_name": "FloatProgressModel",
            "_view_count": null,
            "_view_module": "@jupyter-widgets/controls",
            "_view_module_version": "1.5.0",
            "_view_name": "ProgressView",
            "bar_style": "success",
            "description": "",
            "description_tooltip": null,
            "layout": "IPY_MODEL_6b8506932f2949e78d0de6a8aac9c336",
            "max": 170498071,
            "min": 0,
            "orientation": "horizontal",
            "style": "IPY_MODEL_82dfb2dd14eb41c6baa14d9ef36113f0",
            "value": 170498071
          }
        },
        "c8cf6b8c750d4a2baafc156ad0270405": {
          "model_module": "@jupyter-widgets/controls",
          "model_name": "HTMLModel",
          "model_module_version": "1.5.0",
          "state": {
            "_dom_classes": [],
            "_model_module": "@jupyter-widgets/controls",
            "_model_module_version": "1.5.0",
            "_model_name": "HTMLModel",
            "_view_count": null,
            "_view_module": "@jupyter-widgets/controls",
            "_view_module_version": "1.5.0",
            "_view_name": "HTMLView",
            "description": "",
            "description_tooltip": null,
            "layout": "IPY_MODEL_b05687c4dd7b42d0a51c66fcd37a7a79",
            "placeholder": "​",
            "style": "IPY_MODEL_b3d2b1573eb74d899c9d07231b2ca742",
            "value": " 170498071/170498071 [00:05&lt;00:00, 32484750.25it/s]"
          }
        },
        "1dee680fb0ce41839820b89ffa6dc00e": {
          "model_module": "@jupyter-widgets/base",
          "model_name": "LayoutModel",
          "model_module_version": "1.2.0",
          "state": {
            "_model_module": "@jupyter-widgets/base",
            "_model_module_version": "1.2.0",
            "_model_name": "LayoutModel",
            "_view_count": null,
            "_view_module": "@jupyter-widgets/base",
            "_view_module_version": "1.2.0",
            "_view_name": "LayoutView",
            "align_content": null,
            "align_items": null,
            "align_self": null,
            "border": null,
            "bottom": null,
            "display": null,
            "flex": null,
            "flex_flow": null,
            "grid_area": null,
            "grid_auto_columns": null,
            "grid_auto_flow": null,
            "grid_auto_rows": null,
            "grid_column": null,
            "grid_gap": null,
            "grid_row": null,
            "grid_template_areas": null,
            "grid_template_columns": null,
            "grid_template_rows": null,
            "height": null,
            "justify_content": null,
            "justify_items": null,
            "left": null,
            "margin": null,
            "max_height": null,
            "max_width": null,
            "min_height": null,
            "min_width": null,
            "object_fit": null,
            "object_position": null,
            "order": null,
            "overflow": null,
            "overflow_x": null,
            "overflow_y": null,
            "padding": null,
            "right": null,
            "top": null,
            "visibility": null,
            "width": null
          }
        },
        "c0b8e83d6a6b4b978872f10ccb0cb8ea": {
          "model_module": "@jupyter-widgets/base",
          "model_name": "LayoutModel",
          "model_module_version": "1.2.0",
          "state": {
            "_model_module": "@jupyter-widgets/base",
            "_model_module_version": "1.2.0",
            "_model_name": "LayoutModel",
            "_view_count": null,
            "_view_module": "@jupyter-widgets/base",
            "_view_module_version": "1.2.0",
            "_view_name": "LayoutView",
            "align_content": null,
            "align_items": null,
            "align_self": null,
            "border": null,
            "bottom": null,
            "display": null,
            "flex": null,
            "flex_flow": null,
            "grid_area": null,
            "grid_auto_columns": null,
            "grid_auto_flow": null,
            "grid_auto_rows": null,
            "grid_column": null,
            "grid_gap": null,
            "grid_row": null,
            "grid_template_areas": null,
            "grid_template_columns": null,
            "grid_template_rows": null,
            "height": null,
            "justify_content": null,
            "justify_items": null,
            "left": null,
            "margin": null,
            "max_height": null,
            "max_width": null,
            "min_height": null,
            "min_width": null,
            "object_fit": null,
            "object_position": null,
            "order": null,
            "overflow": null,
            "overflow_x": null,
            "overflow_y": null,
            "padding": null,
            "right": null,
            "top": null,
            "visibility": null,
            "width": null
          }
        },
        "17d7069fab0b436589e84161dbc4f14d": {
          "model_module": "@jupyter-widgets/controls",
          "model_name": "DescriptionStyleModel",
          "model_module_version": "1.5.0",
          "state": {
            "_model_module": "@jupyter-widgets/controls",
            "_model_module_version": "1.5.0",
            "_model_name": "DescriptionStyleModel",
            "_view_count": null,
            "_view_module": "@jupyter-widgets/base",
            "_view_module_version": "1.2.0",
            "_view_name": "StyleView",
            "description_width": ""
          }
        },
        "6b8506932f2949e78d0de6a8aac9c336": {
          "model_module": "@jupyter-widgets/base",
          "model_name": "LayoutModel",
          "model_module_version": "1.2.0",
          "state": {
            "_model_module": "@jupyter-widgets/base",
            "_model_module_version": "1.2.0",
            "_model_name": "LayoutModel",
            "_view_count": null,
            "_view_module": "@jupyter-widgets/base",
            "_view_module_version": "1.2.0",
            "_view_name": "LayoutView",
            "align_content": null,
            "align_items": null,
            "align_self": null,
            "border": null,
            "bottom": null,
            "display": null,
            "flex": null,
            "flex_flow": null,
            "grid_area": null,
            "grid_auto_columns": null,
            "grid_auto_flow": null,
            "grid_auto_rows": null,
            "grid_column": null,
            "grid_gap": null,
            "grid_row": null,
            "grid_template_areas": null,
            "grid_template_columns": null,
            "grid_template_rows": null,
            "height": null,
            "justify_content": null,
            "justify_items": null,
            "left": null,
            "margin": null,
            "max_height": null,
            "max_width": null,
            "min_height": null,
            "min_width": null,
            "object_fit": null,
            "object_position": null,
            "order": null,
            "overflow": null,
            "overflow_x": null,
            "overflow_y": null,
            "padding": null,
            "right": null,
            "top": null,
            "visibility": null,
            "width": null
          }
        },
        "82dfb2dd14eb41c6baa14d9ef36113f0": {
          "model_module": "@jupyter-widgets/controls",
          "model_name": "ProgressStyleModel",
          "model_module_version": "1.5.0",
          "state": {
            "_model_module": "@jupyter-widgets/controls",
            "_model_module_version": "1.5.0",
            "_model_name": "ProgressStyleModel",
            "_view_count": null,
            "_view_module": "@jupyter-widgets/base",
            "_view_module_version": "1.2.0",
            "_view_name": "StyleView",
            "bar_color": null,
            "description_width": ""
          }
        },
        "b05687c4dd7b42d0a51c66fcd37a7a79": {
          "model_module": "@jupyter-widgets/base",
          "model_name": "LayoutModel",
          "model_module_version": "1.2.0",
          "state": {
            "_model_module": "@jupyter-widgets/base",
            "_model_module_version": "1.2.0",
            "_model_name": "LayoutModel",
            "_view_count": null,
            "_view_module": "@jupyter-widgets/base",
            "_view_module_version": "1.2.0",
            "_view_name": "LayoutView",
            "align_content": null,
            "align_items": null,
            "align_self": null,
            "border": null,
            "bottom": null,
            "display": null,
            "flex": null,
            "flex_flow": null,
            "grid_area": null,
            "grid_auto_columns": null,
            "grid_auto_flow": null,
            "grid_auto_rows": null,
            "grid_column": null,
            "grid_gap": null,
            "grid_row": null,
            "grid_template_areas": null,
            "grid_template_columns": null,
            "grid_template_rows": null,
            "height": null,
            "justify_content": null,
            "justify_items": null,
            "left": null,
            "margin": null,
            "max_height": null,
            "max_width": null,
            "min_height": null,
            "min_width": null,
            "object_fit": null,
            "object_position": null,
            "order": null,
            "overflow": null,
            "overflow_x": null,
            "overflow_y": null,
            "padding": null,
            "right": null,
            "top": null,
            "visibility": null,
            "width": null
          }
        },
        "b3d2b1573eb74d899c9d07231b2ca742": {
          "model_module": "@jupyter-widgets/controls",
          "model_name": "DescriptionStyleModel",
          "model_module_version": "1.5.0",
          "state": {
            "_model_module": "@jupyter-widgets/controls",
            "_model_module_version": "1.5.0",
            "_model_name": "DescriptionStyleModel",
            "_view_count": null,
            "_view_module": "@jupyter-widgets/base",
            "_view_module_version": "1.2.0",
            "_view_name": "StyleView",
            "description_width": ""
          }
        }
      }
    }
  },
  "cells": [
    {
      "cell_type": "markdown",
      "source": [
        "# Image classification\n",
        "We build a neural network for image classification. We use a dataset of small RGB images classified into 10 categories labeled from 0 to 9. Since we will train a dataset of 10000 images it is suggested to use a GPU."
      ],
      "metadata": {
        "id": "asG6-bWNUpx6"
      }
    },
    {
      "cell_type": "code",
      "source": [
        "from matplotlib import pyplot as plt\n",
        "import numpy as np\n",
        "import torch"
      ],
      "metadata": {
        "id": "Z83Mz2rNaI15"
      },
      "execution_count": null,
      "outputs": []
    },
    {
      "cell_type": "markdown",
      "source": [
        "## The CIFAR10 dataset\n",
        "CIFAR10 is a dataset of 50000 small RGB images of 32x32 pixels classified in 10 classes: airplane, automobile, bird, cat, deer, dog, frog, horse, ship, truck. The dataset can be downloaded using the datasets PyTorch module. "
      ],
      "metadata": {
        "id": "OnGywH_4Xno4"
      }
    },
    {
      "cell_type": "code",
      "execution_count": null,
      "metadata": {
        "colab": {
          "base_uri": "https://localhost:8080/",
          "height": 101,
          "referenced_widgets": [
            "7df1d4c8c5054476aa29d69832ee4319",
            "1bc7c5882a074337a9ba22a23d51dde0",
            "a0af275c032e478eb44683f7a7ed0065",
            "c8cf6b8c750d4a2baafc156ad0270405",
            "1dee680fb0ce41839820b89ffa6dc00e",
            "c0b8e83d6a6b4b978872f10ccb0cb8ea",
            "17d7069fab0b436589e84161dbc4f14d",
            "6b8506932f2949e78d0de6a8aac9c336",
            "82dfb2dd14eb41c6baa14d9ef36113f0",
            "b05687c4dd7b42d0a51c66fcd37a7a79",
            "b3d2b1573eb74d899c9d07231b2ca742"
          ]
        },
        "id": "J8a237ySTKCF",
        "outputId": "29b28dbf-e389-493e-a17a-be464b3f6baa"
      },
      "outputs": [
        {
          "output_type": "stream",
          "name": "stdout",
          "text": [
            "Downloading https://www.cs.toronto.edu/~kriz/cifar-10-python.tar.gz to data-unversioned/p1ch7/cifar-10-python.tar.gz\n"
          ]
        },
        {
          "output_type": "display_data",
          "data": {
            "text/plain": [
              "  0%|          | 0/170498071 [00:00<?, ?it/s]"
            ],
            "application/vnd.jupyter.widget-view+json": {
              "version_major": 2,
              "version_minor": 0,
              "model_id": "7df1d4c8c5054476aa29d69832ee4319"
            }
          },
          "metadata": {}
        },
        {
          "output_type": "stream",
          "name": "stdout",
          "text": [
            "Extracting data-unversioned/p1ch7/cifar-10-python.tar.gz to data-unversioned/p1ch7/\n",
            "Files already downloaded and verified\n"
          ]
        }
      ],
      "source": [
        "from torchvision import datasets\n",
        "data_path = 'data-unversioned/p1ch7/'\n",
        "cifar10 = datasets.CIFAR10(data_path, train=True, download=True)\n",
        "cifar10_val = datasets.CIFAR10(data_path, train=False, download=True)"
      ]
    },
    {
      "cell_type": "code",
      "source": [
        "class_names = ['airplane','automobile','bird','cat','deer',\n",
        "               'dog','frog','horse','ship','truck']"
      ],
      "metadata": {
        "id": "2LOkKV_JY5UA"
      },
      "execution_count": null,
      "outputs": []
    },
    {
      "cell_type": "markdown",
      "source": [
        "The dataset is composed of 50000 images"
      ],
      "metadata": {
        "id": "w_WOQLqvXnbw"
      }
    },
    {
      "cell_type": "code",
      "source": [
        "len(cifar10)"
      ],
      "metadata": {
        "colab": {
          "base_uri": "https://localhost:8080/"
        },
        "id": "YXBsntZyVmwP",
        "outputId": "a971e707-31b7-4308-f4d6-5af5af19ff40"
      },
      "execution_count": null,
      "outputs": [
        {
          "output_type": "execute_result",
          "data": {
            "text/plain": [
              "50000"
            ]
          },
          "metadata": {},
          "execution_count": 4
        }
      ]
    },
    {
      "cell_type": "code",
      "source": [
        "img, label = cifar10[99]\n",
        "img, label, class_names[label]"
      ],
      "metadata": {
        "colab": {
          "base_uri": "https://localhost:8080/"
        },
        "id": "RGu9L_BxXeOg",
        "outputId": "fb84b5a2-29f2-41be-9de8-142514eecfbb"
      },
      "execution_count": null,
      "outputs": [
        {
          "output_type": "execute_result",
          "data": {
            "text/plain": [
              "(<PIL.Image.Image image mode=RGB size=32x32 at 0x7FA75E0CC990>,\n",
              " 1,\n",
              " 'automobile')"
            ]
          },
          "metadata": {},
          "execution_count": 5
        }
      ]
    },
    {
      "cell_type": "code",
      "source": [
        "plt.imshow(img)"
      ],
      "metadata": {
        "colab": {
          "base_uri": "https://localhost:8080/",
          "height": 283
        },
        "id": "KJ_CkLrmYURn",
        "outputId": "5562f242-b59c-47ac-96b6-0793e53d9b5b"
      },
      "execution_count": null,
      "outputs": [
        {
          "output_type": "execute_result",
          "data": {
            "text/plain": [
              "<matplotlib.image.AxesImage at 0x7fa7d1f803d0>"
            ]
          },
          "metadata": {},
          "execution_count": 6
        },
        {
          "output_type": "display_data",
          "data": {
            "text/plain": [
              "<Figure size 432x288 with 1 Axes>"
            ],
            "image/png": "[encoded data removed]"
          },
          "metadata": {
            "needs_background": "light"
          }
        }
      ]
    },
    {
      "cell_type": "markdown",
      "source": [
        "We have to transform images into PyTorch tensors. PyTorch provides many transformations"
      ],
      "metadata": {
        "id": "IpLfRZ5cbiFW"
      }
    },
    {
      "cell_type": "code",
      "source": [
        "from torchvision import transforms\n",
        "dir(transforms)"
      ],
      "metadata": {
        "colab": {
          "base_uri": "https://localhost:8080/"
        },
        "id": "-wJT5JH4ZNh5",
        "outputId": "2e517b5f-cb78-48f0-9eca-913a1dcb374c"
      },
      "execution_count": null,
      "outputs": [
        {
          "output_type": "execute_result",
          "data": {
            "text/plain": [
              "['AugMix',\n",
              " 'AutoAugment',\n",
              " 'AutoAugmentPolicy',\n",
              " 'CenterCrop',\n",
              " 'ColorJitter',\n",
              " 'Compose',\n",
              " 'ConvertImageDtype',\n",
              " 'FiveCrop',\n",
              " 'GaussianBlur',\n",
              " 'Grayscale',\n",
              " 'InterpolationMode',\n",
              " 'Lambda',\n",
              " 'LinearTransformation',\n",
              " 'Normalize',\n",
              " 'PILToTensor',\n",
              " 'Pad',\n",
              " 'RandAugment',\n",
              " 'RandomAdjustSharpness',\n",
              " 'RandomAffine',\n",
              " 'RandomApply',\n",
              " 'RandomAutocontrast',\n",
              " 'RandomChoice',\n",
              " 'RandomCrop',\n",
              " 'RandomEqualize',\n",
              " 'RandomErasing',\n",
              " 'RandomGrayscale',\n",
              " 'RandomHorizontalFlip',\n",
              " 'RandomInvert',\n",
              " 'RandomOrder',\n",
              " 'RandomPerspective',\n",
              " 'RandomPosterize',\n",
              " 'RandomResizedCrop',\n",
              " 'RandomRotation',\n",
              " 'RandomSolarize',\n",
              " 'RandomVerticalFlip',\n",
              " 'Resize',\n",
              " 'TenCrop',\n",
              " 'ToPILImage',\n",
              " 'ToTensor',\n",
              " 'TrivialAugmentWide',\n",
              " '__builtins__',\n",
              " '__cached__',\n",
              " '__doc__',\n",
              " '__file__',\n",
              " '__loader__',\n",
              " '__name__',\n",
              " '__package__',\n",
              " '__path__',\n",
              " '__spec__',\n",
              " '_pil_constants',\n",
              " '_presets',\n",
              " 'autoaugment',\n",
              " 'functional',\n",
              " 'functional_pil',\n",
              " 'functional_tensor',\n",
              " 'transforms']"
            ]
          },
          "metadata": {},
          "execution_count": 7
        }
      ]
    },
    {
      "cell_type": "markdown",
      "source": [
        "We use the ToTensor() transformation to transform a PIL image into a PyTorch tensor- In our case the tensor is a 3D array of 3 channels, 32 rows (height) and 32 columns (width)"
      ],
      "metadata": {
        "id": "LD83_ioydAf4"
      }
    },
    {
      "cell_type": "code",
      "source": [
        "to_tensor = transforms.ToTensor()\n",
        "img_t = to_tensor(img)\n",
        "img_t.shape"
      ],
      "metadata": {
        "colab": {
          "base_uri": "https://localhost:8080/"
        },
        "id": "sGGfZJ9jbqhL",
        "outputId": "a529d006-959e-4105-bab0-a473a59d4308"
      },
      "execution_count": null,
      "outputs": [
        {
          "output_type": "execute_result",
          "data": {
            "text/plain": [
              "torch.Size([3, 32, 32])"
            ]
          },
          "metadata": {},
          "execution_count": 8
        }
      ]
    },
    {
      "cell_type": "markdown",
      "source": [
        "We can transform all the images in the dataset to tensor by passing the transform function"
      ],
      "metadata": {
        "id": "2Go1a3rzilOH"
      }
    },
    {
      "cell_type": "code",
      "source": [
        "tensor_cifar10 = datasets.CIFAR10(data_path, train=True, download=False, transform=transforms.ToTensor())"
      ],
      "metadata": {
        "id": "Pe_FjL9Kc76h"
      },
      "execution_count": null,
      "outputs": []
    },
    {
      "cell_type": "markdown",
      "source": [
        "Any element of the dataset is now a tensor"
      ],
      "metadata": {
        "id": "Lt-LjSPJjA04"
      }
    },
    {
      "cell_type": "code",
      "source": [
        "img_t, _ = tensor_cifar10[99]\n",
        "type(img_t)"
      ],
      "metadata": {
        "colab": {
          "base_uri": "https://localhost:8080/"
        },
        "id": "UJPzFzrpi5j3",
        "outputId": "0a2026f6-3cb7-408f-8ee8-90ff582ff422"
      },
      "execution_count": null,
      "outputs": [
        {
          "output_type": "execute_result",
          "data": {
            "text/plain": [
              "torch.Tensor"
            ]
          },
          "metadata": {},
          "execution_count": 10
        }
      ]
    },
    {
      "cell_type": "code",
      "source": [
        "img_t.shape, img_t.dtype"
      ],
      "metadata": {
        "colab": {
          "base_uri": "https://localhost:8080/"
        },
        "id": "WWpNaE6ejPyJ",
        "outputId": "1ae85bc6-ae6e-475c-bd43-a5b0a6fa2415"
      },
      "execution_count": null,
      "outputs": [
        {
          "output_type": "execute_result",
          "data": {
            "text/plain": [
              "(torch.Size([3, 32, 32]), torch.float32)"
            ]
          },
          "metadata": {},
          "execution_count": 11
        }
      ]
    },
    {
      "cell_type": "markdown",
      "source": [
        "Values in the tensor range from 0 to 1"
      ],
      "metadata": {
        "id": "oFEsJYxwj6eR"
      }
    },
    {
      "cell_type": "code",
      "source": [
        "img_t.min(), img_t.max()"
      ],
      "metadata": {
        "colab": {
          "base_uri": "https://localhost:8080/"
        },
        "id": "rwvPfJMnjcnh",
        "outputId": "2929393b-a65d-4092-be03-3bffc6f6a904"
      },
      "execution_count": null,
      "outputs": [
        {
          "output_type": "execute_result",
          "data": {
            "text/plain": [
              "(tensor(0.), tensor(1.))"
            ]
          },
          "metadata": {},
          "execution_count": 12
        }
      ]
    },
    {
      "cell_type": "markdown",
      "source": [
        "We can draw the image from the tensor by permuting the dimensions from (Channel x Height x Width) into (Height x Width x Channel) that is from (0, 1, 2) to (1, 2, 0)"
      ],
      "metadata": {
        "id": "hXFzZewKkMG0"
      }
    },
    {
      "cell_type": "code",
      "source": [
        "plt.imshow(img_t.permute(1, 2, 0))\n",
        "plt.show()"
      ],
      "metadata": {
        "colab": {
          "base_uri": "https://localhost:8080/",
          "height": 266
        },
        "id": "8kzXs6ODkAnQ",
        "outputId": "317ae9ae-7f1b-4d31-ac6f-189a59ebec9d"
      },
      "execution_count": null,
      "outputs": [
        {
          "output_type": "display_data",
          "data": {
            "text/plain": [
              "<Figure size 432x288 with 1 Axes>"
            ],
            "image/png": "[encoded data removed]"
          },
          "metadata": {
            "needs_background": "light"
          }
        }
      ]
    },
    {
      "cell_type": "markdown",
      "source": [
        "We want to normalize the values in the images. We can apply a transformation to all the images. In order to do that we build a batch from the CIFAR10 dataset by stacking all of them in a 4 dimensional tensor."
      ],
      "metadata": {
        "id": "XgmgeWe_l5Eh"
      }
    },
    {
      "cell_type": "code",
      "source": [
        "imgs = torch.stack([img_t for img_t, _ in tensor_cifar10], dim=3)\n",
        "imgs.shape"
      ],
      "metadata": {
        "colab": {
          "base_uri": "https://localhost:8080/"
        },
        "id": "RRxx_bLqkJGg",
        "outputId": "f69f16c9-18ad-42b2-f6f6-92596b37407d"
      },
      "execution_count": null,
      "outputs": [
        {
          "output_type": "execute_result",
          "data": {
            "text/plain": [
              "torch.Size([3, 32, 32, 50000])"
            ]
          },
          "metadata": {},
          "execution_count": 14
        }
      ]
    },
    {
      "cell_type": "markdown",
      "source": [
        "Now we can compute the mean for each channel"
      ],
      "metadata": {
        "id": "pJIZPNf6nZJi"
      }
    },
    {
      "cell_type": "code",
      "source": [
        "mean = imgs.view(3, -1).mean(dim=1)\n",
        "mean"
      ],
      "metadata": {
        "colab": {
          "base_uri": "https://localhost:8080/"
        },
        "id": "kv69wc14mfwR",
        "outputId": "5038cc61-c4fb-48db-b442-2d7c08cecc90"
      },
      "execution_count": null,
      "outputs": [
        {
          "output_type": "execute_result",
          "data": {
            "text/plain": [
              "tensor([0.4914, 0.4822, 0.4465])"
            ]
          },
          "metadata": {},
          "execution_count": 15
        }
      ]
    },
    {
      "cell_type": "markdown",
      "source": [
        "and the standard deviation"
      ],
      "metadata": {
        "id": "7ux8517MnkhK"
      }
    },
    {
      "cell_type": "code",
      "source": [
        "std = imgs.view(3, -1).std(dim=1)\n",
        "std"
      ],
      "metadata": {
        "colab": {
          "base_uri": "https://localhost:8080/"
        },
        "id": "EewQhUtQnWYh",
        "outputId": "2bded0ec-4728-4c25-80ae-ae333867bb3a"
      },
      "execution_count": null,
      "outputs": [
        {
          "output_type": "execute_result",
          "data": {
            "text/plain": [
              "tensor([0.2470, 0.2435, 0.2616])"
            ]
          },
          "metadata": {},
          "execution_count": 16
        }
      ]
    },
    {
      "cell_type": "code",
      "source": [
        "transforms.Normalize(mean, std)"
      ],
      "metadata": {
        "colab": {
          "base_uri": "https://localhost:8080/"
        },
        "id": "t08_hAHOnjUu",
        "outputId": "3fa08ae9-f626-44cd-8d3b-e7a42f1c25cd"
      },
      "execution_count": null,
      "outputs": [
        {
          "output_type": "execute_result",
          "data": {
            "text/plain": [
              "Normalize(mean=tensor([0.4914, 0.4822, 0.4465]), std=tensor([0.2470, 0.2435, 0.2616]))"
            ]
          },
          "metadata": {},
          "execution_count": 17
        }
      ]
    },
    {
      "cell_type": "markdown",
      "source": [
        "We apply the transformations to tensor and normalization in sequence"
      ],
      "metadata": {
        "id": "Xoh7YSKdo2Li"
      }
    },
    {
      "cell_type": "code",
      "source": [
        "transformed_cifar10 = datasets.CIFAR10(\n",
        "    data_path, train=True, download=False,\n",
        "    transform=transforms.Compose([\n",
        "        transforms.ToTensor(),\n",
        "        transforms.Normalize(mean, std)\n",
        "    ]))"
      ],
      "metadata": {
        "id": "mZgqXSbvoPH6"
      },
      "execution_count": null,
      "outputs": []
    },
    {
      "cell_type": "code",
      "source": [
        "transformed_cifar10_val = datasets.CIFAR10(\n",
        "    data_path, train=False, download=False,\n",
        "    transform=transforms.Compose([\n",
        "        transforms.ToTensor(),\n",
        "        transforms.Normalize(mean, std)\n",
        "    ]))"
      ],
      "metadata": {
        "id": "g1UfW9FeX5VA"
      },
      "execution_count": null,
      "outputs": []
    },
    {
      "cell_type": "markdown",
      "source": [
        "If we try to visualize a tensor as an image after the normalization the result will be different from what we had before"
      ],
      "metadata": {
        "id": "3u6YRwWEpH1j"
      }
    },
    {
      "cell_type": "code",
      "source": [
        "img_t, _ = transformed_cifar10[99]\n",
        "plt.imshow(img_t.permute(1, 2, 0))\n",
        "plt.show()"
      ],
      "metadata": {
        "colab": {
          "base_uri": "https://localhost:8080/",
          "height": 283
        },
        "id": "q0nAwj_Qov2q",
        "outputId": "b26391e6-445d-4985-c94a-45222ea86cdd"
      },
      "execution_count": null,
      "outputs": [
        {
          "output_type": "stream",
          "name": "stderr",
          "text": [
            "WARNING:matplotlib.image:Clipping input data to the valid range for imshow with RGB data ([0..1] for floats or [0..255] for integers).\n"
          ]
        },
        {
          "output_type": "display_data",
          "data": {
            "text/plain": [
              "<Figure size 432x288 with 1 Axes>"
            ],
            "image/png": "[encoded data removed]"
          },
          "metadata": {
            "needs_background": "light"
          }
        }
      ]
    },
    {
      "cell_type": "markdown",
      "source": [
        "## Building a classifier\n",
        "We want to build a classifier that can tell whether an image contains an airplane or a bird. We don't know any rule to make such distiction so we use a neural network to be trained using images of airplanes and birds. We can use a subset of the CIFAR10 dataset filtering out all the images that are not airplanes or birds. We use two Python list comprehensions to create the dataset for airplanes and birds"
      ],
      "metadata": {
        "id": "Dp4O1QQ9as7g"
      }
    },
    {
      "cell_type": "code",
      "source": [
        "label_map = {0: 0, 2: 1}\n",
        "class_names = ['airplane', 'bird']\n",
        "cifar2 = [(img, label_map[label]) for img, label in transformed_cifar10 if label in [0, 2]]\n",
        "cifar2_val = [(img, label_map[label]) for img, label in transformed_cifar10_val if label in [0, 2]]\n",
        "len(cifar2), len(cifar2_val)"
      ],
      "metadata": {
        "id": "ARrBuhptpFDR",
        "colab": {
          "base_uri": "https://localhost:8080/"
        },
        "outputId": "e9097163-0709-4db6-a428-12b9dac998c1"
      },
      "execution_count": null,
      "outputs": [
        {
          "output_type": "execute_result",
          "data": {
            "text/plain": [
              "(10000, 2000)"
            ]
          },
          "metadata": {},
          "execution_count": 51
        }
      ]
    },
    {
      "cell_type": "markdown",
      "source": [
        "We build a simple neural network with one input layer, one hidden layer with an activation function for the non-linearity, and the final output layer. Since the images have three channels of size 32x32 we need an input layer of 3x32x32=3072 units. We choose to connect each input unit to 512 units in the hidden layer and each of these to 2 output units to tell whether an image contains an airplane or a bird. The output of the units in the hidden layer is given by a linear transformation of the inputs followed by the application of an activation function. \n",
        "\n",
        "$$y = \\sigma(\\hat{W}\\vec{x} + \\vec{b})$$\n",
        "\n",
        "where $\\hat{W}$ is the 3x32x32x512 = 1.572.864 weights matrix that connects any unit of the input layer to any unit of the hidden layer, $\\vec{b}$ is the bias vector, and $\\sigma$ is the activation function computed at each unit of the hidden layer. The same holds also for the output layer."
      ],
      "metadata": {
        "id": "M9AoXwu6fh6P"
      }
    },
    {
      "cell_type": "code",
      "source": [
        "import torch.nn as nn\n",
        "num_input_units = 3072\n",
        "num_hidden_units = 512\n",
        "n_out = 2\n",
        "\n",
        "model = nn.Sequential(\n",
        "            nn.Linear(num_input_units, num_hidden_units),\n",
        "            nn.Tanh(),\n",
        "            nn.Linear(num_hidden_units, n_out)\n",
        "        )"
      ],
      "metadata": {
        "id": "d00Nv8idepAA"
      },
      "execution_count": null,
      "outputs": []
    },
    {
      "cell_type": "markdown",
      "source": [
        "We interpret the values returned from the output units as probabilities for an image to contain an airplane of a bird. In order to tell the class we need a function that takes two values from the output units and returns two probabilities in the interval [0, 1] whose sum is 1.0. If the first value is higher than 0.5 the image contains an airplane with that value as its probability. We use the softmax function $\\sigma(x)$ to map the values of the output units to probabilities\n",
        "\n",
        "$$\\sigma(x_i) = \\frac{e^{x_i}}{\\sum_{j = 1}^N e^{x_j}}$$\n",
        "\n",
        "where in our case N = 2. we can define the function and see how it works"
      ],
      "metadata": {
        "id": "2WvlAJM5mR78"
      }
    },
    {
      "cell_type": "code",
      "source": [
        "def softmax(x):\n",
        "  return torch.exp(x) / torch.exp(x).sum()"
      ],
      "metadata": {
        "id": "sQcXPj_Pg9V1"
      },
      "execution_count": null,
      "outputs": []
    },
    {
      "cell_type": "code",
      "source": [
        "x = torch.tensor([1.0, 2.0, 3.0])\n",
        "s = softmax(x)\n",
        "s"
      ],
      "metadata": {
        "colab": {
          "base_uri": "https://localhost:8080/"
        },
        "id": "FHmAqsiho-Sd",
        "outputId": "1202fb41-82b8-417b-8f9c-3a116666e3a2"
      },
      "execution_count": null,
      "outputs": [
        {
          "output_type": "execute_result",
          "data": {
            "text/plain": [
              "tensor([0.0900, 0.2447, 0.6652])"
            ]
          },
          "metadata": {},
          "execution_count": 24
        }
      ]
    },
    {
      "cell_type": "code",
      "source": [
        "s.sum()"
      ],
      "metadata": {
        "colab": {
          "base_uri": "https://localhost:8080/"
        },
        "id": "V_kJXS42JODW",
        "outputId": "ffaaddfb-2cd7-426a-9aa8-86357bc2b89d"
      },
      "execution_count": null,
      "outputs": [
        {
          "output_type": "execute_result",
          "data": {
            "text/plain": [
              "tensor(1.)"
            ]
          },
          "metadata": {},
          "execution_count": 25
        }
      ]
    },
    {
      "cell_type": "markdown",
      "source": [
        "The softmax function is available in the nn PyTorch module so we can add it to our model after the output layer. The softmax function will use the rows (axis 1) from the output units."
      ],
      "metadata": {
        "id": "QxS_njZeJkIb"
      }
    },
    {
      "cell_type": "code",
      "source": [
        "model = nn.Sequential(\n",
        "  nn.Linear(num_input_units, num_hidden_units),\n",
        "  nn.Tanh(),\n",
        "  nn.Linear(num_hidden_units, n_out),\n",
        "  nn.Softmax(dim=1))"
      ],
      "metadata": {
        "id": "iwIXMuCrJajl"
      },
      "execution_count": null,
      "outputs": []
    },
    {
      "cell_type": "markdown",
      "source": [
        "## Testing the model\n",
        "Now we have our neural network model. Before training the model on our dataset we want to be sure that everything works, that is if we send an image through it we will get a vector of two probabilities. The probabilities will not be correct but we should be able to see that the model is ready for the training. Since our images are represented as 3x32x32 tensors we have to transform them into one dimensional vectors that can be used as input for our model. "
      ],
      "metadata": {
        "id": "KKHFIDjnLLPK"
      }
    },
    {
      "cell_type": "code",
      "source": [
        "img, _ = cifar2[0]\n",
        "plt.imshow(img.permute(1, 2, 0))\n",
        "plt.show()"
      ],
      "metadata": {
        "colab": {
          "base_uri": "https://localhost:8080/",
          "height": 283
        },
        "id": "1GCvGJOBJ6nF",
        "outputId": "ee1c7857-5942-4fc7-8528-102c031848b2"
      },
      "execution_count": null,
      "outputs": [
        {
          "output_type": "stream",
          "name": "stderr",
          "text": [
            "WARNING:matplotlib.image:Clipping input data to the valid range for imshow with RGB data ([0..1] for floats or [0..255] for integers).\n"
          ]
        },
        {
          "output_type": "display_data",
          "data": {
            "text/plain": [
              "<Figure size 432x288 with 1 Axes>"
            ],
            "image/png": "[encoded data removed]"
          },
          "metadata": {
            "needs_background": "light"
          }
        }
      ]
    },
    {
      "cell_type": "code",
      "source": [
        "img_batch = img.view(-1).unsqueeze(0)\n",
        "img_batch.shape"
      ],
      "metadata": {
        "colab": {
          "base_uri": "https://localhost:8080/"
        },
        "id": "3tYqdzNmUnDo",
        "outputId": "9c13036d-62fa-4c87-88a5-e0976e9de41d"
      },
      "execution_count": null,
      "outputs": [
        {
          "output_type": "execute_result",
          "data": {
            "text/plain": [
              "torch.Size([1, 3072])"
            ]
          },
          "metadata": {},
          "execution_count": 28
        }
      ]
    },
    {
      "cell_type": "markdown",
      "source": [
        "### The likelihood\n",
        "Now we can see the output of the model when we use our image rerpresented as a one dimensional vector as input. The model output is called the likelihood of the image to contain an airplane or a bird."
      ],
      "metadata": {
        "id": "WVYKTZ4oZcLN"
      }
    },
    {
      "cell_type": "code",
      "source": [
        "out = model(img_batch)\n",
        "out"
      ],
      "metadata": {
        "colab": {
          "base_uri": "https://localhost:8080/"
        },
        "id": "tPotK5ASWpEq",
        "outputId": "c997aa7c-9b02-4dbc-dac8-8e37883b6f5a"
      },
      "execution_count": null,
      "outputs": [
        {
          "output_type": "execute_result",
          "data": {
            "text/plain": [
              "tensor([[0.5493, 0.4507]], grad_fn=<SoftmaxBackward0>)"
            ]
          },
          "metadata": {},
          "execution_count": 32
        }
      ]
    },
    {
      "cell_type": "code",
      "source": [
        "out.sum()"
      ],
      "metadata": {
        "colab": {
          "base_uri": "https://localhost:8080/"
        },
        "id": "Vs4a4TPHZt7w",
        "outputId": "b79d0427-8e1d-4537-9a76-d8a2ce61251a"
      },
      "execution_count": null,
      "outputs": [
        {
          "output_type": "execute_result",
          "data": {
            "text/plain": [
              "tensor(1., grad_fn=<SumBackward0>)"
            ]
          },
          "metadata": {},
          "execution_count": 33
        }
      ]
    },
    {
      "cell_type": "markdown",
      "source": [
        "Our model thinks it's a bird, as it assigns the highest probability to the 2nd vector element, and it's correct but only as a random guess since our model is not trained and its parameters are randomly initialized. We can get the index of the highest probability (argmax) using the max() function"
      ],
      "metadata": {
        "id": "lwzQw4FdaBYr"
      }
    },
    {
      "cell_type": "code",
      "source": [
        "_, index = torch.max(out, dim=1)"
      ],
      "metadata": {
        "id": "6IxZS0-qZwKK"
      },
      "execution_count": null,
      "outputs": []
    },
    {
      "cell_type": "code",
      "source": [
        "class_names[index]\n"
      ],
      "metadata": {
        "colab": {
          "base_uri": "https://localhost:8080/",
          "height": 36
        },
        "id": "mUFjb8Tpaqwe",
        "outputId": "5e42d523-6850-4ac5-c164-1e688dfe692a"
      },
      "execution_count": null,
      "outputs": [
        {
          "output_type": "execute_result",
          "data": {
            "text/plain": [
              "'airplane'"
            ],
            "application/vnd.google.colaboratory.intrinsic+json": {
              "type": "string"
            }
          },
          "metadata": {},
          "execution_count": 35
        }
      ]
    },
    {
      "cell_type": "markdown",
      "source": [
        "### The loss function\n",
        "So far we have used the mean square error (MSE) for the loss function to be minimized. Now we will use the negative log likelihood (NLL) since it works better for classification tasks than MSE. The negative log likelihood (NLL) returns a lower value when the likelihood is high and a higher value (higher loss) when the likelihood is low. Since the loss function is used for the training we change the output layer to use the logarithm of the softmax in the model instead of just the softmax."
      ],
      "metadata": {
        "id": "LfXw0enctU-0"
      }
    },
    {
      "cell_type": "code",
      "source": [
        "model = nn.Sequential(\n",
        "  nn.Linear(num_input_units, num_hidden_units),\n",
        "  nn.Tanh(),\n",
        "  nn.Linear(num_hidden_units, n_out),\n",
        "  nn.LogSoftmax(dim=1))"
      ],
      "metadata": {
        "id": "j_AfCwiHbWp9"
      },
      "execution_count": null,
      "outputs": []
    },
    {
      "cell_type": "code",
      "source": [
        "loss = nn.NLLLoss()"
      ],
      "metadata": {
        "id": "ktIVa9bWwueP"
      },
      "execution_count": null,
      "outputs": []
    },
    {
      "cell_type": "markdown",
      "source": [
        "We compute the output of the model for the same image and the associated loss "
      ],
      "metadata": {
        "id": "xnEtS2sExjor"
      }
    },
    {
      "cell_type": "code",
      "source": [
        "img, label = cifar2[0]\n",
        "out = model(img.view(-1).unsqueeze(0))\n",
        "_, index = torch.max(out, dim=1)\n",
        "label, class_names[index], loss(out, torch.tensor([label]))"
      ],
      "metadata": {
        "colab": {
          "base_uri": "https://localhost:8080/"
        },
        "id": "URwyB6K0wPxV",
        "outputId": "4c75a4a8-e415-47e6-9e33-672cb7d1d055"
      },
      "execution_count": null,
      "outputs": [
        {
          "output_type": "execute_result",
          "data": {
            "text/plain": [
              "(1, 'bird', tensor(0.6488, grad_fn=<NllLossBackward0>))"
            ]
          },
          "metadata": {},
          "execution_count": 38
        }
      ]
    },
    {
      "cell_type": "markdown",
      "source": [
        "### The DataLoader\n",
        "Now that the model and the loss function are defined we can use the data to train it. We might set up a training loop for which we update the model parameters with any single image but the procedure will not have any improvement by using a GPU. We can use the PyTorch DataLoader class to create batches of images taken randomly from the dataset. For example we will create batches (tensors) of size 64x3x32x32. This procedure will make use of the GPU and will improve the performance of the training task."
      ],
      "metadata": {
        "id": "ze4eJa1Nr3MF"
      }
    },
    {
      "cell_type": "code",
      "source": [
        "train_loader = torch.utils.data.DataLoader(cifar2, batch_size=64, shuffle=True)"
      ],
      "metadata": {
        "id": "Bx8gasxCtvHF"
      },
      "execution_count": null,
      "outputs": []
    },
    {
      "cell_type": "code",
      "source": [
        "import torch.optim as optim\n",
        "\n",
        "learning_rate = 1e-2\n",
        "\n",
        "optimizer = optim.SGD(model.parameters(), lr=learning_rate)\n",
        "loss_fn = nn.NLLLoss()\n",
        "\n",
        "n_epochs = 100\n",
        "loss_list = []\n",
        "for epoch in range(n_epochs):\n",
        "    for imgs, labels in train_loader:\n",
        "        outputs = model(imgs.view(imgs.shape[0], -1))\n",
        "        loss = loss_fn(outputs, labels)\n",
        "        \n",
        "        optimizer.zero_grad()\n",
        "        loss.backward()\n",
        "        optimizer.step()\n",
        "\n",
        "    loss_list.append(float(loss))\n",
        "    print(\"Epoch: %d, Loss: %f\" % (epoch, float(loss)))"
      ],
      "metadata": {
        "colab": {
          "base_uri": "https://localhost:8080/"
        },
        "id": "GDHplSpwzQhF",
        "outputId": "8f5f1738-428b-472e-b617-b359b91301ed"
      },
      "execution_count": null,
      "outputs": [
        {
          "output_type": "stream",
          "name": "stdout",
          "text": [
            "Epoch: 0, Loss: 0.000962\n",
            "Epoch: 1, Loss: 0.000917\n",
            "Epoch: 2, Loss: 0.001642\n",
            "Epoch: 3, Loss: 0.002132\n",
            "Epoch: 4, Loss: 0.001484\n",
            "Epoch: 5, Loss: 0.002653\n",
            "Epoch: 6, Loss: 0.001539\n",
            "Epoch: 7, Loss: 0.003492\n",
            "Epoch: 8, Loss: 0.000847\n",
            "Epoch: 9, Loss: 0.002073\n",
            "Epoch: 10, Loss: 0.000759\n",
            "Epoch: 11, Loss: 0.001338\n",
            "Epoch: 12, Loss: 0.001858\n",
            "Epoch: 13, Loss: 0.002894\n",
            "Epoch: 14, Loss: 0.002263\n",
            "Epoch: 15, Loss: 0.001724\n",
            "Epoch: 16, Loss: 0.001499\n",
            "Epoch: 17, Loss: 0.001522\n",
            "Epoch: 18, Loss: 0.001828\n",
            "Epoch: 19, Loss: 0.000643\n",
            "Epoch: 20, Loss: 0.000809\n",
            "Epoch: 21, Loss: 0.001566\n",
            "Epoch: 22, Loss: 0.001255\n",
            "Epoch: 23, Loss: 0.001284\n",
            "Epoch: 24, Loss: 0.002933\n",
            "Epoch: 25, Loss: 0.001497\n",
            "Epoch: 26, Loss: 0.001044\n",
            "Epoch: 27, Loss: 0.002121\n",
            "Epoch: 28, Loss: 0.007567\n",
            "Epoch: 29, Loss: 0.002191\n",
            "Epoch: 30, Loss: 0.002026\n",
            "Epoch: 31, Loss: 0.000923\n",
            "Epoch: 32, Loss: 0.000584\n",
            "Epoch: 33, Loss: 0.001224\n",
            "Epoch: 34, Loss: 0.002666\n",
            "Epoch: 35, Loss: 0.001126\n",
            "Epoch: 36, Loss: 0.000708\n",
            "Epoch: 37, Loss: 0.002302\n",
            "Epoch: 38, Loss: 0.000860\n",
            "Epoch: 39, Loss: 0.003555\n",
            "Epoch: 40, Loss: 0.002658\n",
            "Epoch: 41, Loss: 0.000809\n",
            "Epoch: 42, Loss: 0.001136\n",
            "Epoch: 43, Loss: 0.000744\n",
            "Epoch: 44, Loss: 0.000338\n",
            "Epoch: 45, Loss: 0.002113\n",
            "Epoch: 46, Loss: 0.000411\n",
            "Epoch: 47, Loss: 0.001564\n",
            "Epoch: 48, Loss: 0.001517\n",
            "Epoch: 49, Loss: 0.001398\n",
            "Epoch: 50, Loss: 0.001064\n",
            "Epoch: 51, Loss: 0.001942\n",
            "Epoch: 52, Loss: 0.001799\n",
            "Epoch: 53, Loss: 0.002114\n",
            "Epoch: 54, Loss: 0.001253\n",
            "Epoch: 55, Loss: 0.001430\n",
            "Epoch: 56, Loss: 0.004382\n",
            "Epoch: 57, Loss: 0.000483\n",
            "Epoch: 58, Loss: 0.001547\n",
            "Epoch: 59, Loss: 0.002471\n",
            "Epoch: 60, Loss: 0.001431\n",
            "Epoch: 61, Loss: 0.001492\n",
            "Epoch: 62, Loss: 0.003345\n",
            "Epoch: 63, Loss: 0.000662\n",
            "Epoch: 64, Loss: 0.000901\n",
            "Epoch: 65, Loss: 0.000830\n",
            "Epoch: 66, Loss: 0.000876\n",
            "Epoch: 67, Loss: 0.001063\n",
            "Epoch: 68, Loss: 0.002042\n",
            "Epoch: 69, Loss: 0.001144\n",
            "Epoch: 70, Loss: 0.001070\n",
            "Epoch: 71, Loss: 0.000861\n",
            "Epoch: 72, Loss: 0.002489\n",
            "Epoch: 73, Loss: 0.001208\n",
            "Epoch: 74, Loss: 0.002740\n",
            "Epoch: 75, Loss: 0.001937\n",
            "Epoch: 76, Loss: 0.003072\n",
            "Epoch: 77, Loss: 0.002467\n",
            "Epoch: 78, Loss: 0.001657\n",
            "Epoch: 79, Loss: 0.001240\n",
            "Epoch: 80, Loss: 0.002235\n",
            "Epoch: 81, Loss: 0.001323\n",
            "Epoch: 82, Loss: 0.001453\n",
            "Epoch: 83, Loss: 0.000830\n",
            "Epoch: 84, Loss: 0.001127\n",
            "Epoch: 85, Loss: 0.000857\n",
            "Epoch: 86, Loss: 0.004696\n",
            "Epoch: 87, Loss: 0.001008\n",
            "Epoch: 88, Loss: 0.001711\n",
            "Epoch: 89, Loss: 0.000548\n",
            "Epoch: 90, Loss: 0.001118\n",
            "Epoch: 91, Loss: 0.000373\n",
            "Epoch: 92, Loss: 0.000795\n",
            "Epoch: 93, Loss: 0.000829\n",
            "Epoch: 94, Loss: 0.001298\n",
            "Epoch: 95, Loss: 0.000811\n",
            "Epoch: 96, Loss: 0.000844\n",
            "Epoch: 97, Loss: 0.000370\n",
            "Epoch: 98, Loss: 0.001275\n",
            "Epoch: 99, Loss: 0.000724\n"
          ]
        }
      ]
    },
    {
      "cell_type": "code",
      "source": [
        "from matplotlib import pyplot as plt\n",
        "epochs = range(n_epochs)\n",
        "plt.xlabel('Epoch')\n",
        "plt.ylabel('Loss');\n",
        "plt.plot(epochs, loss_list)"
      ],
      "metadata": {
        "colab": {
          "base_uri": "https://localhost:8080/",
          "height": 296
        },
        "id": "1UGK6wyE7oUO",
        "outputId": "1e758c28-a38a-4173-c9ea-887217417f0e"
      },
      "execution_count": null,
      "outputs": [
        {
          "output_type": "execute_result",
          "data": {
            "text/plain": [
              "[<matplotlib.lines.Line2D at 0x7fa73c8eadd0>]"
            ]
          },
          "metadata": {},
          "execution_count": 80
        },
        {
          "output_type": "display_data",
          "data": {
            "text/plain": [
              "<Figure size 432x288 with 1 Axes>"
            ],
            "image/png": "[encoded data removed]"
          },
          "metadata": {
            "needs_background": "light"
          }
        }
      ]
    },
    {
      "cell_type": "markdown",
      "source": [
        "### Accuracy\n",
        "We can compute the accuracy of the model by counting the number of images in the validation set that are missclassified. "
      ],
      "metadata": {
        "id": "2F8Gv03X6QTp"
      }
    },
    {
      "cell_type": "code",
      "source": [
        "val_loader = torch.utils.data.DataLoader(cifar2_val, batch_size=64, shuffle=False)\n",
        "\n",
        "correct = 0\n",
        "total = 0\n",
        "\n",
        "with torch.no_grad():\n",
        "  for imgs, labels in val_loader:\n",
        "    batch_size = imgs.shape[0]\n",
        "    outputs = model(imgs.view(batch_size, -1))\n",
        "    _, predicted = torch.max(outputs, dim=1)\n",
        "    total += labels.shape[0]\n",
        "    correct += int((predicted == labels).sum())\n",
        "  print(\"Accuracy: %f\"%(correct / total))"
      ],
      "metadata": {
        "colab": {
          "base_uri": "https://localhost:8080/"
        },
        "id": "bvBY4ovWzxou",
        "outputId": "fa74bd58-56c4-4255-9858-25318593a297"
      },
      "execution_count": null,
      "outputs": [
        {
          "output_type": "stream",
          "name": "stdout",
          "text": [
            "Accuracy: 0.815000\n"
          ]
        }
      ]
    },
    {
      "cell_type": "markdown",
      "source": [
        "### Number of model parameters\n",
        "We can compute the number of parameters in each layer and so the total number of parameters in our model."
      ],
      "metadata": {
        "id": "fWkNwS2F6kto"
      }
    },
    {
      "cell_type": "code",
      "source": [
        "numel_list = [p.numel() for p in model.parameters() if p.requires_grad == True]\n",
        "sum(numel_list), numel_list"
      ],
      "metadata": {
        "colab": {
          "base_uri": "https://localhost:8080/"
        },
        "id": "W7ELqg9Q4BY5",
        "outputId": "de9f1313-6cdc-456e-aa7e-bcbbe73b4335"
      },
      "execution_count": null,
      "outputs": [
        {
          "output_type": "execute_result",
          "data": {
            "text/plain": [
              "(1574402, [1572864, 512, 1024, 2])"
            ]
          },
          "metadata": {},
          "execution_count": 54
        }
      ]
    },
    {
      "cell_type": "markdown",
      "source": [
        "### Issues with a fully connected neural network\n",
        "There are two problem in using a fully connected neural network. One problem is that the network does not scale well with the size of the image. The second problem is that the network is not translation invariant: the same object translated in a different position is treated like a different one so the network is less efficient."
      ],
      "metadata": {
        "id": "Sah5qlsODTTK"
      }
    },
    {
      "cell_type": "code",
      "source": [],
      "metadata": {
        "id": "P234jCa86HsB"
      },
      "execution_count": null,
      "outputs": []
    }
  ]
}