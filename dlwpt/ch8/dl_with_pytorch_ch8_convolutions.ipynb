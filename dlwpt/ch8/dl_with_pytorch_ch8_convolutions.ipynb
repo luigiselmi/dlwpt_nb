{
  "cells": [
    {
      "cell_type": "markdown",
      "metadata": {
        "id": "eGQ53o5XYz4X"
      },
      "source": [
        "# Convolutions\n",
        "In the last notebook we built a a fully connected neural network to classify RGB images of 32x32 pixels. In a fully connected network any unit of a layer is connected to all the units in the next layer. We saw that there are two problems with that network. One problem is that the network does not scale well with the size of the image. The second problem is that the network is not translation invariant: the same object translated in a different position is treated like a different one so the network is less efficient. A solution to this second problem would be data augmentation, applying affine transformation to the image to have a larger training dataset, but the first problem could not be addressed. The solution is to connect the units that are spatially related, such as the nearest neighbors. This solution can solve both problems since the number of parameters to be learnt would be less and the size of the image would not be a problem since for each pixel only those that are close would be used. A convolution is a linear operation that is applied to a set of neighboring units and returns a value. A convolution has a kernel, a number of input channels and output channels. For instance, when dealing with RGB images, a convolution layer has 3 input channels, a kernel whose size can be 3x3, and a number of output channels, e.g. 16. The output channels may be used to detect different kind of features in the images. The size of the weight tensor that represent our convolution would be \n",
        "\n",
        "input_channels x kernel_size x output_channels = 3 x (3 x 3) x 16\n",
        "\n",
        "We have also to add the bias parameters, one for each output channel. "
      ]
    },
    {
      "cell_type": "code",
      "execution_count": null,
      "metadata": {
        "id": "KEtQysKOkSSK"
      },
      "outputs": [],
      "source": [
        "%matplotlib inline\n",
        "from matplotlib import pyplot as plt\n",
        "import numpy as np\n",
        "import collections\n",
        "\n",
        "import torch\n",
        "import torch.nn as nn\n",
        "import torch.nn.functional as F\n",
        "import torch.optim as optim\n",
        "from torchvision import transforms"
      ]
    },
    {
      "cell_type": "markdown",
      "metadata": {
        "id": "kA3PS4aXB8W2"
      },
      "source": [
        "In order to see all this in action we will download the CIFAR10 datasets, that contains 50000 RGB 32x32 images. We will also apply two transformations, one to change the images into PyTorch tensors and one to normalize the pixels value."
      ]
    },
    {
      "cell_type": "code",
      "execution_count": null,
      "metadata": {
        "colab": {
          "base_uri": "https://localhost:8080/",
          "height": 101,
          "referenced_widgets": [
            "7d29d763b0124d7b9ddaa23e29fb829b",
            "7617cea5960d4a9ba0df2b135004b1b4",
            "668f64ce4d5147e2a8dbf32f0134d173",
            "6f30e07b8d8c49c6a9e4d329413711c2",
            "dc30031155004471801ab53a80b0e394",
            "c5d81736b127457f9c05210e22cbbd6c",
            "e2f7f65b15ac485e8d321a6a0968650e",
            "cf24c29dfd5d4714ad2c84deddd34892",
            "078b96a074f6483a91af6182b9288053",
            "f0e64be9b3c340f28f84d6e257813ca6",
            "d11a69c5aaa64c3d9db59ccea24c3d5a"
          ]
        },
        "id": "UlsfM3ApBBkG",
        "outputId": "a5a0d2bd-f994-476f-c6d6-1002b5fcbeae"
      },
      "outputs": [
        {
          "name": "stdout",
          "output_type": "stream",
          "text": [
            "Downloading https://www.cs.toronto.edu/~kriz/cifar-10-python.tar.gz to data-unversioned/p1ch8/cifar-10-python.tar.gz\n"
          ]
        },
        {
          "data": {
            "application/vnd.jupyter.widget-view+json": {
              "model_id": "7d29d763b0124d7b9ddaa23e29fb829b",
              "version_major": 2,
              "version_minor": 0
            },
            "text/plain": [
              "  0%|          | 0/170498071 [00:00<?, ?it/s]"
            ]
          },
          "metadata": {},
          "output_type": "display_data"
        },
        {
          "name": "stdout",
          "output_type": "stream",
          "text": [
            "Extracting data-unversioned/p1ch8/cifar-10-python.tar.gz to data-unversioned/p1ch8/\n",
            "Files already downloaded and verified\n"
          ]
        }
      ],
      "source": [
        "from torchvision import datasets\n",
        "data_path = 'data-unversioned/p1ch8/'\n",
        "cifar10 = datasets.CIFAR10(data_path, train=True, download=True)\n",
        "cifar10_val = datasets.CIFAR10(data_path, train=False, download=True)"
      ]
    },
    {
      "cell_type": "markdown",
      "metadata": {
        "id": "4GH6Ag9AMJWs"
      },
      "source": [
        "In order to normalize the data we have to compute the mean and the standard deviation"
      ]
    },
    {
      "cell_type": "code",
      "execution_count": null,
      "metadata": {
        "id": "BfokXFRjnzsG"
      },
      "outputs": [],
      "source": [
        "tensor_cifar10 = datasets.CIFAR10(data_path, train=True, download=False, transform=transforms.ToTensor())"
      ]
    },
    {
      "cell_type": "code",
      "execution_count": null,
      "metadata": {
        "colab": {
          "base_uri": "https://localhost:8080/"
        },
        "id": "o7cA2RckoPLd",
        "outputId": "acb20478-c968-451f-ee50-d6b5d4e11336"
      },
      "outputs": [
        {
          "data": {
            "text/plain": [
              "torch.Size([3, 32, 32, 50000])"
            ]
          },
          "execution_count": 4,
          "metadata": {},
          "output_type": "execute_result"
        }
      ],
      "source": [
        "imgs = torch.stack([img_t for img_t, _ in tensor_cifar10], dim=3)\n",
        "imgs.shape"
      ]
    },
    {
      "cell_type": "code",
      "execution_count": null,
      "metadata": {
        "colab": {
          "base_uri": "https://localhost:8080/"
        },
        "id": "R4OseAujoao1",
        "outputId": "3514ee3d-b439-48c6-d4c3-eafbcb8a8015"
      },
      "outputs": [
        {
          "data": {
            "text/plain": [
              "tensor([0.4914, 0.4822, 0.4465])"
            ]
          },
          "execution_count": 5,
          "metadata": {},
          "output_type": "execute_result"
        }
      ],
      "source": [
        "mean = imgs.view(3, -1).mean(dim=1)\n",
        "mean"
      ]
    },
    {
      "cell_type": "code",
      "execution_count": null,
      "metadata": {
        "colab": {
          "base_uri": "https://localhost:8080/"
        },
        "id": "j1r8U8mhohuK",
        "outputId": "96dc0351-bf8b-4771-c7fe-1dbc45811d4a"
      },
      "outputs": [
        {
          "data": {
            "text/plain": [
              "tensor([0.2470, 0.2435, 0.2616])"
            ]
          },
          "execution_count": 6,
          "metadata": {},
          "output_type": "execute_result"
        }
      ],
      "source": [
        "std = imgs.view(3, -1).std(dim=1)\n",
        "std"
      ]
    },
    {
      "cell_type": "markdown",
      "metadata": {
        "id": "ZRarWF-lMWAy"
      },
      "source": [
        "Now we can transform rhe images into Python tensors and to normalize the pixels value"
      ]
    },
    {
      "cell_type": "code",
      "execution_count": null,
      "metadata": {
        "id": "JEzEWreRowBb"
      },
      "outputs": [],
      "source": [
        "transformed_cifar10 = datasets.CIFAR10(\n",
        "    data_path, train=True, download=False,\n",
        "    transform=transforms.Compose([\n",
        "        transforms.ToTensor(),\n",
        "        transforms.Normalize(mean, std)\n",
        "    ]))"
      ]
    },
    {
      "cell_type": "code",
      "execution_count": null,
      "metadata": {
        "id": "51Uex9ydo666"
      },
      "outputs": [],
      "source": [
        "transformed_cifar10_val = datasets.CIFAR10(\n",
        "    data_path, train=False, download=False,\n",
        "    transform=transforms.Compose([\n",
        "        transforms.ToTensor(),\n",
        "        transforms.Normalize(mean, std)\n",
        "    ]))"
      ]
    },
    {
      "cell_type": "code",
      "execution_count": null,
      "metadata": {
        "id": "I9c7FTX2kSSj"
      },
      "outputs": [],
      "source": [
        "class_names = ['airplane','automobile','bird','cat','deer',\n",
        "               'dog','frog','horse','ship','truck']"
      ]
    },
    {
      "cell_type": "markdown",
      "metadata": {
        "id": "YXrT5GbDMoRr"
      },
      "source": [
        "Now we filter the data to use only the images that represent airplanes or birds"
      ]
    },
    {
      "cell_type": "code",
      "execution_count": null,
      "metadata": {
        "colab": {
          "base_uri": "https://localhost:8080/"
        },
        "id": "lmNpd_bzkSS6",
        "outputId": "7fd99e6c-00e4-46dd-e002-da14e5817eac"
      },
      "outputs": [
        {
          "data": {
            "text/plain": [
              "(10000, 2000)"
            ]
          },
          "execution_count": 10,
          "metadata": {},
          "output_type": "execute_result"
        }
      ],
      "source": [
        "label_map = {0: 0, 2: 1}\n",
        "class_names = ['airplane', 'bird']\n",
        "cifar2 = [(img, label_map[label]) for img, label in transformed_cifar10 if label in [0, 2]]\n",
        "cifar2_val = [(img, label_map[label]) for img, label in transformed_cifar10_val if label in [0, 2]]\n",
        "len(cifar2), len(cifar2_val)"
      ]
    },
    {
      "cell_type": "markdown",
      "metadata": {
        "id": "PQQK4QttNGL9"
      },
      "source": [
        "As said in the introduction, a convolution is a linear transformation that is applied to an image. The transformation is implemented as a matrix whose parameters is given as a product of input_channel x kernel_size x output_channel. The number of parameters to be learnt are much less than for a fully connected network and does not depend on the size of the input images. We add a padding=1 so that the convolution can be applied also to the pixel on the border of the image. The size of each output feature (channel) for each dimension, i.e. height and width, is given by the formula (see ref.1)\n",
        "\n",
        "$$n_{output} = \\frac{n_{input} + 2p - f}{s} + 1$$\n",
        "\n",
        "where $n_{input}$ is the height (width) of the input image (e.g. 32), p is the padding (e.g. p = 1), f is the kernel size (e.g. 3), and s is the stride or step, that is the number of pixels the kernel is shifted horizontally (vertically). "
      ]
    },
    {
      "cell_type": "code",
      "execution_count": null,
      "metadata": {
        "colab": {
          "base_uri": "https://localhost:8080/"
        },
        "id": "CZmtX0reqjxA",
        "outputId": "96dfb725-6a41-4045-97d7-8b15e97d59b1"
      },
      "outputs": [
        {
          "data": {
            "text/plain": [
              "Conv2d(3, 16, kernel_size=(3, 3), stride=(1, 1), padding=(1, 1))"
            ]
          },
          "execution_count": 11,
          "metadata": {},
          "output_type": "execute_result"
        }
      ],
      "source": [
        "input_channels = 3\n",
        "output_channels = 16\n",
        "kernel_size = 3\n",
        "conv = nn.Conv2d(input_channels, output_channels, kernel_size=kernel_size, padding=1)\n",
        "conv"
      ]
    },
    {
      "cell_type": "code",
      "execution_count": null,
      "metadata": {
        "colab": {
          "base_uri": "https://localhost:8080/"
        },
        "id": "XuoxsfS6rPBT",
        "outputId": "d37b9a06-1b1d-4bb0-eee7-f5c05c907393"
      },
      "outputs": [
        {
          "data": {
            "text/plain": [
              "(torch.Size([16, 3, 3, 3]), torch.Size([16]))"
            ]
          },
          "execution_count": 12,
          "metadata": {},
          "output_type": "execute_result"
        }
      ],
      "source": [
        "conv.weight.shape, conv.bias.shape"
      ]
    },
    {
      "cell_type": "markdown",
      "metadata": {
        "id": "5DUO9LJbPyWD"
      },
      "source": [
        "We can apply the convolution to an image (a tensor that represents an image). The output is a new tensor with 16 channels and a size of 32x32 pixels, the same size of the input images."
      ]
    },
    {
      "cell_type": "code",
      "execution_count": null,
      "metadata": {
        "colab": {
          "base_uri": "https://localhost:8080/"
        },
        "id": "UPDU5LSIrx04",
        "outputId": "f995a8f7-28df-42bd-91c8-a00ab33a4d8b"
      },
      "outputs": [
        {
          "data": {
            "text/plain": [
              "(torch.Size([1, 3, 32, 32]), torch.Size([1, 16, 32, 32]))"
            ]
          },
          "execution_count": 13,
          "metadata": {},
          "output_type": "execute_result"
        }
      ],
      "source": [
        "img, _ = cifar2[0]\n",
        "output = conv(img.unsqueeze(0))\n",
        "img.unsqueeze(0).shape, output.shape"
      ]
    },
    {
      "cell_type": "markdown",
      "metadata": {
        "id": "hq42iAuwQr7K"
      },
      "source": [
        "We can draw one of the output channels"
      ]
    },
    {
      "cell_type": "code",
      "execution_count": null,
      "metadata": {
        "colab": {
          "base_uri": "https://localhost:8080/",
          "height": 266
        },
        "id": "fWplTrr1r9J_",
        "outputId": "3bdd28bc-9fae-4d8e-88b7-90522c13cc1a"
      },
      "outputs": [
        {
          "data": {
            "image/png": "[encoded data removed]",
            "text/plain": [
              "<Figure size 432x288 with 1 Axes>"
            ]
          },
          "metadata": {},
          "output_type": "display_data"
        }
      ],
      "source": [
        "plt.imshow(output[0, 0].detach(), cmap='gray')\n",
        "plt.show()"
      ]
    },
    {
      "cell_type": "markdown",
      "metadata": {
        "id": "0ZSMLXc5tyOp"
      },
      "source": [
        "## Testing a convolution\n",
        "We have built the structure of our convolution but we still have to define it. For instance we want our convolution to compute the mean of the 3x3 pixels that are adjacent of any pixel in our images. We set the bias to zero to simplify the convolution. As we can see, and as expected, the convolution produces a blurred version of the image."
      ]
    },
    {
      "cell_type": "code",
      "execution_count": null,
      "metadata": {
        "id": "o-Jmxri8kSUG"
      },
      "outputs": [],
      "source": [
        "with torch.no_grad():\n",
        "    conv.bias.zero_()\n",
        "    \n",
        "with torch.no_grad():\n",
        "    conv.weight.fill_(1.0 / 9.0)"
      ]
    },
    {
      "cell_type": "code",
      "execution_count": null,
      "metadata": {
        "id": "eFhrjOR-kSUI"
      },
      "outputs": [],
      "source": [
        "output = conv(img.unsqueeze(0))"
      ]
    },
    {
      "cell_type": "code",
      "execution_count": null,
      "metadata": {
        "id": "VEQ2Ia9dJ2Cl"
      },
      "outputs": [],
      "source": [
        "def plot_convolution(img, output):\n",
        "  plt.figure(figsize=(10, 4.8))\n",
        "  ax1 = plt.subplot(1, 2, 1)\n",
        "  plt.title('output')\n",
        "  plt.imshow(output[0, 0].detach(), cmap='gray')\n",
        "  plt.subplot(1, 2, 2, sharex=ax1, sharey=ax1) \n",
        "  plt.imshow(img.mean(0), cmap='gray') \n",
        "  plt.title('input') \n",
        "  plt.show()"
      ]
    },
    {
      "cell_type": "code",
      "execution_count": null,
      "metadata": {
        "colab": {
          "base_uri": "https://localhost:8080/",
          "height": 318
        },
        "id": "eWJ781cUKNdn",
        "outputId": "b33930e5-6743-4c0d-ccb7-2c1e8676cf2e"
      },
      "outputs": [
        {
          "data": {
            "image/png": "[encoded data removed]",
            "text/plain": [
              "<Figure size 720x345.6 with 2 Axes>"
            ]
          },
          "metadata": {},
          "output_type": "display_data"
        }
      ],
      "source": [
        "plot_convolution(img, output)"
      ]
    },
    {
      "cell_type": "markdown",
      "metadata": {
        "id": "P6WV9yyWJUb8"
      },
      "source": [
        "Now we implement a different convolution that is used as a vertical edge detector"
      ]
    },
    {
      "cell_type": "code",
      "execution_count": null,
      "metadata": {
        "id": "BoBYDn3AkSUN"
      },
      "outputs": [],
      "source": [
        "with torch.no_grad():\n",
        "    conv.weight[:] = torch.tensor([[-1.0, 0.0, 1.0],\n",
        "                                   [-1.0, 0.0, 1.0],\n",
        "                                   [-1.0, 0.0, 1.0]])\n",
        "    conv.bias.zero_()"
      ]
    },
    {
      "cell_type": "code",
      "execution_count": null,
      "metadata": {
        "colab": {
          "base_uri": "https://localhost:8080/",
          "height": 318
        },
        "id": "7HtLP3_XkSUV",
        "outputId": "17c9ae61-23bf-4cbf-838a-583c6af94613"
      },
      "outputs": [
        {
          "data": {
            "image/png": "[encoded data removed]",
            "text/plain": [
              "<Figure size 720x345.6 with 2 Axes>"
            ]
          },
          "metadata": {},
          "output_type": "display_data"
        }
      ],
      "source": [
        "output = conv(img.unsqueeze(0))\n",
        "plot_convolution(img, output)"
      ]
    },
    {
      "cell_type": "markdown",
      "metadata": {
        "id": "h43Wt8VVvCAg"
      },
      "source": [
        "## Max pooling\n",
        "Each kernel, that is learnt during the training process, extract or enhance a feature of the image, its vertical or horizontal structure, mean value, or some other pattern that occurs in it, and the output is saved in one of the channels that have been defined at each particular convolutional layer of the network. The feautures that are learnt with the kerlnels are local and translation invariant but we do not want to miss the characteristics of the full image, let's say missing the forest for the trees. We could use all the pixels of the image but we would have agaon the same problem of scalability that we solved with the convolution. The idea is then to compute a downsampled feature of the image, like considering only the highest values of a set of adjacent pixels. For instance, we can downsample an image by half using a 2x2 neighborhood "
      ]
    },
    {
      "cell_type": "code",
      "execution_count": null,
      "metadata": {
        "colab": {
          "base_uri": "https://localhost:8080/"
        },
        "id": "X748L7kykSUY",
        "outputId": "1ce16d22-cada-4abb-8be2-0cd45dcf37c5"
      },
      "outputs": [
        {
          "data": {
            "text/plain": [
              "(torch.Size([1, 3, 32, 32]), torch.Size([1, 3, 16, 16]))"
            ]
          },
          "execution_count": 21,
          "metadata": {},
          "output_type": "execute_result"
        }
      ],
      "source": [
        "pool = nn.MaxPool2d(2)\n",
        "output = pool(img.unsqueeze(0))\n",
        "img.unsqueeze(0).shape, output.shape"
      ]
    },
    {
      "cell_type": "code",
      "execution_count": null,
      "metadata": {
        "colab": {
          "base_uri": "https://localhost:8080/",
          "height": 318
        },
        "id": "dyNC35fa4rfS",
        "outputId": "548410d2-9a66-4bdd-accf-1cd14b112bca"
      },
      "outputs": [
        {
          "data": {
            "image/png": "[encoded data removed]",
            "text/plain": [
              "<Figure size 720x345.6 with 2 Axes>"
            ]
          },
          "metadata": {},
          "output_type": "display_data"
        }
      ],
      "source": [
        "plot_convolution(img, output)"
      ]
    },
    {
      "cell_type": "markdown",
      "metadata": {
        "id": "sR85gpNB8S57"
      },
      "source": [
        "## Convolutional + max pooling layer\n",
        "We want to create a CNN by putting together a sequence of convolutional and max pooling layers. The first type of layers will extract local patterns in the input data and the max pooling layer will reduce the size of the features channels preserving the overall structure. We might start by creating a sequence of layers like we did to build our simple fully connected neural network, this time using convolutional and max pooling layers. For instance we can add a first convolutional layer with 3 channels (RGB), a 3x3 kernel and 16 output channels (features). The convolution is a linear transformation so we apply an activation function to its output. This way we would end up with more than 5 time the amount of the input data, since the convolution does not change its size, so we apply a max pooling operator that will reduce the size of the data by half. Now these 16 output channels are used as input channels for the next convolutional layer. We set this 2nd convolutional layer to have 8 output channels and the same 3x3 kernel size, an activation function and then a max pooling layer that will reduce the size of the output channels by half. In order to use the network to separate images containing airplanes from those containing birds we need to connect the output of the second max pooling layer to a layer that implements a linear transformation and then a softmax. Unfortunately there is no way to implement a sequence that conects the output of a convolutional layer to a linear one. We have to reshape a 8x8x8 3D tensor into a one dimensional array of size 512 but the Sequential class does not know how to do that and we have to implement that transformation ourselves. If we try to use the network as said we will end up in an error. "
      ]
    },
    {
      "cell_type": "code",
      "execution_count": null,
      "metadata": {
        "id": "VSw2T1x6kSUh"
      },
      "outputs": [],
      "source": [
        "layer1_input_channels = 3\n",
        "layer1_output_channels = 16\n",
        "layer2_input_channels = 16\n",
        "layer2_output_channels = 8\n",
        "\n",
        "model = nn.Sequential(\n",
        "            nn.Conv2d(layer1_input_channels, layer1_output_channels, kernel_size=3, padding=1),\n",
        "            nn.Tanh(),\n",
        "            nn.MaxPool2d(2),\n",
        "            nn.Conv2d(layer2_input_channels, layer2_output_channels, kernel_size=3, padding=1),\n",
        "            nn.Tanh(),\n",
        "            nn.MaxPool2d(2),\n",
        "            # ...something missing here to map a 8x8x8 3D tensor to an array of size 512\n",
        "            nn.Linear(8 * 8 * 8, 32),\n",
        "            nn.Tanh(),\n",
        "            nn.Linear(32, 2))"
      ]
    },
    {
      "cell_type": "code",
      "execution_count": null,
      "metadata": {
        "id": "u1BIk3udkSUt",
        "scrolled": true
      },
      "outputs": [],
      "source": [
        "#model(img.unsqueeze(0))"
      ]
    },
    {
      "cell_type": "markdown",
      "metadata": {
        "id": "rUimwMXfC_81"
      },
      "source": [
        "In order to overcome the limit of the Sequential network we have to implement a new one. The missing element is implemented here in the forward() function in which a three dimensional tensor of size 8x8x8 (Channels x Height x Width) is mapped to a one dimensional array of size 512. In the _init_ function are defined all the layer used in the network: conv1, act1, pool1, then conv2, act2, pool2 and finally the fully connected layers fc1, act3 and fc2. In the forward function the layer are called and after pool2 returns the transformation that was missing in Sequential is applied. The submodules in the definition of our network implement the convolutional and the fully connected layers while the activation function and the max pooling that are functional and do not change the input parameters are defined in the forward function."
      ]
    },
    {
      "cell_type": "code",
      "execution_count": null,
      "metadata": {
        "id": "vv6HMApikSU4"
      },
      "outputs": [],
      "source": [
        "import torch.nn.functional as F\n",
        "\n",
        "class Net(nn.Module):\n",
        "    def __init__(self):\n",
        "        super().__init__()\n",
        "        self.conv1 = nn.Conv2d(layer1_input_channels, layer1_output_channels, kernel_size=3, padding=1)\n",
        "        self.conv2 = nn.Conv2d(layer2_input_channels, layer2_output_channels, kernel_size=3, padding=1)\n",
        "        self.fc1 = nn.Linear(8 * 8 * 8, 32)\n",
        "        self.fc2 = nn.Linear(32, 2)\n",
        "        \n",
        "    def forward(self, x):\n",
        "        out = F.max_pool2d(torch.tanh(self.conv1(x)), 2)\n",
        "        out = F.max_pool2d(torch.tanh(self.conv2(out)), 2)\n",
        "        out = out.view(-1, 8 * 8 * 8) # implements the missing element that maps a 3D 8x8x8 tensor to a one dimensional array of size 512\n",
        "        out = torch.tanh(self.fc1(out))\n",
        "        out = self.fc2(out)\n",
        "        return out"
      ]
    },
    {
      "cell_type": "markdown",
      "metadata": {
        "id": "iqNl2oRpRpKu"
      },
      "source": [
        "We can see the number of parameters used in each submodule of our network. The first section of the network, the output features (channels) of the 1st convolutional layer have a total size of 16x32x32 = 16384. These parameters are mapped to a fully connected layer of 32 inputs after the 2nd max pooling and then to a second fully connected layer that maps the 32 inputs to two outputs used for the final classification airplane/bird."
      ]
    },
    {
      "cell_type": "code",
      "execution_count": null,
      "metadata": {
        "colab": {
          "base_uri": "https://localhost:8080/"
        },
        "id": "A3MP2iHmkSUz",
        "outputId": "9d38d826-b224-42e8-d99c-e55f790511e0"
      },
      "outputs": [
        {
          "data": {
            "text/plain": [
              "(18090, [432, 16, 1152, 8, 16384, 32, 64, 2])"
            ]
          },
          "execution_count": 26,
          "metadata": {},
          "output_type": "execute_result"
        }
      ],
      "source": [
        "model = Net()\n",
        "\n",
        "numel_list = [p.numel() for p in model.parameters()]\n",
        "sum(numel_list), numel_list"
      ]
    },
    {
      "cell_type": "markdown",
      "metadata": {
        "id": "oMmPAlXCYmNt"
      },
      "source": [
        "We test our model on one image (tensor). We should get two numbers"
      ]
    },
    {
      "cell_type": "code",
      "execution_count": null,
      "metadata": {
        "colab": {
          "base_uri": "https://localhost:8080/"
        },
        "id": "J_lMdKMdkSU7",
        "outputId": "0d05f8bb-2da9-4b30-eb81-b2f2d8e233ec"
      },
      "outputs": [
        {
          "data": {
            "text/plain": [
              "tensor([[-0.1262,  0.1415]], grad_fn=<AddmmBackward0>)"
            ]
          },
          "execution_count": 27,
          "metadata": {},
          "output_type": "execute_result"
        }
      ],
      "source": [
        "model = Net()\n",
        "model(img.unsqueeze(0))"
      ]
    },
    {
      "cell_type": "markdown",
      "metadata": {
        "id": "33kXQozEZJ0s"
      },
      "source": [
        "## Training the convolutional neural network\n",
        "The training loop is no different than the one we have used for our simple fully connected neural network. The model of course is now our customized convolutional neural network. The training loop mainly takes the batch data, computes the forward pass and the loss, computes the gradient with respect to the parameters and updates the optimizer to reduce the loss. here we define our training loop"
      ]
    },
    {
      "cell_type": "code",
      "execution_count": null,
      "metadata": {
        "id": "MnBIfG4VkSU-"
      },
      "outputs": [],
      "source": [
        "import datetime \n",
        "\n",
        "def training_loop(n_epochs, optimizer, model, loss_fn, train_loader):\n",
        "    for epoch in range(1, n_epochs + 1):  \n",
        "        loss_train = 0.0\n",
        "        \n",
        "        for imgs, labels in train_loader: \n",
        "            outputs = model(imgs) \n",
        "            loss = loss_fn(outputs, labels)\n",
        "            optimizer.zero_grad()\n",
        "            loss.backward()\n",
        "            optimizer.step()\n",
        "            loss_train += loss.item() \n",
        "\n",
        "        if epoch == 1 or epoch % 10 == 0:\n",
        "            print('{} Epoch {}, Training loss {}'.format(\n",
        "                datetime.datetime.now(), epoch,\n",
        "                loss_train / len(train_loader)))  # <10>"
      ]
    },
    {
      "cell_type": "markdown",
      "metadata": {
        "id": "dZER-cnIfjjp"
      },
      "source": [
        "then we use it with our dataset of airplanes and birds. We performs 100 epochs. The network is fast enough that can be run using a CPU and complete the training in less than 8 minutes on Google Colab (5 minutes with a GPU). "
      ]
    },
    {
      "cell_type": "code",
      "execution_count": null,
      "metadata": {
        "colab": {
          "base_uri": "https://localhost:8080/"
        },
        "id": "Ptw2wNUZkSVE",
        "outputId": "5c9a9ea3-fa10-496c-9958-36fc55e442af"
      },
      "outputs": [
        {
          "name": "stdout",
          "output_type": "stream",
          "text": [
            "2022-11-19 14:44:28.867767 Epoch 1, Training loss 0.5604534766096978\n",
            "2022-11-19 14:44:56.689462 Epoch 10, Training loss 0.33144746426564115\n",
            "2022-11-19 14:45:29.928565 Epoch 20, Training loss 0.28480740555912065\n",
            "2022-11-19 14:46:00.847349 Epoch 30, Training loss 0.2587169788920196\n",
            "2022-11-19 14:46:32.504491 Epoch 40, Training loss 0.23879939004494127\n",
            "2022-11-19 14:47:04.073646 Epoch 50, Training loss 0.2239389695274602\n",
            "2022-11-19 14:47:34.990778 Epoch 60, Training loss 0.2080535505227982\n",
            "2022-11-19 14:48:06.663049 Epoch 70, Training loss 0.19428594135175084\n",
            "2022-11-19 14:48:37.767518 Epoch 80, Training loss 0.1792195502929627\n",
            "2022-11-19 14:49:09.494982 Epoch 90, Training loss 0.16804902217570383\n",
            "2022-11-19 14:49:41.488197 Epoch 100, Training loss 0.1533805353056853\n"
          ]
        }
      ],
      "source": [
        "train_loader = torch.utils.data.DataLoader(cifar2, batch_size=64, shuffle=True) \n",
        "\n",
        "optimizer = optim.SGD(model.parameters(), lr=1e-2) \n",
        "loss_fn = nn.CrossEntropyLoss()\n",
        "\n",
        "training_loop( \n",
        "    n_epochs = 100,\n",
        "    optimizer = optimizer,\n",
        "    model = model,\n",
        "    loss_fn = loss_fn,\n",
        "    train_loader = train_loader,\n",
        ")"
      ]
    },
    {
      "cell_type": "markdown",
      "metadata": {
        "id": "l3sWQzXogUWR"
      },
      "source": [
        "## Model accuracy\n",
        "The loss for the training data after 100 epochs is quite low but we have to see what happens with the validation set. We want to compute the model accuracy that depends on the ratio of the missclassifications m over the number of validation examples\n",
        "\n",
        "$$accuracy = 1 - \\frac{m}{N_{val}}$$"
      ]
    },
    {
      "cell_type": "code",
      "execution_count": null,
      "metadata": {
        "colab": {
          "base_uri": "https://localhost:8080/"
        },
        "id": "CQDx2CqkkSVM",
        "outputId": "ebfab560-ece5-4820-a22b-6ceac3751a02"
      },
      "outputs": [
        {
          "name": "stdout",
          "output_type": "stream",
          "text": [
            "Accuracy train: 0.94\n",
            "Accuracy val: 0.88\n"
          ]
        }
      ],
      "source": [
        "train_loader = torch.utils.data.DataLoader(cifar2, batch_size=64, shuffle=False)\n",
        "val_loader = torch.utils.data.DataLoader(cifar2_val, batch_size=64, shuffle=False)\n",
        "all_acc_dict = collections.OrderedDict()\n",
        "\n",
        "def validate(model, train_loader, val_loader):\n",
        "    for name, loader in [(\"train\", train_loader), (\"val\", val_loader)]:\n",
        "        correct = 0\n",
        "        total = 0\n",
        "\n",
        "        with torch.no_grad():  # we do not need the gradient since we are not going to update the parameters\n",
        "            for imgs, labels in loader:\n",
        "                outputs = model(imgs)\n",
        "                _, predicted = torch.max(outputs, dim=1) \n",
        "                total += labels.shape[0] \n",
        "                correct += int((predicted == labels).sum()) \n",
        "\n",
        "        print(\"Accuracy {}: {:.2f}\".format(name , correct / total))\n",
        "\n",
        "all_acc_dict['baseline'] = validate(model, train_loader, val_loader)"
      ]
    },
    {
      "cell_type": "markdown",
      "metadata": {
        "id": "2WCyh8BDin58"
      },
      "source": [
        "We can see that our convolutional network performs better (higher accuracy) than our previous fully connected network, and it has less parameters so that it can be run even with a CPU in a much shorter time."
      ]
    },
    {
      "cell_type": "markdown",
      "metadata": {
        "id": "_JE8-W_FjUzc"
      },
      "source": [
        "## Saving the model"
      ]
    },
    {
      "cell_type": "code",
      "execution_count": null,
      "metadata": {
        "id": "ae3EwbJFkSVP"
      },
      "outputs": [],
      "source": [
        "torch.save(model.state_dict(), data_path + 'birds_vs_airplanes.pt')"
      ]
    },
    {
      "cell_type": "code",
      "execution_count": null,
      "metadata": {
        "colab": {
          "base_uri": "https://localhost:8080/"
        },
        "id": "7AtXDYYEkSVS",
        "outputId": "964cab6c-9d02-481e-915f-74c3c58d239a"
      },
      "outputs": [
        {
          "data": {
            "text/plain": [
              "<All keys matched successfully>"
            ]
          },
          "execution_count": 32,
          "metadata": {},
          "output_type": "execute_result"
        }
      ],
      "source": [
        "loaded_model = Net()  # <1>\n",
        "loaded_model.load_state_dict(torch.load(data_path + 'birds_vs_airplanes.pt'))"
      ]
    },
    {
      "cell_type": "markdown",
      "metadata": {
        "id": "ud25oK9wjRYO"
      },
      "source": [
        "## Model design\n",
        "PyTorch allows us to set the number of units, input and output parameters for each layer and we have to learn the mechanics of building a model that can solve the problem at hand from classifying pictures to translating a text. We begin by setting the output channels of the first layer from 16 to 32. We have to types of layers in out network: convolutional and fully connected. We know that the height and width of the output tensor of a convolution is the same as the input if the stride is 1. We have to do some little math to make the output of a layer match with the input of the next one.   "
      ]
    },
    {
      "cell_type": "code",
      "execution_count": null,
      "metadata": {
        "colab": {
          "base_uri": "https://localhost:8080/"
        },
        "id": "jJ2OUjhXziE1",
        "outputId": "61c11769-2ddd-43a9-eadc-b6b0d06dc499"
      },
      "outputs": [
        {
          "data": {
            "text/plain": [
              "1024"
            ]
          },
          "execution_count": 33,
          "metadata": {},
          "output_type": "execute_result"
        }
      ],
      "source": [
        "input_width = 32\n",
        "input_height = 32\n",
        "layer1_input_channels = 3\n",
        "layer1_output_channels = 32\n",
        "layer2_input_channels = layer1_output_channels\n",
        "layer2_output_channels = 16\n",
        "num_max_pooling_layers = 2\n",
        "layer3_input = layer2_output_channels * (input_width // (2 * num_max_pooling_layers)) * (input_height // (2* num_max_pooling_layers))\n",
        "layer3_input"
      ]
    },
    {
      "cell_type": "code",
      "execution_count": null,
      "metadata": {
        "id": "fFvIKP9C47AE"
      },
      "outputs": [],
      "source": [
        "layer3_output = 32\n",
        "layer4_input = layer3_output \n",
        "layer4_output = 2"
      ]
    },
    {
      "cell_type": "markdown",
      "metadata": {
        "id": "pzj3TlsdhsOe"
      },
      "source": [
        "### Increasing the width of the model\n",
        "We can increase the capacity of our model without adding more layers by increasing their number of features (channels) "
      ]
    },
    {
      "cell_type": "code",
      "execution_count": null,
      "metadata": {
        "id": "mZv-vTUWkSV-"
      },
      "outputs": [],
      "source": [
        "class NetWidth(nn.Module):\n",
        "    def __init__(self):\n",
        "        super().__init__()\n",
        "        self.conv1 = nn.Conv2d(layer1_input_channels, layer1_output_channels, kernel_size=3, padding=1)\n",
        "        self.conv2 = nn.Conv2d(layer2_input_channels, layer2_output_channels, kernel_size=3, padding=1)\n",
        "        self.fc1 = nn.Linear(layer3_input, layer3_output)\n",
        "        self.fc2 = nn.Linear(layer4_input, layer4_output)\n",
        "        \n",
        "    def forward(self, x):\n",
        "        out = F.max_pool2d(torch.tanh(self.conv1(x)), 2)\n",
        "        out = F.max_pool2d(torch.tanh(self.conv2(out)), 2)\n",
        "        out = out.view(-1, layer3_input)\n",
        "        out = torch.tanh(self.fc1(out))\n",
        "        out = self.fc2(out)\n",
        "        return out"
      ]
    },
    {
      "cell_type": "markdown",
      "metadata": {
        "id": "SRW6PlMZ6gZX"
      },
      "source": [
        "We can compute the total number of parameters of our new model"
      ]
    },
    {
      "cell_type": "code",
      "execution_count": null,
      "metadata": {
        "colab": {
          "base_uri": "https://localhost:8080/"
        },
        "id": "wW3W2WWW5IQ7",
        "outputId": "4eab254f-0273-4437-f7c4-e462be734f7d"
      },
      "outputs": [
        {
          "data": {
            "text/plain": [
              "38386"
            ]
          },
          "execution_count": 36,
          "metadata": {},
          "output_type": "execute_result"
        }
      ],
      "source": [
        "model = NetWidth()\n",
        "sum(p.numel() for p in model.parameters())"
      ]
    },
    {
      "cell_type": "markdown",
      "metadata": {
        "id": "cgiF_40M7O4p"
      },
      "source": [
        "We can train our new model on the same data. We might have some overfitting since the model has more parameters to fit the training data more closely. Since the number of parameters has doubled we expect a longer training time and in this case using a GPU would save time. (CPU->15 mins.) "
      ]
    },
    {
      "cell_type": "code",
      "execution_count": null,
      "metadata": {
        "colab": {
          "base_uri": "https://localhost:8080/"
        },
        "id": "IrHG9RVykSWA",
        "outputId": "1fd6c51c-1127-4c27-affa-d059b4f3f2bd"
      },
      "outputs": [
        {
          "name": "stdout",
          "output_type": "stream",
          "text": [
            "2022-11-19 14:52:53.722616 Epoch 1, Training loss 0.5412382534734762\n",
            "2022-11-19 14:53:47.450178 Epoch 10, Training loss 0.31395211644992704\n",
            "2022-11-19 14:54:47.443445 Epoch 20, Training loss 0.2741255258109159\n",
            "2022-11-19 14:55:46.987525 Epoch 30, Training loss 0.24608558117394236\n",
            "2022-11-19 14:56:53.693664 Epoch 40, Training loss 0.21846291062178885\n",
            "2022-11-19 14:57:53.977755 Epoch 50, Training loss 0.19208269533078381\n",
            "2022-11-19 14:58:54.866544 Epoch 60, Training loss 0.1680906084929682\n",
            "2022-11-19 15:00:01.279167 Epoch 70, Training loss 0.14567225464400213\n",
            "2022-11-19 15:01:09.194780 Epoch 80, Training loss 0.12424435410767225\n",
            "2022-11-19 15:02:14.518390 Epoch 90, Training loss 0.10417688411369824\n",
            "2022-11-19 15:03:14.117531 Epoch 100, Training loss 0.08596264718064836\n",
            "Accuracy train: 0.96\n",
            "Accuracy val: 0.90\n"
          ]
        }
      ],
      "source": [
        "optimizer = optim.SGD(model.parameters(), lr=1e-2)\n",
        "loss_fn = nn.CrossEntropyLoss()\n",
        "\n",
        "training_loop(\n",
        "    n_epochs = 100,\n",
        "    optimizer = optimizer,\n",
        "    model = model,\n",
        "    loss_fn = loss_fn,\n",
        "    train_loader = train_loader,\n",
        ")\n",
        "\n",
        "all_acc_dict[\"width\"] = validate(model, train_loader, val_loader)"
      ]
    },
    {
      "cell_type": "markdown",
      "metadata": {
        "id": "okwZIWFqGT6a"
      },
      "source": [
        "## Regularization\n",
        "We look for ways to improve the optimization (reduce loss) and improve the generalization (accuracy on the validation set). There are many techniques developed over the years. We look at some of them by making some changes to our training loop."
      ]
    },
    {
      "cell_type": "markdown",
      "metadata": {
        "id": "uTD9pB4qIq_A"
      },
      "source": [
        "### L2 regularization\n",
        "We start with L2 regularization that decreases the weights by a factor that depends on the total value of the parameters."
      ]
    },
    {
      "cell_type": "code",
      "execution_count": null,
      "metadata": {
        "id": "qVmZGxTakSWS"
      },
      "outputs": [],
      "source": [
        "def training_loop_l2reg(n_epochs, optimizer, model, loss_fn, train_loader):\n",
        "    for epoch in range(1, n_epochs + 1):\n",
        "        loss_train = 0.0\n",
        "        for imgs, labels in train_loader:\n",
        "            outputs = model(imgs)\n",
        "            loss = loss_fn(outputs, labels)\n",
        "\n",
        "            l2_lambda = 0.001\n",
        "            l2_norm = sum(p.pow(2.0).sum() for p in model.parameters()) \n",
        "            loss = loss + l2_lambda * l2_norm\n",
        "\n",
        "            optimizer.zero_grad()\n",
        "            loss.backward()\n",
        "            optimizer.step()\n",
        "            \n",
        "            loss_train += loss.item()\n",
        "        if epoch == 1 or epoch % 10 == 0:\n",
        "            print('{} Epoch {}, Training loss {}'.format(\n",
        "                datetime.datetime.now(), epoch,\n",
        "                loss_train / len(train_loader)))\n"
      ]
    },
    {
      "cell_type": "code",
      "execution_count": null,
      "metadata": {
        "colab": {
          "base_uri": "https://localhost:8080/"
        },
        "id": "dapIvvvbkSWV",
        "outputId": "e0bd50f2-370a-4152-eda0-6dce0b9fb36f"
      },
      "outputs": [
        {
          "name": "stdout",
          "output_type": "stream",
          "text": [
            "2022-11-19 15:04:00.849348 Epoch 1, Training loss 0.15137871720228985\n",
            "2022-11-19 15:04:55.573131 Epoch 10, Training loss 0.14224358050117067\n",
            "2022-11-19 15:05:59.839994 Epoch 20, Training loss 0.13385409026578732\n",
            "2022-11-19 15:07:00.927793 Epoch 30, Training loss 0.1269344827931398\n",
            "2022-11-19 15:08:01.913946 Epoch 40, Training loss 0.12117952165330291\n",
            "2022-11-19 15:09:04.311465 Epoch 50, Training loss 0.11644603971652924\n",
            "2022-11-19 15:10:06.025709 Epoch 60, Training loss 0.11250954353885287\n",
            "2022-11-19 15:11:08.387216 Epoch 70, Training loss 0.1092314297796055\n",
            "2022-11-19 15:12:10.048749 Epoch 80, Training loss 0.1065088181643729\n",
            "2022-11-19 15:13:11.744242 Epoch 90, Training loss 0.10421275176629899\n",
            "2022-11-19 15:14:13.842449 Epoch 100, Training loss 0.10226261829304847\n",
            "Accuracy train: 0.99\n",
            "Accuracy val: 0.90\n"
          ]
        }
      ],
      "source": [
        "training_loop_l2reg(\n",
        "    n_epochs = 100,\n",
        "    optimizer = optimizer,\n",
        "    model = model,\n",
        "    loss_fn = loss_fn,\n",
        "    train_loader = train_loader,\n",
        ")\n",
        "\n",
        "all_acc_dict[\"L2 reg\"] = validate(model, train_loader, val_loader)"
      ]
    },
    {
      "cell_type": "markdown",
      "metadata": {
        "id": "TUh4iykXRtSL"
      },
      "source": [
        "### Dropout\n",
        "The idea here is to randomly set to zero a subset of the output of a layer. The removal of the subset should improve the generalization of the network and the accuracy on the validation set."
      ]
    },
    {
      "cell_type": "code",
      "execution_count": null,
      "metadata": {
        "id": "D-49FjXlkSWb"
      },
      "outputs": [],
      "source": [
        "class NetDropout(nn.Module):\n",
        "    def __init__(self, n_chans1=32):\n",
        "        super().__init__()\n",
        "        self.n_chans1 = n_chans1\n",
        "        self.conv1 = nn.Conv2d(3, n_chans1, kernel_size=3, padding=1)\n",
        "        self.conv1_dropout = nn.Dropout2d(p=0.4)\n",
        "        self.conv2 = nn.Conv2d(n_chans1, n_chans1 // 2, kernel_size=3, padding=1)\n",
        "        self.conv2_dropout = nn.Dropout2d(p=0.4)\n",
        "        self.fc1 = nn.Linear(8 * 8 * n_chans1 // 2, 32)\n",
        "        self.fc2 = nn.Linear(32, 2)\n",
        "        \n",
        "    def forward(self, x):\n",
        "        out = F.max_pool2d(torch.tanh(self.conv1(x)), 2)\n",
        "        out = self.conv1_dropout(out)\n",
        "        out = F.max_pool2d(torch.tanh(self.conv2(out)), 2)\n",
        "        out = self.conv2_dropout(out)\n",
        "        out = out.view(-1, 8 * 8 * self.n_chans1 // 2)\n",
        "        out = torch.tanh(self.fc1(out))\n",
        "        out = self.fc2(out)\n",
        "        return out"
      ]
    },
    {
      "cell_type": "code",
      "execution_count": null,
      "metadata": {
        "colab": {
          "base_uri": "https://localhost:8080/"
        },
        "id": "h8pi61gukSWe",
        "outputId": "d3a11cbb-e844-445f-cd64-10ed0d5a884f"
      },
      "outputs": [
        {
          "name": "stdout",
          "output_type": "stream",
          "text": [
            "2022-11-19 15:15:27.425992 Epoch 1, Training loss 0.5725564104356583\n",
            "2022-11-19 15:16:23.816621 Epoch 10, Training loss 0.37704491359033404\n",
            "2022-11-19 15:17:26.010497 Epoch 20, Training loss 0.35098634603296874\n",
            "2022-11-19 15:18:30.036001 Epoch 30, Training loss 0.32635260435046665\n",
            "2022-11-19 15:19:40.077996 Epoch 40, Training loss 0.3143630323895983\n",
            "2022-11-19 15:20:49.707778 Epoch 50, Training loss 0.29657437865901143\n",
            "2022-11-19 15:21:50.404734 Epoch 60, Training loss 0.28970725464213426\n",
            "2022-11-19 15:22:51.472079 Epoch 70, Training loss 0.273337601571326\n",
            "2022-11-19 15:23:53.763304 Epoch 80, Training loss 0.2632983414230833\n",
            "2022-11-19 15:24:55.673566 Epoch 90, Training loss 0.25647510754264846\n",
            "2022-11-19 15:25:56.881869 Epoch 100, Training loss 0.24402525176288217\n",
            "Accuracy train: 0.89\n",
            "Accuracy val: 0.88\n"
          ]
        }
      ],
      "source": [
        "model = NetDropout(n_chans1=32)\n",
        "optimizer = optim.SGD(model.parameters(), lr=1e-2)\n",
        "loss_fn = nn.CrossEntropyLoss()\n",
        "\n",
        "training_loop(\n",
        "    n_epochs = 100,\n",
        "    optimizer = optimizer,\n",
        "    model = model,\n",
        "    loss_fn = loss_fn,\n",
        "    train_loader = train_loader,\n",
        ")\n",
        "all_acc_dict[\"dropout\"] = validate(model, train_loader, val_loader)"
      ]
    },
    {
      "cell_type": "markdown",
      "metadata": {
        "id": "LIHmGfP3R1ki"
      },
      "source": [
        "### Batch normalization"
      ]
    },
    {
      "cell_type": "code",
      "execution_count": null,
      "metadata": {
        "id": "GtwPHEmMkSWh"
      },
      "outputs": [],
      "source": [
        "class NetBatchNorm(nn.Module):\n",
        "    def __init__(self, n_chans1=32):\n",
        "        super().__init__()\n",
        "        self.n_chans1 = n_chans1\n",
        "        self.conv1 = nn.Conv2d(3, n_chans1, kernel_size=3, padding=1)\n",
        "        self.conv1_batchnorm = nn.BatchNorm2d(num_features=n_chans1)\n",
        "        self.conv2 = nn.Conv2d(n_chans1, n_chans1 // 2, kernel_size=3, \n",
        "                               padding=1)\n",
        "        self.conv2_batchnorm = nn.BatchNorm2d(num_features=n_chans1 // 2)\n",
        "        self.fc1 = nn.Linear(8 * 8 * n_chans1 // 2, 32)\n",
        "        self.fc2 = nn.Linear(32, 2)\n",
        "        \n",
        "    def forward(self, x):\n",
        "        out = self.conv1_batchnorm(self.conv1(x))\n",
        "        out = F.max_pool2d(torch.tanh(out), 2)\n",
        "        out = self.conv2_batchnorm(self.conv2(out))\n",
        "        out = F.max_pool2d(torch.tanh(out), 2)\n",
        "        out = out.view(-1, 8 * 8 * self.n_chans1 // 2)\n",
        "        out = torch.tanh(self.fc1(out))\n",
        "        out = self.fc2(out)\n",
        "        return out"
      ]
    },
    {
      "cell_type": "code",
      "execution_count": null,
      "metadata": {
        "colab": {
          "base_uri": "https://localhost:8080/"
        },
        "id": "7wVbrHHPkSWi",
        "outputId": "e0281d1d-7698-4ba2-809a-88adceed98bb"
      },
      "outputs": [
        {
          "name": "stdout",
          "output_type": "stream",
          "text": [
            "2022-11-19 15:27:42.072632 Epoch 1, Training loss 0.46778581799215574\n",
            "2022-11-19 15:29:04.512295 Epoch 10, Training loss 0.26532914873900687\n",
            "2022-11-19 15:30:31.935123 Epoch 20, Training loss 0.20431593829279493\n",
            "2022-11-19 15:31:56.276903 Epoch 30, Training loss 0.15622139570249874\n",
            "2022-11-19 15:33:17.231736 Epoch 40, Training loss 0.1152666056896471\n",
            "2022-11-19 15:34:42.685201 Epoch 50, Training loss 0.0803803472904263\n",
            "2022-11-19 15:36:10.469307 Epoch 60, Training loss 0.05477522901751718\n",
            "2022-11-19 15:37:36.579906 Epoch 70, Training loss 0.03722589110338669\n",
            "2022-11-19 15:39:01.238355 Epoch 80, Training loss 0.02423748631137097\n",
            "2022-11-19 15:40:21.217730 Epoch 90, Training loss 0.01664415769320527\n",
            "2022-11-19 15:41:40.650840 Epoch 100, Training loss 0.011130213010818905\n",
            "Accuracy train: 0.99\n",
            "Accuracy val: 0.88\n"
          ]
        }
      ],
      "source": [
        "model = NetBatchNorm(n_chans1=32)\n",
        "optimizer = optim.SGD(model.parameters(), lr=1e-2)\n",
        "loss_fn = nn.CrossEntropyLoss()\n",
        "\n",
        "training_loop(\n",
        "    n_epochs = 100,\n",
        "    optimizer = optimizer,\n",
        "    model = model,\n",
        "    loss_fn = loss_fn,\n",
        "    train_loader = train_loader,\n",
        ")\n",
        "all_acc_dict[\"batch_norm\"] = validate(model, train_loader, val_loader)"
      ]
    },
    {
      "cell_type": "markdown",
      "metadata": {
        "id": "gbZLJ3z7R-YV"
      },
      "source": [
        "### Depth\n",
        "The other way to increase the capacity of a network is by adding layers, that is increasing its depth. Adding layers can increase the ability of the network to learn more abstract concepts and in general its ability to distinguish patterns in the data. Increasing the width of a network doesn't change the function y = g(f(x)), while increasing its depth does change the function to y = g(f(h(x))). The function g() learns more specific features of the input after it has been processed by more layers (nested functions)"
      ]
    },
    {
      "cell_type": "code",
      "execution_count": null,
      "metadata": {
        "id": "pxQbmPgIkSWl"
      },
      "outputs": [],
      "source": [
        "class NetDepth(nn.Module):\n",
        "    def __init__(self, n_chans1=32):\n",
        "        super().__init__()\n",
        "        self.n_chans1 = n_chans1\n",
        "        self.conv1 = nn.Conv2d(3, n_chans1, kernel_size=3, padding=1)\n",
        "        self.conv2 = nn.Conv2d(n_chans1, n_chans1 // 2, kernel_size=3, padding=1)\n",
        "        self.conv3 = nn.Conv2d(n_chans1 // 2, n_chans1 // 2, kernel_size=3, padding=1)\n",
        "        self.fc1 = nn.Linear(4 * 4 * n_chans1 // 2, 32)\n",
        "        self.fc2 = nn.Linear(32, 2)\n",
        "        \n",
        "    def forward(self, x):\n",
        "        out = F.max_pool2d(torch.relu(self.conv1(x)), 2)\n",
        "        out = F.max_pool2d(torch.relu(self.conv2(out)), 2)\n",
        "        out = F.max_pool2d(torch.relu(self.conv3(out)), 2)\n",
        "        out = out.view(-1, 4 * 4 * self.n_chans1 // 2)\n",
        "        out = torch.relu(self.fc1(out))\n",
        "        out = self.fc2(out)\n",
        "        return out"
      ]
    },
    {
      "cell_type": "code",
      "execution_count": null,
      "metadata": {
        "colab": {
          "base_uri": "https://localhost:8080/"
        },
        "id": "P3FYEI7hkSWo",
        "outputId": "58df31f9-b6df-41b4-9a75-2218d6ad6c8e"
      },
      "outputs": [
        {
          "name": "stdout",
          "output_type": "stream",
          "text": [
            "2022-11-19 15:42:28.349051 Epoch 1, Training loss 0.6873320386667919\n",
            "2022-11-19 15:43:19.065015 Epoch 10, Training loss 0.3456402107788499\n",
            "2022-11-19 15:44:22.490986 Epoch 20, Training loss 0.2976960244641942\n",
            "2022-11-19 15:45:24.286729 Epoch 30, Training loss 0.2643616833504598\n",
            "2022-11-19 15:46:25.496646 Epoch 40, Training loss 0.23282873492901493\n",
            "2022-11-19 15:47:21.856852 Epoch 50, Training loss 0.20252967464506247\n",
            "2022-11-19 15:48:27.684371 Epoch 60, Training loss 0.17326948687339286\n",
            "2022-11-19 15:49:33.314233 Epoch 70, Training loss 0.14644002064967612\n",
            "2022-11-19 15:50:30.813003 Epoch 80, Training loss 0.1202080894000591\n",
            "2022-11-19 15:51:36.075320 Epoch 90, Training loss 0.09446415273104883\n",
            "2022-11-19 15:52:39.265491 Epoch 100, Training loss 0.07309810786395315\n",
            "Accuracy train: 0.95\n",
            "Accuracy val: 0.89\n"
          ]
        }
      ],
      "source": [
        "model = NetDepth(n_chans1=32)\n",
        "optimizer = optim.SGD(model.parameters(), lr=1e-2)\n",
        "loss_fn = nn.CrossEntropyLoss()\n",
        "\n",
        "training_loop(\n",
        "    n_epochs = 100,\n",
        "    optimizer = optimizer,\n",
        "    model = model,\n",
        "    loss_fn = loss_fn,\n",
        "    train_loader = train_loader,\n",
        ")\n",
        "all_acc_dict[\"depth\"] = validate(model, train_loader, val_loader)"
      ]
    },
    {
      "cell_type": "markdown",
      "metadata": {
        "id": "Yk8hcm-XSSYK"
      },
      "source": [
        "### ResNet\n",
        "Adding layers to a network increases the number of parameters to be learned and makes the training more difficult. One problem is due to the floating-point approximation. Since a machine can handle only a certain number of digits (e.g. 64) a float number such as the derivatives of the loss function be become too small and random. One technique to avoid such problem in deep networks is to skip some connections that is adding the input to the output of a layer (or block of layers)"
      ]
    },
    {
      "cell_type": "code",
      "execution_count": null,
      "metadata": {
        "id": "2Hdj-9LKkSWs"
      },
      "outputs": [],
      "source": [
        "class NetRes(nn.Module):\n",
        "    def __init__(self, n_chans1=32):\n",
        "        super().__init__()\n",
        "        self.n_chans1 = n_chans1\n",
        "        self.conv1 = nn.Conv2d(3, n_chans1, kernel_size=3, padding=1)\n",
        "        self.conv2 = nn.Conv2d(n_chans1, n_chans1 // 2, kernel_size=3, padding=1)\n",
        "        self.conv3 = nn.Conv2d(n_chans1 // 2, n_chans1 // 2, kernel_size=3, padding=1)\n",
        "        self.fc1 = nn.Linear(4 * 4 * n_chans1 // 2, 32)\n",
        "        self.fc2 = nn.Linear(32, 2)\n",
        "        \n",
        "    def forward(self, x):\n",
        "        out = F.max_pool2d(torch.relu(self.conv1(x)), 2)\n",
        "        out = F.max_pool2d(torch.relu(self.conv2(out)), 2)\n",
        "        out1 = out\n",
        "        out = F.max_pool2d(torch.relu(self.conv3(out)) + out1, 2) # skip connection\n",
        "        out = out.view(-1, 4 * 4 * self.n_chans1 // 2)\n",
        "        out = torch.relu(self.fc1(out))\n",
        "        out = self.fc2(out)\n",
        "        return out"
      ]
    },
    {
      "cell_type": "code",
      "execution_count": null,
      "metadata": {
        "colab": {
          "base_uri": "https://localhost:8080/"
        },
        "id": "RtCZ5msjkSWt",
        "outputId": "0f673020-f76d-4716-b54c-8f8fbbe3130b"
      },
      "outputs": [
        {
          "name": "stdout",
          "output_type": "stream",
          "text": [
            "2022-11-19 15:53:20.980931 Epoch 1, Training loss 0.6681512670152506\n",
            "2022-11-19 15:54:11.810120 Epoch 10, Training loss 0.3296421105694619\n",
            "2022-11-19 15:55:08.924718 Epoch 20, Training loss 0.28321667214867413\n",
            "2022-11-19 15:56:05.532917 Epoch 30, Training loss 0.24592295535810435\n",
            "2022-11-19 15:57:02.139664 Epoch 40, Training loss 0.21397957006457505\n",
            "2022-11-19 15:58:03.158979 Epoch 50, Training loss 0.18613878974489345\n",
            "2022-11-19 15:59:01.671374 Epoch 60, Training loss 0.16086240321587605\n",
            "2022-11-19 16:00:02.605767 Epoch 70, Training loss 0.13638786860047633\n",
            "2022-11-19 16:01:10.236293 Epoch 80, Training loss 0.11244413985093688\n",
            "2022-11-19 16:02:13.090530 Epoch 90, Training loss 0.08973045876712367\n",
            "2022-11-19 16:03:15.576034 Epoch 100, Training loss 0.07103912247000796\n",
            "Accuracy train: 0.97\n",
            "Accuracy val: 0.91\n"
          ]
        }
      ],
      "source": [
        "model = NetRes(n_chans1=32)\n",
        "optimizer = optim.SGD(model.parameters(), lr=1e-2)\n",
        "loss_fn = nn.CrossEntropyLoss()\n",
        "\n",
        "training_loop(\n",
        "    n_epochs = 100,\n",
        "    optimizer = optimizer,\n",
        "    model = model,\n",
        "    loss_fn = loss_fn,\n",
        "    train_loader = train_loader,\n",
        ")\n",
        "all_acc_dict[\"res\"] = validate(model, train_loader, val_loader)"
      ]
    },
    {
      "cell_type": "markdown",
      "metadata": {
        "id": "mwtnhmeHSdkr"
      },
      "source": [
        "## Building very deep models\n",
        "We can easily build very deep networks by adding blocks of layers such as (Conv2d, ReLu, Con2d) + skip connection. Once we have defined a block we can then build a network as a sequence of such blocks. A block with a skip connection is called residual block. We implement this idea with two classes, one for the block"
      ]
    },
    {
      "cell_type": "code",
      "execution_count": null,
      "metadata": {
        "id": "Iz3C6QfZkSWv"
      },
      "outputs": [],
      "source": [
        "class ResBlock(nn.Module):\n",
        "    def __init__(self, n_chans):\n",
        "        super(ResBlock, self).__init__()\n",
        "        self.conv = nn.Conv2d(n_chans, n_chans, kernel_size=3, padding=1, bias=False) \n",
        "        self.batch_norm = nn.BatchNorm2d(num_features=n_chans)\n",
        "        torch.nn.init.kaiming_normal_(self.conv.weight, nonlinearity='relu') \n",
        "        torch.nn.init.constant_(self.batch_norm.weight, 0.5)\n",
        "        torch.nn.init.zeros_(self.batch_norm.bias)\n",
        "\n",
        "    def forward(self, x):\n",
        "        out = self.conv(x)\n",
        "        out = self.batch_norm(out)\n",
        "        out = torch.relu(out)\n",
        "        return out + x"
      ]
    },
    {
      "cell_type": "markdown",
      "metadata": {
        "id": "u5JedqLbsHeX"
      },
      "source": [
        "Then we define our network as a sequence of the blocks we have previously defined"
      ]
    },
    {
      "cell_type": "code",
      "execution_count": null,
      "metadata": {
        "id": "DRZ2J5I3kSWx"
      },
      "outputs": [],
      "source": [
        "class NetResDeep(nn.Module):\n",
        "    def __init__(self, n_chans1=32, n_blocks=10):\n",
        "        super().__init__()\n",
        "        self.n_chans1 = n_chans1\n",
        "        self.conv1 = nn.Conv2d(3, n_chans1, kernel_size=3, padding=1)\n",
        "        self.resblocks = nn.Sequential(*(n_blocks * [ResBlock(n_chans=n_chans1)]))\n",
        "        self.fc1 = nn.Linear(8 * 8 * n_chans1, 32)\n",
        "        self.fc2 = nn.Linear(32, 2)\n",
        "        \n",
        "    def forward(self, x):\n",
        "        out = F.max_pool2d(torch.relu(self.conv1(x)), 2)\n",
        "        out = self.resblocks(out)\n",
        "        out = F.max_pool2d(out, 2)\n",
        "        out = out.view(-1, 8 * 8 * self.n_chans1)\n",
        "        out = torch.relu(self.fc1(out))\n",
        "        out = self.fc2(out)\n",
        "        return out\n",
        "    \n"
      ]
    },
    {
      "cell_type": "code",
      "execution_count": null,
      "metadata": {
        "colab": {
          "background_save": true,
          "base_uri": "https://localhost:8080/"
        },
        "id": "l4HGqGsBkSWy",
        "outputId": "3c504f2c-a69c-4228-abc7-289a76b844d1"
      },
      "outputs": [
        {
          "name": "stdout",
          "output_type": "stream",
          "text": [
            "2022-11-19 16:11:13.849536 Epoch 1, Training loss 2.6594315809049425\n",
            "2022-11-19 16:53:09.990983 Epoch 10, Training loss 0.3766248545069603\n",
            "2022-11-19 17:38:38.230427 Epoch 20, Training loss 0.2928609885987203\n",
            "2022-11-19 18:23:43.950053 Epoch 30, Training loss 0.23445282288038047\n"
          ]
        }
      ],
      "source": [
        "model = NetResDeep(n_chans1=32, n_blocks=100)\n",
        "optimizer = optim.SGD(model.parameters(), lr=3e-3)\n",
        "loss_fn = nn.CrossEntropyLoss()\n",
        "\n",
        "training_loop(\n",
        "    n_epochs = 100,\n",
        "    optimizer = optimizer,\n",
        "    model = model,\n",
        "    loss_fn = loss_fn,\n",
        "    train_loader = train_loader,\n",
        ")\n",
        "all_acc_dict[\"res deep\"] = validate(model, train_loader, val_loader)"
      ]
    },
    {
      "cell_type": "markdown",
      "metadata": {
        "id": "3_ojOQM0pFyl"
      },
      "source": [
        "## Comparing the accuracy of the models"
      ]
    },
    {
      "cell_type": "code",
      "execution_count": null,
      "metadata": {
        "id": "aKOHMV1UkSW0",
        "outputId": "18ec1868-227e-434b-f970-d9a3754bf240"
      },
      "outputs": [
        {
          "data": {
            "image/png": "[encoded data removed]",
            "text/plain": [
              "<Figure size 432x288 with 1 Axes>"
            ]
          },
          "metadata": {
            "tags": []
          },
          "output_type": "display_data"
        }
      ],
      "source": [
        "trn_acc = [v['train'] for k, v in all_acc_dict.items()]\n",
        "val_acc = [v['val'] for k, v in all_acc_dict.items()]\n",
        "\n",
        "width =0.3\n",
        "plt.bar(np.arange(len(trn_acc)), trn_acc, width=width, label='train')\n",
        "plt.bar(np.arange(len(val_acc))+ width, val_acc, width=width, label='val')\n",
        "plt.xticks(np.arange(len(val_acc))+ width/2, list(all_acc_dict.keys()), rotation=60)\n",
        "plt.ylabel('accuracy')\n",
        "plt.legend(loc='lower right')\n",
        "plt.ylim(0.7, 1)\n",
        "plt.savefig('accuracy_comparison.png', bbox_inches='tight')\n",
        "plt.show()\n"
      ]
    },
    {
      "cell_type": "code",
      "execution_count": null,
      "metadata": {
        "id": "ovy7swoFkSW3"
      },
      "outputs": [],
      "source": []
    },
    {
      "cell_type": "markdown",
      "source": [
        "## References\n",
        "1. [Dumoulin, Visin - A guide to convolution arithmetic for deep learning](https://arxiv.org/abs/1603.07285)  "
      ],
      "metadata": {
        "id": "0T3tAV1VlP3S"
      }
    }
  ],
  "metadata": {
    "accelerator": "GPU",
    "celltoolbar": "Tags",
    "colab": {
      "provenance": [],
      "collapsed_sections": [
        "0ZSMLXc5tyOp",
        "h43Wt8VVvCAg",
        "sR85gpNB8S57",
        "33kXQozEZJ0s",
        "l3sWQzXogUWR",
        "_JE8-W_FjUzc",
        "ud25oK9wjRYO",
        "pzj3TlsdhsOe",
        "okwZIWFqGT6a",
        "uTD9pB4qIq_A",
        "TUh4iykXRtSL",
        "LIHmGfP3R1ki",
        "gbZLJ3z7R-YV",
        "Yk8hcm-XSSYK",
        "mwtnhmeHSdkr"
      ]
    },
    "gpuClass": "standard",
    "kernelspec": {
      "display_name": "Python 3",
      "language": "python",
      "name": "python3"
    },
    "language_info": {
      "codemirror_mode": {
        "name": "ipython",
        "version": 3
      },
      "file_extension": ".py",
      "mimetype": "text/x-python",
      "name": "python",
      "nbconvert_exporter": "python",
      "pygments_lexer": "ipython3",
      "version": "3.7.6"
    },
    "widgets": {
      "application/vnd.jupyter.widget-state+json": {
        "078b96a074f6483a91af6182b9288053": {
          "model_module": "@jupyter-widgets/controls",
          "model_module_version": "1.5.0",
          "model_name": "ProgressStyleModel",
          "state": {
            "_model_module": "@jupyter-widgets/controls",
            "_model_module_version": "1.5.0",
            "_model_name": "ProgressStyleModel",
            "_view_count": null,
            "_view_module": "@jupyter-widgets/base",
            "_view_module_version": "1.2.0",
            "_view_name": "StyleView",
            "bar_color": null,
            "description_width": ""
          }
        },
        "668f64ce4d5147e2a8dbf32f0134d173": {
          "model_module": "@jupyter-widgets/controls",
          "model_module_version": "1.5.0",
          "model_name": "FloatProgressModel",
          "state": {
            "_dom_classes": [],
            "_model_module": "@jupyter-widgets/controls",
            "_model_module_version": "1.5.0",
            "_model_name": "FloatProgressModel",
            "_view_count": null,
            "_view_module": "@jupyter-widgets/controls",
            "_view_module_version": "1.5.0",
            "_view_name": "ProgressView",
            "bar_style": "success",
            "description": "",
            "description_tooltip": null,
            "layout": "IPY_MODEL_cf24c29dfd5d4714ad2c84deddd34892",
            "max": 170498071,
            "min": 0,
            "orientation": "horizontal",
            "style": "IPY_MODEL_078b96a074f6483a91af6182b9288053",
            "value": 170498071
          }
        },
        "6f30e07b8d8c49c6a9e4d329413711c2": {
          "model_module": "@jupyter-widgets/controls",
          "model_module_version": "1.5.0",
          "model_name": "HTMLModel",
          "state": {
            "_dom_classes": [],
            "_model_module": "@jupyter-widgets/controls",
            "_model_module_version": "1.5.0",
            "_model_name": "HTMLModel",
            "_view_count": null,
            "_view_module": "@jupyter-widgets/controls",
            "_view_module_version": "1.5.0",
            "_view_name": "HTMLView",
            "description": "",
            "description_tooltip": null,
            "layout": "IPY_MODEL_f0e64be9b3c340f28f84d6e257813ca6",
            "placeholder": "​",
            "style": "IPY_MODEL_d11a69c5aaa64c3d9db59ccea24c3d5a",
            "value": " 170498071/170498071 [00:05&lt;00:00, 33744780.15it/s]"
          }
        },
        "7617cea5960d4a9ba0df2b135004b1b4": {
          "model_module": "@jupyter-widgets/controls",
          "model_module_version": "1.5.0",
          "model_name": "HTMLModel",
          "state": {
            "_dom_classes": [],
            "_model_module": "@jupyter-widgets/controls",
            "_model_module_version": "1.5.0",
            "_model_name": "HTMLModel",
            "_view_count": null,
            "_view_module": "@jupyter-widgets/controls",
            "_view_module_version": "1.5.0",
            "_view_name": "HTMLView",
            "description": "",
            "description_tooltip": null,
            "layout": "IPY_MODEL_c5d81736b127457f9c05210e22cbbd6c",
            "placeholder": "​",
            "style": "IPY_MODEL_e2f7f65b15ac485e8d321a6a0968650e",
            "value": "100%"
          }
        },
        "7d29d763b0124d7b9ddaa23e29fb829b": {
          "model_module": "@jupyter-widgets/controls",
          "model_module_version": "1.5.0",
          "model_name": "HBoxModel",
          "state": {
            "_dom_classes": [],
            "_model_module": "@jupyter-widgets/controls",
            "_model_module_version": "1.5.0",
            "_model_name": "HBoxModel",
            "_view_count": null,
            "_view_module": "@jupyter-widgets/controls",
            "_view_module_version": "1.5.0",
            "_view_name": "HBoxView",
            "box_style": "",
            "children": [
              "IPY_MODEL_7617cea5960d4a9ba0df2b135004b1b4",
              "IPY_MODEL_668f64ce4d5147e2a8dbf32f0134d173",
              "IPY_MODEL_6f30e07b8d8c49c6a9e4d329413711c2"
            ],
            "layout": "IPY_MODEL_dc30031155004471801ab53a80b0e394"
          }
        },
        "c5d81736b127457f9c05210e22cbbd6c": {
          "model_module": "@jupyter-widgets/base",
          "model_module_version": "1.2.0",
          "model_name": "LayoutModel",
          "state": {
            "_model_module": "@jupyter-widgets/base",
            "_model_module_version": "1.2.0",
            "_model_name": "LayoutModel",
            "_view_count": null,
            "_view_module": "@jupyter-widgets/base",
            "_view_module_version": "1.2.0",
            "_view_name": "LayoutView",
            "align_content": null,
            "align_items": null,
            "align_self": null,
            "border": null,
            "bottom": null,
            "display": null,
            "flex": null,
            "flex_flow": null,
            "grid_area": null,
            "grid_auto_columns": null,
            "grid_auto_flow": null,
            "grid_auto_rows": null,
            "grid_column": null,
            "grid_gap": null,
            "grid_row": null,
            "grid_template_areas": null,
            "grid_template_columns": null,
            "grid_template_rows": null,
            "height": null,
            "justify_content": null,
            "justify_items": null,
            "left": null,
            "margin": null,
            "max_height": null,
            "max_width": null,
            "min_height": null,
            "min_width": null,
            "object_fit": null,
            "object_position": null,
            "order": null,
            "overflow": null,
            "overflow_x": null,
            "overflow_y": null,
            "padding": null,
            "right": null,
            "top": null,
            "visibility": null,
            "width": null
          }
        },
        "cf24c29dfd5d4714ad2c84deddd34892": {
          "model_module": "@jupyter-widgets/base",
          "model_module_version": "1.2.0",
          "model_name": "LayoutModel",
          "state": {
            "_model_module": "@jupyter-widgets/base",
            "_model_module_version": "1.2.0",
            "_model_name": "LayoutModel",
            "_view_count": null,
            "_view_module": "@jupyter-widgets/base",
            "_view_module_version": "1.2.0",
            "_view_name": "LayoutView",
            "align_content": null,
            "align_items": null,
            "align_self": null,
            "border": null,
            "bottom": null,
            "display": null,
            "flex": null,
            "flex_flow": null,
            "grid_area": null,
            "grid_auto_columns": null,
            "grid_auto_flow": null,
            "grid_auto_rows": null,
            "grid_column": null,
            "grid_gap": null,
            "grid_row": null,
            "grid_template_areas": null,
            "grid_template_columns": null,
            "grid_template_rows": null,
            "height": null,
            "justify_content": null,
            "justify_items": null,
            "left": null,
            "margin": null,
            "max_height": null,
            "max_width": null,
            "min_height": null,
            "min_width": null,
            "object_fit": null,
            "object_position": null,
            "order": null,
            "overflow": null,
            "overflow_x": null,
            "overflow_y": null,
            "padding": null,
            "right": null,
            "top": null,
            "visibility": null,
            "width": null
          }
        },
        "d11a69c5aaa64c3d9db59ccea24c3d5a": {
          "model_module": "@jupyter-widgets/controls",
          "model_module_version": "1.5.0",
          "model_name": "DescriptionStyleModel",
          "state": {
            "_model_module": "@jupyter-widgets/controls",
            "_model_module_version": "1.5.0",
            "_model_name": "DescriptionStyleModel",
            "_view_count": null,
            "_view_module": "@jupyter-widgets/base",
            "_view_module_version": "1.2.0",
            "_view_name": "StyleView",
            "description_width": ""
          }
        },
        "dc30031155004471801ab53a80b0e394": {
          "model_module": "@jupyter-widgets/base",
          "model_module_version": "1.2.0",
          "model_name": "LayoutModel",
          "state": {
            "_model_module": "@jupyter-widgets/base",
            "_model_module_version": "1.2.0",
            "_model_name": "LayoutModel",
            "_view_count": null,
            "_view_module": "@jupyter-widgets/base",
            "_view_module_version": "1.2.0",
            "_view_name": "LayoutView",
            "align_content": null,
            "align_items": null,
            "align_self": null,
            "border": null,
            "bottom": null,
            "display": null,
            "flex": null,
            "flex_flow": null,
            "grid_area": null,
            "grid_auto_columns": null,
            "grid_auto_flow": null,
            "grid_auto_rows": null,
            "grid_column": null,
            "grid_gap": null,
            "grid_row": null,
            "grid_template_areas": null,
            "grid_template_columns": null,
            "grid_template_rows": null,
            "height": null,
            "justify_content": null,
            "justify_items": null,
            "left": null,
            "margin": null,
            "max_height": null,
            "max_width": null,
            "min_height": null,
            "min_width": null,
            "object_fit": null,
            "object_position": null,
            "order": null,
            "overflow": null,
            "overflow_x": null,
            "overflow_y": null,
            "padding": null,
            "right": null,
            "top": null,
            "visibility": null,
            "width": null
          }
        },
        "e2f7f65b15ac485e8d321a6a0968650e": {
          "model_module": "@jupyter-widgets/controls",
          "model_module_version": "1.5.0",
          "model_name": "DescriptionStyleModel",
          "state": {
            "_model_module": "@jupyter-widgets/controls",
            "_model_module_version": "1.5.0",
            "_model_name": "DescriptionStyleModel",
            "_view_count": null,
            "_view_module": "@jupyter-widgets/base",
            "_view_module_version": "1.2.0",
            "_view_name": "StyleView",
            "description_width": ""
          }
        },
        "f0e64be9b3c340f28f84d6e257813ca6": {
          "model_module": "@jupyter-widgets/base",
          "model_module_version": "1.2.0",
          "model_name": "LayoutModel",
          "state": {
            "_model_module": "@jupyter-widgets/base",
            "_model_module_version": "1.2.0",
            "_model_name": "LayoutModel",
            "_view_count": null,
            "_view_module": "@jupyter-widgets/base",
            "_view_module_version": "1.2.0",
            "_view_name": "LayoutView",
            "align_content": null,
            "align_items": null,
            "align_self": null,
            "border": null,
            "bottom": null,
            "display": null,
            "flex": null,
            "flex_flow": null,
            "grid_area": null,
            "grid_auto_columns": null,
            "grid_auto_flow": null,
            "grid_auto_rows": null,
            "grid_column": null,
            "grid_gap": null,
            "grid_row": null,
            "grid_template_areas": null,
            "grid_template_columns": null,
            "grid_template_rows": null,
            "height": null,
            "justify_content": null,
            "justify_items": null,
            "left": null,
            "margin": null,
            "max_height": null,
            "max_width": null,
            "min_height": null,
            "min_width": null,
            "object_fit": null,
            "object_position": null,
            "order": null,
            "overflow": null,
            "overflow_x": null,
            "overflow_y": null,
            "padding": null,
            "right": null,
            "top": null,
            "visibility": null,
            "width": null
          }
        }
      }
    }
  },
  "nbformat": 4,
  "nbformat_minor": 0
}