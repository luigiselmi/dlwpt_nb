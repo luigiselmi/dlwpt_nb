{
 "cells": [
  {
   "cell_type": "markdown",
   "id": "57b0aa52",
   "metadata": {},
   "source": [
    "# Convolutional Neural Networks\n",
    "The kind of neural network that we have seen so far are fully connected, that is each unit of a layer is connected through  weights to all the units in the following layer. If n is the number of units of the first layer, and m the is the number of units of the second layer, the connections, or weights, between the two layers are represented by a matrix of rank nm. The number of weights in a fully connected multilayer perceptron increases rapidly if we add more than few layers to our network. Another problem of a fully connected layer is that it is not translation invariant (see also the [dlwpt](../dlwpt/ch8/dl_with_pytorch_ch8_convolutions.ipynb) folder for more info). These two problems can be solved using a mathematical operation on the input data called [convolution](https://en.wikipedia.org/wiki/Convolution)"
   ]
  },
  {
   "cell_type": "code",
   "execution_count": 2,
   "id": "ef4ab1b5",
   "metadata": {},
   "outputs": [
    {
     "name": "stdout",
     "output_type": "stream",
     "text": [
      "NumPy version: 1.23.1\n",
      "Pandas version: 1.4.3\n",
      "PyTorch version: 1.13.0\n"
     ]
    }
   ],
   "source": [
    "import numpy as np\n",
    "import pandas as pd\n",
    "import matplotlib.pyplot as plt\n",
    "import warnings\n",
    "import torch\n",
    "import torch.nn as nn\n",
    "warnings.filterwarnings('ignore')\n",
    "print(\"NumPy version: %s\"%np.__version__)\n",
    "print(\"Pandas version: %s\"%pd.__version__)\n",
    "print(\"PyTorch version: %s\"%torch.__version__)"
   ]
  },
  {
   "cell_type": "markdown",
   "id": "10a0db96",
   "metadata": {},
   "source": [
    "## One-dimensional convolution\n",
    "We start with a convolution in one dimension. Mathematically a convolution $f*g$ of two functions $f$ and $g$ is defined as\n",
    "\n",
    "$$(f*g)(t) = \\int_{-\\infty}^{\\infty}f(\\tau)g(t - \\tau)d\\tau$$\n",
    "\n",
    "We call the function $f$ the signal, and the function $g$ the kernel. We can consider a discrete convolution of an input array x and a weight array w for which the above formula can be translated to this\n",
    "\n",
    "$$y = x*w$$\n",
    "\n",
    "where for each component of $y$ we have\n",
    "\n",
    "$$y[i] = \\sum_{k=-\\infty}^{\\infty} x[i - k]w[k]$$\n",
    "\n",
    "The signal $x$ usually is defined within an finite interval so we assume a zero value of the signal at the beginning and at the end of the array. This transformation is called padding. The padding can be of any length, one, two, or more. If $p$ represents the padding and $n$ the length of the signal's array $x$, then the total length of the padded signal is $n + 2p$. If $m$ represents the length of the kernel, then we can compute the convolution of the signal for each index\n",
    "\n",
    "$$y[i] = \\sum_{k=0}^{m-1} x[i + m - k]w[k]$$\n",
    "\n",
    "The index of the signal goes from the rigth to the left, in the opposite direction of the kernel's index. We can get the same result with both indices going in the same direction, e.g. from left to right, by flipping one of the two array, for example the kernel array. We flip the kernel array by rotating its element to the left till the last elements is moved to the first place."
   ]
  },
  {
   "cell_type": "markdown",
   "id": "497ae187",
   "metadata": {},
   "source": [
    "We compute the convolution of a signal with its index going from right to the left. We will repeat the computation by flipping the kernel array and then computing the convolution with both indices going from the left to the right. We use a padding p = 1, adding a zero to the beginning and to the end of the signal array, and a stride s = 2, moving the kernel over the signal by two elements each time we compute the convolution."
   ]
  },
  {
   "cell_type": "code",
   "execution_count": 83,
   "id": "7ef8cee7",
   "metadata": {},
   "outputs": [
    {
     "data": {
      "text/plain": [
       "array([0, 3, 2, 1, 7, 1, 2, 5, 4, 0])"
      ]
     },
     "execution_count": 83,
     "metadata": {},
     "output_type": "execute_result"
    }
   ],
   "source": [
    "x = np.array([3, 2, 1, 7, 1, 2, 5, 4])\n",
    "x_ = np.append(x, 0) \n",
    "x_pad = np.append(0, x_) # p = 1, so len(x_pad) = len(x) + 2\n",
    "x_pad"
   ]
  },
  {
   "cell_type": "markdown",
   "id": "642035ea",
   "metadata": {},
   "source": [
    "We compute the convolution of the signal x with the kernel w with their indices going in opposite direction"
   ]
  },
  {
   "cell_type": "code",
   "execution_count": 106,
   "id": "2245eb0b",
   "metadata": {},
   "outputs": [
    {
     "data": {
      "text/plain": [
       "7.0"
      ]
     },
     "execution_count": 106,
     "metadata": {},
     "output_type": "execute_result"
    }
   ],
   "source": [
    "w = np.array([0.5, 0.75, 1.0, 0.25])\n",
    "m = len(w)\n",
    "i = 0\n",
    "s = 2 # stride\n",
    "y = sum([x_pad[s * i + m - k] * w[k] for k in range(0, m)])\n",
    "y"
   ]
  },
  {
   "cell_type": "markdown",
   "id": "a35275cc",
   "metadata": {},
   "source": [
    "No we follow the other approach, by flipping the kernel array."
   ]
  },
  {
   "cell_type": "code",
   "execution_count": 107,
   "id": "2f4abedb",
   "metadata": {},
   "outputs": [
    {
     "data": {
      "text/plain": [
       "array([0.25, 1.  , 0.75, 0.5 ])"
      ]
     },
     "execution_count": 107,
     "metadata": {},
     "output_type": "execute_result"
    }
   ],
   "source": [
    "w_flip = w[::-1]\n",
    "w_flip"
   ]
  },
  {
   "cell_type": "code",
   "execution_count": 116,
   "id": "1cc5c463",
   "metadata": {},
   "outputs": [
    {
     "data": {
      "text/plain": [
       "7.0"
      ]
     },
     "execution_count": 116,
     "metadata": {},
     "output_type": "execute_result"
    }
   ],
   "source": [
    "p = 1 # padding\n",
    "s = 2 # stride\n",
    "i = 0\n",
    "y = sum([x_pad[s * i + p + k] * w_flip[k] for k in range(0, m)])\n",
    "y"
   ]
  },
  {
   "cell_type": "code",
   "execution_count": null,
   "id": "c00a7977",
   "metadata": {},
   "outputs": [],
   "source": []
  }
 ],
 "metadata": {
  "kernelspec": {
   "display_name": "Python 3 (ipykernel)",
   "language": "python",
   "name": "python3"
  },
  "language_info": {
   "codemirror_mode": {
    "name": "ipython",
    "version": 3
   },
   "file_extension": ".py",
   "mimetype": "text/x-python",
   "name": "python",
   "nbconvert_exporter": "python",
   "pygments_lexer": "ipython3",
   "version": "3.9.13"
  }
 },
 "nbformat": 4,
 "nbformat_minor": 5
}
