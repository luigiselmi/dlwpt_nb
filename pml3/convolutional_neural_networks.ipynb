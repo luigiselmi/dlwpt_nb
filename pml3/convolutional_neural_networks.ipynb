{
 "cells": [
  {
   "cell_type": "markdown",
   "id": "092036de",
   "metadata": {},
   "source": [
    "# Convolutional Neural Networks\n",
    "The kind of neural network that we have seen so far are fully connected, that is each unit of a layer is connected through  weights to all the units in the following layer. If n is the number of units of the first layer, and m the is the number of units of the second layer, the connections, or weights, between the two layers are represented by a matrix of rank nm. The number of weights in a fully connected multilayer perceptron increases rapidly if we add more than few layers to our network. Another problem of a fully connected layer is that it is not translation invariant (see also the [dlwpt](../dlwpt/ch8/dl_with_pytorch_ch8_convolutions.ipynb) folder for more info)."
   ]
  },
  {
   "cell_type": "code",
   "execution_count": null,
   "id": "0f42dad4",
   "metadata": {},
   "outputs": [],
   "source": []
  }
 ],
 "metadata": {
  "kernelspec": {
   "display_name": "Python 3 (ipykernel)",
   "language": "python",
   "name": "python3"
  },
  "language_info": {
   "codemirror_mode": {
    "name": "ipython",
    "version": 3
   },
   "file_extension": ".py",
   "mimetype": "text/x-python",
   "name": "python",
   "nbconvert_exporter": "python",
   "pygments_lexer": "ipython3",
   "version": "3.9.13"
  }
 },
 "nbformat": 4,
 "nbformat_minor": 5
}
