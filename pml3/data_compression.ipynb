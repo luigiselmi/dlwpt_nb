{
 "cells": [
  {
   "cell_type": "markdown",
   "id": "1d52003d",
   "metadata": {},
   "source": [
    "# Data compression\n",
    "Not all the data we collect is relevant for the task at hand. We might want to reduce the size of the data to lower the computational cost, reduce overfitting, save storage space and even improve the computation results. We have seen how to eliminate less rilevant features from a data set with little loss of information here we address how to reduce the feature space by looking at linear combinations of the original most relevant features in order to represent our data points in a lower-dimensional subspace. "
   ]
  },
  {
   "cell_type": "code",
   "execution_count": 1,
   "id": "0ed88e56",
   "metadata": {},
   "outputs": [
    {
     "name": "stdout",
     "output_type": "stream",
     "text": [
      "numpy version: 1.23.1\n",
      "pandas version: 1.4.3\n"
     ]
    }
   ],
   "source": [
    "import numpy as np\n",
    "import pandas as pd\n",
    "import matplotlib.pyplot as plt\n",
    "import warnings\n",
    "warnings.filterwarnings('ignore')\n",
    "print(\"numpy version: %s\"%np.__version__)\n",
    "print(\"pandas version: %s\"%pd.__version__)"
   ]
  },
  {
   "cell_type": "markdown",
   "id": "e71dcdf7",
   "metadata": {},
   "source": [
    "## The Wine data set"
   ]
  },
  {
   "cell_type": "code",
   "execution_count": 2,
   "id": "41e402fa",
   "metadata": {},
   "outputs": [
    {
     "data": {
      "text/plain": [
       "(178, 14)"
      ]
     },
     "execution_count": 2,
     "metadata": {},
     "output_type": "execute_result"
    }
   ],
   "source": [
    "wine_df = pd.read_csv('https://archive.ics.uci.edu/ml/machine-learning-databases/wine/wine.data', header=None)\n",
    "wine_df.shape"
   ]
  },
  {
   "cell_type": "code",
   "execution_count": 3,
   "id": "8c93874f",
   "metadata": {},
   "outputs": [
    {
     "data": {
      "text/html": [
       "<div>\n",
       "<style scoped>\n",
       "    .dataframe tbody tr th:only-of-type {\n",
       "        vertical-align: middle;\n",
       "    }\n",
       "\n",
       "    .dataframe tbody tr th {\n",
       "        vertical-align: top;\n",
       "    }\n",
       "\n",
       "    .dataframe thead th {\n",
       "        text-align: right;\n",
       "    }\n",
       "</style>\n",
       "<table border=\"1\" class=\"dataframe\">\n",
       "  <thead>\n",
       "    <tr style=\"text-align: right;\">\n",
       "      <th></th>\n",
       "      <th>Class label</th>\n",
       "      <th>Alcohol</th>\n",
       "      <th>Malic acid</th>\n",
       "      <th>Ash</th>\n",
       "      <th>Alcalinity of ash</th>\n",
       "      <th>Magnesium</th>\n",
       "      <th>Total phenols</th>\n",
       "      <th>Flavanoids</th>\n",
       "      <th>Nonflavanoid phenols</th>\n",
       "      <th>Proanthocyanins</th>\n",
       "      <th>Color intensity</th>\n",
       "      <th>Hue</th>\n",
       "      <th>OD280/OD315 of diluted wines</th>\n",
       "      <th>Proline</th>\n",
       "    </tr>\n",
       "  </thead>\n",
       "  <tbody>\n",
       "    <tr>\n",
       "      <th>0</th>\n",
       "      <td>1</td>\n",
       "      <td>14.23</td>\n",
       "      <td>1.71</td>\n",
       "      <td>2.43</td>\n",
       "      <td>15.6</td>\n",
       "      <td>127</td>\n",
       "      <td>2.80</td>\n",
       "      <td>3.06</td>\n",
       "      <td>0.28</td>\n",
       "      <td>2.29</td>\n",
       "      <td>5.64</td>\n",
       "      <td>1.04</td>\n",
       "      <td>3.92</td>\n",
       "      <td>1065</td>\n",
       "    </tr>\n",
       "    <tr>\n",
       "      <th>1</th>\n",
       "      <td>1</td>\n",
       "      <td>13.20</td>\n",
       "      <td>1.78</td>\n",
       "      <td>2.14</td>\n",
       "      <td>11.2</td>\n",
       "      <td>100</td>\n",
       "      <td>2.65</td>\n",
       "      <td>2.76</td>\n",
       "      <td>0.26</td>\n",
       "      <td>1.28</td>\n",
       "      <td>4.38</td>\n",
       "      <td>1.05</td>\n",
       "      <td>3.40</td>\n",
       "      <td>1050</td>\n",
       "    </tr>\n",
       "    <tr>\n",
       "      <th>2</th>\n",
       "      <td>1</td>\n",
       "      <td>13.16</td>\n",
       "      <td>2.36</td>\n",
       "      <td>2.67</td>\n",
       "      <td>18.6</td>\n",
       "      <td>101</td>\n",
       "      <td>2.80</td>\n",
       "      <td>3.24</td>\n",
       "      <td>0.30</td>\n",
       "      <td>2.81</td>\n",
       "      <td>5.68</td>\n",
       "      <td>1.03</td>\n",
       "      <td>3.17</td>\n",
       "      <td>1185</td>\n",
       "    </tr>\n",
       "  </tbody>\n",
       "</table>\n",
       "</div>"
      ],
      "text/plain": [
       "   Class label  Alcohol  Malic acid   Ash  Alcalinity of ash  Magnesium  \\\n",
       "0            1    14.23        1.71  2.43               15.6        127   \n",
       "1            1    13.20        1.78  2.14               11.2        100   \n",
       "2            1    13.16        2.36  2.67               18.6        101   \n",
       "\n",
       "   Total phenols  Flavanoids  Nonflavanoid phenols  Proanthocyanins  \\\n",
       "0           2.80        3.06                  0.28             2.29   \n",
       "1           2.65        2.76                  0.26             1.28   \n",
       "2           2.80        3.24                  0.30             2.81   \n",
       "\n",
       "   Color intensity   Hue  OD280/OD315 of diluted wines  Proline  \n",
       "0             5.64  1.04                          3.92     1065  \n",
       "1             4.38  1.05                          3.40     1050  \n",
       "2             5.68  1.03                          3.17     1185  "
      ]
     },
     "execution_count": 3,
     "metadata": {},
     "output_type": "execute_result"
    }
   ],
   "source": [
    "wine_df.columns = ['Class label', 'Alcohol', 'Malic acid', 'Ash',\n",
    "                   'Alcalinity of ash', 'Magnesium', 'Total phenols',\n",
    "                   'Flavanoids', 'Nonflavanoid phenols', 'Proanthocyanins',\n",
    "                   'Color intensity', 'Hue', 'OD280/OD315 of diluted wines',\n",
    "                   'Proline']\n",
    "wine_df.head(3)"
   ]
  },
  {
   "cell_type": "markdown",
   "id": "6cbb904a",
   "metadata": {},
   "source": [
    "## Data partition"
   ]
  },
  {
   "cell_type": "code",
   "execution_count": 4,
   "id": "cdfff282",
   "metadata": {},
   "outputs": [],
   "source": [
    "from sklearn.model_selection import train_test_split\n",
    "\n",
    "X, y = wine_df.iloc[:, 1:].values, wine_df.iloc[:, 0].values\n",
    "X_train, X_test, y_train, y_test =train_test_split(X, y, test_size=0.3, random_state=0, stratify=y)"
   ]
  },
  {
   "cell_type": "markdown",
   "id": "d20bb93d",
   "metadata": {},
   "source": [
    "## Data standardization"
   ]
  },
  {
   "cell_type": "code",
   "execution_count": 5,
   "id": "4acd8189",
   "metadata": {},
   "outputs": [],
   "source": [
    "from sklearn.preprocessing import StandardScaler\n",
    "\n",
    "stdsc = StandardScaler()\n",
    "X_train_std = stdsc.fit_transform(X_train)\n",
    "X_test_std = stdsc.transform(X_test)"
   ]
  },
  {
   "cell_type": "markdown",
   "id": "396d20d4",
   "metadata": {},
   "source": [
    "## Principal Component Analysis\n",
    "The Principal Component Analysis is a technique used to reduce the space dimensionality a the data set. The information in the dataset is where the variance is higher so the basic idea is to find out the direction that contains the largest variance and then another direction, orthogonal to the first one, that contains what has been left from the first direction and so on till we have the amount of information that we want in a lower dimensional space. The steps to achieve this result are\n",
    "\n",
    "1. Compute the covariance matrix $\\Sigma$\n",
    "2. Compute the eigen vectors and eigen values of the covariance matrix\n",
    "3. Select the eigen vectors that contain most of the information (largest eigen values)\n",
    "4. Build a projection matrix $W$ from the selected eigen vectors\n",
    "5. Project the original data points onto the eigen vectors space so that $X'=XW$"
   ]
  },
  {
   "cell_type": "markdown",
   "id": "e203d844",
   "metadata": {},
   "source": [
    "### Covariance matrix\n",
    "We use the covariance matrix to figure out whether there are features that are not completely independent. If there is any kind of relationships we might use only a subset of the original features instead of the full set of features without any loss of information. If the relationship cannot be decribed as an analytical function we still may use it to reduce the dimesional space but with some loss of information. The element of a covariance matrix is defined as \n",
    "\n",
    "$$\\sigma_{jk} = \\sum_{i=1}^n (x_j^{(i)} - \\mu_j)(x_k^{(i)} - \\mu_k)$$\n",
    "\n",
    "where $\\mu_J$ and $\\mu_k$ are the sample mean of feature j and k respectively.\n",
    "\n",
    "NumPy provides a function to compute the covariance matrix and we will use it to compute the covariance matrix of the Wine data set and its eigen values and eigen vectors."
   ]
  },
  {
   "cell_type": "code",
   "execution_count": 6,
   "id": "011e5504",
   "metadata": {},
   "outputs": [
    {
     "name": "stdout",
     "output_type": "stream",
     "text": [
      "\n",
      "Eigenvalues \n",
      " [4.84274532 2.41602459 1.54845825 0.96120438 0.84166161 0.6620634\n",
      " 0.51828472 0.34650377 0.3131368  0.10754642 0.21357215 0.15362835\n",
      " 0.1808613 ]\n"
     ]
    }
   ],
   "source": [
    "import numpy as np\n",
    "cov_mat = np.cov(X_train_std.T)\n",
    "eigen_vals, eigen_vecs = np.linalg.eig(cov_mat)\n",
    "\n",
    "print('\\nEigenvalues \\n', eigen_vals)"
   ]
  },
  {
   "cell_type": "markdown",
   "id": "f16555ba",
   "metadata": {},
   "source": [
    "The eigen values tell us which combination of feautures holds most of the variance. We can see that the first three eigen vectors contain 67% of the variance that is information."
   ]
  },
  {
   "cell_type": "code",
   "execution_count": 7,
   "id": "479fac62",
   "metadata": {},
   "outputs": [
    {
     "data": {
      "text/plain": [
       "0.6720155475408881"
      ]
     },
     "execution_count": 7,
     "metadata": {},
     "output_type": "execute_result"
    }
   ],
   "source": [
    "tot = sum(eigen_vals)\n",
    "var_exp = [(i / tot) for i in sorted(eigen_vals, reverse=True)]\n",
    "cum_var_exp = np.cumsum(var_exp)\n",
    "sum(var_exp[:3])"
   ]
  },
  {
   "cell_type": "code",
   "execution_count": 8,
   "id": "c3fd6038",
   "metadata": {},
   "outputs": [
    {
     "data": {
      "image/png": "[encoded data removed]",
      "text/plain": [
       "<Figure size 432x288 with 1 Axes>"
      ]
     },
     "metadata": {
      "needs_background": "light"
     },
     "output_type": "display_data"
    }
   ],
   "source": [
    "plt.bar(range(1, 14), var_exp, align='center', label='Individual explained variance')\n",
    "plt.step(range(1, 14), cum_var_exp, where='mid', label='Cumulative explained variance')\n",
    "plt.ylabel('Explained variance ratio')\n",
    "plt.xlabel('Principal component index')\n",
    "plt.legend(loc='best')\n",
    "plt.tight_layout()\n",
    "plt.show()"
   ]
  },
  {
   "cell_type": "markdown",
   "id": "6328b977",
   "metadata": {},
   "source": [
    "The idea of PCA is to select the most important eigen vectors and map the input data set to the lower dimensional space defined by the selected high rank eigen vectors.  "
   ]
  },
  {
   "cell_type": "code",
   "execution_count": 9,
   "id": "37645a14",
   "metadata": {},
   "outputs": [],
   "source": [
    "# Make a list of (eigenvalue, eigenvector) tuples\n",
    "eigen_pairs = [(np.abs(eigen_vals[i]), eigen_vecs[:, i]) for i in range(len(eigen_vals))]\n",
    "\n",
    "# Sort the (eigenvalue, eigenvector) tuples from high to low\n",
    "eigen_pairs.sort(key=lambda k: k[0], reverse=True)"
   ]
  },
  {
   "cell_type": "markdown",
   "id": "d68dcfbe",
   "metadata": {},
   "source": [
    "We select two eigen vectors that define the space onto we want to project the input data. The two eigen vectors will define our projection matrix W from the original 13-dimensional space to the 2-dimensional eigen vectors space."
   ]
  },
  {
   "cell_type": "code",
   "execution_count": 10,
   "id": "235ebdb4",
   "metadata": {},
   "outputs": [
    {
     "data": {
      "text/plain": [
       "(13, 2)"
      ]
     },
     "execution_count": 10,
     "metadata": {},
     "output_type": "execute_result"
    }
   ],
   "source": [
    "W = np.hstack((eigen_pairs[0][1][:, np.newaxis],\n",
    "               eigen_pairs[1][1][:, np.newaxis]))\n",
    "W.shape"
   ]
  },
  {
   "cell_type": "markdown",
   "id": "bfeef1a0",
   "metadata": {},
   "source": [
    "The projection of the data points from the original space 13-dimensional space onto the 2-dimensional eigen vectors space can be done via matrix multiplication. After the transformation each data point wil have two coordinates in the 2D eigen vectors space."
   ]
  },
  {
   "cell_type": "code",
   "execution_count": 11,
   "id": "414af67a",
   "metadata": {},
   "outputs": [
    {
     "data": {
      "text/plain": [
       "(124, 2)"
      ]
     },
     "execution_count": 11,
     "metadata": {},
     "output_type": "execute_result"
    }
   ],
   "source": [
    "X_train_pca = X_train_std.dot(W)\n",
    "X_train_pca.shape"
   ]
  },
  {
   "cell_type": "code",
   "execution_count": 12,
   "id": "5b83c077",
   "metadata": {},
   "outputs": [
    {
     "data": {
      "image/png": "[encoded data removed]",
      "text/plain": [
       "<Figure size 432x288 with 1 Axes>"
      ]
     },
     "metadata": {
      "needs_background": "light"
     },
     "output_type": "display_data"
    }
   ],
   "source": [
    "colors = ['r', 'b', 'g']\n",
    "markers = ['o', 's', '^']\n",
    "\n",
    "for l, c, m in zip(np.unique(y_train), colors, markers):\n",
    "    plt.scatter(X_train_pca[y_train == l, 0], \n",
    "                X_train_pca[y_train == l, 1], \n",
    "                c=c, label=f'Class {l}', marker=m)\n",
    "\n",
    "plt.xlabel('PC 1')\n",
    "plt.ylabel('PC 2')\n",
    "plt.legend(loc='lower left')\n",
    "plt.tight_layout()\n",
    "plt.show()"
   ]
  },
  {
   "cell_type": "markdown",
   "id": "1cdde864",
   "metadata": {},
   "source": [
    "The contribution of the original features to each eigen vector are represented by the elements of the W matrix\n",
    "\n",
    "$$x'_{ij} = \\sum_{j=1}^n w_{ij}x_j$$\n",
    "\n",
    "The coefficients $w_{ij}$ are called *loadings*. We can compute the contributions of the original features to each eigen vector x' as the ratio of the variance of the eigen vector and the sum of the variances of the original features. Since the mean value of the eigen vector."
   ]
  },
  {
   "cell_type": "code",
   "execution_count": 13,
   "id": "0598bea6",
   "metadata": {},
   "outputs": [
    {
     "data": {
      "image/png": "[encoded data removed]",
      "text/plain": [
       "<Figure size 432x288 with 1 Axes>"
      ]
     },
     "metadata": {
      "needs_background": "light"
     },
     "output_type": "display_data"
    }
   ],
   "source": [
    "loadings = eigen_vecs * np.sqrt(eigen_vals)\n",
    "\n",
    "fig, ax = plt.subplots()\n",
    "\n",
    "ax.bar(range(13), loadings[:, 0], align='center')\n",
    "ax.set_ylabel('Loadings for PC 1')\n",
    "ax.set_xticks(range(13))\n",
    "ax.set_xticklabels(wine_df.columns[1:], rotation=90)\n",
    "\n",
    "plt.ylim([-1, 1])\n",
    "plt.tight_layout()\n",
    "plt.show()"
   ]
  },
  {
   "cell_type": "markdown",
   "id": "64363310",
   "metadata": {},
   "source": [
    "## PCA with Scikit-Learn\n",
    "Scikit-Learn provides several algorithm for principal components analysis. The [PCA](https://scikit-learn.org/stable/modules/decomposition.html#principal-component-analysis-pca) module that we use returns the eigen vectors and eigen values and is based on the singular value decomposition ([SVD](https://en.wikipedia.org/wiki/Singular_value_decomposition)) algorithm."
   ]
  },
  {
   "cell_type": "code",
   "execution_count": 14,
   "id": "81b49fc1",
   "metadata": {},
   "outputs": [
    {
     "data": {
      "text/plain": [
       "1.0"
      ]
     },
     "execution_count": 14,
     "metadata": {},
     "output_type": "execute_result"
    }
   ],
   "source": [
    "from sklearn.decomposition import PCA\n",
    "\n",
    "pca = PCA()\n",
    "X_train_pca = pca.fit_transform(X_train_std)\n",
    "sum(pca.explained_variance_ratio_)"
   ]
  },
  {
   "cell_type": "markdown",
   "id": "acec5f4f",
   "metadata": {},
   "source": [
    "We plot the data using only the first two eigen vectors"
   ]
  },
  {
   "cell_type": "code",
   "execution_count": 15,
   "id": "597dc94b",
   "metadata": {},
   "outputs": [
    {
     "data": {
      "image/png": "[encoded data removed]",
      "text/plain": [
       "<Figure size 432x288 with 1 Axes>"
      ]
     },
     "metadata": {
      "needs_background": "light"
     },
     "output_type": "display_data"
    }
   ],
   "source": [
    "plt.scatter(X_train_pca[:, 0], X_train_pca[:, 1])\n",
    "plt.xlabel('PC 1')\n",
    "plt.ylabel('PC 2')\n",
    "plt.show()"
   ]
  },
  {
   "cell_type": "markdown",
   "id": "7f84aa45",
   "metadata": {},
   "source": [
    "Once we have the Wine data in a 2-dimensional space we can classify the data points using one of the algorithms we have seen, such as logistic regression."
   ]
  },
  {
   "cell_type": "code",
   "execution_count": 16,
   "id": "aa72c818",
   "metadata": {},
   "outputs": [],
   "source": [
    "from sklearn.linear_model import LogisticRegression\n",
    "\n",
    "pca = PCA(n_components=2)\n",
    "X_train_pca = pca.fit_transform(X_train_std)\n",
    "X_test_pca = pca.transform(X_test_std)\n",
    "\n",
    "lr = LogisticRegression(multi_class='ovr', random_state=1, solver='lbfgs')\n",
    "lr = lr.fit(X_train_pca, y_train)"
   ]
  },
  {
   "cell_type": "code",
   "execution_count": 43,
   "id": "70742190",
   "metadata": {},
   "outputs": [
    {
     "data": {
      "image/png": "[encoded data removed]",
      "text/plain": [
       "<Figure size 432x288 with 1 Axes>"
      ]
     },
     "metadata": {
      "needs_background": "light"
     },
     "output_type": "display_data"
    }
   ],
   "source": [
    "import plot_decision_regions_script\n",
    "plot_decision_regions_script.plot_decision_regions(X_train_pca, y_train, classifier=lr)\n",
    "plt.xlabel('PC 1')\n",
    "plt.ylabel('PC 2')\n",
    "plt.legend(loc='lower left')\n",
    "plt.tight_layout()\n",
    "plt.show()"
   ]
  },
  {
   "cell_type": "markdown",
   "id": "101f1655",
   "metadata": {},
   "source": [
    "## Linear Discriminant Analysis\n",
    "Linear discriminant analysis is a classification algorithm that can also be used for dimensionality reduction. One main difference with PCA is that it is a supervised algorithm and the data must include the labels. It is also assumed that the data is normally distributed and the classes have identical covariance matrices. For each class we will have a vector of mean values of size 13. "
   ]
  },
  {
   "cell_type": "markdown",
   "id": "6f680960",
   "metadata": {},
   "source": [
    "We start by computing the mean values of the 13 features available for the three classes of the Wine data set. "
   ]
  },
  {
   "cell_type": "code",
   "execution_count": 18,
   "id": "599d3aab",
   "metadata": {},
   "outputs": [
    {
     "name": "stdout",
     "output_type": "stream",
     "text": [
      "MV 1: [ 0.9065826  -0.34973457  0.32010329 -0.71891449  0.50558678  0.88069702\n",
      "  0.95894709 -0.55161049  0.54159322  0.23383109  0.58971299  0.65631399\n",
      "  1.20749382]\n",
      "\n",
      "MV 2: [-0.87487963 -0.28480003 -0.37347228  0.31571225 -0.38480347 -0.04332505\n",
      "  0.06345321 -0.09460613  0.07034749 -0.82860474  0.31436962  0.36084258\n",
      " -0.72528643]\n",
      "\n",
      "MV 3: [ 0.199215    0.8660339   0.168163    0.41484489 -0.04511771 -1.02855532\n",
      " -1.28756034  0.82867687 -0.77947565  0.96494432 -1.20899133 -1.36215159\n",
      " -0.40130076]\n",
      "\n"
     ]
    }
   ],
   "source": [
    "mean_vecs = []\n",
    "for label in range(1, 4):\n",
    "    mean_vecs.append(np.mean(X_train_std[y_train == label], axis=0))\n",
    "    print(f'MV {label}: {mean_vecs[label - 1]}\\n')"
   ]
  },
  {
   "cell_type": "markdown",
   "id": "3885df56",
   "metadata": {},
   "source": [
    "We compute the scatter matrix for each class then we compute the *within-class* scatter matrix $S_W$ by adding the three individual scatter matrices together. The scatter matrix is a normalized version of the covariance matrix. "
   ]
  },
  {
   "cell_type": "code",
   "execution_count": 22,
   "id": "aa606ea0",
   "metadata": {},
   "outputs": [
    {
     "name": "stdout",
     "output_type": "stream",
     "text": [
      "Within-class scatter matrix: 13x13\n"
     ]
    }
   ],
   "source": [
    "d = 13 # number of features\n",
    "S_W = np.zeros((d, d))\n",
    "for label, mv in zip(range(1, 4), mean_vecs):\n",
    "    class_scatter = np.zeros((d, d))  # scatter matrix for each class\n",
    "    for row in X_train_std[y_train == label]:\n",
    "        row, mv = row.reshape(d, 1), mv.reshape(d, 1)  # make column vectors\n",
    "        class_scatter += (row - mv).dot((row - mv).T)\n",
    "    S_W += class_scatter                          # sum class scatter matrices\n",
    "\n",
    "print('Within-class scatter matrix: 'f'{S_W.shape[0]}x{S_W.shape[1]}')"
   ]
  },
  {
   "cell_type": "code",
   "execution_count": 23,
   "id": "f3e18285",
   "metadata": {},
   "outputs": [
    {
     "name": "stdout",
     "output_type": "stream",
     "text": [
      "Scaled within-class scatter matrix: 13x13\n"
     ]
    }
   ],
   "source": [
    "d = 13  # number of features\n",
    "S_W = np.zeros((d, d))\n",
    "for label, mv in zip(range(1, 4), mean_vecs):\n",
    "    class_scatter = np.cov(X_train_std[y_train == label].T)\n",
    "    S_W += class_scatter\n",
    "    \n",
    "print('Scaled within-class scatter matrix: '\n",
    "      f'{S_W.shape[0]}x{S_W.shape[1]}')"
   ]
  },
  {
   "cell_type": "markdown",
   "id": "59939f08",
   "metadata": {},
   "source": [
    "Now we compute the *between-class* scatter matrix $S_B$. We compute the mean of each feature independently of the class"
   ]
  },
  {
   "cell_type": "code",
   "execution_count": 26,
   "id": "744e3faa",
   "metadata": {},
   "outputs": [
    {
     "data": {
      "text/plain": [
       "(13, 1)"
      ]
     },
     "execution_count": 26,
     "metadata": {},
     "output_type": "execute_result"
    }
   ],
   "source": [
    "mean_overall = np.mean(X_train_std, axis=0)\n",
    "mean_overall = mean_overall.reshape(d, 1)  # make column vector\n",
    "mean_overall.shape"
   ]
  },
  {
   "cell_type": "code",
   "execution_count": 28,
   "id": "5f5628c4",
   "metadata": {},
   "outputs": [
    {
     "name": "stdout",
     "output_type": "stream",
     "text": [
      "Between-class scatter matrix: 13x13\n"
     ]
    }
   ],
   "source": [
    "d = 13  # number of features\n",
    "S_B = np.zeros((d, d))\n",
    "\n",
    "for i, mean_vec in enumerate(mean_vecs):\n",
    "    n = X_train_std[y_train == i + 1, :].shape[0]\n",
    "    mean_vec = mean_vec.reshape(d, 1)  # make column vector\n",
    "    S_B += n * (mean_vec - mean_overall).dot((mean_vec - mean_overall).T)\n",
    "\n",
    "print('Between-class scatter matrix: 'f'{S_B.shape[0]}x{S_B.shape[1]}')"
   ]
  },
  {
   "cell_type": "markdown",
   "id": "6b4999a6",
   "metadata": {},
   "source": [
    "We compute the eigen vectors and eigen values of the matrix product $S_W^{-1}S_B$"
   ]
  },
  {
   "cell_type": "code",
   "execution_count": 33,
   "id": "73b58b5b",
   "metadata": {},
   "outputs": [
    {
     "data": {
      "text/plain": [
       "array([ 0.00000000e+00+0.00000000e+00j,  1.72761522e+02+0.00000000e+00j,\n",
       "        3.49617809e+02+0.00000000e+00j, -1.80300097e-14+2.66903779e-14j,\n",
       "       -1.80300097e-14-2.66903779e-14j,  2.61065234e-14+0.00000000e+00j,\n",
       "       -1.22406096e-14+1.18530267e-14j, -1.22406096e-14-1.18530267e-14j,\n",
       "        9.05226076e-16+1.68512481e-14j,  9.05226076e-16-1.68512481e-14j,\n",
       "        7.58495017e-15+0.00000000e+00j, -2.37335353e-15+1.73721395e-15j,\n",
       "       -2.37335353e-15-1.73721395e-15j])"
      ]
     },
     "execution_count": 33,
     "metadata": {},
     "output_type": "execute_result"
    }
   ],
   "source": [
    "eigen_vals, eigen_vecs = np.linalg.eig(np.linalg.inv(S_W).dot(S_B))\n",
    "eigen_vals"
   ]
  },
  {
   "cell_type": "markdown",
   "id": "a1d7ba84",
   "metadata": {},
   "source": [
    "We sort the pairs of eigen values and corresponding eigen vectors by descending order"
   ]
  },
  {
   "cell_type": "code",
   "execution_count": 34,
   "id": "1a011050",
   "metadata": {},
   "outputs": [
    {
     "name": "stdout",
     "output_type": "stream",
     "text": [
      "Eigenvalues in descending order:\n",
      "\n",
      "349.61780890599397\n",
      "172.76152218979385\n",
      "3.2209587419662555e-14\n",
      "3.2209587419662555e-14\n",
      "2.6106523402387364e-14\n",
      "1.7038977764581827e-14\n",
      "1.7038977764581827e-14\n",
      "1.687554433463065e-14\n",
      "1.687554433463065e-14\n",
      "7.584950171788759e-15\n",
      "2.9412105155181146e-15\n",
      "2.9412105155181146e-15\n",
      "0.0\n"
     ]
    }
   ],
   "source": [
    "# Make a list of (eigenvalue, eigenvector) tuples\n",
    "eigen_pairs = [(np.abs(eigen_vals[i]), eigen_vecs[:, i]) for i in range(len(eigen_vals))]\n",
    "\n",
    "# Sort the (eigenvalue, eigenvector) tuples from high to low\n",
    "eigen_pairs = sorted(eigen_pairs, key=lambda k: k[0], reverse=True)\n",
    "\n",
    "# Visually confirm that the list is correctly sorted by decreasing eigenvalues\n",
    "print('Eigenvalues in descending order:\\n')\n",
    "for eigen_val in eigen_pairs:\n",
    "    print(eigen_val[0])"
   ]
  },
  {
   "cell_type": "markdown",
   "id": "b4d75289",
   "metadata": {},
   "source": [
    "We stack the eigen vectors together to build the W matrix to project the data points from the original features space to the 2D-dimensional subspace of the largest eigenvectors  "
   ]
  },
  {
   "cell_type": "code",
   "execution_count": 38,
   "id": "75e9a127",
   "metadata": {},
   "outputs": [
    {
     "name": "stdout",
     "output_type": "stream",
     "text": [
      "Matrix W:\n",
      " (13, 2)\n"
     ]
    }
   ],
   "source": [
    "W = np.hstack((eigen_pairs[0][1][:, np.newaxis].real,\n",
    "              eigen_pairs[1][1][:, np.newaxis].real))\n",
    "print('Matrix W:\\n', W.shape)"
   ]
  },
  {
   "cell_type": "markdown",
   "id": "cc1d8247",
   "metadata": {},
   "source": [
    "The projection is computed by a matrix multiplication: X' = WX. "
   ]
  },
  {
   "cell_type": "code",
   "execution_count": 47,
   "id": "8013444d",
   "metadata": {},
   "outputs": [
    {
     "data": {
      "image/png": "[encoded data removed]",
      "text/plain": [
       "<Figure size 432x288 with 1 Axes>"
      ]
     },
     "metadata": {
      "needs_background": "light"
     },
     "output_type": "display_data"
    }
   ],
   "source": [
    "X_train_lda = X_train_std.dot(W)\n",
    "colors = ['r', 'b', 'g']\n",
    "markers = ['o', 's', '^']\n",
    "\n",
    "for l, c, m in zip(np.unique(y_train), colors, markers):\n",
    "    plt.scatter(X_train_lda[y_train == l, 0],\n",
    "                X_train_lda[y_train == l, 1] * (-1),\n",
    "                c=c, label=f'Class {l}', marker=m)\n",
    "\n",
    "plt.xlabel('LD 1')\n",
    "plt.ylabel('LD 2')\n",
    "plt.legend(loc='lower right')\n",
    "plt.tight_layout()\n",
    "plt.show()"
   ]
  },
  {
   "cell_type": "markdown",
   "id": "33033c5b",
   "metadata": {},
   "source": [
    "We can use the projected data points to determine the boundaries between the three classes using the logistic regression algorithm."
   ]
  },
  {
   "cell_type": "code",
   "execution_count": 44,
   "id": "140aef73",
   "metadata": {},
   "outputs": [],
   "source": [
    "from sklearn.linear_model import LogisticRegression\n",
    "\n",
    "lr = LogisticRegression(multi_class='ovr', random_state=1, solver='lbfgs')\n",
    "lr = lr.fit(X_train_lda, y_train)"
   ]
  },
  {
   "cell_type": "code",
   "execution_count": 46,
   "id": "7a235cfd",
   "metadata": {},
   "outputs": [
    {
     "data": {
      "image/png": "[encoded data removed]",
      "text/plain": [
       "<Figure size 432x288 with 1 Axes>"
      ]
     },
     "metadata": {
      "needs_background": "light"
     },
     "output_type": "display_data"
    }
   ],
   "source": [
    "import plot_decision_regions_script as pdr\n",
    "pdr.plot_decision_regions(X_train_lda, y_train, classifier=lr)\n",
    "plt.xlabel('LD 1')\n",
    "plt.ylabel('LD 2')\n",
    "plt.legend(loc='lower left')\n",
    "plt.tight_layout()\n",
    "plt.show()"
   ]
  },
  {
   "cell_type": "code",
   "execution_count": null,
   "id": "d57b7b07",
   "metadata": {},
   "outputs": [],
   "source": []
  }
 ],
 "metadata": {
  "kernelspec": {
   "display_name": "Python 3 (ipykernel)",
   "language": "python",
   "name": "python3"
  },
  "language_info": {
   "codemirror_mode": {
    "name": "ipython",
    "version": 3
   },
   "file_extension": ".py",
   "mimetype": "text/x-python",
   "name": "python",
   "nbconvert_exporter": "python",
   "pygments_lexer": "ipython3",
   "version": "3.9.13"
  }
 },
 "nbformat": 4,
 "nbformat_minor": 5
}
