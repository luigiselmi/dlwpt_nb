{
 "cells": [
  {
   "cell_type": "markdown",
   "id": "16de8f17",
   "metadata": {},
   "source": [
    "# Logistic regression\n",
    "[Logistic regression](https://en.wikipedia.org/wiki/Logistic_regression) is a classification algorithm. It is based on the sigmoid function\n",
    "\n",
    "$$\\sigma(x) = \\frac{1}{1 + e^{-x}}$$\n",
    "\n",
    "where $x \\in (-\\infty, \\infty)$ and $\\sigma \\in [0, 1]$"
   ]
  },
  {
   "cell_type": "code",
   "execution_count": 1,
   "id": "4b9d955c",
   "metadata": {},
   "outputs": [
    {
     "name": "stdout",
     "output_type": "stream",
     "text": [
      "numpy version: 1.23.1\n",
      "pandas version: 1.4.3\n"
     ]
    }
   ],
   "source": [
    "from sklearn import datasets\n",
    "import numpy as np\n",
    "import pandas as pd\n",
    "import matplotlib.pyplot as plt\n",
    "import warnings\n",
    "warnings.filterwarnings('ignore')\n",
    "print(\"numpy version: %s\"%np.__version__)\n",
    "print(\"pandas version: %s\"%pd.__version__)"
   ]
  },
  {
   "cell_type": "markdown",
   "id": "475ac9b7",
   "metadata": {},
   "source": [
    "We define the sigmoid function"
   ]
  },
  {
   "cell_type": "code",
   "execution_count": 2,
   "id": "224b4f7d",
   "metadata": {},
   "outputs": [],
   "source": [
    "def sigmoid(z):\n",
    "    return 1.0 / (1.0 + np.exp(-z))"
   ]
  },
  {
   "cell_type": "markdown",
   "id": "abce7d18",
   "metadata": {},
   "source": [
    "We compute a sample of the sigmoid function within a predefined interval"
   ]
  },
  {
   "cell_type": "code",
   "execution_count": 6,
   "id": "65422f55",
   "metadata": {},
   "outputs": [],
   "source": [
    "x = np.linspace(-10, 10, 100) # start = -10, stop = 10, samples = 100\n",
    "sigma = sigmoid(x)"
   ]
  },
  {
   "cell_type": "markdown",
   "id": "5bb4da2e",
   "metadata": {},
   "source": [
    "Finally we plot the sigmoid function"
   ]
  },
  {
   "cell_type": "code",
   "execution_count": 4,
   "id": "6d067b2c",
   "metadata": {},
   "outputs": [
    {
     "data": {
      "text/plain": [
       "[<matplotlib.lines.Line2D at 0x1bca478d820>]"
      ]
     },
     "execution_count": 4,
     "metadata": {},
     "output_type": "execute_result"
    },
    {
     "data": {
      "image/png": "[encoded data removed]",
      "text/plain": [
       "<Figure size 432x288 with 1 Axes>"
      ]
     },
     "metadata": {
      "needs_background": "light"
     },
     "output_type": "display_data"
    }
   ],
   "source": [
    "plt.axvline(0.0, color='k')\n",
    "plt.ylim(-0.1, 1.1)\n",
    "plt.xlabel('x')\n",
    "plt.ylabel('$\\sigma (z)$')\n",
    "plt.yticks([0.0, 0.5, 1.0])\n",
    "ax = plt.gca()\n",
    "ax.yaxis.grid(True)\n",
    "plt.plot(x, sigma)"
   ]
  },
  {
   "cell_type": "markdown",
   "id": "8bbe6a31",
   "metadata": {},
   "source": [
    "The sigmoid is used as the activation function in logistic regression. The difference compared to the perceptron is that the sigmoid is differentiable everywhere while the threshold function, used as the perceptron's activation function, is not. The idea in logistic regression is to use the output of the sigmoid actvation function to determine the class of the input\n",
    "\n",
    "$$y = \\Biggl\\{  \\begin{matrix} 1 & \\sigma(x, w) > 0.5 \\\\ 0 & otherwise \\end{matrix}$$\n",
    "\n",
    "where x represents the input and w represents the parameters that have to be learnt from a training data set\n",
    "\n",
    "$$\\sigma(x, w) = \\frac{1}{1 + e^{-wx}}$$\n",
    "\n",
    "The model can learn the layer parameters w by minimizing a cost function\n",
    "\n",
    "\n",
    "$$J(w) = \\sum_{i = 1}^N (\\sigma(x_i, w) - y_i)^2$$"
   ]
  },
  {
   "cell_type": "markdown",
   "id": "6e733e4f",
   "metadata": {},
   "source": [
    "## Binomial distribution\n",
    "The binomial distribution is a discrete distribution and represents the probability of k successes out of n trials when the chance for each trial is p. It is given by the Bernoulli distribution $p^k (1 - p)^{(1 - k)}$ times the number of ways in which k successes can be obtained in n trials   \n",
    "$$Bin(n, p) = \\binom{n}{k} p^k (1 - p)^{(1 - k)} $$\n",
    "where\n",
    "$$\\binom{n}{k} = \\frac{n!}{k!(n-k)!}$$"
   ]
  },
  {
   "cell_type": "code",
   "execution_count": 128,
   "id": "f8a2a79d",
   "metadata": {},
   "outputs": [],
   "source": [
    "from scipy.stats import binom\n",
    "p = 0.5\n",
    "n = 10\n",
    "a = binom.ppf(0.01, n, p)\n",
    "b = binom.ppf(0.99, n, p)\n",
    "trials = np.arange(a, b)\n",
    "prob_success = binom(n, p).pmf(trials)"
   ]
  },
  {
   "cell_type": "code",
   "execution_count": 130,
   "id": "ffecb770",
   "metadata": {},
   "outputs": [
    {
     "data": {
      "image/png": "[encoded data removed]",
      "text/plain": [
       "<Figure size 432x288 with 1 Axes>"
      ]
     },
     "metadata": {
      "needs_background": "light"
     },
     "output_type": "display_data"
    }
   ],
   "source": [
    "fig, ax = plt.subplots(1, 1)\n",
    "ax.vlines(trials, 0, prob_success, colors='blue', linestyles='-', lw=1)\n",
    "ax.set_xlabel('k')\n",
    "plt.show()"
   ]
  },
  {
   "cell_type": "code",
   "execution_count": null,
   "id": "0b1839f2",
   "metadata": {},
   "outputs": [],
   "source": []
  }
 ],
 "metadata": {
  "kernelspec": {
   "display_name": "Python 3 (ipykernel)",
   "language": "python",
   "name": "python3"
  },
  "language_info": {
   "codemirror_mode": {
    "name": "ipython",
    "version": 3
   },
   "file_extension": ".py",
   "mimetype": "text/x-python",
   "name": "python",
   "nbconvert_exporter": "python",
   "pygments_lexer": "ipython3",
   "version": "3.9.13"
  }
 },
 "nbformat": 4,
 "nbformat_minor": 5
}
