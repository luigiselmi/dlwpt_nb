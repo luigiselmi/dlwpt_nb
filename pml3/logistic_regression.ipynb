{
 "cells": [
  {
   "cell_type": "markdown",
   "id": "16de8f17",
   "metadata": {},
   "source": [
    "# Logistic regression\n",
    "[Logistic regression](https://en.wikipedia.org/wiki/Logistic_regression) is a classification algorithm. It is based on the sigmoid function\n",
    "\n",
    "$$\\sigma(x) = \\frac{1}{1 + e^{-x}}$$\n",
    "\n",
    "where $x \\in (-\\infty, \\infty)$ and $\\sigma \\in [0, 1]$"
   ]
  },
  {
   "cell_type": "code",
   "execution_count": 1,
   "id": "4b9d955c",
   "metadata": {},
   "outputs": [
    {
     "name": "stdout",
     "output_type": "stream",
     "text": [
      "numpy version: 1.23.1\n",
      "pandas version: 1.4.3\n"
     ]
    }
   ],
   "source": [
    "import numpy as np\n",
    "import pandas as pd\n",
    "import matplotlib.pyplot as plt\n",
    "import warnings\n",
    "warnings.filterwarnings('ignore')\n",
    "print(\"numpy version: %s\"%np.__version__)\n",
    "print(\"pandas version: %s\"%pd.__version__)"
   ]
  },
  {
   "cell_type": "markdown",
   "id": "475ac9b7",
   "metadata": {},
   "source": [
    "We define the sigmoid function"
   ]
  },
  {
   "cell_type": "code",
   "execution_count": 2,
   "id": "224b4f7d",
   "metadata": {},
   "outputs": [],
   "source": [
    "def sigmoid(z):\n",
    "    return 1.0 / (1.0 + np.exp(-z))"
   ]
  },
  {
   "cell_type": "markdown",
   "id": "abce7d18",
   "metadata": {},
   "source": [
    "We compute a sample of the sigmoid function within a predefined interval"
   ]
  },
  {
   "cell_type": "code",
   "execution_count": 3,
   "id": "65422f55",
   "metadata": {},
   "outputs": [],
   "source": [
    "x = np.linspace(-10, 10, 100) # start = -10, stop = 10, samples = 100\n",
    "sigma = sigmoid(x)"
   ]
  },
  {
   "cell_type": "markdown",
   "id": "5bb4da2e",
   "metadata": {},
   "source": [
    "Finally we plot the sigmoid function"
   ]
  },
  {
   "cell_type": "code",
   "execution_count": 4,
   "id": "6d067b2c",
   "metadata": {},
   "outputs": [
    {
     "data": {
      "text/plain": [
       "[<matplotlib.lines.Line2D at 0x1dfd78937f0>]"
      ]
     },
     "execution_count": 4,
     "metadata": {},
     "output_type": "execute_result"
    },
    {
     "data": {
      "image/png": "[encoded data removed]",
      "text/plain": [
       "<Figure size 432x288 with 1 Axes>"
      ]
     },
     "metadata": {
      "needs_background": "light"
     },
     "output_type": "display_data"
    }
   ],
   "source": [
    "plt.axvline(0.0, color='k')\n",
    "plt.ylim(-0.1, 1.1)\n",
    "plt.xlabel('x')\n",
    "plt.ylabel('$\\sigma (z)$')\n",
    "plt.yticks([0.0, 0.5, 1.0])\n",
    "ax = plt.gca()\n",
    "ax.yaxis.grid(True)\n",
    "plt.plot(x, sigma)"
   ]
  },
  {
   "cell_type": "markdown",
   "id": "8bbe6a31",
   "metadata": {},
   "source": [
    "The sigmoid is used as the activation function in logistic regression. The difference compared to the perceptron is that the sigmoid is differentiable everywhere while the threshold function, used as the perceptron's activation function, is not. The idea in logistic regression is to use the output of the sigmoid actvation function to determine the class of the input\n",
    "\n",
    "$$y = \\Biggl\\{  \\begin{matrix} 1 & \\sigma(x, w) > 0.5 \\\\ 0 & otherwise \\end{matrix}$$\n",
    "\n",
    "where x represents the input and w represents the parameters that have to be learnt from a training data set\n",
    "\n",
    "$$\\sigma(x, w) = \\frac{1}{1 + e^{-wx}}$$\n",
    "\n",
    "The model can learn the layer parameters w by minimizing a cost function\n",
    "\n",
    "\n",
    "$$J(w) = \\frac{1}{2} \\sum_{i = 1}^N (\\sigma(x_i, w) - y_i)^2$$\n",
    "\n",
    "Instead of minimizing the squared error we can maximize the likelihood of the logistic regression P(y|x, w) that has the form of the Bernoulli distribution\n",
    "\n",
    "$$Bernoulli(p) = \\prod_{i=1}^N p_i^{k_i} (1 - p_i)^{1 - k_i}$$\n",
    "\n",
    "where k $\\in$ {0, 1}. we can assume that p = $\\sigma$ and k = y. We review the Bernoulli distribution as a particular case of the Binomial distribution."
   ]
  },
  {
   "cell_type": "markdown",
   "id": "6e733e4f",
   "metadata": {},
   "source": [
    "## Binomial distribution\n",
    "The binomial distribution is a discrete distribution and represents the probability of k successes out of n trials when the chance for each trial is p. It is given by the Bernoulli distribution $p^k (1 - p)^{(1 - k)}$ times the number of ways in which k successes can be obtained in n trials   \n",
    "\n",
    "$$Binomial(n, p) = \\binom{n}{k} p^k (1 - p)^{1 - k} $$\n",
    "\n",
    "where\n",
    "\n",
    "$$\\binom{n}{k} = \\frac{n!}{k!(n-k)!}$$"
   ]
  },
  {
   "cell_type": "code",
   "execution_count": 5,
   "id": "f8a2a79d",
   "metadata": {},
   "outputs": [],
   "source": [
    "from scipy.stats import binom, bernoulli\n",
    "p = 0.5\n",
    "n = 10\n",
    "a = binom.ppf(0.01, n, p)\n",
    "b = binom.ppf(0.99, n, p)\n",
    "trials = np.arange(a, b)\n",
    "prob_success = binom(n, p).pmf(trials)"
   ]
  },
  {
   "cell_type": "code",
   "execution_count": 6,
   "id": "ffecb770",
   "metadata": {},
   "outputs": [
    {
     "data": {
      "image/png": "[encoded data removed]",
      "text/plain": [
       "<Figure size 432x288 with 1 Axes>"
      ]
     },
     "metadata": {
      "needs_background": "light"
     },
     "output_type": "display_data"
    }
   ],
   "source": [
    "fig, ax = plt.subplots(1, 1)\n",
    "ax.vlines(trials, 0, prob_success, colors='blue', linestyles='-', lw=1)\n",
    "ax.set_xlabel('k')\n",
    "plt.show()"
   ]
  },
  {
   "cell_type": "markdown",
   "id": "d822ce12",
   "metadata": {},
   "source": [
    "In case n = 1 the binomial distribution is known as the Bernoulli distribution. "
   ]
  },
  {
   "cell_type": "markdown",
   "id": "65a268d4",
   "metadata": {},
   "source": [
    "We want to maximize the likelihood \n",
    "\n",
    "$$\\mathscr{L}(w|x) = \\prod_{i=1}^N \\sigma(x_i)^{y_i} (1 - \\sigma(x_i))^{1 - y_i}$$\n",
    "\n",
    "It is easier to maximize its logarithm, that is the log-likelihood \n",
    "\n",
    "$$ log\\mathscr{L}(w|x) = \\sum_{i=1}^N [y_i log(\\sigma(x_i)) + (1 - y_i)log(1 - \\sigma(x_i))]$$\n",
    "\n",
    "If we change the sign of the log-likelihood our goal will be to minimize $L(w|x) = -log\\mathscr{L}(w|x)$\n",
    "\n",
    "$$ L(w|x) = \\sum_{i=1}^N [-y_i log(\\sigma(x_i)) - (1 - y_i)log(1 - \\sigma(x_i))]$$\n",
    "\n",
    "We can see what is the contribution to the loss function of one single example in two cases, when y = 1 and when y = 0: we plot the loss in the two cases what is the loss for $\\sigma(z) \\in [0, 1]$"
   ]
  },
  {
   "cell_type": "code",
   "execution_count": 7,
   "id": "cb170ccc",
   "metadata": {},
   "outputs": [],
   "source": [
    "def loss_1(z):\n",
    "    return - np.log(sigmoid(z))\n",
    "\n",
    "def loss_0(z):\n",
    "    return - np.log(1 - sigmoid(z))"
   ]
  },
  {
   "cell_type": "code",
   "execution_count": 8,
   "id": "cc598a49",
   "metadata": {},
   "outputs": [
    {
     "data": {
      "image/png": "[encoded data removed]",
      "text/plain": [
       "<Figure size 432x288 with 1 Axes>"
      ]
     },
     "metadata": {
      "needs_background": "light"
     },
     "output_type": "display_data"
    }
   ],
   "source": [
    "z = np.linspace(-10, 10, 100)\n",
    "sigma_z = sigmoid(z)\n",
    "\n",
    "c1 = [loss_1(x) for x in z]\n",
    "plt.plot(sigma_z, c1, label='L(w, b) if y=1')\n",
    "\n",
    "c0 = [loss_0(x) for x in z]\n",
    "plt.plot(sigma_z, c0, linestyle='--', label='L(w, b) if y=0')\n",
    "\n",
    "\n",
    "plt.ylim(0.0, 5.1)\n",
    "plt.xlim([0, 1])\n",
    "plt.xlabel('$\\sigma(z)$')\n",
    "plt.ylabel('L(w, b)')\n",
    "plt.legend(loc='best')\n",
    "plt.tight_layout()\n",
    "plt.show()"
   ]
  },
  {
   "cell_type": "markdown",
   "id": "b7e97b92",
   "metadata": {},
   "source": [
    "## The Iris data set\n",
    "We will use the same Iris data set that we used for the Perceptron."
   ]
  },
  {
   "cell_type": "code",
   "execution_count": 9,
   "id": "1f7ccea3",
   "metadata": {},
   "outputs": [
    {
     "data": {
      "text/plain": [
       "array(['Iris-setosa', 'Iris-versicolor', 'Iris-virginica'], dtype=object)"
      ]
     },
     "execution_count": 9,
     "metadata": {},
     "output_type": "execute_result"
    }
   ],
   "source": [
    "iris_url = 'https://archive.ics.uci.edu/ml/machine-learning-databases/iris/iris.data'\n",
    "df = pd.read_csv(iris_url, header=None, encoding='utf-8')\n",
    "df[4].unique()"
   ]
  },
  {
   "cell_type": "markdown",
   "id": "23905296",
   "metadata": {},
   "source": [
    "### Features selection\n",
    "We copy the data from the Pandas dataframe to a NumPy array and then we select two features for the classification task: petal length and petal width"
   ]
  },
  {
   "cell_type": "code",
   "execution_count": 10,
   "id": "8d5d13c1",
   "metadata": {},
   "outputs": [
    {
     "name": "stdout",
     "output_type": "stream",
     "text": [
      "Class labels: [0 1 2]\n"
     ]
    }
   ],
   "source": [
    "petal_length_col = 2\n",
    "petal_width_col = 3\n",
    "X = df.iloc[:, [petal_length_col, petal_width_col]].values # extract petal length and petal length\n",
    "y = df.iloc[:, 4].values \n",
    "y = np.where(y == 'Iris-setosa', 0, y)\n",
    "y = np.where(y == 'Iris-versicolor', 1, y)\n",
    "y = np.where(y == 'Iris-virginica', 2, y)\n",
    "y = y.astype(np.int64)\n",
    "print('Class labels:', np.unique(y))"
   ]
  },
  {
   "cell_type": "markdown",
   "id": "7f1c1147",
   "metadata": {},
   "source": [
    "### Data partition\n",
    "We split the data into a training set and a validation set"
   ]
  },
  {
   "cell_type": "code",
   "execution_count": 11,
   "id": "2ed04cf7",
   "metadata": {},
   "outputs": [],
   "source": [
    "from sklearn.model_selection import train_test_split\n",
    "X_train, X_test, y_train, y_test = train_test_split(X, y, test_size=0.3, random_state=1, stratify=y)"
   ]
  },
  {
   "cell_type": "markdown",
   "id": "c38b0f1e",
   "metadata": {},
   "source": [
    "### Data normalization\n",
    "Finally we normalize the data. We apply a linear transformation the two subsets in order to be centered around their mean value and scaled by their standard deviation."
   ]
  },
  {
   "cell_type": "code",
   "execution_count": 12,
   "id": "8544fc45",
   "metadata": {},
   "outputs": [],
   "source": [
    "from sklearn.preprocessing import StandardScaler\n",
    "\n",
    "sc = StandardScaler()\n",
    "sc.fit(X_train)\n",
    "X_train_std = sc.transform(X_train)\n",
    "X_test_std = sc.transform(X_test)"
   ]
  },
  {
   "cell_type": "markdown",
   "id": "e3d289f0",
   "metadata": {},
   "source": [
    "## Linear regression model\n",
    "We could implement a linear regression model as a module (aka class or data structure) that provides a way to inject the hyperparameters such as the learning rate, the optimizer and the number of epochs, a method to train the model by fitting its parameters, and another method to compute the prediction given an input. Scikit-Learn offers an implementation of the logistic regression. The hyperparameters are the optimizer (solver), a regularization constant C and a flag to tell the algorithm that the data contains more than two classes (multinomial logistic regression). The higher the regularization constant the lower is its contribution to the loss function. A common way to use a binary regression model to classify a data set with more than two classes is the One-vs-Rest (ovr) technique in which the model is trained to classify one type of examples against all the others at a time. In our case the model is trained to classify the iris virginica against iris setosa and iris versicolor, then the iris setosa against iris virginica and iris versicolor and finaly the iris versicolor against the other two classes. "
   ]
  },
  {
   "cell_type": "code",
   "execution_count": 13,
   "id": "f1a50cd5",
   "metadata": {},
   "outputs": [
    {
     "data": {
      "text/html": [
       "<style>#sk-container-id-1 {color: black;background-color: white;}#sk-container-id-1 pre{padding: 0;}#sk-container-id-1 div.sk-toggleable {background-color: white;}#sk-container-id-1 label.sk-toggleable__label {cursor: pointer;display: block;width: 100%;margin-bottom: 0;padding: 0.3em;box-sizing: border-box;text-align: center;}#sk-container-id-1 label.sk-toggleable__label-arrow:before {content: \"▸\";float: left;margin-right: 0.25em;color: #696969;}#sk-container-id-1 label.sk-toggleable__label-arrow:hover:before {color: black;}#sk-container-id-1 div.sk-estimator:hover label.sk-toggleable__label-arrow:before {color: black;}#sk-container-id-1 div.sk-toggleable__content {max-height: 0;max-width: 0;overflow: hidden;text-align: left;background-color: #f0f8ff;}#sk-container-id-1 div.sk-toggleable__content pre {margin: 0.2em;color: black;border-radius: 0.25em;background-color: #f0f8ff;}#sk-container-id-1 input.sk-toggleable__control:checked~div.sk-toggleable__content {max-height: 200px;max-width: 100%;overflow: auto;}#sk-container-id-1 input.sk-toggleable__control:checked~label.sk-toggleable__label-arrow:before {content: \"▾\";}#sk-container-id-1 div.sk-estimator input.sk-toggleable__control:checked~label.sk-toggleable__label {background-color: #d4ebff;}#sk-container-id-1 div.sk-label input.sk-toggleable__control:checked~label.sk-toggleable__label {background-color: #d4ebff;}#sk-container-id-1 input.sk-hidden--visually {border: 0;clip: rect(1px 1px 1px 1px);clip: rect(1px, 1px, 1px, 1px);height: 1px;margin: -1px;overflow: hidden;padding: 0;position: absolute;width: 1px;}#sk-container-id-1 div.sk-estimator {font-family: monospace;background-color: #f0f8ff;border: 1px dotted black;border-radius: 0.25em;box-sizing: border-box;margin-bottom: 0.5em;}#sk-container-id-1 div.sk-estimator:hover {background-color: #d4ebff;}#sk-container-id-1 div.sk-parallel-item::after {content: \"\";width: 100%;border-bottom: 1px solid gray;flex-grow: 1;}#sk-container-id-1 div.sk-label:hover label.sk-toggleable__label {background-color: #d4ebff;}#sk-container-id-1 div.sk-serial::before {content: \"\";position: absolute;border-left: 1px solid gray;box-sizing: border-box;top: 0;bottom: 0;left: 50%;z-index: 0;}#sk-container-id-1 div.sk-serial {display: flex;flex-direction: column;align-items: center;background-color: white;padding-right: 0.2em;padding-left: 0.2em;position: relative;}#sk-container-id-1 div.sk-item {position: relative;z-index: 1;}#sk-container-id-1 div.sk-parallel {display: flex;align-items: stretch;justify-content: center;background-color: white;position: relative;}#sk-container-id-1 div.sk-item::before, #sk-container-id-1 div.sk-parallel-item::before {content: \"\";position: absolute;border-left: 1px solid gray;box-sizing: border-box;top: 0;bottom: 0;left: 50%;z-index: -1;}#sk-container-id-1 div.sk-parallel-item {display: flex;flex-direction: column;z-index: 1;position: relative;background-color: white;}#sk-container-id-1 div.sk-parallel-item:first-child::after {align-self: flex-end;width: 50%;}#sk-container-id-1 div.sk-parallel-item:last-child::after {align-self: flex-start;width: 50%;}#sk-container-id-1 div.sk-parallel-item:only-child::after {width: 0;}#sk-container-id-1 div.sk-dashed-wrapped {border: 1px dashed gray;margin: 0 0.4em 0.5em 0.4em;box-sizing: border-box;padding-bottom: 0.4em;background-color: white;}#sk-container-id-1 div.sk-label label {font-family: monospace;font-weight: bold;display: inline-block;line-height: 1.2em;}#sk-container-id-1 div.sk-label-container {text-align: center;}#sk-container-id-1 div.sk-container {/* jupyter's `normalize.less` sets `[hidden] { display: none; }` but bootstrap.min.css set `[hidden] { display: none !important; }` so we also need the `!important` here to be able to override the default hidden behavior on the sphinx rendered scikit-learn.org. See: https://github.com/scikit-learn/scikit-learn/issues/21755 */display: inline-block !important;position: relative;}#sk-container-id-1 div.sk-text-repr-fallback {display: none;}</style><div id=\"sk-container-id-1\" class=\"sk-top-container\"><div class=\"sk-text-repr-fallback\"><pre>LogisticRegression(C=100.0, multi_class=&#x27;ovr&#x27;)</pre><b>In a Jupyter environment, please rerun this cell to show the HTML representation or trust the notebook. <br />On GitHub, the HTML representation is unable to render, please try loading this page with nbviewer.org.</b></div><div class=\"sk-container\" hidden><div class=\"sk-item\"><div class=\"sk-estimator sk-toggleable\"><input class=\"sk-toggleable__control sk-hidden--visually\" id=\"sk-estimator-id-1\" type=\"checkbox\" checked><label for=\"sk-estimator-id-1\" class=\"sk-toggleable__label sk-toggleable__label-arrow\">LogisticRegression</label><div class=\"sk-toggleable__content\"><pre>LogisticRegression(C=100.0, multi_class=&#x27;ovr&#x27;)</pre></div></div></div></div></div>"
      ],
      "text/plain": [
       "LogisticRegression(C=100.0, multi_class='ovr')"
      ]
     },
     "execution_count": 13,
     "metadata": {},
     "output_type": "execute_result"
    }
   ],
   "source": [
    "from sklearn.linear_model import LogisticRegression\n",
    "\n",
    "X_combined_std = np.vstack((X_train_std, X_test_std))\n",
    "y_combined = np.hstack((y_train, y_test))\n",
    "\n",
    "lr = LogisticRegression(C=100.0, solver='lbfgs', multi_class='ovr')\n",
    "lr.fit(X_train_std, y_train)"
   ]
  },
  {
   "cell_type": "markdown",
   "id": "09187337",
   "metadata": {},
   "source": [
    "## Data visualization\n",
    "We define a function to plot the data and show the linear separation between the three types of iris"
   ]
  },
  {
   "cell_type": "code",
   "execution_count": 14,
   "id": "383634dd",
   "metadata": {},
   "outputs": [],
   "source": [
    "from matplotlib.colors import ListedColormap\n",
    "\n",
    "def plot_decision_regions(X, y, classifier, resolution=0.02):\n",
    "\n",
    "    # setup marker generator and color map\n",
    "    markers = ('s', 'x', 'o', '^', 'v')\n",
    "    colors = ('red', 'blue', 'lightgreen', 'gray', 'cyan')\n",
    "    cmap = ListedColormap(colors[:len(np.unique(y))])\n",
    "\n",
    "    # plot the decision surface\n",
    "    x1_min, x1_max = X[:, 0].min() - 1, X[:, 0].max() + 1\n",
    "    x2_min, x2_max = X[:, 1].min() - 1, X[:, 1].max() + 1\n",
    "    xx1, xx2 = np.meshgrid(np.arange(x1_min, x1_max, resolution),\n",
    "                           np.arange(x2_min, x2_max, resolution))\n",
    "    Z = classifier.predict(np.array([xx1.ravel(), xx2.ravel()]).T)\n",
    "    Z = Z.reshape(xx1.shape)\n",
    "    plt.contourf(xx1, xx2, Z, alpha=0.3, cmap=cmap)\n",
    "    plt.xlim(xx1.min(), xx1.max())\n",
    "    plt.ylim(xx2.min(), xx2.max())\n",
    "\n",
    "    # plot class examples\n",
    "    for idx, cl in enumerate(np.unique(y)):\n",
    "        plt.scatter(x=X[y == cl, 0], \n",
    "                    y=X[y == cl, 1],\n",
    "                    alpha=0.8, \n",
    "                    c=colors[idx],\n",
    "                    marker=markers[idx], \n",
    "                    label=cl, \n",
    "                    edgecolor='black')"
   ]
  },
  {
   "cell_type": "code",
   "execution_count": 15,
   "id": "9987d5eb",
   "metadata": {},
   "outputs": [
    {
     "data": {
      "image/png": "[encoded data removed]",
      "text/plain": [
       "<Figure size 432x288 with 1 Axes>"
      ]
     },
     "metadata": {
      "needs_background": "light"
     },
     "output_type": "display_data"
    }
   ],
   "source": [
    "plot_decision_regions(X_combined_std, y_combined, classifier=lr)\n",
    "plt.xlabel('Petal length [standardized]')\n",
    "plt.ylabel('Petal width [standardized]')\n",
    "plt.legend(loc='upper left')\n",
    "plt.tight_layout()\n",
    "plt.show()"
   ]
  },
  {
   "cell_type": "code",
   "execution_count": 16,
   "id": "c8e077b8",
   "metadata": {},
   "outputs": [
    {
     "data": {
      "text/plain": [
       "array([[3.88198890e-09, 1.46859501e-01, 8.53140495e-01]])"
      ]
     },
     "execution_count": 16,
     "metadata": {},
     "output_type": "execute_result"
    }
   ],
   "source": [
    "lr.predict_proba(X_test_std[:1, :])"
   ]
  },
  {
   "cell_type": "markdown",
   "id": "d2eb4d06",
   "metadata": {},
   "source": [
    "## Regularization \n",
    "A model has high variance when it follows the training data points too closely and is not able to generalize well. High variance is a synonym of overfitting. The other side of the tradeoff is high bias, when a model is too rigid to be able to fit the dat. High bias is a synonym of underfitting. Regularization is a technique used to address the bias-variance tradeoff problem by adding a term to the cost function that keeps the weights small. L2 is the most used term for regularization \n",
    "\n",
    "$$L2 = \\frac{1}{2}\\lambda||w||^2$$\n",
    "\n",
    "The cost function with the regularization component becomes\n",
    "\n",
    "$$ \\mathscr{L}(w|x) = L(w|x) + \\frac{1}{2}\\lambda||w||^2$$\n",
    "\n",
    "so that when we use the optimization algorithm, following the gradient towards a minimum of the cost function, the weight update will be smaller\n",
    "\n",
    "$$w_{i+1} = w_i − \\gamma \\nabla_w (L + \\lambda ||w||^2)$$\n",
    "\n",
    "We can plot the weights while changing the parameter $\\lambda = \\frac{1}{C}$"
   ]
  },
  {
   "cell_type": "code",
   "execution_count": 17,
   "id": "54c1b163",
   "metadata": {},
   "outputs": [],
   "source": [
    "weights, params = [], []\n",
    "for c in np.arange(-5, 5):\n",
    "    lr = LogisticRegression(C=10.**c, multi_class='ovr')\n",
    "    lr.fit(X_train_std, y_train)\n",
    "    weights.append(lr.coef_[1])\n",
    "    params.append(10.**c)\n",
    "\n",
    "weights = np.array(weights)"
   ]
  },
  {
   "cell_type": "markdown",
   "id": "1b7be371",
   "metadata": {},
   "source": [
    "As we can see the weights are kept small as long as the regularization parameter C is small and the regularization strong, and are bigger, positive and negative, when the regularization parameter C increases and the regularization term smaller."
   ]
  },
  {
   "cell_type": "code",
   "execution_count": 18,
   "id": "9d74aa05",
   "metadata": {},
   "outputs": [
    {
     "data": {
      "image/png": "[encoded data removed]",
      "text/plain": [
       "<Figure size 432x288 with 1 Axes>"
      ]
     },
     "metadata": {
      "needs_background": "light"
     },
     "output_type": "display_data"
    }
   ],
   "source": [
    "plt.plot(params, weights[:, 0], label='Petal length')\n",
    "plt.plot(params, weights[:, 1], linestyle='--', label='Petal width')\n",
    "plt.ylabel('Weight coefficient')\n",
    "plt.xlabel('C')\n",
    "plt.legend(loc='upper left')\n",
    "plt.xscale('log')\n",
    "plt.show()"
   ]
  },
  {
   "cell_type": "code",
   "execution_count": null,
   "id": "53b8165e",
   "metadata": {},
   "outputs": [],
   "source": []
  }
 ],
 "metadata": {
  "kernelspec": {
   "display_name": "Python 3 (ipykernel)",
   "language": "python",
   "name": "python3"
  },
  "language_info": {
   "codemirror_mode": {
    "name": "ipython",
    "version": 3
   },
   "file_extension": ".py",
   "mimetype": "text/x-python",
   "name": "python",
   "nbconvert_exporter": "python",
   "pygments_lexer": "ipython3",
   "version": "3.9.13"
  }
 },
 "nbformat": 4,
 "nbformat_minor": 5
}
