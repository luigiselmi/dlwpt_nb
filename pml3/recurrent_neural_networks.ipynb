{
 "cells": [
  {
   "cell_type": "markdown",
   "id": "749aafbd",
   "metadata": {
    "id": "749aafbd"
   },
   "source": [
    "# Recurrent neural networks\n",
    "<a href=\"https://colab.research.google.com/github/luigiselmi/machine_learning_notes/blob/main/pml3/recurrent_neural_networks.ipynb\" target=\"_blank\" align=\"right\">\n",
    "  <img src=\"https://colab.research.google.com/assets/colab-badge.svg\" alt=\"Open In Colab\"/>\n",
    "</a>\n",
    "\n",
    "This notebook follows the code developed for project one of chapter 15 of the book [Machine Learning with PyTorch and Scikit-Learn](https://sebastianraschka.com/books/#machine-learning-with-pytorch-and-scikit-learn) by Sebastian Raschka. I have made some changes to the original code because I could not make the IMDB dataset from PyTorch work. [Recurrent neural networks](https://en.wikipedia.org/wiki/Recurrent_neural_network) are used for sequence data, that is data in which each item depends on one or more of the previous items. Examples of this type of data are time series, text, and DNA sequences. We can look at a simple RNN with one single hidden layer to understand how it works. The input data at time t is sent to the output layer through the hidden layer and also back to the hidden layer to be used in combination with the next input. The loop works like a memory and allows the network to learn the dependency between elements in the sequence.\n",
    "\n",
    "![RNN - Wikipedia, By fdeloche - Own work, CC BY-SA 4.0](https://github.com/luigiselmi/machine_learning_notes/blob/main/pml3/images/recurrent_neural_network.svg?raw=1)\n",
    "In the image a RNN with one hidden layer (Credit: fdeloche - Own work, CC BY-SA 4.0, Wikipedia)"
   ]
  },
  {
   "cell_type": "code",
   "execution_count": 1,
   "id": "a325bb3c",
   "metadata": {
    "colab": {
     "base_uri": "https://localhost:8080/"
    },
    "id": "a325bb3c",
    "outputId": "3e705af5-97da-464a-b427-f6ab744726af"
   },
   "outputs": [
    {
     "name": "stdout",
     "output_type": "stream",
     "text": [
      "NumPy version: 1.22.4\n",
      "Pandas version: 1.5.3\n",
      "PyTorch version: 2.0.1+cu118\n"
     ]
    }
   ],
   "source": [
    "import os\n",
    "import numpy as np\n",
    "import pandas as pd\n",
    "%matplotlib inline\n",
    "import matplotlib.pyplot as plt\n",
    "import warnings\n",
    "import torch\n",
    "import torch.nn as nn\n",
    "warnings.filterwarnings('ignore')\n",
    "print(\"NumPy version: %s\"%np.__version__)\n",
    "print(\"Pandas version: %s\"%pd.__version__)\n",
    "print(\"PyTorch version: %s\"%torch.__version__)"
   ]
  },
  {
   "cell_type": "markdown",
   "id": "8a40689c",
   "metadata": {
    "id": "8a40689c"
   },
   "source": [
    "We can compute the preactivation of the hidden layer by two matrix multiplications, one to weight the input data and another to weight the result of the previous input data.\n",
    "\n",
    "$$z_h^{(t)} = W_{xh}x^{(t)} + W_{hh}h^{(t-1)} + b_h$$\n",
    "\n",
    "The output of the hidden layer is then computed by applying an activation function $\\sigma_h$ to the result of the preactivation\n",
    "\n",
    "$$h^{(t)} = \\sigma_h (z_h^{(t)}) = \\sigma_h (W_{xh}x^{(t)} + W_{hh}h^{(t-1)} + b_h)$$"
   ]
  },
  {
   "cell_type": "markdown",
   "id": "db23ebcc",
   "metadata": {
    "id": "db23ebcc"
   },
   "source": [
    "## PyTorch RNN implementation\n",
    "Now we implement a small RNN with one hidden layer. Let's say the input data is an array of size 5 so that the size of the input layer is 5. We set the size of the hidden layer to 2. With these settings the shape of the $W_{xh}$ matrix is 2x5 and the shape of the $W_{hh}$ matrix is 2x2. The [RNN](https://pytorch.org/docs/stable/generated/torch.nn.RNN.html) implementation in PyTorch builds the matrices from the same parameters. We also assume a bias for each unit of the hidden layer."
   ]
  },
  {
   "cell_type": "code",
   "execution_count": 2,
   "id": "241b94cb",
   "metadata": {
    "colab": {
     "base_uri": "https://localhost:8080/"
    },
    "id": "241b94cb",
    "outputId": "a65999d0-0682-4da6-9e8b-debe9a5bc0d4"
   },
   "outputs": [
    {
     "name": "stdout",
     "output_type": "stream",
     "text": [
      "W_xh shape: torch.Size([2, 5])\n",
      "W_hh shape: torch.Size([2, 2])\n",
      "b_xh shape: torch.Size([2])\n",
      "b_hh shape: torch.Size([2])\n"
     ]
    }
   ],
   "source": [
    "torch.manual_seed(1)\n",
    "\n",
    "rnn_layer = nn.RNN(input_size=5, hidden_size=2, num_layers=1, batch_first=True)\n",
    "\n",
    "w_xh = rnn_layer.weight_ih_l0\n",
    "w_hh = rnn_layer.weight_hh_l0\n",
    "b_xh = rnn_layer.bias_ih_l0\n",
    "b_hh = rnn_layer.bias_hh_l0\n",
    "\n",
    "print('W_xh shape:', w_xh.shape)\n",
    "print('W_hh shape:', w_hh.shape)\n",
    "print('b_xh shape:', b_xh.shape)\n",
    "print('b_hh shape:', b_hh.shape)"
   ]
  },
  {
   "cell_type": "markdown",
   "id": "d43e9dc9",
   "metadata": {
    "id": "d43e9dc9"
   },
   "source": [
    "We can compute the output of the RNN instance for a sequence of three inputs (arrays of length 5), and compare the result with that computed using the formula we have described above."
   ]
  },
  {
   "cell_type": "code",
   "execution_count": 3,
   "id": "fd9573c2",
   "metadata": {
    "colab": {
     "base_uri": "https://localhost:8080/"
    },
    "id": "fd9573c2",
    "outputId": "64d2c638-7060-4c40-f124-a1f9cad4dba2"
   },
   "outputs": [
    {
     "data": {
      "text/plain": [
       "tensor([[1., 1., 1., 1., 1.],\n",
       "        [2., 2., 2., 2., 2.],\n",
       "        [3., 3., 3., 3., 3.]])"
      ]
     },
     "execution_count": 3,
     "metadata": {},
     "output_type": "execute_result"
    }
   ],
   "source": [
    "x_seq = torch.tensor([[1.0]*5, [2.0]*5, [3.0]*5]).float()\n",
    "x_seq"
   ]
  },
  {
   "cell_type": "markdown",
   "id": "6ffe00bf",
   "metadata": {
    "id": "6ffe00bf"
   },
   "source": [
    "We reshape the sequence as a tensor of dimensions: batch_size=1, sequence_length=3, input_size=5."
   ]
  },
  {
   "cell_type": "code",
   "execution_count": 4,
   "id": "911d8d71",
   "metadata": {
    "id": "911d8d71"
   },
   "outputs": [],
   "source": [
    "## output of the simple RNN:\n",
    "output, hn = rnn_layer(torch.reshape(x_seq, (1, 3, 5)))"
   ]
  },
  {
   "cell_type": "code",
   "execution_count": 5,
   "id": "8fae7e3f",
   "metadata": {
    "colab": {
     "base_uri": "https://localhost:8080/"
    },
    "id": "8fae7e3f",
    "outputId": "5391820e-fdd4-4e49-f2a2-8ed2c85665e2"
   },
   "outputs": [
    {
     "name": "stdout",
     "output_type": "stream",
     "text": [
      "Time step 0 =>\n",
      "   Input           : [[1. 1. 1. 1. 1.]]\n",
      "   Hidden          : [[-0.4701929   0.58639044]]\n",
      "   Output (manual) : [[-0.3519801   0.52525216]]\n",
      "   RNN output      : [[-0.3519801   0.52525216]]\n",
      "\n",
      "Time step 1 =>\n",
      "   Input           : [[2. 2. 2. 2. 2.]]\n",
      "   Hidden          : [[-0.88883156  1.2364398 ]]\n",
      "   Output (manual) : [[-0.68424344  0.76074266]]\n",
      "   RNN output      : [[-0.68424344  0.76074266]]\n",
      "\n",
      "Time step 2 =>\n",
      "   Input           : [[3. 3. 3. 3. 3.]]\n",
      "   Hidden          : [[-1.3074702  1.8864892]]\n",
      "   Output (manual) : [[-0.8649416  0.9046636]]\n",
      "   RNN output      : [[-0.8649416  0.9046636]]\n",
      "\n"
     ]
    }
   ],
   "source": [
    "## manually computing the output:\n",
    "out_man = []\n",
    "for t in range(3):\n",
    "    xt = torch.reshape(x_seq[t], (1, 5))\n",
    "    print(f'Time step {t} =>')\n",
    "    print('   Input           :', xt.numpy())\n",
    "\n",
    "    ht = torch.matmul(xt, torch.transpose(w_xh, 0, 1)) + b_xh\n",
    "    print('   Hidden          :', ht.detach().numpy())\n",
    "\n",
    "    if t > 0:\n",
    "        prev_h = out_man[t-1]\n",
    "    else:\n",
    "        prev_h = torch.zeros((ht.shape))\n",
    "\n",
    "    ot = ht + torch.matmul(prev_h, torch.transpose(w_hh, 0, 1)) + b_hh\n",
    "    ot = torch.tanh(ot)\n",
    "    out_man.append(ot)\n",
    "    print('   Output (manual) :', ot.detach().numpy())\n",
    "    print('   RNN output      :', output[:, t].detach().numpy())\n",
    "    print()"
   ]
  },
  {
   "cell_type": "markdown",
   "id": "a15c712e",
   "metadata": {
    "id": "a15c712e"
   },
   "source": [
    "Like the other neural networks that we have seen so far, the weights in a RNN are learnt through backpropagation. The loop introduced in a RNN with many layers may result in one of two opposite problems: exploding gradients or vanishing gradients. The problem is discussed in a [paper](https://arxiv.org/abs/1211.5063) by Pascanu, Mikolov, Bengio. The two outcomes depend on the value of the $W_{hh}$ matrix that are computed multiple times depending on the number of elements in  the sequence we consider to be relevant for the output. If the $|W_{hh}| > 1$ we may face the problem of exploding gradients, on the contrary if $|W_{hh}| < 1$ we may face the problem of vanishing gradients. These problems can be addressed by limiting the length of the sequence we want to take into account for the output. Another approach is to use the Long Short-Term Memory cells."
   ]
  },
  {
   "cell_type": "markdown",
   "id": "f26e96af",
   "metadata": {
    "id": "f26e96af"
   },
   "source": [
    "## Long Short-Term Memory network\n",
    "The [LSTM](https://en.wikipedia.org/wiki/Long_short-term_memory) cell is the equivalent of a layer and solves the problem of the exploding or vanishing gradients by keeping the recurrent edge close to 1. The cell state $C_t$ depends on the previous cell state $C_{t-1}$, the previous output of the hidden units $h_{t-1}$, and on the input in the sequence. The symbol $\\oplus$ in the draw represents the element-wise sumation, and the $\\otimes$ symbol represents the element-wise product. The boxes are called gates and are used to carry out matrix-vector multiplications between the input or the recurrent edge units and the weights to coumpute the preactivations. The result of the preactivation is used by the activation function defined in the cell. The three gates $f_t$, forget gate, $i_t$ input gate, and $o_t$ output gate, use a sigmoid activation function ($\\sigma$).\n",
    "\n",
    "![LSTM](https://github.com/luigiselmi/machine_learning_notes/blob/main/pml3/images/long_short-term_memory.svg?raw=1)\n",
    "(Credit: fdeloche - Own work, Wikipedia, CC BY-SA 4.0)\n",
    "\n",
    "$$f_t = \\sigma(W_{xf}x^{(t)} + W_{hf}h^{(t-1)} + b_f)$$\n",
    "$$i_t = \\sigma(W_{xi}x^{(t)} + W_{hi}h^{(t-1)} + b_i)$$\n",
    "$$\\tilde{C_t} = tanh(W_{xc}x^{(t)} + W_{hc}h^{(t-1)} + b_c)$$\n",
    "$$C^{(t)} = (C^{(t-1)} \\otimes f_t) \\oplus (i_t \\otimes \\tilde{C_t})$$\n",
    "$$o_t = \\sigma(W_{xo}x^{(t)} + W_{ho}h^{(t-1)} + b_o)$$\n",
    "$$h^{(t)} = o_t \\otimes tanh(C^{(t)})$$"
   ]
  },
  {
   "cell_type": "markdown",
   "id": "11bb3dce",
   "metadata": {
    "id": "11bb3dce"
   },
   "source": [
    "## Sentiment analysis\n",
    "We use the PyTorch implementation of the [LSTM](https://pytorch.org/docs/stable/generated/torch.nn.LSTM.html) to develop a model to determine the sentiment about  a movie by reading a review. This is a many-to-one RNN example, in which an input sequence is used for a classification task. The model is trained from a set of examples from the [IMDB](http://ai.stanford.edu/~amaas/data/sentiment/aclImdb_v1.tar.gz) dataset. The IMDB dataset must be downloaded as compressed tar file and openend in a local folder. The reviews are divided into two subfolders, test/ and train/ and these two into /pos for positive reviews and /neg for negative reviews."
   ]
  },
  {
   "cell_type": "code",
   "execution_count": 31,
   "id": "5937a924",
   "metadata": {
    "colab": {
     "base_uri": "https://localhost:8080/"
    },
    "id": "5937a924",
    "outputId": "b14d9712-2552-428c-ec48-561f157b7f37"
   },
   "outputs": [],
   "source": [
    "#!wget 'http://ai.stanford.edu/~amaas/data/sentiment/aclImdb_v1.tar.gz' -P data/"
   ]
  },
  {
   "cell_type": "code",
   "execution_count": 32,
   "id": "954c0b56",
   "metadata": {
    "colab": {
     "base_uri": "https://localhost:8080/"
    },
    "id": "954c0b56",
    "outputId": "2161d4c5-1b17-434b-98f7-e2edaa4b1be3"
   },
   "outputs": [],
   "source": [
    "#!tar xvf data/aclImdb_v1.tar.gz -C data/"
   ]
  },
  {
   "cell_type": "markdown",
   "id": "e416f92e",
   "metadata": {
    "id": "e416f92e"
   },
   "source": [
    "We copy the reviews in the train/ and test/ folder with their sentiments into a Pandas DataFrame."
   ]
  },
  {
   "cell_type": "code",
   "execution_count": 8,
   "id": "f8b1b37b",
   "metadata": {
    "id": "f8b1b37b"
   },
   "outputs": [],
   "source": [
    "basepath = 'data/aclImdb'\n",
    "\n",
    "labels = {'pos': 1, 'neg': 0}\n",
    "movie_df = pd.DataFrame()\n",
    "for s in ('test', 'train'):\n",
    "    for l in ('pos', 'neg'):\n",
    "        path = os.path.join(basepath, s, l)\n",
    "        for file in sorted(os.listdir(path)):\n",
    "            with open(os.path.join(path, file), 'r', encoding='utf-8') as infile:\n",
    "                txt = infile.read()\n",
    "                x = pd.DataFrame([[txt, labels[l]]], columns=['review', 'sentiment'])\n",
    "                movie_df = pd.concat([movie_df, x], ignore_index=False)\n",
    "\n",
    "movie_df.columns = ['review', 'sentiment']"
   ]
  },
  {
   "cell_type": "code",
   "execution_count": 9,
   "id": "7f2b220a",
   "metadata": {
    "colab": {
     "base_uri": "https://localhost:8080/"
    },
    "id": "7f2b220a",
    "outputId": "a29862fb-0d63-410c-d873-2942e98b4772"
   },
   "outputs": [
    {
     "data": {
      "text/plain": [
       "50000"
      ]
     },
     "execution_count": 9,
     "metadata": {},
     "output_type": "execute_result"
    }
   ],
   "source": [
    "len(movie_df)"
   ]
  },
  {
   "cell_type": "markdown",
   "id": "8910b264",
   "metadata": {
    "id": "8910b264"
   },
   "source": [
    "We might want to save the data as a csv file"
   ]
  },
  {
   "cell_type": "code",
   "execution_count": 10,
   "id": "3714c4e0",
   "metadata": {
    "id": "3714c4e0"
   },
   "outputs": [],
   "source": [
    "movie_df = movie_df.sample(frac=1, random_state=1).reset_index(drop=True) # returns a randomized dataframe\n",
    "movie_df.to_csv(basepath + '/movie_data.csv', index=False, encoding='utf-8')"
   ]
  },
  {
   "cell_type": "markdown",
   "id": "b7824d79",
   "metadata": {
    "id": "b7824d79"
   },
   "source": [
    "and then open the file for reading"
   ]
  },
  {
   "cell_type": "code",
   "execution_count": 11,
   "id": "b5059d78",
   "metadata": {
    "colab": {
     "base_uri": "https://localhost:8080/",
     "height": 206
    },
    "id": "b5059d78",
    "outputId": "1789cfd2-64b1-4aa4-891f-b96e3e61699c"
   },
   "outputs": [
    {
     "data": {
      "text/html": [
       "\n",
       "\n",
       "  <div id=\"df-1f3e9532-f804-41a3-99fa-cd49b1f161b2\">\n",
       "    <div class=\"colab-df-container\">\n",
       "      <div>\n",
       "<style scoped>\n",
       "    .dataframe tbody tr th:only-of-type {\n",
       "        vertical-align: middle;\n",
       "    }\n",
       "\n",
       "    .dataframe tbody tr th {\n",
       "        vertical-align: top;\n",
       "    }\n",
       "\n",
       "    .dataframe thead th {\n",
       "        text-align: right;\n",
       "    }\n",
       "</style>\n",
       "<table border=\"1\" class=\"dataframe\">\n",
       "  <thead>\n",
       "    <tr style=\"text-align: right;\">\n",
       "      <th></th>\n",
       "      <th>review</th>\n",
       "      <th>sentiment</th>\n",
       "    </tr>\n",
       "  </thead>\n",
       "  <tbody>\n",
       "    <tr>\n",
       "      <th>0</th>\n",
       "      <td>When we started watching this series on cable,...</td>\n",
       "      <td>1.0</td>\n",
       "    </tr>\n",
       "    <tr>\n",
       "      <th>1</th>\n",
       "      <td>Steve Biko was a black activist who tried to r...</td>\n",
       "      <td>1.0</td>\n",
       "    </tr>\n",
       "    <tr>\n",
       "      <th>2</th>\n",
       "      <td>My short comment for this flick is go pick it ...</td>\n",
       "      <td>1.0</td>\n",
       "    </tr>\n",
       "    <tr>\n",
       "      <th>3</th>\n",
       "      <td>As a serious horror fan, I get that certain ma...</td>\n",
       "      <td>0.0</td>\n",
       "    </tr>\n",
       "    <tr>\n",
       "      <th>4</th>\n",
       "      <td>Robert Cummings, Laraine Day and Jean Muir sta...</td>\n",
       "      <td>1.0</td>\n",
       "    </tr>\n",
       "  </tbody>\n",
       "</table>\n",
       "</div>\n",
       "      <button class=\"colab-df-convert\" onclick=\"convertToInteractive('df-1f3e9532-f804-41a3-99fa-cd49b1f161b2')\"\n",
       "              title=\"Convert this dataframe to an interactive table.\"\n",
       "              style=\"display:none;\">\n",
       "\n",
       "  <svg xmlns=\"http://www.w3.org/2000/svg\" height=\"24px\"viewBox=\"0 0 24 24\"\n",
       "       width=\"24px\">\n",
       "    <path d=\"M0 0h24v24H0V0z\" fill=\"none\"/>\n",
       "    <path d=\"M18.56 5.44l.94 2.06.94-2.06 2.06-.94-2.06-.94-.94-2.06-.94 2.06-2.06.94zm-11 1L8.5 8.5l.94-2.06 2.06-.94-2.06-.94L8.5 2.5l-.94 2.06-2.06.94zm10 10l.94 2.06.94-2.06 2.06-.94-2.06-.94-.94-2.06-.94 2.06-2.06.94z\"/><path d=\"M17.41 7.96l-1.37-1.37c-.4-.4-.92-.59-1.43-.59-.52 0-1.04.2-1.43.59L10.3 9.45l-7.72 7.72c-.78.78-.78 2.05 0 2.83L4 21.41c.39.39.9.59 1.41.59.51 0 1.02-.2 1.41-.59l7.78-7.78 2.81-2.81c.8-.78.8-2.07 0-2.86zM5.41 20L4 18.59l7.72-7.72 1.47 1.35L5.41 20z\"/>\n",
       "  </svg>\n",
       "      </button>\n",
       "\n",
       "\n",
       "\n",
       "    <div id=\"df-f962d08b-8a40-42f9-8605-e2eb3cc010e4\">\n",
       "      <button class=\"colab-df-quickchart\" onclick=\"quickchart('df-f962d08b-8a40-42f9-8605-e2eb3cc010e4')\"\n",
       "              title=\"Suggest charts.\"\n",
       "              style=\"display:none;\">\n",
       "\n",
       "<svg xmlns=\"http://www.w3.org/2000/svg\" height=\"24px\"viewBox=\"0 0 24 24\"\n",
       "     width=\"24px\">\n",
       "    <g>\n",
       "        <path d=\"M19 3H5c-1.1 0-2 .9-2 2v14c0 1.1.9 2 2 2h14c1.1 0 2-.9 2-2V5c0-1.1-.9-2-2-2zM9 17H7v-7h2v7zm4 0h-2V7h2v10zm4 0h-2v-4h2v4z\"/>\n",
       "    </g>\n",
       "</svg>\n",
       "      </button>\n",
       "    </div>\n",
       "\n",
       "<style>\n",
       "  .colab-df-quickchart {\n",
       "    background-color: #E8F0FE;\n",
       "    border: none;\n",
       "    border-radius: 50%;\n",
       "    cursor: pointer;\n",
       "    display: none;\n",
       "    fill: #1967D2;\n",
       "    height: 32px;\n",
       "    padding: 0 0 0 0;\n",
       "    width: 32px;\n",
       "  }\n",
       "\n",
       "  .colab-df-quickchart:hover {\n",
       "    background-color: #E2EBFA;\n",
       "    box-shadow: 0px 1px 2px rgba(60, 64, 67, 0.3), 0px 1px 3px 1px rgba(60, 64, 67, 0.15);\n",
       "    fill: #174EA6;\n",
       "  }\n",
       "\n",
       "  [theme=dark] .colab-df-quickchart {\n",
       "    background-color: #3B4455;\n",
       "    fill: #D2E3FC;\n",
       "  }\n",
       "\n",
       "  [theme=dark] .colab-df-quickchart:hover {\n",
       "    background-color: #434B5C;\n",
       "    box-shadow: 0px 1px 3px 1px rgba(0, 0, 0, 0.15);\n",
       "    filter: drop-shadow(0px 1px 2px rgba(0, 0, 0, 0.3));\n",
       "    fill: #FFFFFF;\n",
       "  }\n",
       "</style>\n",
       "\n",
       "    <script>\n",
       "      async function quickchart(key) {\n",
       "        const containerElement = document.querySelector('#' + key);\n",
       "        const charts = await google.colab.kernel.invokeFunction(\n",
       "            'suggestCharts', [key], {});\n",
       "      }\n",
       "    </script>\n",
       "\n",
       "      <script>\n",
       "\n",
       "function displayQuickchartButton(domScope) {\n",
       "  let quickchartButtonEl =\n",
       "    domScope.querySelector('#df-f962d08b-8a40-42f9-8605-e2eb3cc010e4 button.colab-df-quickchart');\n",
       "  quickchartButtonEl.style.display =\n",
       "    google.colab.kernel.accessAllowed ? 'block' : 'none';\n",
       "}\n",
       "\n",
       "        displayQuickchartButton(document);\n",
       "      </script>\n",
       "      <style>\n",
       "    .colab-df-container {\n",
       "      display:flex;\n",
       "      flex-wrap:wrap;\n",
       "      gap: 12px;\n",
       "    }\n",
       "\n",
       "    .colab-df-convert {\n",
       "      background-color: #E8F0FE;\n",
       "      border: none;\n",
       "      border-radius: 50%;\n",
       "      cursor: pointer;\n",
       "      display: none;\n",
       "      fill: #1967D2;\n",
       "      height: 32px;\n",
       "      padding: 0 0 0 0;\n",
       "      width: 32px;\n",
       "    }\n",
       "\n",
       "    .colab-df-convert:hover {\n",
       "      background-color: #E2EBFA;\n",
       "      box-shadow: 0px 1px 2px rgba(60, 64, 67, 0.3), 0px 1px 3px 1px rgba(60, 64, 67, 0.15);\n",
       "      fill: #174EA6;\n",
       "    }\n",
       "\n",
       "    [theme=dark] .colab-df-convert {\n",
       "      background-color: #3B4455;\n",
       "      fill: #D2E3FC;\n",
       "    }\n",
       "\n",
       "    [theme=dark] .colab-df-convert:hover {\n",
       "      background-color: #434B5C;\n",
       "      box-shadow: 0px 1px 3px 1px rgba(0, 0, 0, 0.15);\n",
       "      filter: drop-shadow(0px 1px 2px rgba(0, 0, 0, 0.3));\n",
       "      fill: #FFFFFF;\n",
       "    }\n",
       "  </style>\n",
       "\n",
       "      <script>\n",
       "        const buttonEl =\n",
       "          document.querySelector('#df-1f3e9532-f804-41a3-99fa-cd49b1f161b2 button.colab-df-convert');\n",
       "        buttonEl.style.display =\n",
       "          google.colab.kernel.accessAllowed ? 'block' : 'none';\n",
       "\n",
       "        async function convertToInteractive(key) {\n",
       "          const element = document.querySelector('#df-1f3e9532-f804-41a3-99fa-cd49b1f161b2');\n",
       "          const dataTable =\n",
       "            await google.colab.kernel.invokeFunction('convertToInteractive',\n",
       "                                                     [key], {});\n",
       "          if (!dataTable) return;\n",
       "\n",
       "          const docLinkHtml = 'Like what you see? Visit the ' +\n",
       "            '<a target=\"_blank\" href=https://colab.research.google.com/notebooks/data_table.ipynb>data table notebook</a>'\n",
       "            + ' to learn more about interactive tables.';\n",
       "          element.innerHTML = '';\n",
       "          dataTable['output_type'] = 'display_data';\n",
       "          await google.colab.output.renderOutput(dataTable, element);\n",
       "          const docLink = document.createElement('div');\n",
       "          docLink.innerHTML = docLinkHtml;\n",
       "          element.appendChild(docLink);\n",
       "        }\n",
       "      </script>\n",
       "    </div>\n",
       "  </div>\n"
      ],
      "text/plain": [
       "                                              review  sentiment\n",
       "0  When we started watching this series on cable,...        1.0\n",
       "1  Steve Biko was a black activist who tried to r...        1.0\n",
       "2  My short comment for this flick is go pick it ...        1.0\n",
       "3  As a serious horror fan, I get that certain ma...        0.0\n",
       "4  Robert Cummings, Laraine Day and Jean Muir sta...        1.0"
      ]
     },
     "execution_count": 11,
     "metadata": {},
     "output_type": "execute_result"
    }
   ],
   "source": [
    "basepath = 'data/aclImdb'\n",
    "movie_df = pd.read_csv(basepath + '/movie_data.csv', encoding='utf-8')\n",
    "movie_df = movie_df.astype({'sentiment': np.float32})\n",
    "movie_df.head(5)"
   ]
  },
  {
   "cell_type": "markdown",
   "id": "17f690aa",
   "metadata": {
    "id": "17f690aa"
   },
   "source": [
    "We create a custom IMDB dataset from the Python Dataframe. A PyTorch dataset is used to train a model and contains a set of examples, in our case as a set of reviews and sentiments."
   ]
  },
  {
   "cell_type": "code",
   "execution_count": 12,
   "id": "d57703af",
   "metadata": {
    "id": "d57703af"
   },
   "outputs": [],
   "source": [
    "from torch.utils.data import Dataset\n",
    "\n",
    "class ImdbDataset(Dataset):\n",
    "    def __init__(self, df, transform=None, target_transform=None):\n",
    "        self.df = df\n",
    "        self.transform = transform\n",
    "        self.target_transform = target_transform\n",
    "\n",
    "    def __len__(self):\n",
    "        return len(self.df)\n",
    "\n",
    "    def __getitem__(self, idx):\n",
    "        item = self.df.iloc[idx]\n",
    "        review = item['review']\n",
    "        sentiment = item['sentiment']\n",
    "        if self.transform:\n",
    "            review = self.transform(review)\n",
    "        if self.target_transform:\n",
    "            sentiment = self.target_transform(sentiment)\n",
    "        return review, sentiment"
   ]
  },
  {
   "cell_type": "markdown",
   "id": "a91ffa76",
   "metadata": {
    "id": "a91ffa76"
   },
   "source": [
    "We split the IMDB dataset into a training and test dataset of the same size"
   ]
  },
  {
   "cell_type": "code",
   "execution_count": 13,
   "id": "82e47185",
   "metadata": {
    "colab": {
     "base_uri": "https://localhost:8080/"
    },
    "id": "82e47185",
    "outputId": "a6a9466f-1988-4998-d523-2af11167d764"
   },
   "outputs": [
    {
     "name": "stdout",
     "output_type": "stream",
     "text": [
      "Train dataset: 25000\n",
      "Test dataset: 25000\n"
     ]
    }
   ],
   "source": [
    "from torch.utils.data import DataLoader\n",
    "from torch.utils.data.dataset import random_split\n",
    "\n",
    "movie_dataset = ImdbDataset(df=movie_df)\n",
    "#movie_loader = DataLoader(dataset=review_data, batch_size=4,shuffle=True)\n",
    "\n",
    "train_dataset, test_dataset = random_split(list(movie_dataset), [25000, 25000])\n",
    "print('Train dataset: {0:d}\\nTest dataset: {1:d}'.format(len(train_dataset), len(test_dataset)))"
   ]
  },
  {
   "cell_type": "markdown",
   "id": "a5568480",
   "metadata": {
    "id": "a5568480"
   },
   "source": [
    "### Data preparation\n",
    "We have to prepare the data to train the model. The steps are as follows:\n",
    "\n",
    "1. Split the training dataset into separate training and validation partitions.\n",
    "2. Identify the unique words in the training dataset\n",
    "3. Map each unique word to a unique integer and encode the review text into encoded integers (an index of each unique word)\n",
    "4. Divide the dataset into mini-batches as input to the model\n",
    "\n",
    "We begin by splitting the train dataset into a training set and a validation set"
   ]
  },
  {
   "cell_type": "code",
   "execution_count": 14,
   "id": "d3d181fa",
   "metadata": {
    "colab": {
     "base_uri": "https://localhost:8080/"
    },
    "id": "d3d181fa",
    "outputId": "19741667-b119-4e57-9e08-c121b19082c5"
   },
   "outputs": [
    {
     "name": "stdout",
     "output_type": "stream",
     "text": [
      "Train dataset: 20000\n",
      "Validation dataset: 5000\n"
     ]
    }
   ],
   "source": [
    "train_dataset, valid_dataset = random_split(list(train_dataset), [20000, 5000])\n",
    "print('Train dataset: {0:d}\\nValidation dataset: {1:d}'.format(len(train_dataset), len(valid_dataset)))"
   ]
  },
  {
   "cell_type": "markdown",
   "id": "815b2923",
   "metadata": {
    "id": "815b2923"
   },
   "source": [
    "We extract the unique words (tokens) from each review in the training set. The reviews may contain html tags that are removed as well as punctuation and other non-letter characters using regular expressions."
   ]
  },
  {
   "cell_type": "code",
   "execution_count": 15,
   "id": "27f63342",
   "metadata": {
    "id": "27f63342"
   },
   "outputs": [],
   "source": [
    "import re\n",
    "from collections import Counter, OrderedDict\n",
    "\n",
    "token_counts = Counter()\n",
    "\n",
    "def tokenizer(text):\n",
    "    text = re.sub('<[^>]*>', '', text)\n",
    "    emoticons = re.findall('(?::|;|=)(?:-)?(?:\\)|\\(|D|P)', text.lower())\n",
    "    text = re.sub('[\\W]+', ' ', text.lower()) + ' '.join(emoticons).replace('-', '')\n",
    "    tokenized = text.split()\n",
    "    return tokenized"
   ]
  },
  {
   "cell_type": "code",
   "execution_count": 16,
   "id": "c5c47530",
   "metadata": {
    "id": "c5c47530"
   },
   "outputs": [],
   "source": [
    "for review, sentiment in train_dataset:\n",
    "    tokens = tokenizer(review)\n",
    "    token_counts.update(tokens)"
   ]
  },
  {
   "cell_type": "markdown",
   "id": "ca99ab5c",
   "metadata": {
    "id": "ca99ab5c"
   },
   "source": [
    "The number of unique words in the train dataset"
   ]
  },
  {
   "cell_type": "code",
   "execution_count": 17,
   "id": "bb5ca03a",
   "metadata": {
    "colab": {
     "base_uri": "https://localhost:8080/"
    },
    "id": "bb5ca03a",
    "outputId": "a172bb26-2ab9-4a4a-b72a-b482db9b131d"
   },
   "outputs": [
    {
     "name": "stdout",
     "output_type": "stream",
     "text": [
      "Vocab-size: 71014\n"
     ]
    }
   ],
   "source": [
    "print('Vocab-size:', len(token_counts))"
   ]
  },
  {
   "cell_type": "markdown",
   "id": "e579f8d9",
   "metadata": {
    "id": "e579f8d9"
   },
   "source": [
    "We create a dictionary using the unique words from the reviews in the training set as keys and an integer as value. The value associated to each word start from 2 since 0 and 1 are reserved for padding and unknown words, that is words not within the training set."
   ]
  },
  {
   "cell_type": "code",
   "execution_count": 18,
   "id": "f673bae1",
   "metadata": {
    "id": "f673bae1"
   },
   "outputs": [],
   "source": [
    "sorted_by_freq_tuples = sorted(token_counts.items(), key=lambda x: x[1], reverse=True)\n",
    "ordered_dict = OrderedDict(sorted_by_freq_tuples)\n",
    "\n",
    "vocab = {}\n",
    "\n",
    "count = 2\n",
    "for item in ordered_dict.items():\n",
    "    key = item[0]\n",
    "    value = item[1]\n",
    "    vocab[key] = count\n",
    "    count = count + 1"
   ]
  },
  {
   "cell_type": "markdown",
   "id": "c7ad8819",
   "metadata": {
    "id": "c7ad8819"
   },
   "source": [
    "Words that are contained in the validation or test set but not in the training set are mapped as 'unknown'."
   ]
  },
  {
   "cell_type": "code",
   "execution_count": 19,
   "id": "16520f3a",
   "metadata": {
    "colab": {
     "base_uri": "https://localhost:8080/"
    },
    "id": "16520f3a",
    "outputId": "139ebaf4-15b7-4732-b2c9-431e177ee144"
   },
   "outputs": [
    {
     "name": "stdout",
     "output_type": "stream",
     "text": [
      "[11, 7, 35, 473]\n"
     ]
    }
   ],
   "source": [
    "vocab['<pad>'] = 0\n",
    "vocab['<unk>'] = 1\n",
    "\n",
    "print([vocab[token] for token in ['this', 'is', 'an', 'example']])"
   ]
  },
  {
   "cell_type": "code",
   "execution_count": 20,
   "id": "59673ae5",
   "metadata": {
    "colab": {
     "base_uri": "https://localhost:8080/"
    },
    "id": "59673ae5",
    "outputId": "127ce19c-361b-4203-b286-6aaa68333355"
   },
   "outputs": [
    {
     "name": "stdout",
     "output_type": "stream",
     "text": [
      "Vocab-size: 71016\n"
     ]
    }
   ],
   "source": [
    "print('Vocab-size:', len(vocab))"
   ]
  },
  {
   "cell_type": "markdown",
   "id": "940957da",
   "metadata": {
    "id": "940957da"
   },
   "source": [
    "We map the words in the reviews to integers. The labels do not require any mapping since they are already set to values in {0, 1}."
   ]
  },
  {
   "cell_type": "code",
   "execution_count": 21,
   "id": "48985e9b",
   "metadata": {
    "id": "48985e9b"
   },
   "outputs": [],
   "source": [
    "#text_pipeline = lambda x: [vocab[token] for token in tokenizer(str(x))]\n",
    "\n",
    "def text_pipeline(review):\n",
    "    values = []\n",
    "    for token in tokenizer(str(review)):\n",
    "        if token in vocab:\n",
    "            value = vocab[token]\n",
    "        else:\n",
    "            value = 0\n",
    "        values.append(value)\n",
    "    return values\n",
    "\n",
    "#label_pipeline = lambda x: 1. if x == 'pos' else 0."
   ]
  },
  {
   "cell_type": "code",
   "execution_count": 22,
   "id": "60015511",
   "metadata": {
    "colab": {
     "base_uri": "https://localhost:8080/"
    },
    "id": "60015511",
    "outputId": "7e95498d-4597-4265-c659-c527e8e17dde"
   },
   "outputs": [
    {
     "data": {
      "text/plain": [
       "['this', 'is', 'an', 'example', 'and', 'this', 'is', 'an', 'equivalence']"
      ]
     },
     "execution_count": 22,
     "metadata": {},
     "output_type": "execute_result"
    }
   ],
   "source": [
    "tokens = tokenizer('this is an example and this is an equivalence')\n",
    "tokens"
   ]
  },
  {
   "cell_type": "code",
   "execution_count": null,
   "id": "4ce9acbf",
   "metadata": {
    "id": "4ce9acbf",
    "outputId": "e190fe13-24e2-45b7-bf80-8110a1f60553"
   },
   "outputs": [
    {
     "data": {
      "text/plain": [
       "[11, 7, 35, 473, 3, 11, 7, 35, 0]"
      ]
     },
     "execution_count": 20,
     "metadata": {},
     "output_type": "execute_result"
    }
   ],
   "source": [
    "text_pipeline(tokens)"
   ]
  },
  {
   "cell_type": "markdown",
   "id": "637d2cdc",
   "metadata": {
    "id": "637d2cdc"
   },
   "source": [
    "We provide an example of how a statement is mapped to a sequence of integers"
   ]
  },
  {
   "cell_type": "code",
   "execution_count": 23,
   "id": "3c6069a9",
   "metadata": {
    "colab": {
     "base_uri": "https://localhost:8080/"
    },
    "id": "3c6069a9",
    "outputId": "23c417d9-b4a3-4413-f38a-68607d8523f3"
   },
   "outputs": [
    {
     "data": {
      "text/plain": [
       "tensor([[ 11,   7,  35, 473,   3,  11,   7,  35, 473]])"
      ]
     },
     "execution_count": 23,
     "metadata": {},
     "output_type": "execute_result"
    }
   ],
   "source": [
    "my_text_list = []\n",
    "processed_text = torch.tensor(text_pipeline('this is an example and this is an example'), dtype=torch.int64)\n",
    "my_text_list.append(processed_text)\n",
    "nn.utils.rnn.pad_sequence(my_text_list, batch_first=True)"
   ]
  },
  {
   "cell_type": "markdown",
   "id": "191bf984",
   "metadata": {
    "id": "191bf984"
   },
   "source": [
    "We implement a collate_fn function to build a batch from the dataset"
   ]
  },
  {
   "cell_type": "code",
   "execution_count": 24,
   "id": "019c3a1f",
   "metadata": {
    "id": "019c3a1f"
   },
   "outputs": [],
   "source": [
    "## Step 3-B: wrap the encode and transformation function\n",
    "def collate_batch(batch):\n",
    "    label_list, text_list, lengths = [], [], []\n",
    "    for _text, _label in batch:\n",
    "        #label_list.append(label_pipeline(_label))\n",
    "        label_list.append(_label)\n",
    "        processed_text = torch.tensor(text_pipeline(_text), dtype=torch.int64)\n",
    "        text_list.append(processed_text)\n",
    "        lengths.append(processed_text.size(0))\n",
    "    label_list = torch.tensor(label_list)\n",
    "    lengths = torch.tensor(lengths)\n",
    "    padded_text_list = nn.utils.rnn.pad_sequence(text_list, batch_first=True)\n",
    "    return padded_text_list, label_list, lengths"
   ]
  },
  {
   "cell_type": "markdown",
   "id": "7f501f3f",
   "metadata": {
    "id": "7f501f3f"
   },
   "source": [
    "We print the first batch of 4 sequences of the training set. We can see that the number of tokens, integers different from 0, in each batch is different. Nontheless the length of each batch is the same since it has been padded with 0 values."
   ]
  },
  {
   "cell_type": "code",
   "execution_count": 25,
   "id": "349312d7",
   "metadata": {
    "colab": {
     "base_uri": "https://localhost:8080/"
    },
    "id": "349312d7",
    "outputId": "c56b0b9d-d8ba-4a2c-aab7-793a554add78"
   },
   "outputs": [
    {
     "name": "stdout",
     "output_type": "stream",
     "text": [
      "tensor([[   10,   230,     4,  ...,     0,     0,     0],\n",
      "        [ 2944,     5,     4,  ...,     0,     0,     0],\n",
      "        [   52,    10,   582,  ...,     0,     0,     0],\n",
      "        [   58,    86, 43806,  ...,   142,   746, 43814]])\n",
      "tensor([0., 1., 0., 0.])\n",
      "tensor([132, 413, 242, 986])\n",
      "torch.Size([4, 986])\n"
     ]
    }
   ],
   "source": [
    "from torch.utils.data import DataLoader\n",
    "dataloader = DataLoader(train_dataset, batch_size=4, shuffle=False, collate_fn=collate_batch)\n",
    "text_batch, label_batch, length_batch = next(iter(dataloader)) # takes the first batch\n",
    "print(text_batch)\n",
    "print(label_batch)\n",
    "print(length_batch)\n",
    "print(text_batch.shape)"
   ]
  },
  {
   "cell_type": "markdown",
   "id": "fa8d50e0",
   "metadata": {
    "id": "fa8d50e0"
   },
   "source": [
    "We create the data loader for the three datasets: train, validation, and test"
   ]
  },
  {
   "cell_type": "code",
   "execution_count": 26,
   "id": "b2a6378d",
   "metadata": {
    "id": "b2a6378d"
   },
   "outputs": [],
   "source": [
    "batch_size = 32\n",
    "\n",
    "train_dl = DataLoader(train_dataset, batch_size=batch_size, shuffle=True, collate_fn=collate_batch)\n",
    "valid_dl = DataLoader(valid_dataset, batch_size=batch_size, shuffle=False, collate_fn=collate_batch)\n",
    "test_dl = DataLoader(test_dataset, batch_size=batch_size, shuffle=False, collate_fn=collate_batch)"
   ]
  },
  {
   "cell_type": "code",
   "execution_count": 27,
   "id": "943ef38e",
   "metadata": {
    "colab": {
     "base_uri": "https://localhost:8080/"
    },
    "id": "943ef38e",
    "outputId": "545c55f1-3ba8-4953-ef03-9f13140dfac5"
   },
   "outputs": [
    {
     "data": {
      "text/plain": [
       "(tensor([[  11,   16,   64,  ...,    0,    0,    0],\n",
       "         [  10,   28,  108,  ...,    0,    0,    0],\n",
       "         [  48,  241,   10,  ...,    0,    0,    0],\n",
       "         ...,\n",
       "         [2002, 1249, 5966,  ...,    0,    0,    0],\n",
       "         [  10,  138,  108,  ...,    0,    0,    0],\n",
       "         [   4,  121, 3609,  ...,    0,    0,    0]]),\n",
       " tensor([0., 0., 1., 1., 1., 0., 1., 0., 0., 0., 1., 0., 0., 1., 1., 1., 0., 1.,\n",
       "         1., 0., 0., 1., 1., 1., 0., 1., 0., 0., 0., 0., 0., 1.]),\n",
       " tensor([ 109,  372,  191,   62,  746,  123,  178, 1016,  748,  209,  362,  418,\n",
       "          492,   64,  135,  232,  120,  365,  495,  204,  215,  608,  109,  163,\n",
       "          203,  113,  607,  155,  271,  196,  581,  210]))"
      ]
     },
     "execution_count": 27,
     "metadata": {},
     "output_type": "execute_result"
    }
   ],
   "source": [
    "next(iter(train_dl))"
   ]
  },
  {
   "cell_type": "markdown",
   "id": "d71dc607",
   "metadata": {
    "id": "d71dc607"
   },
   "source": [
    "## Embeddings\n",
    "We will represent the words as vectors in a space of real numbers whose dimension n is much smaller than the number of words so that each word can be represented in this space using n real numbers. PyTorch provides some functions to create embeddings. For instance we create an embedding of two tensors of integers. Each tensor represents a batch and each integer represents a word. Each word is mapped to a point in the 3-dimensional embedding space."
   ]
  },
  {
   "cell_type": "code",
   "execution_count": 28,
   "id": "9b438aa4",
   "metadata": {
    "colab": {
     "base_uri": "https://localhost:8080/"
    },
    "id": "9b438aa4",
    "outputId": "7a8ea30b-b38b-483a-b624-90942af46102"
   },
   "outputs": [
    {
     "name": "stdout",
     "output_type": "stream",
     "text": [
      "tensor([[[-2.2905,  0.5024,  0.9382],\n",
      "         [ 0.4840,  1.5309,  1.3001],\n",
      "         [-0.7511, -1.2292, -0.7398],\n",
      "         [ 0.4158,  1.6106, -0.3487]],\n",
      "\n",
      "        [[-0.7511, -1.2292, -0.7398],\n",
      "         [ 0.4284,  0.1795, -0.3951],\n",
      "         [ 0.4840,  1.5309,  1.3001],\n",
      "         [ 0.0000,  0.0000,  0.0000]]], grad_fn=<EmbeddingBackward0>)\n"
     ]
    }
   ],
   "source": [
    "embedding = nn.Embedding(num_embeddings=10, embedding_dim=3, padding_idx=0)\n",
    "\n",
    "# a batch of 2 samples of 4 indices each\n",
    "text_encoded_input = torch.LongTensor([[1, 2, 4, 5], [4, 3, 2, 0]])\n",
    "print(embedding(text_encoded_input))"
   ]
  },
  {
   "cell_type": "markdown",
   "id": "809222b2",
   "metadata": {
    "id": "809222b2"
   },
   "source": [
    "## Building an RNN model\n",
    "We create a model with two RNN layers and a final fully connected layer to show how a RNN is built in PyTorch."
   ]
  },
  {
   "cell_type": "code",
   "execution_count": 29,
   "id": "0f106e13",
   "metadata": {
    "colab": {
     "base_uri": "https://localhost:8080/"
    },
    "id": "0f106e13",
    "outputId": "82107373-ef4b-48c3-e9f5-b2c7a1b334c3"
   },
   "outputs": [
    {
     "name": "stdout",
     "output_type": "stream",
     "text": [
      "RNN(\n",
      "  (rnn): RNN(64, 32, num_layers=2, batch_first=True)\n",
      "  (fc): Linear(in_features=32, out_features=1, bias=True)\n",
      ")\n"
     ]
    },
    {
     "data": {
      "text/plain": [
       "tensor([[-0.1841],\n",
       "        [ 0.1844],\n",
       "        [ 0.2407],\n",
       "        [-0.1471],\n",
       "        [ 0.2428]], grad_fn=<AddmmBackward0>)"
      ]
     },
     "execution_count": 29,
     "metadata": {},
     "output_type": "execute_result"
    }
   ],
   "source": [
    "## An example of building a RNN model\n",
    "## with simple RNN layer\n",
    "\n",
    "# Fully connected neural network with one hidden layer\n",
    "class RNN(nn.Module):\n",
    "    def __init__(self, input_size, hidden_size):\n",
    "        super().__init__()\n",
    "        self.rnn = nn.RNN(input_size,\n",
    "                          hidden_size,\n",
    "                          num_layers=2,\n",
    "                          batch_first=True)\n",
    "        #self.gru = nn.GRU(input_size, hidden_size, num_layers, batch_first=True)\n",
    "        #self.lstm = nn.LSTM(input_size, hidden_size, num_layers, batch_first=True)\n",
    "        self.fc = nn.Linear(hidden_size, 1)\n",
    "\n",
    "    def forward(self, x):\n",
    "        _, hidden = self.rnn(x)\n",
    "        out = hidden[-1, :, :]\n",
    "        out = self.fc(out)\n",
    "        return out\n",
    "\n",
    "model = RNN(64, 32)\n",
    "\n",
    "print(model)\n",
    "\n",
    "model(torch.randn(5, 3, 64))"
   ]
  },
  {
   "cell_type": "markdown",
   "id": "06068b31",
   "metadata": {
    "id": "06068b31"
   },
   "source": [
    "## Building an RNN model for the sentiment analysis task\n",
    "We use an LSTM layer to take into account long distance dependencies between words."
   ]
  },
  {
   "cell_type": "code",
   "execution_count": 30,
   "id": "e7f50370",
   "metadata": {
    "colab": {
     "base_uri": "https://localhost:8080/"
    },
    "id": "e7f50370",
    "outputId": "b8cd16f7-e2db-4ed3-d8fc-122816e56664"
   },
   "outputs": [
    {
     "data": {
      "text/plain": [
       "RNN(\n",
       "  (embedding): Embedding(71016, 20, padding_idx=0)\n",
       "  (rnn): LSTM(20, 64, batch_first=True)\n",
       "  (fc1): Linear(in_features=64, out_features=64, bias=True)\n",
       "  (relu): ReLU()\n",
       "  (fc2): Linear(in_features=64, out_features=1, bias=True)\n",
       "  (sigmoid): Sigmoid()\n",
       ")"
      ]
     },
     "execution_count": 30,
     "metadata": {},
     "output_type": "execute_result"
    }
   ],
   "source": [
    "class RNN(nn.Module):\n",
    "    def __init__(self, vocab_size, embed_dim, rnn_hidden_size, fc_hidden_size):\n",
    "        super().__init__()\n",
    "        self.embedding = nn.Embedding(vocab_size,\n",
    "                                      embed_dim,\n",
    "                                      padding_idx=0)\n",
    "        self.rnn = nn.LSTM(embed_dim, rnn_hidden_size,\n",
    "                           batch_first=True)\n",
    "        self.fc1 = nn.Linear(rnn_hidden_size, fc_hidden_size)\n",
    "        self.relu = nn.ReLU()\n",
    "        self.fc2 = nn.Linear(fc_hidden_size, 1)\n",
    "        self.sigmoid = nn.Sigmoid()\n",
    "\n",
    "    def forward(self, text, lengths):\n",
    "        out = self.embedding(text)\n",
    "        out = nn.utils.rnn.pack_padded_sequence(out, lengths.cpu().numpy(), enforce_sorted=False, batch_first=True)\n",
    "        out, (hidden, cell) = self.rnn(out)\n",
    "        out = hidden[-1, :, :]\n",
    "        out = self.fc1(out)\n",
    "        out = self.relu(out)\n",
    "        out = self.fc2(out)\n",
    "        out = self.sigmoid(out)\n",
    "        return out\n",
    "\n",
    "vocab_size = len(vocab)\n",
    "embed_dim = 20\n",
    "rnn_hidden_size = 64\n",
    "fc_hidden_size = 64\n",
    "\n",
    "torch.manual_seed(1)\n",
    "model = RNN(vocab_size, embed_dim, rnn_hidden_size, fc_hidden_size)\n",
    "model"
   ]
  },
  {
   "cell_type": "code",
   "execution_count": 31,
   "id": "afc05dc8",
   "metadata": {
    "id": "afc05dc8"
   },
   "outputs": [],
   "source": [
    "def train(dataloader):\n",
    "    model.train()\n",
    "    total_acc, total_loss = 0, 0\n",
    "    for text_batch, label_batch, lengths in dataloader:\n",
    "        optimizer.zero_grad()\n",
    "        pred = model(text_batch, lengths)[:, 0]\n",
    "        loss = loss_fn(pred, label_batch)\n",
    "        loss.backward()\n",
    "        optimizer.step()\n",
    "        total_acc += ((pred>=0.5).float() == label_batch).float().sum().item()\n",
    "        total_loss += loss.item()*label_batch.size(0)\n",
    "    return total_acc/len(dataloader.dataset), total_loss/len(dataloader.dataset)\n",
    "\n",
    "def evaluate(dataloader):\n",
    "    model.eval()\n",
    "    total_acc, total_loss = 0, 0\n",
    "    with torch.no_grad():\n",
    "        for text_batch, label_batch, lengths in dataloader:\n",
    "            pred = model(text_batch, lengths)[:, 0]\n",
    "            loss = loss_fn(pred, label_batch)\n",
    "            total_acc += ((pred>=0.5).float() == label_batch).float().sum().item()\n",
    "            total_loss += loss.item()*label_batch.size(0)\n",
    "    return total_acc/len(dataloader.dataset), total_loss/len(dataloader.dataset)"
   ]
  },
  {
   "cell_type": "markdown",
   "id": "906d1fcc",
   "metadata": {},
   "source": [
    "The training of the model takes 12' per epoch on a GPU (using Google Colab), that is 2 hours for 10 epochs."
   ]
  },
  {
   "cell_type": "code",
   "execution_count": 32,
   "id": "f57eb172",
   "metadata": {
    "colab": {
     "base_uri": "https://localhost:8080/"
    },
    "id": "f57eb172",
    "outputId": "0f0c861a-9721-4e02-b0e9-b2b313a30f43"
   },
   "outputs": [
    {
     "name": "stdout",
     "output_type": "stream",
     "text": [
      "Epoch 0 accuracy: 0.6090 val_accuracy: 0.6906\n",
      "Epoch 1 accuracy: 0.6934 val_accuracy: 0.6138\n",
      "Epoch 2 accuracy: 0.6776 val_accuracy: 0.7652\n",
      "Epoch 3 accuracy: 0.7543 val_accuracy: 0.8002\n",
      "Epoch 4 accuracy: 0.8512 val_accuracy: 0.8330\n",
      "Epoch 5 accuracy: 0.8923 val_accuracy: 0.8642\n",
      "Epoch 6 accuracy: 0.9163 val_accuracy: 0.8720\n",
      "Epoch 7 accuracy: 0.9327 val_accuracy: 0.8642\n",
      "Epoch 8 accuracy: 0.9469 val_accuracy: 0.8752\n",
      "Epoch 9 accuracy: 0.9603 val_accuracy: 0.8782\n"
     ]
    }
   ],
   "source": [
    "loss_fn = nn.BCELoss()\n",
    "optimizer = torch.optim.Adam(model.parameters(), lr=0.001)\n",
    "\n",
    "num_epochs = 10\n",
    "\n",
    "torch.manual_seed(1)\n",
    "\n",
    "for epoch in range(num_epochs):\n",
    "    acc_train, loss_train = train(train_dl)\n",
    "    acc_valid, loss_valid = evaluate(valid_dl)\n",
    "    print(f'Epoch {epoch} accuracy: {acc_train:.4f} val_accuracy: {acc_valid:.4f}')"
   ]
  },
  {
   "cell_type": "code",
   "execution_count": 33,
   "id": "585a37d2",
   "metadata": {
    "colab": {
     "base_uri": "https://localhost:8080/"
    },
    "id": "585a37d2",
    "outputId": "9f93b6a2-f50c-40a0-a940-f1249ea75810"
   },
   "outputs": [
    {
     "name": "stdout",
     "output_type": "stream",
     "text": [
      "test_accuracy: 0.8705\n"
     ]
    }
   ],
   "source": [
    "acc_test, _ = evaluate(test_dl)\n",
    "print(f'test_accuracy: {acc_test:.4f}')"
   ]
  },
  {
   "cell_type": "code",
   "execution_count": null,
   "id": "8857eb35",
   "metadata": {
    "id": "8857eb35"
   },
   "outputs": [],
   "source": []
  }
 ],
 "metadata": {
  "accelerator": "GPU",
  "colab": {
   "gpuType": "T4",
   "include_colab_link": true,
   "provenance": []
  },
  "kernelspec": {
   "display_name": "Python 3 (ipykernel)",
   "language": "python",
   "name": "python3"
  },
  "language_info": {
   "codemirror_mode": {
    "name": "ipython",
    "version": 3
   },
   "file_extension": ".py",
   "mimetype": "text/x-python",
   "name": "python",
   "nbconvert_exporter": "python",
   "pygments_lexer": "ipython3",
   "version": "3.11.4"
  }
 },
 "nbformat": 4,
 "nbformat_minor": 5
}
