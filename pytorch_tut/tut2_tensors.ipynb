{
 "cells": [
  {
   "cell_type": "markdown",
   "id": "aecc9927",
   "metadata": {},
   "source": [
    "# Tensors"
   ]
  },
  {
   "cell_type": "code",
   "execution_count": 2,
   "id": "636fd60d",
   "metadata": {},
   "outputs": [
    {
     "name": "stderr",
     "output_type": "stream",
     "text": [
      "C:\\Users\\Luigi\\Anaconda3\\envs\\wekeo\\lib\\site-packages\\tqdm\\auto.py:22: TqdmWarning: IProgress not found. Please update jupyter and ipywidgets. See https://ipywidgets.readthedocs.io/en/stable/user_install.html\n",
      "  from .autonotebook import tqdm as notebook_tqdm\n"
     ]
    }
   ],
   "source": [
    "import torch\n",
    "import numpy as np"
   ]
  },
  {
   "cell_type": "markdown",
   "id": "73b57be7",
   "metadata": {},
   "source": [
    "## Tensors initialization\n",
    "Like with NumPy, a tensor can be initialized with a list of numbers"
   ]
  },
  {
   "cell_type": "code",
   "execution_count": 2,
   "id": "b9adfb7a",
   "metadata": {},
   "outputs": [
    {
     "data": {
      "text/plain": [
       "tensor([[1, 2],\n",
       "        [3, 4]])"
      ]
     },
     "execution_count": 2,
     "metadata": {},
     "output_type": "execute_result"
    }
   ],
   "source": [
    "data = [[1, 2],[3, 4]]\n",
    "x_data = torch.tensor(data)\n",
    "x_data"
   ]
  },
  {
   "cell_type": "raw",
   "id": "ab653d24",
   "metadata": {},
   "source": [
    "or from a NumPy array"
   ]
  },
  {
   "cell_type": "code",
   "execution_count": 4,
   "id": "66bb4fa6",
   "metadata": {},
   "outputs": [
    {
     "data": {
      "text/plain": [
       "tensor([[1, 2],\n",
       "        [3, 4]], dtype=torch.int32)"
      ]
     },
     "execution_count": 4,
     "metadata": {},
     "output_type": "execute_result"
    }
   ],
   "source": [
    "np_array = np.array(data)\n",
    "x_np = torch.from_numpy(np_array)\n",
    "x_np"
   ]
  },
  {
   "cell_type": "markdown",
   "id": "8e8f3b1a",
   "metadata": {},
   "source": [
    "Tensors already filled with values such as ones, zeros or random numbers can be created with the same shape of another tensor"
   ]
  },
  {
   "cell_type": "code",
   "execution_count": 7,
   "id": "8ccb8dd0",
   "metadata": {},
   "outputs": [
    {
     "name": "stdout",
     "output_type": "stream",
     "text": [
      "Random Tensor: \n",
      " tensor([[0.6501, 0.2127],\n",
      "        [0.4781, 0.4237]]) \n",
      "\n"
     ]
    }
   ],
   "source": [
    "rand_tensor = torch.rand(x_data.shape, dtype=torch.float) # overrides the datatype of x_data\n",
    "print(f\"Random Tensor: \\n {rand_tensor} \\n\")"
   ]
  },
  {
   "cell_type": "code",
   "execution_count": 8,
   "id": "07f152fe",
   "metadata": {},
   "outputs": [
    {
     "name": "stdout",
     "output_type": "stream",
     "text": [
      "Shape of tensor: torch.Size([2, 2])\n",
      "Datatype of tensor: torch.float32\n",
      "Device tensor is stored on: cpu\n"
     ]
    }
   ],
   "source": [
    "print(f\"Shape of tensor: {rand_tensor.shape}\")\n",
    "print(f\"Datatype of tensor: {rand_tensor.dtype}\")\n",
    "print(f\"Device tensor is stored on: {rand_tensor.device}\")"
   ]
  },
  {
   "cell_type": "markdown",
   "id": "f592c391",
   "metadata": {},
   "source": [
    "## Operation on tensors\n",
    "A tensor is a multi-dimensional data structure that supports many operations from linear algebra, matric manipulation and others. A tensor can work on a cpu or on a gpu. If a gpu is available the tensor API provides a metod to move a tensor from the cpu to the gpu."
   ]
  },
  {
   "cell_type": "code",
   "execution_count": 10,
   "id": "977f5dc3",
   "metadata": {},
   "outputs": [],
   "source": [
    "if torch.cuda.is_available():\n",
    "    tensor = tensor.to(\"cuda\")"
   ]
  },
  {
   "cell_type": "markdown",
   "id": "95a68286",
   "metadata": {},
   "source": [
    "### Slicing"
   ]
  },
  {
   "cell_type": "code",
   "execution_count": 13,
   "id": "faedb5cd",
   "metadata": {},
   "outputs": [
    {
     "name": "stdout",
     "output_type": "stream",
     "text": [
      "First row: tensor([1, 2, 3])\n",
      "First column: tensor([1, 4, 7])\n",
      "Last column: tensor([3, 6, 9])\n",
      "tensor([[0, 2, 3],\n",
      "        [0, 5, 6],\n",
      "        [0, 8, 9]])\n"
     ]
    }
   ],
   "source": [
    "data = [[1, 2, 3],[4, 5, 6], [7, 8, 9]]\n",
    "tensor = torch.tensor(data)\n",
    "print(f\"First row: {tensor[0]}\")\n",
    "print(f\"First column: {tensor[:, 0]}\")\n",
    "print(f\"Last column: {tensor[..., -1]}\")\n",
    "tensor[:, 0] = 0\n",
    "print(tensor)"
   ]
  },
  {
   "cell_type": "markdown",
   "id": "befc044c",
   "metadata": {},
   "source": [
    "### Concatenation"
   ]
  },
  {
   "cell_type": "code",
   "execution_count": 14,
   "id": "2f0d1ba0",
   "metadata": {},
   "outputs": [
    {
     "name": "stdout",
     "output_type": "stream",
     "text": [
      "tensor([[0, 2, 3, 0, 2, 3, 0, 2, 3],\n",
      "        [0, 5, 6, 0, 5, 6, 0, 5, 6],\n",
      "        [0, 8, 9, 0, 8, 9, 0, 8, 9]])\n"
     ]
    }
   ],
   "source": [
    "t1 = torch.cat([tensor, tensor, tensor], dim=1)\n",
    "print(t1)"
   ]
  },
  {
   "cell_type": "code",
   "execution_count": 17,
   "id": "164697b5",
   "metadata": {},
   "outputs": [
    {
     "data": {
      "text/plain": [
       "torch.Size([3, 9])"
      ]
     },
     "execution_count": 17,
     "metadata": {},
     "output_type": "execute_result"
    }
   ],
   "source": [
    "t1.shape"
   ]
  },
  {
   "cell_type": "markdown",
   "id": "6c641b3a",
   "metadata": {},
   "source": [
    "### Stacking"
   ]
  },
  {
   "cell_type": "code",
   "execution_count": 15,
   "id": "ebd10315",
   "metadata": {},
   "outputs": [
    {
     "name": "stdout",
     "output_type": "stream",
     "text": [
      "tensor([[[0, 2, 3],\n",
      "         [0, 2, 3],\n",
      "         [0, 2, 3]],\n",
      "\n",
      "        [[0, 5, 6],\n",
      "         [0, 5, 6],\n",
      "         [0, 5, 6]],\n",
      "\n",
      "        [[0, 8, 9],\n",
      "         [0, 8, 9],\n",
      "         [0, 8, 9]]])\n"
     ]
    }
   ],
   "source": [
    "t2 = torch.stack([tensor, tensor, tensor], dim=1)\n",
    "print(t2)"
   ]
  },
  {
   "cell_type": "code",
   "execution_count": 16,
   "id": "31a8b189",
   "metadata": {},
   "outputs": [
    {
     "data": {
      "text/plain": [
       "torch.Size([3, 3, 3])"
      ]
     },
     "execution_count": 16,
     "metadata": {},
     "output_type": "execute_result"
    }
   ],
   "source": [
    "t2.shape"
   ]
  },
  {
   "cell_type": "markdown",
   "id": "13a43bed",
   "metadata": {},
   "source": [
    "### Matrix multiplication\n",
    "In order to perform a matrix multiplication of two matrices A and B, the number of colums of the firts matrix must be equal to the number of rows of the second matrix. "
   ]
  },
  {
   "cell_type": "code",
   "execution_count": 22,
   "id": "6302dfa3",
   "metadata": {},
   "outputs": [
    {
     "data": {
      "text/plain": [
       "tensor([ 5,  7, 18])"
      ]
     },
     "execution_count": 22,
     "metadata": {},
     "output_type": "execute_result"
    }
   ],
   "source": [
    "data = [[1, 2, 3],[0, 5, 6], [0, 0, 9]]\n",
    "A = torch.tensor(data)\n",
    "x = torch.tensor([1, -1, 2])\n",
    "A @ x"
   ]
  },
  {
   "cell_type": "markdown",
   "id": "33541e97",
   "metadata": {},
   "source": [
    "### Element-wise product"
   ]
  },
  {
   "cell_type": "code",
   "execution_count": 24,
   "id": "51f578cb",
   "metadata": {},
   "outputs": [
    {
     "data": {
      "text/plain": [
       "(tensor([[ 1,  4,  9],\n",
       "         [ 0, 25, 36],\n",
       "         [ 0,  0, 81]]),\n",
       " tensor([[ 1,  4,  9],\n",
       "         [ 0, 25, 36],\n",
       "         [ 0,  0, 81]]))"
      ]
     },
     "execution_count": 24,
     "metadata": {},
     "output_type": "execute_result"
    }
   ],
   "source": [
    "z1 = tensor * tensor\n",
    "z2 = tensor.mul(tensor)\n",
    "z1, z2"
   ]
  },
  {
   "cell_type": "markdown",
   "id": "080600d7",
   "metadata": {},
   "source": [
    "### In-place operations"
   ]
  },
  {
   "cell_type": "code",
   "execution_count": 25,
   "id": "250c38fd",
   "metadata": {},
   "outputs": [
    {
     "name": "stdout",
     "output_type": "stream",
     "text": [
      "tensor([[1, 2, 3],\n",
      "        [0, 5, 6],\n",
      "        [0, 0, 9]]) \n",
      "\n",
      "tensor([[ 6,  7,  8],\n",
      "        [ 5, 10, 11],\n",
      "        [ 5,  5, 14]])\n"
     ]
    }
   ],
   "source": [
    "print(f\"{tensor} \\n\")\n",
    "tensor.add_(5)\n",
    "print(tensor)"
   ]
  },
  {
   "cell_type": "code",
   "execution_count": null,
   "id": "7e8ee263",
   "metadata": {},
   "outputs": [],
   "source": []
  }
 ],
 "metadata": {
  "kernelspec": {
   "display_name": "Python 3 (ipykernel)",
   "language": "python",
   "name": "python3"
  },
  "language_info": {
   "codemirror_mode": {
    "name": "ipython",
    "version": 3
   },
   "file_extension": ".py",
   "mimetype": "text/x-python",
   "name": "python",
   "nbconvert_exporter": "python",
   "pygments_lexer": "ipython3",
   "version": "3.9.13"
  }
 },
 "nbformat": 4,
 "nbformat_minor": 5
}
