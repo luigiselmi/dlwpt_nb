{
 "cells": [
  {
   "cell_type": "markdown",
   "id": "097929e9",
   "metadata": {},
   "source": [
    "# Build the neural network"
   ]
  },
  {
   "cell_type": "code",
   "execution_count": 1,
   "id": "330eb602",
   "metadata": {},
   "outputs": [
    {
     "name": "stderr",
     "output_type": "stream",
     "text": [
      "C:\\Users\\Luigi\\Anaconda3\\envs\\wekeo\\lib\\site-packages\\tqdm\\auto.py:22: TqdmWarning: IProgress not found. Please update jupyter and ipywidgets. See https://ipywidgets.readthedocs.io/en/stable/user_install.html\n",
      "  from .autonotebook import tqdm as notebook_tqdm\n"
     ]
    }
   ],
   "source": [
    "import os\n",
    "import torch\n",
    "from torch import nn\n",
    "from torch.utils.data import DataLoader\n",
    "from torchvision import datasets, transforms"
   ]
  },
  {
   "cell_type": "code",
   "execution_count": 2,
   "id": "4bca16f6",
   "metadata": {},
   "outputs": [
    {
     "name": "stdout",
     "output_type": "stream",
     "text": [
      "Using cpu device\n"
     ]
    }
   ],
   "source": [
    "device = \"cuda\" if torch.cuda.is_available() else \"cpu\"\n",
    "print(f\"Using {device} device\")"
   ]
  },
  {
   "cell_type": "markdown",
   "id": "614bfa04",
   "metadata": {},
   "source": [
    "We define our model as a subclass of nn.Module by implementing the methods init() and forward(). Our model has three layers: two hidden layers with a ReLU activation function and a linear output layer. The output of one layer is the input of the following one. The first layer accepts as input a tensor of size 28x28 float numbers, that can be an image of 28x28 pixels, and the output is a tensor of size 512. The 2nd layer has input size 512 and same output size. The final layer has an input of size 512 and output 10. This layer provided the probabilistic interpretation of the model that maps an image to a set of 10 prbabability values each associated to one of the classes of the FashionMNIST dataset. "
   ]
  },
  {
   "cell_type": "code",
   "execution_count": 3,
   "id": "59ee733b",
   "metadata": {},
   "outputs": [],
   "source": [
    "class NeuralNetwork(nn.Module):\n",
    "    def __init__(self):\n",
    "        super(NeuralNetwork, self).__init__()\n",
    "        self.flatten = nn.Flatten()\n",
    "        self.linear_relu_stack = nn.Sequential(\n",
    "            nn.Linear(28*28, 512),\n",
    "            nn.ReLU(),\n",
    "            nn.Linear(512, 512),\n",
    "            nn.ReLU(),\n",
    "            nn.Linear(512, 10),\n",
    "        )\n",
    "\n",
    "    def forward(self, x):\n",
    "        x = self.flatten(x)\n",
    "        logits = self.linear_relu_stack(x)\n",
    "        return logits"
   ]
  },
  {
   "cell_type": "code",
   "execution_count": 4,
   "id": "29be7575",
   "metadata": {},
   "outputs": [
    {
     "name": "stdout",
     "output_type": "stream",
     "text": [
      "NeuralNetwork(\n",
      "  (flatten): Flatten(start_dim=1, end_dim=-1)\n",
      "  (linear_relu_stack): Sequential(\n",
      "    (0): Linear(in_features=784, out_features=512, bias=True)\n",
      "    (1): ReLU()\n",
      "    (2): Linear(in_features=512, out_features=512, bias=True)\n",
      "    (3): ReLU()\n",
      "    (4): Linear(in_features=512, out_features=10, bias=True)\n",
      "  )\n",
      ")\n"
     ]
    }
   ],
   "source": [
    "model = NeuralNetwork().to(device)\n",
    "print(model)"
   ]
  },
  {
   "cell_type": "markdown",
   "id": "cd497f1b",
   "metadata": {},
   "source": [
    "The model can be called passing as input a tensor that represents a batch of images. In this case the batch contains only one tensor of 28x28 random values."
   ]
  },
  {
   "cell_type": "code",
   "execution_count": 5,
   "id": "18c4b0ba",
   "metadata": {},
   "outputs": [
    {
     "name": "stdout",
     "output_type": "stream",
     "text": [
      "Predicted class: tensor([7])\n"
     ]
    }
   ],
   "source": [
    "batch_size = 1\n",
    "X = torch.rand(batch_size, 28, 28, device=device)\n",
    "logits = model(X)\n",
    "pred_probab = nn.Softmax(dim=1)(logits)\n",
    "y_pred = pred_probab.argmax(1)\n",
    "print(f\"Predicted class: {y_pred}\")"
   ]
  },
  {
   "cell_type": "markdown",
   "id": "560765c4",
   "metadata": {},
   "source": [
    "We try with a minibatch of 3 28x28 tensors of random values"
   ]
  },
  {
   "cell_type": "code",
   "execution_count": 6,
   "id": "c3d983ab",
   "metadata": {},
   "outputs": [
    {
     "name": "stdout",
     "output_type": "stream",
     "text": [
      "torch.Size([3, 28, 28])\n"
     ]
    }
   ],
   "source": [
    "input_tensor = torch.rand(3,28,28)\n",
    "print(input_tensor.size())"
   ]
  },
  {
   "cell_type": "markdown",
   "id": "51de5617",
   "metadata": {},
   "source": [
    "We can see what a tensor of random values looks like by transforming it into an image"
   ]
  },
  {
   "cell_type": "code",
   "execution_count": 7,
   "id": "61189b51",
   "metadata": {},
   "outputs": [
    {
     "data": {
      "text/plain": [
       "<matplotlib.image.AxesImage at 0x1b4ee237760>"
      ]
     },
     "execution_count": 7,
     "metadata": {},
     "output_type": "execute_result"
    },
    {
     "data": {
      "image/png": "[encoded data removed]",
      "text/plain": [
       "<Figure size 432x288 with 1 Axes>"
      ]
     },
     "metadata": {
      "needs_background": "light"
     },
     "output_type": "display_data"
    }
   ],
   "source": [
    "import matplotlib.pyplot as plt\n",
    "to_pil_image = transforms.ToPILImage()\n",
    "img = to_pil_image(input_tensor)\n",
    "plt.imshow(img)"
   ]
  },
  {
   "cell_type": "markdown",
   "id": "e33e9f4d",
   "metadata": {},
   "source": [
    "### Flatten layer"
   ]
  },
  {
   "cell_type": "code",
   "execution_count": 9,
   "id": "7825cec2",
   "metadata": {},
   "outputs": [
    {
     "name": "stdout",
     "output_type": "stream",
     "text": [
      "torch.Size([3, 784])\n"
     ]
    }
   ],
   "source": [
    "flatten = nn.Flatten()\n",
    "flat_image = flatten(input_tensor)\n",
    "print(flat_image.size())"
   ]
  },
  {
   "cell_type": "markdown",
   "id": "1d2852cb",
   "metadata": {},
   "source": [
    "### Linear layer"
   ]
  },
  {
   "cell_type": "code",
   "execution_count": 10,
   "id": "718f5ba1",
   "metadata": {},
   "outputs": [
    {
     "name": "stdout",
     "output_type": "stream",
     "text": [
      "torch.Size([3, 20])\n"
     ]
    }
   ],
   "source": [
    "layer1 = nn.Linear(in_features=28*28, out_features=20)\n",
    "hidden1 = layer1(flat_image)\n",
    "print(hidden1.size())"
   ]
  },
  {
   "cell_type": "markdown",
   "id": "63ec7f1a",
   "metadata": {},
   "source": [
    "### Non-linear activation ReLU"
   ]
  },
  {
   "cell_type": "code",
   "execution_count": 11,
   "id": "064df656",
   "metadata": {},
   "outputs": [
    {
     "name": "stdout",
     "output_type": "stream",
     "text": [
      "Before ReLU: tensor([[-0.0491,  0.0229, -0.0251,  0.0440, -0.5135,  0.2814,  0.1575, -0.1150,\n",
      "         -0.3286, -0.1887, -0.2296, -0.5831, -0.3966, -0.0027, -0.4715, -0.0915,\n",
      "         -0.3761,  0.0578, -0.2238, -0.2766],\n",
      "        [ 0.1435, -0.4425, -0.1570, -0.3035, -0.1567,  0.6458,  0.1894, -0.1225,\n",
      "         -0.3606,  0.0027, -0.1388, -0.5248, -0.3707,  0.1288, -0.1717, -0.1613,\n",
      "          0.1815,  0.0298, -0.2147, -0.1304],\n",
      "        [ 0.1943, -0.4423,  0.1770, -0.0952,  0.0448,  0.2304,  0.2188,  0.0604,\n",
      "          0.0626,  0.0556, -0.3486, -0.6757, -0.5735, -0.0848, -0.2228,  0.1515,\n",
      "          0.0841, -0.4212, -0.1072, -0.0018]], grad_fn=<AddmmBackward0>)\n",
      "\n",
      "\n",
      "After ReLU: tensor([[0.0000, 0.0229, 0.0000, 0.0440, 0.0000, 0.2814, 0.1575, 0.0000, 0.0000,\n",
      "         0.0000, 0.0000, 0.0000, 0.0000, 0.0000, 0.0000, 0.0000, 0.0000, 0.0578,\n",
      "         0.0000, 0.0000],\n",
      "        [0.1435, 0.0000, 0.0000, 0.0000, 0.0000, 0.6458, 0.1894, 0.0000, 0.0000,\n",
      "         0.0027, 0.0000, 0.0000, 0.0000, 0.1288, 0.0000, 0.0000, 0.1815, 0.0298,\n",
      "         0.0000, 0.0000],\n",
      "        [0.1943, 0.0000, 0.1770, 0.0000, 0.0448, 0.2304, 0.2188, 0.0604, 0.0626,\n",
      "         0.0556, 0.0000, 0.0000, 0.0000, 0.0000, 0.0000, 0.1515, 0.0841, 0.0000,\n",
      "         0.0000, 0.0000]], grad_fn=<ReluBackward0>)\n"
     ]
    }
   ],
   "source": [
    "print(f\"Before ReLU: {hidden1}\\n\\n\")\n",
    "hidden1 = nn.ReLU()(hidden1)\n",
    "print(f\"After ReLU: {hidden1}\")"
   ]
  },
  {
   "cell_type": "markdown",
   "id": "68eea66f",
   "metadata": {},
   "source": [
    "### Sequential model"
   ]
  },
  {
   "cell_type": "code",
   "execution_count": 13,
   "id": "b15ae1c8",
   "metadata": {},
   "outputs": [],
   "source": [
    "seq_modules = nn.Sequential(\n",
    "    flatten,\n",
    "    layer1,\n",
    "    nn.ReLU(),\n",
    "    nn.Linear(20, 10)\n",
    ")\n",
    "input_image = torch.rand(3,28,28)\n",
    "logits = seq_modules(input_image)"
   ]
  },
  {
   "cell_type": "code",
   "execution_count": 14,
   "id": "aec4f924",
   "metadata": {},
   "outputs": [],
   "source": [
    "softmax = nn.Softmax(dim=1)\n",
    "pred_probab = softmax(logits)"
   ]
  },
  {
   "cell_type": "code",
   "execution_count": 15,
   "id": "7c8c72ea",
   "metadata": {},
   "outputs": [
    {
     "name": "stdout",
     "output_type": "stream",
     "text": [
      "Model structure: NeuralNetwork(\n",
      "  (flatten): Flatten(start_dim=1, end_dim=-1)\n",
      "  (linear_relu_stack): Sequential(\n",
      "    (0): Linear(in_features=784, out_features=512, bias=True)\n",
      "    (1): ReLU()\n",
      "    (2): Linear(in_features=512, out_features=512, bias=True)\n",
      "    (3): ReLU()\n",
      "    (4): Linear(in_features=512, out_features=10, bias=True)\n",
      "  )\n",
      ")\n",
      "\n",
      "\n",
      "Layer: linear_relu_stack.0.weight | Size: torch.Size([512, 784]) | Values : tensor([[-0.0214, -0.0050,  0.0152,  ..., -0.0286,  0.0302,  0.0049],\n",
      "        [-0.0105,  0.0027,  0.0233,  ..., -0.0265,  0.0156,  0.0278]],\n",
      "       grad_fn=<SliceBackward0>) \n",
      "\n",
      "Layer: linear_relu_stack.0.bias | Size: torch.Size([512]) | Values : tensor([-0.0221,  0.0352], grad_fn=<SliceBackward0>) \n",
      "\n",
      "Layer: linear_relu_stack.2.weight | Size: torch.Size([512, 512]) | Values : tensor([[ 0.0390, -0.0266, -0.0012,  ..., -0.0101, -0.0162, -0.0180],\n",
      "        [-0.0243, -0.0135, -0.0194,  ..., -0.0258, -0.0035,  0.0384]],\n",
      "       grad_fn=<SliceBackward0>) \n",
      "\n",
      "Layer: linear_relu_stack.2.bias | Size: torch.Size([512]) | Values : tensor([-0.0159,  0.0100], grad_fn=<SliceBackward0>) \n",
      "\n",
      "Layer: linear_relu_stack.4.weight | Size: torch.Size([10, 512]) | Values : tensor([[-0.0176, -0.0376, -0.0187,  ...,  0.0035, -0.0411, -0.0038],\n",
      "        [ 0.0061, -0.0206,  0.0272,  ..., -0.0250, -0.0324,  0.0014]],\n",
      "       grad_fn=<SliceBackward0>) \n",
      "\n",
      "Layer: linear_relu_stack.4.bias | Size: torch.Size([10]) | Values : tensor([-0.0055,  0.0122], grad_fn=<SliceBackward0>) \n",
      "\n"
     ]
    }
   ],
   "source": [
    "print(f\"Model structure: {model}\\n\\n\")\n",
    "\n",
    "for name, param in model.named_parameters():\n",
    "    print(f\"Layer: {name} | Size: {param.size()} | Values : {param[:2]} \\n\")"
   ]
  },
  {
   "cell_type": "code",
   "execution_count": null,
   "id": "1e1372ac",
   "metadata": {},
   "outputs": [],
   "source": []
  }
 ],
 "metadata": {
  "kernelspec": {
   "display_name": "Python 3 (ipykernel)",
   "language": "python",
   "name": "python3"
  },
  "language_info": {
   "codemirror_mode": {
    "name": "ipython",
    "version": 3
   },
   "file_extension": ".py",
   "mimetype": "text/x-python",
   "name": "python",
   "nbconvert_exporter": "python",
   "pygments_lexer": "ipython3",
   "version": "3.9.13"
  }
 },
 "nbformat": 4,
 "nbformat_minor": 5
}
